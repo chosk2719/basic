{
 "cells": [
  {
   "cell_type": "markdown",
   "metadata": {},
   "source": [
    "# 2장 연습문제"
   ]
  },
  {
   "cell_type": "code",
   "execution_count": null,
   "metadata": {},
   "outputs": [],
   "source": [
    "# 1. 다음은 파이썬에서 많이 사용되는 데이터 형이다. 데이터 형의 정의 및 특징에 대해 설명하시오.\n",
    "(1) 숫자 : 파이썬에서 사용하는 숫자에는 정수형 소수점이있는 실수형 숫자가 있다. \n",
    "    정수형 숫자는 -3, 0, 36 등과 같이 음수, 0, 양수로 구성된 정수를 의미하고, \n",
    "    실수형 숫자는 3.14, -38.333, 0.0 등과 같이 소수점이 존재하는 숫자를 말한다.\n",
    "(2) 문자열 : 문자열은 하나 또는 다수의 문자로 구성된 데이터 형을 말한다. \n",
    "    문자열을 사용할 때는 숫자와는 달리 문자열 앞 뒤에 단 따옴표('')나 쌍 따옴표(\"\")를 \n",
    "    붙여야 한다 "
   ]
  },
  {
   "cell_type": "code",
   "execution_count": 33,
   "metadata": {},
   "outputs": [
    {
     "name": "stdout",
     "output_type": "stream",
     "text": [
      "-72\n"
     ]
    }
   ],
   "source": [
    "\n",
    "# 2. 다음 프로그램의 실행 결과는?\n",
    "\n",
    "a = 7\n",
    "b = 10\n",
    "\n",
    "c = a + b * 2\n",
    "c %= 5\n",
    "c **= 3\n",
    "c -= c * 10\n",
    "\n",
    "print(c)"
   ]
  },
  {
   "cell_type": "code",
   "execution_count": 4,
   "metadata": {},
   "outputs": [
    {
     "name": "stdout",
     "output_type": "stream",
     "text": [
      "반지름을 입력하세요 : 10\n",
      "반지름 : 10.00\n",
      "원의 둘레 : 62.80cm\n",
      "원의 면적 : 314.00cm2\n"
     ]
    }
   ],
   "source": [
    "# 3. 원의 둘레와 면적을 구하는 프로그램을 작성하시오. 단, 실행 결과는 아래와 정확하게 \n",
    "#    일치하도록 하고, 반지름은 키보드로 입력받아 처리한다.\n",
    "\n",
    "# 실행결과\n",
    "# 반지름을 입력하세요 : 10\n",
    "# 반지름 : 10cm\n",
    "# 원의 둘레 : 62.80cm\n",
    "# 원의 면적 : 314.00 cm2\n",
    "\n",
    "pi = 3.14\n",
    "r = int(input('반지름을 입력하세요 : '))\n",
    "\n",
    "l = 2 * pi * 10\n",
    "s = pi*r**2\n",
    "print('반지름 : %.02f'%r)\n",
    "print('원의 둘레 : %.02fcm'%l)\n",
    "print('원의 면적 : %.02fcm2'%s)"
   ]
  },
  {
   "cell_type": "code",
   "execution_count": 5,
   "metadata": {},
   "outputs": [
    {
     "name": "stdout",
     "output_type": "stream",
     "text": [
      "책값을 입력하세요 : 15000\n",
      "할인율을 입력하세요(%) : 15\n",
      "배송료를 입력하세요 : 3000\n",
      "결제금액 : 15750\n"
     ]
    }
   ],
   "source": [
    "# 4. 온라인 서점에서 결제할 금액을 계산하는 프로그램을 작성하시오. \n",
    "#    단, 실행결과는 아래와 정확하게 일치하도록 하고, 책값, 할인율, 배송료는 키보드로 입력 받아 \n",
    "#    처리한다.\n",
    "\n",
    "book = int(input('책값을 입력하세요 : '))\n",
    "\n",
    "dc = int(input('할인율을 입력하세요(%) : '))\n",
    "\n",
    "de = int(input('배송료를 입력하세요 : '))\n",
    "\n",
    "print('결제금액 : %d' %(book-(book*dc/100)+de))"
   ]
  },
  {
   "cell_type": "code",
   "execution_count": 6,
   "metadata": {},
   "outputs": [
    {
     "name": "stdout",
     "output_type": "stream",
     "text": [
      "이름을 입력하세요 :  안지영\n",
      "현재년을 입력하세요 :  2020\n",
      "탄생년을 입력하세요 :  1997\n",
      "안지영 님의 나이는 24 세 입니다!\n"
     ]
    }
   ],
   "source": [
    "#5\n",
    "name = '안지영'\n",
    "yy = 2020\n",
    "oy = 1997\n",
    "\n",
    "print('이름을 입력하세요 : ', name)\n",
    "print('현재년을 입력하세요 : ', yy)\n",
    "print('탄생년을 입력하세요 : ', oy)\n",
    "\n",
    "year = yy - oy + 1\n",
    "print(name, '님의 나이는', year, '세 입니다!')\n",
    "\n"
   ]
  },
  {
   "cell_type": "code",
   "execution_count": 7,
   "metadata": {},
   "outputs": [
    {
     "name": "stdout",
     "output_type": "stream",
     "text": [
      "연을 입력하세요 :  2020\n",
      "월을 입력하세요 :  1\n",
      "일을 입력하세요 :  5\n",
      "2020-1-5"
     ]
    }
   ],
   "source": [
    "# 6번\n",
    "# 2020/1/5 입니다.\n",
    "\n",
    "year = 2020\n",
    "month = 1\n",
    "day = 5\n",
    "print('연을 입력하세요 : ',year)\n",
    "print('월을 입력하세요 : ',month)\n",
    "print('일을 입력하세요 : ',day)\n",
    "print(year, month, day, sep='-', end='')"
   ]
  },
  {
   "cell_type": "markdown",
   "metadata": {},
   "source": [
    "# 3장 연습문제"
   ]
  },
  {
   "cell_type": "code",
   "execution_count": 15,
   "metadata": {},
   "outputs": [
    {
     "data": {
      "text/plain": [
       "False"
      ]
     },
     "execution_count": 15,
     "metadata": {},
     "output_type": "execute_result"
    }
   ],
   "source": [
    "# 1번\n",
    "a=2\n",
    "a!=2"
   ]
  },
  {
   "cell_type": "code",
   "execution_count": 20,
   "metadata": {},
   "outputs": [
    {
     "data": {
      "text/plain": [
       "False"
      ]
     },
     "execution_count": 20,
     "metadata": {},
     "output_type": "execute_result"
    }
   ],
   "source": [
    "a=2\n",
    "b=5\n",
    "not(b>=a)"
   ]
  },
  {
   "cell_type": "code",
   "execution_count": 21,
   "metadata": {},
   "outputs": [
    {
     "data": {
      "text/plain": [
       "False"
      ]
     },
     "execution_count": 21,
     "metadata": {},
     "output_type": "execute_result"
    }
   ],
   "source": [
    "a=2\n",
    "c=-3\n",
    "c/2>a*3"
   ]
  },
  {
   "cell_type": "code",
   "execution_count": 18,
   "metadata": {},
   "outputs": [
    {
     "data": {
      "text/plain": [
       "True"
      ]
     },
     "execution_count": 18,
     "metadata": {},
     "output_type": "execute_result"
    }
   ],
   "source": [
    "a=3\n",
    "a!=2"
   ]
  },
  {
   "cell_type": "code",
   "execution_count": 22,
   "metadata": {},
   "outputs": [
    {
     "data": {
      "text/plain": [
       "False"
      ]
     },
     "execution_count": 22,
     "metadata": {},
     "output_type": "execute_result"
    }
   ],
   "source": [
    "a=3\n",
    "b=7\n",
    "not(b>=a)"
   ]
  },
  {
   "cell_type": "code",
   "execution_count": 23,
   "metadata": {},
   "outputs": [
    {
     "data": {
      "text/plain": [
       "False"
      ]
     },
     "execution_count": 23,
     "metadata": {},
     "output_type": "execute_result"
    }
   ],
   "source": [
    "a=3\n",
    "c=-4\n",
    "c/2>a*3"
   ]
  },
  {
   "cell_type": "code",
   "execution_count": 24,
   "metadata": {},
   "outputs": [
    {
     "data": {
      "text/plain": [
       "True"
      ]
     },
     "execution_count": 24,
     "metadata": {},
     "output_type": "execute_result"
    }
   ],
   "source": [
    "a=-10\n",
    "a!=2"
   ]
  },
  {
   "cell_type": "code",
   "execution_count": 25,
   "metadata": {},
   "outputs": [
    {
     "data": {
      "text/plain": [
       "False"
      ]
     },
     "execution_count": 25,
     "metadata": {},
     "output_type": "execute_result"
    }
   ],
   "source": [
    "a=-10\n",
    "b=10\n",
    "not(b>=a)"
   ]
  },
  {
   "cell_type": "code",
   "execution_count": 26,
   "metadata": {},
   "outputs": [
    {
     "data": {
      "text/plain": [
       "True"
      ]
     },
     "execution_count": 26,
     "metadata": {},
     "output_type": "execute_result"
    }
   ],
   "source": [
    "a=-10\n",
    "c=-2\n",
    "c/2>a*3"
   ]
  },
  {
   "cell_type": "code",
   "execution_count": 27,
   "metadata": {},
   "outputs": [
    {
     "data": {
      "text/plain": [
       "False"
      ]
     },
     "execution_count": 27,
     "metadata": {},
     "output_type": "execute_result"
    }
   ],
   "source": [
    "# 2번\n",
    "a=-5\n",
    "b=3\n",
    "c=2\n",
    "1>2 or c>b and c>2"
   ]
  },
  {
   "cell_type": "code",
   "execution_count": 28,
   "metadata": {},
   "outputs": [
    {
     "data": {
      "text/plain": [
       "True"
      ]
     },
     "execution_count": 28,
     "metadata": {},
     "output_type": "execute_result"
    }
   ],
   "source": [
    "a=-5\n",
    "b=3\n",
    "c=2\n",
    "not(a>5 or b > c and c>=3)"
   ]
  },
  {
   "cell_type": "code",
   "execution_count": 29,
   "metadata": {},
   "outputs": [
    {
     "data": {
      "text/plain": [
       "True"
      ]
     },
     "execution_count": 29,
     "metadata": {},
     "output_type": "execute_result"
    }
   ],
   "source": [
    "a=10\n",
    "b=5\n",
    "c=7\n",
    "1>2 or c>b and c>2"
   ]
  },
  {
   "cell_type": "code",
   "execution_count": 30,
   "metadata": {},
   "outputs": [
    {
     "data": {
      "text/plain": [
       "False"
      ]
     },
     "execution_count": 30,
     "metadata": {},
     "output_type": "execute_result"
    }
   ],
   "source": [
    "a=10\n",
    "b=5\n",
    "c=7\n",
    "not(a>5 or b > c and c>=3)"
   ]
  },
  {
   "cell_type": "code",
   "execution_count": 31,
   "metadata": {},
   "outputs": [
    {
     "data": {
      "text/plain": [
       "False"
      ]
     },
     "execution_count": 31,
     "metadata": {},
     "output_type": "execute_result"
    }
   ],
   "source": [
    "a=-3\n",
    "b=10\n",
    "c=2\n",
    "1>2 or c>b and c>2"
   ]
  },
  {
   "cell_type": "code",
   "execution_count": 32,
   "metadata": {},
   "outputs": [
    {
     "data": {
      "text/plain": [
       "True"
      ]
     },
     "execution_count": 32,
     "metadata": {},
     "output_type": "execute_result"
    }
   ],
   "source": [
    "a=-3\n",
    "b=10\n",
    "c=2\n",
    "not(a>5 or b > c and c>=3)"
   ]
  },
  {
   "cell_type": "code",
   "execution_count": null,
   "metadata": {},
   "outputs": [],
   "source": []
  },
  {
   "cell_type": "code",
   "execution_count": 8,
   "metadata": {},
   "outputs": [
    {
     "name": "stdout",
     "output_type": "stream",
     "text": [
      "4\n"
     ]
    }
   ],
   "source": [
    "# 3번\n",
    "a = 2\n",
    "z = a* 5\n",
    "w = (z-3)*(a-2)/7+10\n",
    "\n",
    "if a > z or w > a:\n",
    "    y = 2 * a\n",
    "else :\n",
    "    y = 4 * a\n",
    "\n",
    "print(y)"
   ]
  },
  {
   "cell_type": "code",
   "execution_count": 9,
   "metadata": {},
   "outputs": [
    {
     "name": "stdout",
     "output_type": "stream",
     "text": [
      "단위를 입력하세요 (1 : 섭씨, 2 : 화씨): 2\n",
      "온도를 입력하세요 : 80\n",
      "물의 섭씨온도 : 26.67, 상태 : 액체\n"
     ]
    }
   ],
   "source": [
    "# 4번\n",
    "a = input('단위를 입력하세요 (1 : 섭씨, 2 : 화씨): ')\n",
    "b = int(input('온도를 입력하세요 : '))\n",
    "\n",
    "if a == '1':\n",
    "    if b > 100 :\n",
    "        st = '기체'\n",
    "    elif b > 0 :\n",
    "        st = '액체'\n",
    "    else:\n",
    "        st = '고체'\n",
    "    print('물의 화씨온도 : %.02f, 상태 : %s' % (((b*9/5)+32),st))\n",
    "else:\n",
    "    if b > 212:\n",
    "        st = '기체'\n",
    "    elif b > 32 :\n",
    "        st = '액체'\n",
    "    else:\n",
    "        st = '고체'\n",
    "    print('물의 섭씨온도 : %.02f, 상태 : %s' % (((b-32)*5/9),st))\n"
   ]
  },
  {
   "cell_type": "code",
   "execution_count": 3,
   "metadata": {},
   "outputs": [
    {
     "name": "stdout",
     "output_type": "stream",
     "text": [
      "아이디를 입력하세요 : rubato\n",
      "회원레벨을 입력해주세요 : 3\n",
      "일부 콘텐츠 이용 가능\n"
     ]
    }
   ],
   "source": [
    "# 5번\n",
    "\n",
    "st = input('아이디를 입력하세요 : ')\n",
    "sy = int(input('회원레벨을 입력해주세요 : '))\n",
    "\n",
    "if st == 'admin':\n",
    "    print('모든 콘텐츠 이용 가능')\n",
    "else:\n",
    "    if sy >= 2 and sy <= 7:\n",
    "        print('일부 콘텐츠 이용 가능')\n",
    "    else:\n",
    "        print('콘텐츠 이용 불가')"
   ]
  },
  {
   "cell_type": "code",
   "execution_count": 10,
   "metadata": {},
   "outputs": [
    {
     "name": "stdout",
     "output_type": "stream",
     "text": [
      "나이를 입력하세요 : 6\n",
      "입장료 : 1000\n"
     ]
    }
   ],
   "source": [
    "# 6번\n",
    "age = int(input('나이를 입력하세요 : '))\n",
    "\n",
    "if age >= 65 or age >= 10 :\n",
    "    pay = '무료'\n",
    "elif age <= 10 :\n",
    "    pay = 1000\n",
    "else:\n",
    "    pay = 2000\n",
    "print('입장료 : %s' % pay)"
   ]
  },
  {
   "cell_type": "code",
   "execution_count": 11,
   "metadata": {},
   "outputs": [
    {
     "name": "stdout",
     "output_type": "stream",
     "text": [
      "영어시험 점수를 입력하세요 : 85\n",
      "수학시험 점수를 입력하세요 : 75\n",
      "재시험 기회제공\n"
     ]
    }
   ],
   "source": [
    "# 7번\n",
    "\n",
    "score1 = int(input('영어시험 점수를 입력하세요 : '))\n",
    "score2 = int(input('수학시험 점수를 입력하세요 : '))\n",
    "\n",
    "if score1 >= 80 and score2 >= 80 : \n",
    "    print('합격')\n",
    "else :\n",
    "    print('재시험 기회제공')"
   ]
  },
  {
   "cell_type": "code",
   "execution_count": null,
   "metadata": {},
   "outputs": [],
   "source": []
  },
  {
   "cell_type": "code",
   "execution_count": null,
   "metadata": {},
   "outputs": [],
   "source": []
  },
  {
   "cell_type": "code",
   "execution_count": null,
   "metadata": {},
   "outputs": [],
   "source": []
  }
 ],
 "metadata": {
  "kernelspec": {
   "display_name": "Python 3",
   "language": "python",
   "name": "python3"
  },
  "language_info": {
   "codemirror_mode": {
    "name": "ipython",
    "version": 3
   },
   "file_extension": ".py",
   "mimetype": "text/x-python",
   "name": "python",
   "nbconvert_exporter": "python",
   "pygments_lexer": "ipython3",
   "version": "3.7.6"
  }
 },
 "nbformat": 4,
 "nbformat_minor": 4
}
