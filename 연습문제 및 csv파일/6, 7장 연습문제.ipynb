{
 "cells": [
  {
   "cell_type": "markdown",
   "metadata": {},
   "source": [
    "# 6장 연습문제"
   ]
  },
  {
   "cell_type": "code",
   "execution_count": 1,
   "metadata": {},
   "outputs": [
    {
     "data": {
      "text/plain": [
       "{'kim99': 12000,\n",
       " 'lee66': 11000,\n",
       " 'han55': 3000,\n",
       " 'hong77': 5000,\n",
       " 'hwang33': 18000}"
      ]
     },
     "execution_count": 1,
     "metadata": {},
     "output_type": "execute_result"
    }
   ],
   "source": [
    "point = {'kim99' : 12000, 'lee66' : 11000, 'han55' : 3000, 'hong77' : 5000, 'hwang33' : 18000}\n",
    "point"
   ]
  },
  {
   "cell_type": "code",
   "execution_count": 2,
   "metadata": {},
   "outputs": [
    {
     "name": "stdout",
     "output_type": "stream",
     "text": [
      "아이디 : kim99, 마일리지 : 12000점\n",
      "아이디 : lee66, 마일리지 : 11000점\n",
      "아이디 : han55, 마일리지 : 3000점\n",
      "아이디 : hong77, 마일리지 : 5000점\n",
      "아이디 : hwang33, 마일리지 : 18000점\n"
     ]
    }
   ],
   "source": [
    "# 1번\n",
    "for hoho in point :\n",
    "    print('아이디 : %s, 마일리지 : %s점' % (hoho, point[hoho]))\n",
    "    "
   ]
  },
  {
   "cell_type": "code",
   "execution_count": 79,
   "metadata": {},
   "outputs": [
    {
     "name": "stdout",
     "output_type": "stream",
     "text": [
      "전체 딕셔너리 :  {'kim99': 12000, 'lee66': 11000, 'han55': 3000, 'hong77': 5000, 'hwang33': 18000, 'jang88': 7000}\n",
      "jang88님의 마일리지(7000점)가 추가 되었습니다.\n"
     ]
    }
   ],
   "source": [
    "# 3번\n",
    "print('전체 딕셔너리 : ', point)\n",
    "point['jang88'] = 7000\n",
    "print('jang88님의 마일리지(7000점)가 추가 되었습니다.')"
   ]
  },
  {
   "cell_type": "code",
   "execution_count": 76,
   "metadata": {},
   "outputs": [
    {
     "name": "stdout",
     "output_type": "stream",
     "text": [
      "--------------------------------------------------\n",
      "    월     화     수     목     금     토     일 \n",
      "--------------------------------------------------\n",
      "  25.5   28.3   33.2   32.1   17.3   35.3   33.3 \n",
      "--------------------------------------------------\n"
     ]
    }
   ],
   "source": [
    "# 5번\n",
    "yo = {'월' : 25.5, '화' : 28.3, '수' : 33.2, '목' : 32.1,'금' : 17.3, '토' : 35.3, '일' : 33.3}\n",
    "\n",
    "print('-' * 50)\n",
    "for key in yo :\n",
    "    print('%5s' %key, end=' ')\n",
    "print()\n",
    "print('-' * 50)\n",
    "for value in yo :\n",
    "    print('%6.1f' %yo[value], end=' ')\n",
    "print()\n",
    "print('-' * 50)"
   ]
  },
  {
   "cell_type": "code",
   "execution_count": 89,
   "metadata": {},
   "outputs": [
    {
     "name": "stdout",
     "output_type": "stream",
     "text": [
      "기온이 30도 이상인 요일 : 수 목 토 일 "
     ]
    }
   ],
   "source": [
    "# 7번\n",
    "yo = {'월' : 25.5, '화' : 28.3, '수' : 33.2, '목' : 32.1,'금' : 17.3, '토' : 35.3, '일' : 33.3}\n",
    "\n",
    "wa = []\n",
    "\n",
    "for key, values in yo.items():\n",
    "    if values > 30:\n",
    "        wa.append(key)\n",
    "\n",
    "#print('기온이 30도 이상인 요일 : ',wa)\n",
    "print('기온이 30도 이상인 요일 :', end=' ')\n",
    "for i in wa:\n",
    "    print(i, end=' ')        \n"
   ]
  },
  {
   "cell_type": "markdown",
   "metadata": {},
   "source": [
    "# 7장 연습문제"
   ]
  },
  {
   "cell_type": "code",
   "execution_count": 94,
   "metadata": {},
   "outputs": [
    {
     "name": "stdout",
     "output_type": "stream",
     "text": [
      "20, 10\n"
     ]
    }
   ],
   "source": [
    "# 1번\n",
    "def f1(a):\n",
    "    a += 10\n",
    "    print(a, end=', ')\n",
    "\n",
    "a = 10\n",
    "f1(a)\n",
    "print(a)"
   ]
  },
  {
   "cell_type": "code",
   "execution_count": 95,
   "metadata": {},
   "outputs": [
    {
     "name": "stdout",
     "output_type": "stream",
     "text": [
      "300, 100, 300\n"
     ]
    }
   ],
   "source": [
    "def f2(a):\n",
    "    global y\n",
    "    y += a\n",
    "    x = 500\n",
    "    print(y, end=', ')\n",
    "\n",
    "x = 100\n",
    "y = 200\n",
    "\n",
    "f2(x)\n",
    "print(x, end=', ')\n",
    "print(y)"
   ]
  },
  {
   "cell_type": "code",
   "execution_count": 104,
   "metadata": {},
   "outputs": [
    {
     "name": "stdout",
     "output_type": "stream",
     "text": [
      "n의 값을 입력해주세요 : 20\n",
      "2 3 5 7 11 13 17 19 "
     ]
    }
   ],
   "source": [
    "# 3번\n",
    "n = int(input('n의 값을 입력해주세요 : '))\n",
    "def cho(n):\n",
    "    for i in range(2, n):\n",
    "        stay = True\n",
    "        for k in range(2, i):\n",
    "            if i %k == 0:\n",
    "                stay = False\n",
    "                break\n",
    "        if stay: \n",
    "            print(i, end=' ')\n",
    "cho(n)\n",
    "    "
   ]
  },
  {
   "cell_type": "code",
   "execution_count": 105,
   "metadata": {},
   "outputs": [
    {
     "name": "stdout",
     "output_type": "stream",
     "text": [
      "[1, 4, 9, 16, 25]\n"
     ]
    }
   ],
   "source": [
    "# 5번\n",
    "def numSquare(num):\n",
    "    list_new = []\n",
    "    for i in range(1, num+1):\n",
    "        list_new.append(i**2)\n",
    "    return list_new\n",
    "\n",
    "n = 5\n",
    "result = numSquare(n)\n",
    "print(result)"
   ]
  },
  {
   "cell_type": "code",
   "execution_count": 108,
   "metadata": {},
   "outputs": [
    {
     "name": "stdout",
     "output_type": "stream",
     "text": [
      "※ 비밀번호는 10자리 이상, 영문 대문자를 포함하여야합니다.\n",
      "비밀번호 : 3677848\n",
      "비밀번호 확인 : 3677848\n",
      "비밀번호가 잘못 되었습니다! 다시 입력해주세요!\n",
      "비밀번호 : A123456789\n",
      "비밀번호 확인 : asdfasdf\n",
      "비밀번호와 비밀번호 확인이 서로 다릅니다! 다시 입력해주세요!\n",
      "비밀번호 : A123456789\n",
      "비밀번호 확인 : A123456789\n",
      "유효한 비밀번호입니다~~~\n"
     ]
    }
   ],
   "source": [
    "def checks(a, b):\n",
    "    for uppercheck in a:\n",
    "        if uppercheck.isupper() == True:\n",
    "            break\n",
    "\n",
    "    if a.isdigit() == True or a.islower() == True or len(a) < 10:\n",
    "        return 1\n",
    "    elif a == b:\n",
    "        return 2\n",
    "    else :\n",
    "        return 3\n",
    "\n",
    "print('※ 비밀번호는 10자리 이상, 영문 대문자를 포함하여야합니다.')\n",
    "while True:\n",
    "    passwd = input('비밀번호 : ')\n",
    "    passwd_check = input('비밀번호 확인 : ')\n",
    "\n",
    "\n",
    "    if checks(passwd, passwd_check) == 1 :\n",
    "        print('비밀번호가 잘못 되었습니다! 다시 입력해주세요!')\n",
    "    elif checks(passwd, passwd_check) == 2 :\n",
    "        print('유효한 비밀번호입니다~~~')\n",
    "        break\n",
    "    else :\n",
    "        print('비밀번호와 비밀번호 확인이 서로 다릅니다! 다시 입력해주세요!')"
   ]
  },
  {
   "cell_type": "code",
   "execution_count": 1,
   "metadata": {},
   "outputs": [
    {
     "name": "stdout",
     "output_type": "stream",
     "text": [
      "안녕하세요~\n"
     ]
    }
   ],
   "source": [
    "print('안녕하세요~')"
   ]
  },
  {
   "cell_type": "code",
   "execution_count": null,
   "metadata": {},
   "outputs": [],
   "source": []
  },
  {
   "cell_type": "code",
   "execution_count": null,
   "metadata": {},
   "outputs": [],
   "source": []
  },
  {
   "cell_type": "code",
   "execution_count": null,
   "metadata": {},
   "outputs": [],
   "source": []
  },
  {
   "cell_type": "code",
   "execution_count": null,
   "metadata": {},
   "outputs": [],
   "source": []
  },
  {
   "cell_type": "code",
   "execution_count": null,
   "metadata": {},
   "outputs": [],
   "source": []
  },
  {
   "cell_type": "code",
   "execution_count": null,
   "metadata": {},
   "outputs": [],
   "source": []
  },
  {
   "cell_type": "code",
   "execution_count": null,
   "metadata": {},
   "outputs": [],
   "source": []
  },
  {
   "cell_type": "code",
   "execution_count": null,
   "metadata": {},
   "outputs": [],
   "source": []
  },
  {
   "cell_type": "code",
   "execution_count": null,
   "metadata": {},
   "outputs": [],
   "source": []
  },
  {
   "cell_type": "code",
   "execution_count": null,
   "metadata": {},
   "outputs": [],
   "source": []
  }
 ],
 "metadata": {
  "kernelspec": {
   "display_name": "Python 3",
   "language": "python",
   "name": "python3"
  },
  "language_info": {
   "codemirror_mode": {
    "name": "ipython",
    "version": 3
   },
   "file_extension": ".py",
   "mimetype": "text/x-python",
   "name": "python",
   "nbconvert_exporter": "python",
   "pygments_lexer": "ipython3",
   "version": "3.7.6"
  }
 },
 "nbformat": 4,
 "nbformat_minor": 4
}
