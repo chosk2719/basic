{
 "cells": [
  {
   "cell_type": "markdown",
   "metadata": {},
   "source": [
    "# 2장 연습문제"
   ]
  },
  {
   "cell_type": "code",
   "execution_count": null,
   "metadata": {},
   "outputs": [],
   "source": [
    "# 1. 다음은 파이썬에서 많이 사용되는 데이터 형이다. 데이터 형의 정의 및 특징에 대해 설명하시오.\n",
    "(1) 숫자 : 파이썬에서 사용하는 숫자에는 정수형 소수점이있는 실수형 숫자가 있다. \n",
    "    정수형 숫자는 -3, 0, 36 등과 같이 음수, 0, 양수로 구성된 정수를 의미하고, \n",
    "    실수형 숫자는 3.14, -38.333, 0.0 등과 같이 소수점이 존재하는 숫자를 말한다.\n",
    "(2) 문자열 : 문자열은 하나 또는 다수의 문자로 구성된 데이터 형을 말한다. \n",
    "    문자열을 사용할 때는 숫자와는 달리 문자열 앞 뒤에 단 따옴표('')나 쌍 따옴표(\"\")를 \n",
    "    붙여야 한다 \n",
    "    "
   ]
  },
  {
   "cell_type": "code",
   "execution_count": 14,
   "metadata": {},
   "outputs": [
    {
     "name": "stdout",
     "output_type": "stream",
     "text": [
      "-72\n"
     ]
    }
   ],
   "source": [
    "# 2. 다음 프로그램의 실행 결과는?\n",
    "\n",
    "a = 7\n",
    "b = 10\n",
    "\n",
    "c = a + b * 2\n",
    "c %= 5\n",
    "c **= 3\n",
    "c -= c * 10\n",
    "\n",
    "print(c)"
   ]
  },
  {
   "cell_type": "code",
   "execution_count": null,
   "metadata": {},
   "outputs": [],
   "source": [
    "# 3. 원의 둘레와 면적을 구하는 프로그램을 작성하시오. 단, 실행 결과는 아래와 정확하게 \n",
    "#    일치하도록 하고, 반지름은 키보드로 입력받아 처리한다.\n",
    "\n",
    "# 실행결과\n",
    "# 반지름을 입력하세요 : 10\n",
    "# 반지름 : 10cm\n",
    "# 원의 둘레 : 62.80cm\n",
    "# 원의 면적 : 314.00 cm2\n",
    "\n",
    "r = int(input('반지름을 입력하세요 : '))\n",
    "print(r)\n",
    "#l = (2*3.14*r)"
   ]
  },
  {
   "cell_type": "code",
   "execution_count": null,
   "metadata": {},
   "outputs": [],
   "source": []
  },
  {
   "cell_type": "code",
   "execution_count": null,
   "metadata": {},
   "outputs": [],
   "source": []
  }
 ],
 "metadata": {
  "kernelspec": {
   "display_name": "Python 3",
   "language": "python",
   "name": "python3"
  },
  "language_info": {
   "codemirror_mode": {
    "name": "ipython",
    "version": 3
   },
   "file_extension": ".py",
   "mimetype": "text/x-python",
   "name": "python",
   "nbconvert_exporter": "python",
   "pygments_lexer": "ipython3",
   "version": "3.7.6"
  }
 },
 "nbformat": 4,
 "nbformat_minor": 4
}
