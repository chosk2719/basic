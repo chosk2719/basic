{
 "cells": [
  {
   "cell_type": "markdown",
   "metadata": {},
   "source": [
    "# chapter 05. 리스트"
   ]
  },
  {
   "cell_type": "code",
   "execution_count": 12,
   "metadata": {},
   "outputs": [
    {
     "name": "stdout",
     "output_type": "stream",
     "text": [
      "['사과', '오렌지', '딸기', '포도', '감', '키위', '멜론', '수박']\n",
      "[5, 10.2, '탁구', True, [4, 5, 6]]\n",
      "[1, 3, 5, 7, 9]\n",
      "\n",
      "사과\n",
      "['오렌지', '딸기', '포도']\n",
      "['딸기', '포도', '감', '키위', '멜론', '수박']\n",
      "수박\n",
      "['감', '키위']\n",
      "['키위', '멜론', '수박']\n",
      "수박\n",
      "['수박']\n"
     ]
    }
   ],
   "source": [
    "# ex 5-1\n",
    "\n",
    "list1 = ['사과', '오렌지', '딸기', '포도', '감', '키위', '멜론', '수박']\n",
    "list2 = [5, 10.2, '탁구', True, [4, 5, 6]]\n",
    "list3 = list(range(1, 10, 2))\n",
    "\n",
    "print(list1)\n",
    "print(list2)\n",
    "print(list3)\n",
    "print()\n",
    "print(list1[0])\n",
    "print(list1[1:4])\n",
    "print(list1[2:])\n",
    "print(list1[-1])\n",
    "print(list1[-4:-2])\n",
    "print(list1[-3:])\n",
    "print(list1[-1])\n",
    "print(list1[-1:])"
   ]
  },
  {
   "cell_type": "code",
   "execution_count": 19,
   "metadata": {},
   "outputs": [
    {
     "name": "stdout",
     "output_type": "stream",
     "text": [
      "['red', 'green', 'blue', 'yellow']\n",
      "['red', 'black', 'green', 'blue', 'yellow']\n",
      "['red', 'black', 'green', 'blue', 'yellow', 'puple', 'white']\n",
      "['red', 'black', 'green', 'blue', 'yellow', 'puple', 'white', 'puple', 'white']\n"
     ]
    }
   ],
   "source": [
    "# ex 5-2\n",
    "\n",
    "a = ['red', 'green', 'blue']\n",
    "a.append('yellow')\n",
    "print(a)\n",
    "a.insert(1, 'black')\n",
    "print(a)\n",
    "\n",
    "b = ['puple', 'white']\n",
    "a.extend(b)\n",
    "print(a)\n",
    "\n",
    "c = a + b\n",
    "print(c)"
   ]
  },
  {
   "cell_type": "code",
   "execution_count": 27,
   "metadata": {},
   "outputs": [
    {
     "name": "stdout",
     "output_type": "stream",
     "text": [
      "2\n",
      "[10, 20, 40, 50, 60, 70, 80, 90, 100]\n",
      "[10, 20, 40, 60, 70, 80, 90, 100]\n",
      "[10, 20, 40, 60, 70, 80, 100]\n",
      "[]\n"
     ]
    }
   ],
   "source": [
    "# ex 5-3\n",
    "\n",
    "a = [10, 20, 30, 40, 50, 60, 70, 80, 90, 100]\n",
    "x = a.index(30)\n",
    "print(x)\n",
    "\n",
    "a.pop(x)\n",
    "print(a)\n",
    "\n",
    "del a[3]\n",
    "print(a)\n",
    "\n",
    "a.remove(90)\n",
    "print(a)\n",
    "\n",
    "a.clear()\n",
    "print(a)"
   ]
  },
  {
   "cell_type": "code",
   "execution_count": 29,
   "metadata": {},
   "outputs": [
    {
     "name": "stdout",
     "output_type": "stream",
     "text": [
      "[10, 19, 30, 40, 50]\n"
     ]
    }
   ],
   "source": [
    "b = [10, 20, 30, 40, 50]\n",
    "b[1] = 19\n",
    "print(b)"
   ]
  },
  {
   "cell_type": "code",
   "execution_count": 31,
   "metadata": {},
   "outputs": [
    {
     "name": "stdout",
     "output_type": "stream",
     "text": [
      "[10, 19, [33, 35], 40, 50]\n"
     ]
    }
   ],
   "source": [
    "b[2] = [33, 35]\n",
    "print(b)"
   ]
  },
  {
   "cell_type": "code",
   "execution_count": 32,
   "metadata": {},
   "outputs": [
    {
     "name": "stdout",
     "output_type": "stream",
     "text": [
      "[10, 19, 33, 35, 40, 50]\n"
     ]
    }
   ],
   "source": [
    "b[2:3] = [33, 35]\n",
    "print(b)"
   ]
  },
  {
   "cell_type": "code",
   "execution_count": 35,
   "metadata": {},
   "outputs": [
    {
     "name": "stdout",
     "output_type": "stream",
     "text": [
      "3\n",
      "12\n"
     ]
    }
   ],
   "source": [
    "# ex 5-4\n",
    "\n",
    "list1 = ['a', 'bb', 'c', 'd', 'aaa', 'c', 'ddd', 'aaa',\n",
    "         'b', 'cc', 'd', 'aaa', ]\n",
    "print(list1.count('aaa'))\n",
    "print(len(list1))"
   ]
  },
  {
   "cell_type": "code",
   "execution_count": 36,
   "metadata": {},
   "outputs": [
    {
     "name": "stdout",
     "output_type": "stream",
     "text": [
      "['h', 'e', 'l', 'l', 'o']\n"
     ]
    }
   ],
   "source": [
    "s = []\n",
    "for c in 'hello':\n",
    "    s.append(c)\n",
    "print(s)"
   ]
  },
  {
   "cell_type": "code",
   "execution_count": 43,
   "metadata": {},
   "outputs": [
    {
     "name": "stdout",
     "output_type": "stream",
     "text": [
      "[-7, 1, 3, 5, 8, 9, 11, 13]\n",
      "[13, 11, 9, 8, 5, 3, 1, -7]\n"
     ]
    }
   ],
   "source": [
    "#ex 5-5\n",
    "\n",
    "list2 = [-7, 1, 5, 8, 3, 9, 11, 13]\n",
    "list2.sort()       #오름차순\n",
    "print(list2)\n",
    "\n",
    "list2.sort(reverse=True)\n",
    "print(list2)      #내림차순"
   ]
  },
  {
   "cell_type": "code",
   "execution_count": 46,
   "metadata": {},
   "outputs": [
    {
     "name": "stdout",
     "output_type": "stream",
     "text": [
      "[1, 2, 3, 1, 2, 3, 1, 2, 3]\n"
     ]
    }
   ],
   "source": [
    "a = [1, 2, 3]\n",
    "print(a*3)"
   ]
  },
  {
   "cell_type": "code",
   "execution_count": 48,
   "metadata": {},
   "outputs": [
    {
     "name": "stdout",
     "output_type": "stream",
     "text": [
      "apple\n",
      "orange\n",
      "banana\n"
     ]
    }
   ],
   "source": [
    "# ex 5-6\n",
    "\n",
    "fruits = ['apple', 'orange', 'banana']\n",
    "\n",
    "for fruit in fruits :\n",
    "    print(fruit)"
   ]
  },
  {
   "cell_type": "code",
   "execution_count": 50,
   "metadata": {},
   "outputs": [
    {
     "name": "stdout",
     "output_type": "stream",
     "text": [
      "666 83.25\n"
     ]
    }
   ],
   "source": [
    "# ex 5-7 합계와 평균\n",
    "\n",
    "scores =[88, 75, 90, 95, 77, 69, 80, 92]\n",
    "sum = 0\n",
    "for score in scores:\n",
    "    sum += score\n",
    "print(sum, sum/len(scores))"
   ]
  },
  {
   "cell_type": "markdown",
   "metadata": {},
   "source": [
    "# 2차원 리스트"
   ]
  },
  {
   "cell_type": "code",
   "execution_count": 53,
   "metadata": {},
   "outputs": [
    {
     "name": "stdout",
     "output_type": "stream",
     "text": [
      "[10, 20, 30]\n",
      "[40, 50, 60]\n",
      "10\n",
      "20\n",
      "30\n",
      "40\n",
      "50\n",
      "60\n"
     ]
    }
   ],
   "source": [
    "numbers = [10, 20, 30], [40, 50, 60]\n",
    "\n",
    "print(numbers[0])\n",
    "print(numbers[1])\n",
    "print(numbers[0][0])\n",
    "print(numbers[0][1])\n",
    "print(numbers[0][2])\n",
    "print(numbers[1][0])\n",
    "print(numbers[1][1])\n",
    "print(numbers[1][2])"
   ]
  },
  {
   "cell_type": "code",
   "execution_count": 56,
   "metadata": {},
   "outputs": [
    {
     "name": "stdout",
     "output_type": "stream",
     "text": [
      "2\n",
      "3\n"
     ]
    }
   ],
   "source": [
    "print(len(numbers))\n",
    "print(len(numbers[0]))"
   ]
  },
  {
   "cell_type": "code",
   "execution_count": 58,
   "metadata": {},
   "outputs": [
    {
     "name": "stdout",
     "output_type": "stream",
     "text": [
      "([40, 50, 60],)\n"
     ]
    }
   ],
   "source": [
    "print(numbers[0:][1:])"
   ]
  },
  {
   "cell_type": "code",
   "execution_count": 61,
   "metadata": {},
   "outputs": [
    {
     "name": "stdout",
     "output_type": "stream",
     "text": [
      "1번재 학생의 합계 : 260, 평균 : 86.67\n",
      "2번재 학생의 합계 : 258, 평균 : 86.00\n",
      "3번재 학생의 합계 : 254, 평균 : 84.67\n",
      "4번재 학생의 합계 : 254, 평균 : 84.67\n",
      "5번재 학생의 합계 : 257, 평균 : 85.67\n",
      "6번재 학생의 합계 : 236, 평균 : 78.67\n",
      "7번재 학생의 합계 : 248, 평균 : 82.67\n",
      "8번재 학생의 합계 : 258, 평균 : 86.00\n"
     ]
    }
   ],
   "source": [
    "# ex 5-10\n",
    "scores = [[96, 84, 80], [96, 86, 76], [76, 95, 83],[89, 96, 69], \n",
    "        [90, 76, 91], [82, 66, 88], [83, 86, 79],[85, 90, 83]]\n",
    "\n",
    "for i in range(len(scores)):\n",
    "    sum = 0\n",
    "    for k in range(len(scores[i])):\n",
    "        sum = sum + scores[i][k]\n",
    "        \n",
    "    avg = sum/len(scores[i])\n",
    "    \n",
    "    print('%d번재 학생의 합계 : %d, 평균 : %.2f' % (i+1, sum, avg))"
   ]
  },
  {
   "cell_type": "code",
   "execution_count": 65,
   "metadata": {},
   "outputs": [
    {
     "name": "stdout",
     "output_type": "stream",
     "text": [
      "수 : 3명\n",
      "우 : 6명\n",
      "미 : 3명\n",
      "양 : 4명\n",
      "가 : 4명\n"
     ]
    }
   ],
   "source": [
    "s = [64, 89, 100, 85, 77, 58, 79, 67, 96, 87, \n",
    "    87, 36, 82, 98, 84, 76, 63, 69, 53, 22]\n",
    "\n",
    "count_su = 0\n",
    "count_woo = 0\n",
    "count_mi = 0\n",
    "count_yang = 0\n",
    "count_ga = 0\n",
    "\n",
    "i = 0\n",
    "while i < len(s):\n",
    "    if s[i] >= 90 and s[i] <=100:\n",
    "        count_su = count_su + 1\n",
    "    if s[i] >= 80 and s[i] <=89:\n",
    "        count_woo = count_woo + 1\n",
    "    if s[i] >= 70 and s[i] <=79:\n",
    "        count_mi = count_mi + 1\n",
    "    if s[i] >= 60 and s[i] <=69:\n",
    "        count_yang = count_yang + 1\n",
    "    if s[i] >= 0 and s[i] <=59:\n",
    "        count_ga = count_ga + 1\n",
    "    \n",
    "    i += 1\n",
    "    \n",
    "print('수 : %d명' % count_su)\n",
    "print('우 : %d명' % count_woo)\n",
    "print('미 : %d명' % count_mi)\n",
    "print('양 : %d명' % count_yang)\n",
    "print('가 : %d명' % count_ga)"
   ]
  },
  {
   "cell_type": "markdown",
   "metadata": {},
   "source": [
    "# 리스트 표현식(List comprehension)\n",
    "\n"
   ]
  },
  {
   "cell_type": "code",
   "execution_count": 68,
   "metadata": {},
   "outputs": [
    {
     "name": "stdout",
     "output_type": "stream",
     "text": [
      "[1, 4, 9, 16, 25]\n"
     ]
    }
   ],
   "source": [
    "a = []\n",
    "for i in range(1, 6):\n",
    "    a.append(i*i)\n",
    "print(a)"
   ]
  },
  {
   "cell_type": "code",
   "execution_count": 70,
   "metadata": {},
   "outputs": [
    {
     "name": "stdout",
     "output_type": "stream",
     "text": [
      "[1, 4, 9, 16, 25]\n"
     ]
    }
   ],
   "source": [
    "a = [i * i for i in range(1, 6)]\n",
    "print(a)"
   ]
  },
  {
   "cell_type": "code",
   "execution_count": 69,
   "metadata": {},
   "outputs": [
    {
     "name": "stdout",
     "output_type": "stream",
     "text": [
      "[1, 9, 25, 49, 81]\n"
     ]
    }
   ],
   "source": [
    "b = []\n",
    "for i in range(1, 10, 2):\n",
    "    b.append(i*i)\n",
    "print(b)"
   ]
  },
  {
   "cell_type": "code",
   "execution_count": 71,
   "metadata": {},
   "outputs": [
    {
     "name": "stdout",
     "output_type": "stream",
     "text": [
      "[1, 9, 25, 49, 81]\n"
     ]
    }
   ],
   "source": [
    "b = [i*i for i in range(1, 10) if i % 2 == 1]\n",
    "print(b)"
   ]
  },
  {
   "cell_type": "code",
   "execution_count": 72,
   "metadata": {},
   "outputs": [
    {
     "name": "stdout",
     "output_type": "stream",
     "text": [
      "[1, 9, 25, 49, 81]\n"
     ]
    }
   ],
   "source": [
    "b = [i*i for i in range(1, 10, 2)]\n",
    "print(b)"
   ]
  },
  {
   "cell_type": "code",
   "execution_count": 75,
   "metadata": {},
   "outputs": [
    {
     "name": "stdout",
     "output_type": "stream",
     "text": [
      "[2, 4, 6, 8, 10, 12, 14, 16, 18, 3, 6, 9, 12, 15, 18, 21, 24, 27, 4, 8, 12, 16, 20, 24, 28, 32, 36, 5, 10, 15, 20, 25, 30, 35, 40, 45, 6, 12, 18, 24, 30, 36, 42, 48, 54, 7, 14, 21, 28, 35, 42, 49, 56, 63, 8, 16, 24, 32, 40, 48, 56, 64, 72, 9, 18, 27, 36, 45, 54, 63, 72, 81]\n"
     ]
    }
   ],
   "source": [
    "gugudan = [i * k for i in range(2, 10)\n",
    "          for k in range (1, 10)]\n",
    "print(gugudan)"
   ]
  },
  {
   "cell_type": "markdown",
   "metadata": {},
   "source": [
    "## 함수 결과"
   ]
  },
  {
   "cell_type": "code",
   "execution_count": 77,
   "metadata": {},
   "outputs": [
    {
     "data": {
      "text/plain": [
       "['I', 'love', 'you']"
      ]
     },
     "execution_count": 77,
     "metadata": {},
     "output_type": "execute_result"
    }
   ],
   "source": [
    "'I love you'.split(' ')"
   ]
  },
  {
   "cell_type": "code",
   "execution_count": null,
   "metadata": {},
   "outputs": [],
   "source": []
  },
  {
   "cell_type": "code",
   "execution_count": null,
   "metadata": {},
   "outputs": [],
   "source": []
  },
  {
   "cell_type": "code",
   "execution_count": null,
   "metadata": {},
   "outputs": [],
   "source": []
  },
  {
   "cell_type": "code",
   "execution_count": null,
   "metadata": {},
   "outputs": [],
   "source": []
  }
 ],
 "metadata": {
  "kernelspec": {
   "display_name": "Python 3",
   "language": "python",
   "name": "python3"
  },
  "language_info": {
   "codemirror_mode": {
    "name": "ipython",
    "version": 3
   },
   "file_extension": ".py",
   "mimetype": "text/x-python",
   "name": "python",
   "nbconvert_exporter": "python",
   "pygments_lexer": "ipython3",
   "version": "3.7.6"
  }
 },
 "nbformat": 4,
 "nbformat_minor": 4
}
