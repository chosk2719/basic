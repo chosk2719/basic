{
 "cells": [
  {
   "cell_type": "code",
   "execution_count": 27,
   "metadata": {},
   "outputs": [
    {
     "name": "stdout",
     "output_type": "stream",
     "text": [
      "['a', 'ab', 'abc', 'abcd', 'abd', 'abdc', 'ac', 'acb', 'acbd', 'acd', 'acdb', 'ad', 'adb', 'adbc', 'adc', 'adcb', 'b', 'ba', 'bac', 'bacd', 'bad', 'badc', 'bc', 'bca', 'bcad', 'bcd', 'bcda', 'bd', 'bda', 'bdac', 'bdc', 'bdca', 'c', 'ca', 'cab', 'cabd', 'cad', 'cadb', 'cb', 'cba', 'cbad', 'cbd', 'cbda', 'cd', 'cda', 'cdab', 'cdb', 'cdba', 'd', 'da', 'dab', 'dabc', 'dac', 'dacb', 'db', 'dba', 'dbac', 'dbc', 'dbca', 'dc', 'dca', 'dcab', 'dcb', 'dcba']\n"
     ]
    }
   ],
   "source": [
    "def combinations(s):\n",
    "    #mapper work\n",
    "    if len(s) < 2:\n",
    "        return s\n",
    "    res = []\n",
    "    \n",
    "    #reduce work\n",
    "    for i, c in enumerate(s):\n",
    "        res.append(c)\n",
    "#         print(i, c, res)\n",
    "        for j in combinations(s[ :i] + s[i+1: ]):\n",
    "             res.append(c+j)\n",
    "#             print(i, c, j, res)\n",
    "    return res\n",
    "\n",
    "if __name__==\"__main__\" :\n",
    "    result = combinations(\"abcd\")\n",
    "    print(result)"
   ]
  },
  {
   "cell_type": "code",
   "execution_count": 17,
   "metadata": {},
   "outputs": [
    {
     "ename": "SyntaxError",
     "evalue": "invalid syntax (<ipython-input-17-5902e784144e>, line 1)",
     "output_type": "error",
     "traceback": [
      "\u001b[1;36m  File \u001b[1;32m\"<ipython-input-17-5902e784144e>\"\u001b[1;36m, line \u001b[1;32m1\u001b[0m\n\u001b[1;33m    As the country became embroiled in a domestic crisis, the first government was dislodged\u001b[0m\n\u001b[1;37m         ^\u001b[0m\n\u001b[1;31mSyntaxError\u001b[0m\u001b[1;31m:\u001b[0m invalid syntax\n"
     ]
    }
   ],
   "source": [
    "As the country became embroiled in a domestic crisis, the first government was dislodged \n",
    "and succeeded by several different administrations. Bolikango served as Deputy Prime \n",
    "Minister in one of the new governments before a partial state of stability was \n",
    "reestablished in 1961. He mediated between warring factions in the Congo and briefly served \n",
    "once again as Deputy Prime Minister in 1962 before returning to the parliamentary \n",
    "opposition. After Joseph-Desire Mobutu took power in 1965, Bolikango became a minister in \n",
    "his government. Mobutu soon dismissed him but appointed him to the political bureau of the \n",
    "Mouvement Populaire de la Revolution. Bolikango left the bureau in 1970. He left Parliament \n",
    "in 1975 and died seven years later. His grandson created the Jean Bolikango Foundation in \n",
    "his memory to promote social progress. The President of the Congo posthumously awarded \n",
    "Bolikango a medal in 2005 for his long career in public service."
   ]
  },
  {
   "cell_type": "code",
   "execution_count": null,
   "metadata": {},
   "outputs": [],
   "source": []
  }
 ],
 "metadata": {
  "kernelspec": {
   "display_name": "Python 3",
   "language": "python",
   "name": "python3"
  },
  "language_info": {
   "codemirror_mode": {
    "name": "ipython",
    "version": 3
   },
   "file_extension": ".py",
   "mimetype": "text/x-python",
   "name": "python",
   "nbconvert_exporter": "python",
   "pygments_lexer": "ipython3",
   "version": "3.7.6"
  }
 },
 "nbformat": 4,
 "nbformat_minor": 4
}
