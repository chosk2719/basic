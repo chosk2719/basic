{
 "cells": [
  {
   "cell_type": "code",
   "execution_count": 1,
   "metadata": {},
   "outputs": [],
   "source": [
    "from bs4 import BeautifulSoup\n",
    "from urllib.request import urlopen"
   ]
  },
  {
   "cell_type": "code",
   "execution_count": 2,
   "metadata": {},
   "outputs": [],
   "source": [
    "url = 'http://www.menupan.com/restaurant/search/search_main_sub_area.asp?page=1&areacode=dj201&trec=98'\n",
    "html = urlopen(url)\n",
    "soup = BeautifulSoup(html, 'html.parser')    "
   ]
  },
  {
   "cell_type": "code",
   "execution_count": 3,
   "metadata": {},
   "outputs": [
    {
     "data": {
      "text/plain": [
       "1"
      ]
     },
     "execution_count": 3,
     "metadata": {},
     "output_type": "execute_result"
    }
   ],
   "source": [
    "uls = soup.find_all(class_='areaList')\n",
    "len(uls)"
   ]
  },
  {
   "cell_type": "code",
   "execution_count": 10,
   "metadata": {},
   "outputs": [
    {
     "data": {
      "text/plain": [
       "<div class=\"ifo\">\n",
       "<dl>\n",
       "<dt><a href=\"/restaurant/onepage.asp?acode=H302110\" target=\"_blank\">대들보함흥면옥</a><p class=\"btn\"><a class=\"detBtn\" href=\"/restaurant/onepage.asp?acode=H302110\" target=\"_blank\">자세히보기</a></p></dt>\n",
       "<dd class=\"rate\">\n",
       "<p class=\"point\"><span class=\"star\" style=\"width:71.8055555555556%\"></span><!-- ☆☆☆☆☆ //--></p>\n",
       "<p class=\"score\"><span class=\"total\">3.6</span><span class=\"line\">|</span><span class=\"count\">36명 참여</span></p>\n",
       "</dd>\n",
       "<dd>한식<span class=\"barr\">|</span> 대전 중구 유천동 311-13</dd>\n",
       "<dd>(042)522-5900</dd>\n",
       "<dd class=\"ic\"><img alt=\"프리쿠폰\" class=\"ico_type\" src=\"/image/restaurant/bestrest/ic_coupon.gif\"/><span class=\"typeadd\">(2인이상 주문시)불고기 10%할인</span></dd>\n",
       "<dd class=\"comnt\"><a href=\"/restaurant/onepage.asp?acode=H302110\" target=\"_blank\">함흥냉면을 대전에 최초로 보급한 집으로 1956년 개업해 시어머니 뒤를 이어 2대째 내려오는 집이다. 농림부 한식재단 조선,중앙일보에서 50년 이상 한국의 맛을 이어온 100대 식...</a></dd>\n",
       "</dl>\n",
       "</div>"
      ]
     },
     "execution_count": 10,
     "metadata": {},
     "output_type": "execute_result"
    }
   ],
   "source": [
    "lis = uls[0].find_all(class_='ifo')\n",
    "lis[0]"
   ]
  },
  {
   "cell_type": "code",
   "execution_count": 17,
   "metadata": {},
   "outputs": [
    {
     "data": {
      "text/plain": [
       "'대들보함흥면옥'"
      ]
     },
     "execution_count": 17,
     "metadata": {},
     "output_type": "execute_result"
    }
   ],
   "source": [
    "li = lis[0]\n",
    "li.find('a').get_text()"
   ]
  },
  {
   "cell_type": "code",
   "execution_count": 19,
   "metadata": {},
   "outputs": [
    {
     "data": {
      "text/plain": [
       "'3.6'"
      ]
     },
     "execution_count": 19,
     "metadata": {},
     "output_type": "execute_result"
    }
   ],
   "source": [
    "li.find(class_='total').get_text()"
   ]
  },
  {
   "cell_type": "code",
   "execution_count": 20,
   "metadata": {},
   "outputs": [
    {
     "data": {
      "text/plain": [
       "[<dd class=\"rate\">\n",
       " <p class=\"point\"><span class=\"star\" style=\"width:71.8055555555556%\"></span><!-- ☆☆☆☆☆ //--></p>\n",
       " <p class=\"score\"><span class=\"total\">3.6</span><span class=\"line\">|</span><span class=\"count\">36명 참여</span></p>\n",
       " </dd>,\n",
       " <dd>한식<span class=\"barr\">|</span> 대전 중구 유천동 311-13</dd>,\n",
       " <dd>(042)522-5900</dd>,\n",
       " <dd class=\"ic\"><img alt=\"프리쿠폰\" class=\"ico_type\" src=\"/image/restaurant/bestrest/ic_coupon.gif\"/><span class=\"typeadd\">(2인이상 주문시)불고기 10%할인</span></dd>,\n",
       " <dd class=\"comnt\"><a href=\"/restaurant/onepage.asp?acode=H302110\" target=\"_blank\">함흥냉면을 대전에 최초로 보급한 집으로 1956년 개업해 시어머니 뒤를 이어 2대째 내려오는 집이다. 농림부 한식재단 조선,중앙일보에서 50년 이상 한국의 맛을 이어온 100대 식...</a></dd>]"
      ]
     },
     "execution_count": 20,
     "metadata": {},
     "output_type": "execute_result"
    }
   ],
   "source": [
    "dds = li.find_all('dd')\n",
    "dds"
   ]
  },
  {
   "cell_type": "code",
   "execution_count": 21,
   "metadata": {},
   "outputs": [
    {
     "data": {
      "text/plain": [
       "5"
      ]
     },
     "execution_count": 21,
     "metadata": {},
     "output_type": "execute_result"
    }
   ],
   "source": [
    "len(dds)"
   ]
  },
  {
   "cell_type": "code",
   "execution_count": 22,
   "metadata": {},
   "outputs": [
    {
     "data": {
      "text/plain": [
       "'한식| 대전 중구 유천동 311-13'"
      ]
     },
     "execution_count": 22,
     "metadata": {},
     "output_type": "execute_result"
    }
   ],
   "source": [
    "dds[1].get_text()"
   ]
  },
  {
   "cell_type": "code",
   "execution_count": 23,
   "metadata": {},
   "outputs": [
    {
     "data": {
      "text/plain": [
       "['한식', '대전 중구 유천동 311-13']"
      ]
     },
     "execution_count": 23,
     "metadata": {},
     "output_type": "execute_result"
    }
   ],
   "source": [
    "tmp = dds[1].get_text()\n",
    "tmp.split('| ')"
   ]
  },
  {
   "cell_type": "code",
   "execution_count": 24,
   "metadata": {},
   "outputs": [
    {
     "data": {
      "text/plain": [
       "'대전 중구 유천동 311-13'"
      ]
     },
     "execution_count": 24,
     "metadata": {},
     "output_type": "execute_result"
    }
   ],
   "source": [
    "tmp.split('| ')[1]"
   ]
  },
  {
   "cell_type": "code",
   "execution_count": 25,
   "metadata": {},
   "outputs": [
    {
     "data": {
      "text/plain": [
       "'한식'"
      ]
     },
     "execution_count": 25,
     "metadata": {},
     "output_type": "execute_result"
    }
   ],
   "source": [
    "tmp.split('| ')[0]"
   ]
  },
  {
   "cell_type": "code",
   "execution_count": 26,
   "metadata": {},
   "outputs": [
    {
     "data": {
      "text/plain": [
       "'(042)522-5900'"
      ]
     },
     "execution_count": 26,
     "metadata": {},
     "output_type": "execute_result"
    }
   ],
   "source": [
    "dds[2].get_text()"
   ]
  },
  {
   "cell_type": "code",
   "execution_count": 32,
   "metadata": {},
   "outputs": [],
   "source": [
    "import pandas as pd"
   ]
  },
  {
   "cell_type": "code",
   "execution_count": 33,
   "metadata": {},
   "outputs": [],
   "source": [
    "url_base = 'http://www.menupan.com/restaurant/search/search_main_sub_area.asp?page='\n",
    "url_sub = '&areacode=dj201&trec=98'\n",
    "name=[]\n",
    "score=[]\n",
    "category=[]\n",
    "addr=[]\n",
    "tel=[]\n",
    "\n",
    "for page in range(1,3):\n",
    "    url = url_base + str(page) + url_sub\n",
    "    html = urlopen(url)\n",
    "    soup = BeautifulSoup(html, 'html.parser')\n",
    "    \n",
    "    uls = soup.find_all(class_='areaList')\n",
    "    lis = uls[0].find_all(class_='ifo')\n",
    "\n",
    "    for li in lis:\n",
    "        name.append(li.find('a').get_text())\n",
    "        score.append(li.find(class_='total').get_text())\n",
    "        dds = li.find_all('dd')\n",
    "        tmp = dds[1].get_text()\n",
    "        category.append(tmp.split('| ')[0])\n",
    "        addr.append(tmp.split('| ')[1])\n",
    "        tel.append(dds[2].get_text())"
   ]
  },
  {
   "cell_type": "code",
   "execution_count": 34,
   "metadata": {},
   "outputs": [
    {
     "data": {
      "text/html": [
       "<div>\n",
       "<style scoped>\n",
       "    .dataframe tbody tr th:only-of-type {\n",
       "        vertical-align: middle;\n",
       "    }\n",
       "\n",
       "    .dataframe tbody tr th {\n",
       "        vertical-align: top;\n",
       "    }\n",
       "\n",
       "    .dataframe thead th {\n",
       "        text-align: right;\n",
       "    }\n",
       "</style>\n",
       "<table border=\"1\" class=\"dataframe\">\n",
       "  <thead>\n",
       "    <tr style=\"text-align: right;\">\n",
       "      <th></th>\n",
       "      <th>상호</th>\n",
       "      <th>별점</th>\n",
       "      <th>업종</th>\n",
       "      <th>주소</th>\n",
       "      <th>전화번호</th>\n",
       "    </tr>\n",
       "  </thead>\n",
       "  <tbody>\n",
       "    <tr>\n",
       "      <th>0</th>\n",
       "      <td>대들보함흥면옥</td>\n",
       "      <td>3.6</td>\n",
       "      <td>한식</td>\n",
       "      <td>대전 중구 유천동 311-13</td>\n",
       "      <td>(042)522-5900</td>\n",
       "    </tr>\n",
       "    <tr>\n",
       "      <th>1</th>\n",
       "      <td>학선식당</td>\n",
       "      <td>3.8</td>\n",
       "      <td>한식</td>\n",
       "      <td>대전 중구 선화동 151-3</td>\n",
       "      <td>(042)256-4057</td>\n",
       "    </tr>\n",
       "    <tr>\n",
       "      <th>2</th>\n",
       "      <td>대전갈비집</td>\n",
       "      <td>3.5</td>\n",
       "      <td>한식</td>\n",
       "      <td>대전 중구 대흥동 3-16</td>\n",
       "      <td>(042)226-9428</td>\n",
       "    </tr>\n",
       "    <tr>\n",
       "      <th>3</th>\n",
       "      <td>소나무집</td>\n",
       "      <td>3.9</td>\n",
       "      <td>한식</td>\n",
       "      <td>대전 중구 대흥동 2-7</td>\n",
       "      <td>(042)256-1464</td>\n",
       "    </tr>\n",
       "    <tr>\n",
       "      <th>4</th>\n",
       "      <td>전통칼국수</td>\n",
       "      <td>3.8</td>\n",
       "      <td>한식</td>\n",
       "      <td>대전 동구 정동 30-23</td>\n",
       "      <td>(042)257-5432</td>\n",
       "    </tr>\n",
       "    <tr>\n",
       "      <th>5</th>\n",
       "      <td>적덕식당</td>\n",
       "      <td>3.9</td>\n",
       "      <td>한식</td>\n",
       "      <td>대전 동구 가양동 343-10</td>\n",
       "      <td>(042)633-4293</td>\n",
       "    </tr>\n",
       "    <tr>\n",
       "      <th>6</th>\n",
       "      <td>판암면옥</td>\n",
       "      <td>3.3</td>\n",
       "      <td>한식</td>\n",
       "      <td>대전 동구 판암동 498-21</td>\n",
       "      <td>(042)284-4850</td>\n",
       "    </tr>\n",
       "    <tr>\n",
       "      <th>7</th>\n",
       "      <td>부여순대</td>\n",
       "      <td>3.6</td>\n",
       "      <td>한식</td>\n",
       "      <td>대전 동구 판암동 490-4</td>\n",
       "      <td>(042)282-3091</td>\n",
       "    </tr>\n",
       "    <tr>\n",
       "      <th>8</th>\n",
       "      <td>사리원면옥(본점)</td>\n",
       "      <td>3.5</td>\n",
       "      <td>한식</td>\n",
       "      <td>대전 중구 대흥동 188-5</td>\n",
       "      <td>(042)256-6506</td>\n",
       "    </tr>\n",
       "    <tr>\n",
       "      <th>9</th>\n",
       "      <td>내집식당</td>\n",
       "      <td>3.9</td>\n",
       "      <td>한식</td>\n",
       "      <td>대전 중구 대흥동 409-7</td>\n",
       "      <td>(042)223-5083</td>\n",
       "    </tr>\n",
       "    <tr>\n",
       "      <th>10</th>\n",
       "      <td>신도칼국수</td>\n",
       "      <td>3.9</td>\n",
       "      <td>한식</td>\n",
       "      <td>대전 동구 정동 30-16</td>\n",
       "      <td>(042)253-6799</td>\n",
       "    </tr>\n",
       "    <tr>\n",
       "      <th>11</th>\n",
       "      <td>맑은골 호박꼬지(본점)</td>\n",
       "      <td>3.8</td>\n",
       "      <td>한식</td>\n",
       "      <td>대전 대덕구 송촌동 503-6</td>\n",
       "      <td>(042)626-4045</td>\n",
       "    </tr>\n",
       "    <tr>\n",
       "      <th>12</th>\n",
       "      <td>옥순네 추어칼국수</td>\n",
       "      <td>4.1</td>\n",
       "      <td>한식</td>\n",
       "      <td>대전 대덕구 송촌동 246-12</td>\n",
       "      <td>(042)632-7640</td>\n",
       "    </tr>\n",
       "    <tr>\n",
       "      <th>13</th>\n",
       "      <td>공주얼큰이칼국수</td>\n",
       "      <td>3.4</td>\n",
       "      <td>한식</td>\n",
       "      <td>대전 중구 은행동 149-1</td>\n",
       "      <td>(042)253-8262</td>\n",
       "    </tr>\n",
       "    <tr>\n",
       "      <th>14</th>\n",
       "      <td>한밭칼국수</td>\n",
       "      <td>4.0</td>\n",
       "      <td>한식</td>\n",
       "      <td>대전 중구 은행동 22</td>\n",
       "      <td>(042)254-8350</td>\n",
       "    </tr>\n",
       "    <tr>\n",
       "      <th>15</th>\n",
       "      <td>홍콩삼겹살식당</td>\n",
       "      <td>4.3</td>\n",
       "      <td>한식</td>\n",
       "      <td>대전 대덕구 송촌동 475-4</td>\n",
       "      <td>(042)628-6755</td>\n",
       "    </tr>\n",
       "    <tr>\n",
       "      <th>16</th>\n",
       "      <td>명랑식당</td>\n",
       "      <td>3.9</td>\n",
       "      <td>한식</td>\n",
       "      <td>대전 동구 삼성동 270-17 명랑식당</td>\n",
       "      <td>(042)623-5031</td>\n",
       "    </tr>\n",
       "    <tr>\n",
       "      <th>17</th>\n",
       "      <td>영희네매운갈비찜</td>\n",
       "      <td>3.9</td>\n",
       "      <td>한식</td>\n",
       "      <td>대전 중구 대흥동 248</td>\n",
       "      <td>(042)223-0155</td>\n",
       "    </tr>\n",
       "    <tr>\n",
       "      <th>18</th>\n",
       "      <td>오씨칼국수</td>\n",
       "      <td>3.6</td>\n",
       "      <td>한식</td>\n",
       "      <td>대전 동구 원동 41-3</td>\n",
       "      <td>(042)255-0850</td>\n",
       "    </tr>\n",
       "    <tr>\n",
       "      <th>19</th>\n",
       "      <td>온유네닭매운탕</td>\n",
       "      <td>3.8</td>\n",
       "      <td>한식</td>\n",
       "      <td>대전 중구 선화동 280-3</td>\n",
       "      <td>(042)631-9585</td>\n",
       "    </tr>\n",
       "  </tbody>\n",
       "</table>\n",
       "</div>"
      ],
      "text/plain": [
       "              상호   별점  업종                     주소           전화번호\n",
       "0        대들보함흥면옥  3.6  한식       대전 중구 유천동 311-13  (042)522-5900\n",
       "1           학선식당  3.8  한식        대전 중구 선화동 151-3  (042)256-4057\n",
       "2          대전갈비집  3.5  한식         대전 중구 대흥동 3-16  (042)226-9428\n",
       "3           소나무집  3.9  한식          대전 중구 대흥동 2-7  (042)256-1464\n",
       "4          전통칼국수  3.8  한식         대전 동구 정동 30-23  (042)257-5432\n",
       "5           적덕식당  3.9  한식       대전 동구 가양동 343-10  (042)633-4293\n",
       "6           판암면옥  3.3  한식       대전 동구 판암동 498-21  (042)284-4850\n",
       "7           부여순대  3.6  한식        대전 동구 판암동 490-4  (042)282-3091\n",
       "8      사리원면옥(본점)  3.5  한식        대전 중구 대흥동 188-5  (042)256-6506\n",
       "9           내집식당  3.9  한식        대전 중구 대흥동 409-7  (042)223-5083\n",
       "10         신도칼국수  3.9  한식         대전 동구 정동 30-16  (042)253-6799\n",
       "11  맑은골 호박꼬지(본점)  3.8  한식       대전 대덕구 송촌동 503-6  (042)626-4045\n",
       "12     옥순네 추어칼국수  4.1  한식      대전 대덕구 송촌동 246-12  (042)632-7640\n",
       "13      공주얼큰이칼국수  3.4  한식        대전 중구 은행동 149-1  (042)253-8262\n",
       "14         한밭칼국수  4.0  한식           대전 중구 은행동 22  (042)254-8350\n",
       "15       홍콩삼겹살식당  4.3  한식       대전 대덕구 송촌동 475-4  (042)628-6755\n",
       "16          명랑식당  3.9  한식  대전 동구 삼성동 270-17 명랑식당  (042)623-5031\n",
       "17      영희네매운갈비찜  3.9  한식          대전 중구 대흥동 248  (042)223-0155\n",
       "18         오씨칼국수  3.6  한식          대전 동구 원동 41-3  (042)255-0850\n",
       "19       온유네닭매운탕  3.8  한식        대전 중구 선화동 280-3  (042)631-9585"
      ]
     },
     "execution_count": 34,
     "metadata": {},
     "output_type": "execute_result"
    }
   ],
   "source": [
    "df = pd.DataFrame({'상호' : name, '별점' : score, '업종' : category, '주소' : addr, '전화번호' : tel}) \n",
    "df"
   ]
  },
  {
   "cell_type": "code",
   "execution_count": 35,
   "metadata": {},
   "outputs": [
    {
     "data": {
      "text/plain": [
       "20"
      ]
     },
     "execution_count": 35,
     "metadata": {},
     "output_type": "execute_result"
    }
   ],
   "source": [
    "len(df)"
   ]
  },
  {
   "cell_type": "code",
   "execution_count": null,
   "metadata": {},
   "outputs": [],
   "source": []
  },
  {
   "cell_type": "code",
   "execution_count": null,
   "metadata": {},
   "outputs": [],
   "source": []
  },
  {
   "cell_type": "code",
   "execution_count": null,
   "metadata": {},
   "outputs": [],
   "source": []
  },
  {
   "cell_type": "code",
   "execution_count": null,
   "metadata": {},
   "outputs": [],
   "source": []
  },
  {
   "cell_type": "code",
   "execution_count": null,
   "metadata": {},
   "outputs": [],
   "source": []
  },
  {
   "cell_type": "code",
   "execution_count": null,
   "metadata": {},
   "outputs": [],
   "source": []
  },
  {
   "cell_type": "code",
   "execution_count": null,
   "metadata": {},
   "outputs": [],
   "source": [
    "url_base = 'http://www.menupan.com/restaurant/search/search_main_sub_area.asp?page='\n",
    "url_sub = '&areacode=dj201&trec=98'\n",
    "name=[]\n",
    "score=[]\n",
    "category=[]\n",
    "addr=[]\n",
    "tel=[]\n",
    "\n",
    "for page in range(1,4):\n",
    "    url = url_base + str(page) + url_sub\n",
    "    html = urlopen(url)\n",
    "    soup = BeautifulSoup(html, 'html.parser')\n",
    "    \n",
    "    uls = soup.find_all(class_='areaList')\n",
    "    lis = uls[0].find_all(class_='ifo')\n",
    "\n",
    "    for li in lis:\n",
    "        name.append(li.find('a').get_text())\n",
    "        score.append(li.find('total').get_text())\n",
    "        dds = li.find('dd')\n",
    "        tmp = dds[1].get_text()\n",
    "        category.append(li.find('| ')[0])\n",
    "        addr.append(li.find('| ')[1])\n",
    "        tel.append(dds[2].get_text())"
   ]
  }
 ],
 "metadata": {
  "kernelspec": {
   "display_name": "Python 3",
   "language": "python",
   "name": "python3"
  },
  "language_info": {
   "codemirror_mode": {
    "name": "ipython",
    "version": 3
   },
   "file_extension": ".py",
   "mimetype": "text/x-python",
   "name": "python",
   "nbconvert_exporter": "python",
   "pygments_lexer": "ipython3",
   "version": "3.7.6"
  }
 },
 "nbformat": 4,
 "nbformat_minor": 4
}
