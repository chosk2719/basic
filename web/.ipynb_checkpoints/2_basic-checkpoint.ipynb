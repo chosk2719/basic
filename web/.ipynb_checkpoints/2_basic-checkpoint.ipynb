{
 "cells": [
  {
   "cell_type": "markdown",
   "metadata": {},
   "source": [
    "# 웹 데이터를 가져오는 BeautifulSoup 익히기"
   ]
  },
  {
   "cell_type": "code",
   "execution_count": 105,
   "metadata": {},
   "outputs": [],
   "source": [
    "from bs4 import BeautifulSoup"
   ]
  },
  {
   "cell_type": "code",
   "execution_count": 106,
   "metadata": {},
   "outputs": [],
   "source": [
    "fp = open(\"example2.html\")\n",
    "soup = BeautifulSoup(fp, 'html.parser')\n",
    "fp.close()"
   ]
  },
  {
   "cell_type": "code",
   "execution_count": 107,
   "metadata": {},
   "outputs": [
    {
     "data": {
      "text/plain": [
       "'<!DOCTYPE html>\\n<html>\\n <head>\\n  <meta charset=\"utf-8\"/>\\n  <title>\\n   Web Crawling Example\\n  </title>\\n </head>\\n <body>\\n  <div>\\n   <p class=\"inner-text first-item\" id=\"first\">\\n    Happy PinkWink.\\n    <a href=\"http://www.pinkwink.kr\" id=\"pw-link\">\\n     PinkWink\\n    </a>\\n   </p>\\n   <p class=\"inner-text second-item\">\\n    Happy Data science.\\n    <a href=\"http://www.pinkwink.org\" id=\"py-link\">\\n     python\\n    </a>\\n   </p>\\n  </div>\\n  <p class=\"outer-text first-item\" id=\"second\">\\n   <b>\\n    Data science is funny.\\n   </b>\\n  </p>\\n  <p class=\"outer-text\">\\n   <b>\\n    All I need is Love\\n   </b>\\n  </p>\\n </body>\\n</html>\\n'"
      ]
     },
     "execution_count": 107,
     "metadata": {},
     "output_type": "execute_result"
    }
   ],
   "source": [
    "soup.prettify()"
   ]
  },
  {
   "cell_type": "code",
   "execution_count": 108,
   "metadata": {},
   "outputs": [
    {
     "name": "stdout",
     "output_type": "stream",
     "text": [
      "<!DOCTYPE html>\n",
      "<html>\n",
      " <head>\n",
      "  <meta charset=\"utf-8\"/>\n",
      "  <title>\n",
      "   Web Crawling Example\n",
      "  </title>\n",
      " </head>\n",
      " <body>\n",
      "  <div>\n",
      "   <p class=\"inner-text first-item\" id=\"first\">\n",
      "    Happy PinkWink.\n",
      "    <a href=\"http://www.pinkwink.kr\" id=\"pw-link\">\n",
      "     PinkWink\n",
      "    </a>\n",
      "   </p>\n",
      "   <p class=\"inner-text second-item\">\n",
      "    Happy Data science.\n",
      "    <a href=\"http://www.pinkwink.org\" id=\"py-link\">\n",
      "     python\n",
      "    </a>\n",
      "   </p>\n",
      "  </div>\n",
      "  <p class=\"outer-text first-item\" id=\"second\">\n",
      "   <b>\n",
      "    Data science is funny.\n",
      "   </b>\n",
      "  </p>\n",
      "  <p class=\"outer-text\">\n",
      "   <b>\n",
      "    All I need is Love\n",
      "   </b>\n",
      "  </p>\n",
      " </body>\n",
      "</html>\n",
      "\n"
     ]
    }
   ],
   "source": [
    "print(soup.prettify())"
   ]
  },
  {
   "cell_type": "code",
   "execution_count": 109,
   "metadata": {},
   "outputs": [
    {
     "data": {
      "text/plain": [
       "['html',\n",
       " '\\n',\n",
       " <html>\n",
       " <head>\n",
       " <meta charset=\"utf-8\"/>\n",
       " <title>Web Crawling Example</title>\n",
       " </head>\n",
       " <body>\n",
       " <div>\n",
       " <p class=\"inner-text first-item\" id=\"first\">\n",
       "                 Happy PinkWink.\n",
       "                 <a href=\"http://www.pinkwink.kr\" id=\"pw-link\">PinkWink</a>\n",
       " </p>\n",
       " <p class=\"inner-text second-item\">\n",
       "                 Happy Data science.\n",
       "                 <a href=\"http://www.pinkwink.org\" id=\"py-link\">python</a>\n",
       " </p>\n",
       " </div>\n",
       " <p class=\"outer-text first-item\" id=\"second\">\n",
       " <b>\n",
       "                 Data science is funny.\n",
       "             </b>\n",
       " </p>\n",
       " <p class=\"outer-text\">\n",
       " <b>\n",
       "                 All I need is Love\n",
       "             </b>\n",
       " </p>\n",
       " </body>\n",
       " </html>,\n",
       " '\\n']"
      ]
     },
     "execution_count": 109,
     "metadata": {},
     "output_type": "execute_result"
    }
   ],
   "source": [
    "list(soup.children)"
   ]
  },
  {
   "cell_type": "code",
   "execution_count": 110,
   "metadata": {},
   "outputs": [],
   "source": [
    "body = soup.find('body')"
   ]
  },
  {
   "cell_type": "code",
   "execution_count": 111,
   "metadata": {},
   "outputs": [
    {
     "data": {
      "text/plain": [
       "<body>\n",
       "<div>\n",
       "<p class=\"inner-text first-item\" id=\"first\">\n",
       "                Happy PinkWink.\n",
       "                <a href=\"http://www.pinkwink.kr\" id=\"pw-link\">PinkWink</a>\n",
       "</p>\n",
       "<p class=\"inner-text second-item\">\n",
       "                Happy Data science.\n",
       "                <a href=\"http://www.pinkwink.org\" id=\"py-link\">python</a>\n",
       "</p>\n",
       "</div>\n",
       "<p class=\"outer-text first-item\" id=\"second\">\n",
       "<b>\n",
       "                Data science is funny.\n",
       "            </b>\n",
       "</p>\n",
       "<p class=\"outer-text\">\n",
       "<b>\n",
       "                All I need is Love\n",
       "            </b>\n",
       "</p>\n",
       "</body>"
      ]
     },
     "execution_count": 111,
     "metadata": {},
     "output_type": "execute_result"
    }
   ],
   "source": [
    "body"
   ]
  },
  {
   "cell_type": "code",
   "execution_count": 112,
   "metadata": {},
   "outputs": [
    {
     "data": {
      "text/plain": [
       "<body>\n",
       "<div>\n",
       "<p class=\"inner-text first-item\" id=\"first\">\n",
       "                Happy PinkWink.\n",
       "                <a href=\"http://www.pinkwink.kr\" id=\"pw-link\">PinkWink</a>\n",
       "</p>\n",
       "<p class=\"inner-text second-item\">\n",
       "                Happy Data science.\n",
       "                <a href=\"http://www.pinkwink.org\" id=\"py-link\">python</a>\n",
       "</p>\n",
       "</div>\n",
       "<p class=\"outer-text first-item\" id=\"second\">\n",
       "<b>\n",
       "                Data science is funny.\n",
       "            </b>\n",
       "</p>\n",
       "<p class=\"outer-text\">\n",
       "<b>\n",
       "                All I need is Love\n",
       "            </b>\n",
       "</p>\n",
       "</body>"
      ]
     },
     "execution_count": 112,
     "metadata": {},
     "output_type": "execute_result"
    }
   ],
   "source": [
    "soup.body"
   ]
  },
  {
   "cell_type": "code",
   "execution_count": 113,
   "metadata": {},
   "outputs": [
    {
     "data": {
      "text/plain": [
       "[<p class=\"inner-text first-item\" id=\"first\">\n",
       "                 Happy PinkWink.\n",
       "                 <a href=\"http://www.pinkwink.kr\" id=\"pw-link\">PinkWink</a>\n",
       " </p>,\n",
       " <p class=\"inner-text second-item\">\n",
       "                 Happy Data science.\n",
       "                 <a href=\"http://www.pinkwink.org\" id=\"py-link\">python</a>\n",
       " </p>,\n",
       " <p class=\"outer-text first-item\" id=\"second\">\n",
       " <b>\n",
       "                 Data science is funny.\n",
       "             </b>\n",
       " </p>,\n",
       " <p class=\"outer-text\">\n",
       " <b>\n",
       "                 All I need is Love\n",
       "             </b>\n",
       " </p>]"
      ]
     },
     "execution_count": 113,
     "metadata": {},
     "output_type": "execute_result"
    }
   ],
   "source": [
    "all_ps = soup.find_all('p')\n",
    "all_ps"
   ]
  },
  {
   "cell_type": "code",
   "execution_count": 114,
   "metadata": {},
   "outputs": [
    {
     "data": {
      "text/plain": [
       "'\\n                Happy PinkWink.\\n                PinkWink\\n'"
      ]
     },
     "execution_count": 114,
     "metadata": {},
     "output_type": "execute_result"
    }
   ],
   "source": [
    "first_p = soup.find('p')\n",
    "first_p.get_text()"
   ]
  },
  {
   "cell_type": "code",
   "execution_count": 115,
   "metadata": {},
   "outputs": [
    {
     "data": {
      "text/plain": [
       "'PinkWink'"
      ]
     },
     "execution_count": 115,
     "metadata": {},
     "output_type": "execute_result"
    }
   ],
   "source": [
    "first_p.find('a').get_text()"
   ]
  },
  {
   "cell_type": "code",
   "execution_count": 116,
   "metadata": {},
   "outputs": [
    {
     "data": {
      "text/plain": [
       "[<p class=\"inner-text first-item\" id=\"first\">\n",
       "                 Happy PinkWink.\n",
       "                 <a href=\"http://www.pinkwink.kr\" id=\"pw-link\">PinkWink</a>\n",
       " </p>,\n",
       " <p class=\"inner-text second-item\">\n",
       "                 Happy Data science.\n",
       "                 <a href=\"http://www.pinkwink.org\" id=\"py-link\">python</a>\n",
       " </p>]"
      ]
     },
     "execution_count": 116,
     "metadata": {},
     "output_type": "execute_result"
    }
   ],
   "source": [
    "soup.find_all(class_='inner-text')"
   ]
  },
  {
   "cell_type": "code",
   "execution_count": 117,
   "metadata": {},
   "outputs": [
    {
     "data": {
      "text/plain": [
       "[<p class=\"outer-text first-item\" id=\"second\">\n",
       " <b>\n",
       "                 Data science is funny.\n",
       "             </b>\n",
       " </p>,\n",
       " <p class=\"outer-text\">\n",
       " <b>\n",
       "                 All I need is Love\n",
       "             </b>\n",
       " </p>]"
      ]
     },
     "execution_count": 117,
     "metadata": {},
     "output_type": "execute_result"
    }
   ],
   "source": [
    "soup.find_all(class_='outer-text')"
   ]
  },
  {
   "cell_type": "code",
   "execution_count": 118,
   "metadata": {},
   "outputs": [
    {
     "data": {
      "text/plain": [
       "<p class=\"outer-text first-item\" id=\"second\">\n",
       "<b>\n",
       "                Data science is funny.\n",
       "            </b>\n",
       "</p>"
      ]
     },
     "execution_count": 118,
     "metadata": {},
     "output_type": "execute_result"
    }
   ],
   "source": [
    "soup.find(id='second')"
   ]
  },
  {
   "cell_type": "code",
   "execution_count": 119,
   "metadata": {},
   "outputs": [
    {
     "data": {
      "text/plain": [
       "<a href=\"http://www.pinkwink.kr\" id=\"pw-link\">PinkWink</a>"
      ]
     },
     "execution_count": 119,
     "metadata": {},
     "output_type": "execute_result"
    }
   ],
   "source": [
    "soup.find('a')"
   ]
  },
  {
   "cell_type": "code",
   "execution_count": 120,
   "metadata": {},
   "outputs": [
    {
     "data": {
      "text/plain": [
       "'http://www.pinkwink.kr'"
      ]
     },
     "execution_count": 120,
     "metadata": {},
     "output_type": "execute_result"
    }
   ],
   "source": [
    "a = soup.find('a')\n",
    "a['href']"
   ]
  },
  {
   "cell_type": "code",
   "execution_count": 121,
   "metadata": {},
   "outputs": [
    {
     "data": {
      "text/plain": [
       "'http://www.pinkwink.kr'"
      ]
     },
     "execution_count": 121,
     "metadata": {},
     "output_type": "execute_result"
    }
   ],
   "source": [
    "soup.find('a')['href']"
   ]
  },
  {
   "cell_type": "code",
   "execution_count": 122,
   "metadata": {},
   "outputs": [
    {
     "data": {
      "text/plain": [
       "[<a href=\"http://www.pinkwink.kr\" id=\"pw-link\">PinkWink</a>,\n",
       " <a href=\"http://www.pinkwink.org\" id=\"py-link\">python</a>]"
      ]
     },
     "execution_count": 122,
     "metadata": {},
     "output_type": "execute_result"
    }
   ],
   "source": [
    "soup.find_all('a')"
   ]
  },
  {
   "cell_type": "code",
   "execution_count": 123,
   "metadata": {},
   "outputs": [
    {
     "name": "stdout",
     "output_type": "stream",
     "text": [
      "PinkWink:\thttp://www.pinkwink.kr\n",
      "python:\thttp://www.pinkwink.org\n"
     ]
    }
   ],
   "source": [
    "links = soup.find_all('a')\n",
    "for link in links:\n",
    "    url = link['href']\n",
    "    site = link.get_text()\n",
    "    print(\"%s:\\t%s\" % (site, url))"
   ]
  },
  {
   "cell_type": "code",
   "execution_count": 124,
   "metadata": {},
   "outputs": [
    {
     "data": {
      "text/plain": [
       "<a href=\"http://www.pinkwink.kr\" id=\"pw-link\">PinkWink</a>"
      ]
     },
     "execution_count": 124,
     "metadata": {},
     "output_type": "execute_result"
    }
   ],
   "source": [
    "soup.find_all('a')[0]"
   ]
  },
  {
   "cell_type": "code",
   "execution_count": 125,
   "metadata": {},
   "outputs": [
    {
     "data": {
      "text/plain": [
       "'\\n'"
      ]
     },
     "execution_count": 125,
     "metadata": {},
     "output_type": "execute_result"
    }
   ],
   "source": [
    "soup.find_all('a')[0].next_sibling"
   ]
  },
  {
   "cell_type": "code",
   "execution_count": 126,
   "metadata": {},
   "outputs": [
    {
     "data": {
      "text/plain": [
       "<list_iterator at 0x16683b7b288>"
      ]
     },
     "execution_count": 126,
     "metadata": {},
     "output_type": "execute_result"
    }
   ],
   "source": [
    "body.a.children"
   ]
  },
  {
   "cell_type": "markdown",
   "metadata": {},
   "source": [
    "## 크롬 개발자 도구를 이용해서 원하는 태크 찾기"
   ]
  },
  {
   "cell_type": "code",
   "execution_count": 127,
   "metadata": {},
   "outputs": [],
   "source": [
    "from urllib.request import urlopen"
   ]
  },
  {
   "cell_type": "code",
   "execution_count": 128,
   "metadata": {},
   "outputs": [],
   "source": [
    "url = 'https://finance.naver.com/marketindex/?tabSel=exchange#tab_section'\n",
    "page = urlopen(url)\n",
    "\n",
    "soup = BeautifulSoup(page, 'html.parser')"
   ]
  },
  {
   "cell_type": "code",
   "execution_count": 129,
   "metadata": {},
   "outputs": [
    {
     "data": {
      "text/plain": [
       "[<span class=\"value\">1,193.80</span>,\n",
       " <span class=\"value\">1,108.40</span>,\n",
       " <span class=\"value\">1,353.89</span>,\n",
       " <span class=\"value\">168.81</span>,\n",
       " <span class=\"value\">107.7100</span>,\n",
       " <span class=\"value\">1.1353</span>,\n",
       " <span class=\"value\">1.2722</span>,\n",
       " <span class=\"value\">96.3200</span>,\n",
       " <span class=\"value\">38.94</span>,\n",
       " <span class=\"value\">1307.71</span>,\n",
       " <span class=\"value\">1714.7</span>,\n",
       " <span class=\"value\">65844.86</span>]"
      ]
     },
     "execution_count": 129,
     "metadata": {},
     "output_type": "execute_result"
    }
   ],
   "source": [
    "soup.find_all(class_='value')"
   ]
  },
  {
   "cell_type": "code",
   "execution_count": 130,
   "metadata": {},
   "outputs": [
    {
     "data": {
      "text/plain": [
       "[<li class=\"on\">\n",
       " <a class=\"head usd\" href=\"/marketindex/exchangeDetail.nhn?marketindexCd=FX_USDKRW\" onclick=\"clickcr(this, 'fr1.usdt', '', '', event);\">\n",
       " <h3 class=\"h_lst\"><span class=\"blind\">미국 USD</span></h3>\n",
       " <div class=\"head_info point_dn\">\n",
       " <span class=\"value\">1,193.80</span>\n",
       " <span class=\"txt_krw\"><span class=\"blind\">원</span></span>\n",
       " <span class=\"change\"> 7.20</span>\n",
       " <span class=\"blind\">하락</span>\n",
       " </div>\n",
       " </a>\n",
       " <a class=\"graph_img\" href=\"/marketindex/exchangeDetail.nhn?marketindexCd=FX_USDKRW\" onclick=\"clickcr(this, 'fr1.usdc', '', '', event);\">\n",
       " <img alt=\"\" height=\"153\" src=\"https://ssl.pstatic.net/imgfinance/chart/marketindex/FX_USDKRW.png\" width=\"295\"/>\n",
       " </a>\n",
       " <div class=\"graph_info\">\n",
       " <span class=\"time\">2020.06.10 11:44</span>\n",
       " <span class=\"source\">하나은행 기준</span>\n",
       " <span class=\"count\">고시회차<span class=\"num\">217</span>회</span>\n",
       " </div>\n",
       " </li>,\n",
       " <li class=\"\">\n",
       " <a class=\"head jpy\" href=\"/marketindex/exchangeDetail.nhn?marketindexCd=FX_JPYKRW\" onclick=\"clickcr(this, 'fr1.jpyt', '', '', event);\">\n",
       " <h3 class=\"h_lst\"><span class=\"blind\">일본 JPY(100엔)</span></h3>\n",
       " <div class=\"head_info point_dn\">\n",
       " <span class=\"value\">1,108.40</span>\n",
       " <span class=\"txt_krw\"><span class=\"blind\">원</span></span>\n",
       " <span class=\"change\"> 2.97</span>\n",
       " <span class=\"blind\">하락</span>\n",
       " </div>\n",
       " </a>\n",
       " <a class=\"graph_img\" href=\"/marketindex/exchangeDetail.nhn?marketindexCd=FX_JPYKRW\" onclick=\"clickcr(this, 'fr1.jpyc', '', '', event);\">\n",
       " <img alt=\"\" height=\"153\" src=\"https://ssl.pstatic.net/imgfinance/chart/marketindex/FX_JPYKRW.png\" width=\"295\"/>\n",
       " </a>\n",
       " <div class=\"graph_info\">\n",
       " <span class=\"time\">2020.06.10 11:44</span>\n",
       " <span class=\"source\">하나은행 기준</span>\n",
       " <span class=\"count\">고시회차<span class=\"num\">217</span>회</span>\n",
       " </div>\n",
       " </li>,\n",
       " <li class=\"\">\n",
       " <a class=\"head eur\" href=\"/marketindex/exchangeDetail.nhn?marketindexCd=FX_EURKRW\" onclick=\"clickcr(this, 'fr1.eurt', '', '', event);\">\n",
       " <h3 class=\"h_lst\"><span class=\"blind\">유럽연합 EUR</span></h3>\n",
       " <div class=\"head_info point_dn\">\n",
       " <span class=\"value\">1,353.89</span>\n",
       " <span class=\"txt_krw\"><span class=\"blind\">원</span></span>\n",
       " <span class=\"change\"> 0.78</span>\n",
       " <span class=\"blind\">하락</span>\n",
       " </div>\n",
       " </a>\n",
       " <a class=\"graph_img\" href=\"/marketindex/exchangeDetail.nhn?marketindexCd=FX_EURKRW\" onclick=\"clickcr(this, 'fr1.eurc', '', '', event);\">\n",
       " <img alt=\"\" height=\"153\" src=\"https://ssl.pstatic.net/imgfinance/chart/marketindex/FX_EURKRW.png\" width=\"295\"/>\n",
       " </a>\n",
       " <div class=\"graph_info\">\n",
       " <span class=\"time\">2020.06.10 11:44</span>\n",
       " <span class=\"source\">하나은행 기준</span>\n",
       " <span class=\"count\">고시회차<span class=\"num\">217</span>회</span>\n",
       " </div>\n",
       " </li>,\n",
       " <li class=\"\">\n",
       " <a class=\"head cny\" href=\"/marketindex/exchangeDetail.nhn?marketindexCd=FX_CNYKRW\" onclick=\"clickcr(this, 'fr1.cnyt', '', '', event);\">\n",
       " <h3 class=\"h_lst\"><span class=\"blind\">중국 CNY</span></h3>\n",
       " <div class=\"head_info point_dn\">\n",
       " <span class=\"value\">168.81</span>\n",
       " <span class=\"txt_krw\"><span class=\"blind\">원</span></span>\n",
       " <span class=\"change\"> 0.68</span>\n",
       " <span class=\"blind\">하락</span>\n",
       " </div>\n",
       " </a>\n",
       " <a class=\"graph_img\" href=\"/marketindex/exchangeDetail.nhn?marketindexCd=FX_CNYKRW\" onclick=\"clickcr(this, 'fr1.cnyc', '', '', event);\">\n",
       " <img alt=\"\" height=\"153\" src=\"https://ssl.pstatic.net/imgfinance/chart/marketindex/FX_CNYKRW.png\" width=\"295\"/>\n",
       " </a>\n",
       " <div class=\"graph_info\">\n",
       " <span class=\"time\">2020.06.10 11:44</span>\n",
       " <span class=\"source\">하나은행 기준</span>\n",
       " <span class=\"count\">고시회차<span class=\"num\">217</span>회</span>\n",
       " </div>\n",
       " </li>,\n",
       " <li class=\"on\">\n",
       " <a class=\"head jpy_usd\" href=\"/marketindex/worldExchangeDetail.nhn?marketindexCd=FX_USDJPY\" onclick=\"clickcr(this, 'fr2.jpyut', '', '', event);\">\n",
       " <h3 class=\"h_lst\"><span class=\"blind\">일본 엔/달러</span></h3>\n",
       " <div class=\"head_info point_dn\">\n",
       " <span class=\"value\">107.7100</span>\n",
       " <span class=\"txt_jpy\"><span class=\"blind\">엔</span></span>\n",
       " <span class=\"change\"> 0.8600</span>\n",
       " <span class=\"blind\">하락</span>\n",
       " </div>\n",
       " </a>\n",
       " <a class=\"graph_img\" href=\"/marketindex/worldExchangeDetail.nhn?marketindexCd=FX_USDJPY\" onclick=\"clickcr(this, 'fr2.jpyuc', '', '', event);\">\n",
       " <img alt=\"\" height=\"153\" src=\"https://ssl.pstatic.net/imgfinance/chart/marketindex/FX_USDJPY.png\" width=\"295\"/>\n",
       " </a>\n",
       " <div class=\"graph_info\">\n",
       " <span class=\"time\">2020.06.09</span>\n",
       " <span class=\"source\">모닝스타 기준</span>\n",
       " </div>\n",
       " </li>,\n",
       " <li class=\"\">\n",
       " <a class=\"head usd_eur\" href=\"/marketindex/worldExchangeDetail.nhn?marketindexCd=FX_EURUSD\" onclick=\"clickcr(this, 'fr2.eurdt', '', '', event);\">\n",
       " <h3 class=\"h_lst\"><span class=\"blind\">달러/유로</span></h3>\n",
       " <div class=\"head_info point_up\">\n",
       " <span class=\"value\">1.1353</span>\n",
       " <span class=\"txt_usd\"><span class=\"blind\">달러</span></span>\n",
       " <span class=\"change\">0.0053</span>\n",
       " <span class=\"blind\">상승</span>\n",
       " </div>\n",
       " </a>\n",
       " <a class=\"graph_img\" href=\"/marketindex/worldExchangeDetail.nhn?marketindexCd=FX_EURUSD\" onclick=\"clickcr(this, 'fr2.eurdc', '', '', event);\">\n",
       " <img alt=\"\" height=\"153\" src=\"https://ssl.pstatic.net/imgfinance/chart/marketindex/FX_EURUSD.png\" width=\"295\"/>\n",
       " </a>\n",
       " <div class=\"graph_info\">\n",
       " <span class=\"time\">2020.06.09</span>\n",
       " <span class=\"source\">모닝스타 기준</span>\n",
       " </div>\n",
       " </li>,\n",
       " <li class=\"\">\n",
       " <a class=\"head usd_gbp\" href=\"/marketindex/worldExchangeDetail.nhn?marketindexCd=FX_GBPUSD\" onclick=\"clickcr(this, 'fr2.gbpdt', '', '', event);\">\n",
       " <h3 class=\"h_lst\"><span class=\"blind\">달러/영국파운드</span></h3>\n",
       " <div class=\"head_info point_up\">\n",
       " <span class=\"value\">1.2722</span>\n",
       " <span class=\"txt_usd\"><span class=\"blind\">달러</span></span>\n",
       " <span class=\"change\">0.0023</span>\n",
       " <span class=\"blind\">상승</span>\n",
       " </div>\n",
       " </a>\n",
       " <a class=\"graph_img\" href=\"/marketindex/worldExchangeDetail.nhn?marketindexCd=FX_GBPUSD\" onclick=\"clickcr(this, 'fr2.gbpdc', '', '', event);\">\n",
       " <img alt=\"\" height=\"153\" src=\"https://ssl.pstatic.net/imgfinance/chart/marketindex/FX_GBPUSD.png\" width=\"295\"/>\n",
       " </a>\n",
       " <div class=\"graph_info\">\n",
       " <span class=\"time\">2020.06.09</span>\n",
       " <span class=\"source\">모닝스타 기준</span>\n",
       " </div>\n",
       " </li>,\n",
       " <li class=\"\">\n",
       " <a class=\"head usd_idx\" href=\"/marketindex/worldExchangeDetail.nhn?marketindexCd=FX_USDX\" onclick=\"clickcr(this, 'fr2.indt', '', '', event);\">\n",
       " <h3 class=\"h_lst\"><span class=\"blind\">달러인덱스</span></h3>\n",
       " <div class=\"head_info point_dn\">\n",
       " <span class=\"value\">96.3200</span>\n",
       " <span class=\"change\"> 0.2800</span>\n",
       " <span class=\"blind\">하락</span>\n",
       " </div>\n",
       " </a>\n",
       " <a class=\"graph_img\" href=\"/marketindex/worldExchangeDetail.nhn?marketindexCd=FX_USDX\" onclick=\"clickcr(this, 'fr2.indc', '', '', event);\">\n",
       " <img alt=\"\" height=\"153\" src=\"https://ssl.pstatic.net/imgfinance/chart/marketindex/FX_USDX.png\" width=\"295\"/>\n",
       " </a>\n",
       " <div class=\"graph_info\">\n",
       " <span class=\"time\">2020.06.09</span>\n",
       " <span class=\"source\">ICE 기준</span>\n",
       " </div>\n",
       " </li>,\n",
       " <li class=\"on\">\n",
       " <a class=\"head wti\" href=\"/marketindex/worldOilDetail.nhn?marketindexCd=OIL_CL&amp;fdtc=2\" onclick=\"clickcr(this, 'fr3.wtit', '', '', event);\">\n",
       " <h3 class=\"h_lst\"><span class=\"blind\">WTI</span></h3>\n",
       " <div class=\"head_info point_up\">\n",
       " <span class=\"value\">38.94</span>\n",
       " <span class=\"txt_usd\"><span class=\"blind\">달러</span></span>\n",
       " <span class=\"change\">0.75</span>\n",
       " <span class=\"blind\">상승</span>\n",
       " </div>\n",
       " </a>\n",
       " <a class=\"graph_img\" href=\"/marketindex/worldOilDetail.nhn?marketindexCd=OIL_CL&amp;fdtc=2\" onclick=\"clickcr(this, 'fr3.wtic', '', '', event);\">\n",
       " <img alt=\"\" height=\"153\" src=\"https://ssl.pstatic.net/imgfinance/chart/marketindex/OIL_CL.png\" width=\"295\"/>\n",
       " </a>\n",
       " <div class=\"graph_info\">\n",
       " <span class=\"time\">2020.06.09</span>\n",
       " <span class=\"source\">NYMEX(뉴욕상업거래소) 기준</span>\n",
       " </div>\n",
       " </li>,\n",
       " <li class=\"\">\n",
       " <a class=\"head gasoline\" href=\"/marketindex/oilDetail.nhn?marketindexCd=OIL_GSL\" onclick=\"clickcr(this, 'fr3.oilt', '', '', event);\">\n",
       " <h3 class=\"h_lst\"><span class=\"blind\">휘발유</span></h3>\n",
       " <div class=\"head_info point_up\">\n",
       " <span class=\"value\">1307.71</span>\n",
       " <span class=\"txt_krw\"><span class=\"blind\">원</span></span>\n",
       " <span class=\"change\">1.63</span>\n",
       " <span class=\"blind\">상승</span>\n",
       " </div>\n",
       " </a>\n",
       " <a class=\"graph_img\" href=\"/marketindex/oilDetail.nhn?marketindexCd=OIL_GSL\" onclick=\"clickcr(this, 'fr3.oilc', '', '', event);\">\n",
       " <img alt=\"\" height=\"153\" src=\"https://ssl.pstatic.net/imgfinance/chart/marketindex/OIL_GSL.png\" width=\"295\"/>\n",
       " </a>\n",
       " <div class=\"graph_info\">\n",
       " <span class=\"time\">2020.06.10</span>\n",
       " <span class=\"source\">한국석유공사 Opinet 기준</span>\n",
       " </div>\n",
       " </li>,\n",
       " <li class=\"\">\n",
       " <a class=\"head gold_inter\" href=\"/marketindex/worldGoldDetail.nhn?marketindexCd=CMDT_GC&amp;fdtc=2\" onclick=\"clickcr(this, 'fr3.agoldt', '', '', event);\">\n",
       " <h3 class=\"h_lst\"><span class=\"blind\">국제 금</span></h3>\n",
       " <div class=\"head_info point_up\">\n",
       " <span class=\"value\">1714.7</span>\n",
       " <span class=\"txt_usd\"><span class=\"blind\">달러</span></span>\n",
       " <span class=\"change\">16.40</span>\n",
       " <span class=\"blind\">상승</span>\n",
       " </div>\n",
       " </a>\n",
       " <a class=\"graph_img\" href=\"/marketindex/worldGoldDetail.nhn?marketindexCd=CMDT_GC&amp;fdtc=2\" onclick=\"clickcr(this, 'fr3.agoldc', '', '', event);\">\n",
       " <img alt=\"\" height=\"153\" src=\"https://ssl.pstatic.net/imgfinance/chart/marketindex/CMDT_GC.png\" width=\"295\"/>\n",
       " </a>\n",
       " <div class=\"graph_info\">\n",
       " <span class=\"time\">2020.06.09</span>\n",
       " <span class=\"source\">COMEX(뉴욕상품거래소) 기준</span>\n",
       " </div>\n",
       " </li>,\n",
       " <li class=\"\">\n",
       " <a class=\"head gold_domestic\" href=\"/marketindex/goldDetail.nhn\" onclick=\"clickcr(this, 'fr3.kgoldt', '', '', event);\">\n",
       " <h3 class=\"h_lst\"><span class=\"blind\">국내 금</span></h3>\n",
       " <div class=\"head_info point_up\">\n",
       " <span class=\"value\">65844.86</span>\n",
       " <span class=\"txt_krw\"><span class=\"blind\">원</span></span>\n",
       " <span class=\"change\">20.84</span>\n",
       " <span class=\"blind\">상승</span>\n",
       " </div>\n",
       " </a>\n",
       " <a class=\"graph_img\" href=\"/marketindex/goldDetail.nhn\" onclick=\"clickcr(this, 'fr3.kgoldc', '', '', event);\">\n",
       " <img alt=\"\" height=\"153\" src=\"https://ssl.pstatic.net/imgfinance/chart/marketindex/CMDT_GD.png\" width=\"295\"/>\n",
       " </a>\n",
       " <div class=\"graph_info\">\n",
       " <span class=\"time\">2020.06.10 11:42</span>\n",
       " <span class=\"source\">신한은행 기준</span>\n",
       " \t\t\t\t\t\t\t(<span class=\"num\">93</span>회차)\t\t\t\n",
       " \t\t\t\t\t</div>\n",
       " </li>]"
      ]
     },
     "execution_count": 130,
     "metadata": {},
     "output_type": "execute_result"
    }
   ],
   "source": [
    "market_data = soup.find(class_='market_data')\n",
    "lis = market_data.find_all('li')\n",
    "lis"
   ]
  },
  {
   "cell_type": "code",
   "execution_count": 131,
   "metadata": {},
   "outputs": [
    {
     "name": "stdout",
     "output_type": "stream",
     "text": [
      "미국 USD \t 1,193.80\n",
      "일본 JPY(100엔) \t 1,108.40\n",
      "유럽연합 EUR \t 1,353.89\n",
      "중국 CNY \t 168.81\n",
      "일본 엔/달러 \t 107.7100\n",
      "달러/유로 \t 1.1353\n",
      "달러/영국파운드 \t 1.2722\n",
      "달러인덱스 \t 96.3200\n",
      "WTI \t 38.94\n",
      "휘발유 \t 1307.71\n",
      "국제 금 \t 1714.7\n",
      "국내 금 \t 65844.86\n"
     ]
    }
   ],
   "source": [
    "for li in lis:\n",
    "    label = li.find(class_='blind')\n",
    "    value = li.find(class_='value')\n",
    "    print(label.get_text(), '\\t', value.get_text())"
   ]
  },
  {
   "cell_type": "code",
   "execution_count": 132,
   "metadata": {},
   "outputs": [],
   "source": [
    "import pandas as pd"
   ]
  },
  {
   "cell_type": "code",
   "execution_count": 133,
   "metadata": {},
   "outputs": [
    {
     "name": "stdout",
     "output_type": "stream",
     "text": [
      "['미국 USD', '일본 JPY(100엔)', '유럽연합 EUR', '중국 CNY', '일본 엔/달러', '달러/유로', '달러/영국파운드', '달러인덱스', 'WTI', '휘발유', '국제 금', '국내 금']\n",
      "['1,193.80', '1,108.40', '1,353.89', '168.81', '107.7100', '1.1353', '1.2722', '96.3200', '38.94', '1307.71', '1714.7', '65844.86']\n"
     ]
    }
   ],
   "source": [
    "labels = []\n",
    "values = []\n",
    "for li in lis:\n",
    "    label = li.find(class_='blind')\n",
    "    value = li.find(class_='value')\n",
    "    labels.append(label.get_text())\n",
    "    values.append(value.get_text())\n",
    "    \n",
    "print(labels)\n",
    "print(values)"
   ]
  },
  {
   "cell_type": "code",
   "execution_count": 134,
   "metadata": {},
   "outputs": [],
   "source": [
    "eco_index = pd.DataFrame({'항목' : labels, '값' : values})"
   ]
  },
  {
   "cell_type": "code",
   "execution_count": 104,
   "metadata": {},
   "outputs": [
    {
     "data": {
      "text/html": [
       "<div>\n",
       "<style scoped>\n",
       "    .dataframe tbody tr th:only-of-type {\n",
       "        vertical-align: middle;\n",
       "    }\n",
       "\n",
       "    .dataframe tbody tr th {\n",
       "        vertical-align: top;\n",
       "    }\n",
       "\n",
       "    .dataframe thead th {\n",
       "        text-align: right;\n",
       "    }\n",
       "</style>\n",
       "<table border=\"1\" class=\"dataframe\">\n",
       "  <thead>\n",
       "    <tr style=\"text-align: right;\">\n",
       "      <th></th>\n",
       "      <th>항목</th>\n",
       "      <th>값</th>\n",
       "    </tr>\n",
       "  </thead>\n",
       "  <tbody>\n",
       "    <tr>\n",
       "      <th>0</th>\n",
       "      <td>미국 USD</td>\n",
       "      <td>1,193.50</td>\n",
       "    </tr>\n",
       "    <tr>\n",
       "      <th>1</th>\n",
       "      <td>일본 JPY(100엔)</td>\n",
       "      <td>1,107.91</td>\n",
       "    </tr>\n",
       "    <tr>\n",
       "      <th>2</th>\n",
       "      <td>유럽연합 EUR</td>\n",
       "      <td>1,353.49</td>\n",
       "    </tr>\n",
       "    <tr>\n",
       "      <th>3</th>\n",
       "      <td>중국 CNY</td>\n",
       "      <td>168.80</td>\n",
       "    </tr>\n",
       "    <tr>\n",
       "      <th>4</th>\n",
       "      <td>일본 엔/달러</td>\n",
       "      <td>107.7100</td>\n",
       "    </tr>\n",
       "    <tr>\n",
       "      <th>5</th>\n",
       "      <td>달러/유로</td>\n",
       "      <td>1.1353</td>\n",
       "    </tr>\n",
       "    <tr>\n",
       "      <th>6</th>\n",
       "      <td>달러/영국파운드</td>\n",
       "      <td>1.2722</td>\n",
       "    </tr>\n",
       "    <tr>\n",
       "      <th>7</th>\n",
       "      <td>달러인덱스</td>\n",
       "      <td>96.3200</td>\n",
       "    </tr>\n",
       "    <tr>\n",
       "      <th>8</th>\n",
       "      <td>WTI</td>\n",
       "      <td>38.94</td>\n",
       "    </tr>\n",
       "    <tr>\n",
       "      <th>9</th>\n",
       "      <td>휘발유</td>\n",
       "      <td>1307.71</td>\n",
       "    </tr>\n",
       "    <tr>\n",
       "      <th>10</th>\n",
       "      <td>국제 금</td>\n",
       "      <td>1714.7</td>\n",
       "    </tr>\n",
       "    <tr>\n",
       "      <th>11</th>\n",
       "      <td>국내 금</td>\n",
       "      <td>65891.55</td>\n",
       "    </tr>\n",
       "  </tbody>\n",
       "</table>\n",
       "</div>"
      ],
      "text/plain": [
       "              항목         값\n",
       "0         미국 USD  1,193.50\n",
       "1   일본 JPY(100엔)  1,107.91\n",
       "2       유럽연합 EUR  1,353.49\n",
       "3         중국 CNY    168.80\n",
       "4        일본 엔/달러  107.7100\n",
       "5          달러/유로    1.1353\n",
       "6       달러/영국파운드    1.2722\n",
       "7          달러인덱스   96.3200\n",
       "8            WTI     38.94\n",
       "9            휘발유   1307.71\n",
       "10          국제 금    1714.7\n",
       "11          국내 금  65891.55"
      ]
     },
     "execution_count": 104,
     "metadata": {},
     "output_type": "execute_result"
    }
   ],
   "source": [
    "eco_index"
   ]
  },
  {
   "cell_type": "code",
   "execution_count": null,
   "metadata": {},
   "outputs": [],
   "source": []
  },
  {
   "cell_type": "code",
   "execution_count": null,
   "metadata": {},
   "outputs": [],
   "source": []
  },
  {
   "cell_type": "code",
   "execution_count": null,
   "metadata": {},
   "outputs": [],
   "source": []
  },
  {
   "cell_type": "code",
   "execution_count": null,
   "metadata": {},
   "outputs": [],
   "source": []
  },
  {
   "cell_type": "code",
   "execution_count": null,
   "metadata": {},
   "outputs": [],
   "source": []
  },
  {
   "cell_type": "code",
   "execution_count": null,
   "metadata": {},
   "outputs": [],
   "source": []
  },
  {
   "cell_type": "code",
   "execution_count": null,
   "metadata": {},
   "outputs": [],
   "source": []
  },
  {
   "cell_type": "code",
   "execution_count": null,
   "metadata": {},
   "outputs": [],
   "source": []
  },
  {
   "cell_type": "code",
   "execution_count": null,
   "metadata": {},
   "outputs": [],
   "source": []
  },
  {
   "cell_type": "code",
   "execution_count": null,
   "metadata": {},
   "outputs": [],
   "source": []
  },
  {
   "cell_type": "code",
   "execution_count": null,
   "metadata": {},
   "outputs": [],
   "source": []
  },
  {
   "cell_type": "code",
   "execution_count": null,
   "metadata": {},
   "outputs": [],
   "source": []
  },
  {
   "cell_type": "code",
   "execution_count": null,
   "metadata": {},
   "outputs": [],
   "source": []
  },
  {
   "cell_type": "code",
   "execution_count": null,
   "metadata": {},
   "outputs": [],
   "source": []
  },
  {
   "cell_type": "code",
   "execution_count": null,
   "metadata": {},
   "outputs": [],
   "source": []
  },
  {
   "cell_type": "code",
   "execution_count": null,
   "metadata": {},
   "outputs": [],
   "source": []
  },
  {
   "cell_type": "code",
   "execution_count": null,
   "metadata": {},
   "outputs": [],
   "source": []
  },
  {
   "cell_type": "code",
   "execution_count": null,
   "metadata": {},
   "outputs": [],
   "source": []
  },
  {
   "cell_type": "code",
   "execution_count": null,
   "metadata": {},
   "outputs": [],
   "source": []
  },
  {
   "cell_type": "code",
   "execution_count": null,
   "metadata": {},
   "outputs": [],
   "source": []
  },
  {
   "cell_type": "code",
   "execution_count": null,
   "metadata": {},
   "outputs": [],
   "source": []
  },
  {
   "cell_type": "code",
   "execution_count": null,
   "metadata": {},
   "outputs": [],
   "source": []
  },
  {
   "cell_type": "code",
   "execution_count": null,
   "metadata": {},
   "outputs": [],
   "source": []
  }
 ],
 "metadata": {
  "kernelspec": {
   "display_name": "Python 3",
   "language": "python",
   "name": "python3"
  },
  "language_info": {
   "codemirror_mode": {
    "name": "ipython",
    "version": 3
   },
   "file_extension": ".py",
   "mimetype": "text/x-python",
   "name": "python",
   "nbconvert_exporter": "python",
   "pygments_lexer": "ipython3",
   "version": "3.7.6"
  }
 },
 "nbformat": 4,
 "nbformat_minor": 4
}
