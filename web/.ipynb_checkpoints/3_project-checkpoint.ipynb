{
 "cells": [
  {
   "cell_type": "markdown",
   "metadata": {},
   "source": [
    "# 시카고 샌드위치 맛집 소개"
   ]
  },
  {
   "cell_type": "markdown",
   "metadata": {},
   "source": [
    "## 1. 시카고 샌드위치 맛집 사이트에 접근하지"
   ]
  },
  {
   "cell_type": "code",
   "execution_count": 134,
   "metadata": {},
   "outputs": [],
   "source": [
    "from bs4 import BeautifulSoup\n",
    "from urllib.request import urlopen"
   ]
  },
  {
   "cell_type": "code",
   "execution_count": 135,
   "metadata": {},
   "outputs": [],
   "source": [
    "url_base = 'http://www.chicagomag.com'\n",
    "url_sub = '/Chicago-Magazine/November-2012/Best-Sandwiches-Chicago/'\n",
    "url = url_base + url_sub\n",
    "\n",
    "html = urlopen(url)\n",
    "soup = BeautifulSoup(html, 'html.parser')"
   ]
  },
  {
   "cell_type": "code",
   "execution_count": 136,
   "metadata": {},
   "outputs": [
    {
     "data": {
      "text/plain": [
       "<div class=\"sammy\" style=\"position: relative;\">\n",
       "<div class=\"sammyRank\">1</div>\n",
       "<div class=\"sammyListing\"><a href=\"/Chicago-Magazine/November-2012/Best-Sandwiches-in-Chicago-Old-Oak-Tap-BLT/\"><b>BLT</b><br>\n",
       "Old Oak Tap<br>\n",
       "<em>Read more</em> </br></br></a></div>\n",
       "</div>"
      ]
     },
     "execution_count": 136,
     "metadata": {},
     "output_type": "execute_result"
    }
   ],
   "source": [
    "rest_list = soup.find_all(class_='sammy')\n",
    "rest_list[0]"
   ]
  },
  {
   "cell_type": "code",
   "execution_count": 137,
   "metadata": {},
   "outputs": [
    {
     "data": {
      "text/plain": [
       "50"
      ]
     },
     "execution_count": 137,
     "metadata": {},
     "output_type": "execute_result"
    }
   ],
   "source": [
    "len(rest_list)"
   ]
  },
  {
   "cell_type": "markdown",
   "metadata": {},
   "source": [
    "## 2. 접근한 웹 페이지에서 원하는 데이터 추출하고 정리하기"
   ]
  },
  {
   "cell_type": "code",
   "execution_count": 138,
   "metadata": {},
   "outputs": [],
   "source": [
    "tmp_one = rest_list[0]"
   ]
  },
  {
   "cell_type": "code",
   "execution_count": 139,
   "metadata": {},
   "outputs": [
    {
     "data": {
      "text/plain": [
       "<div class=\"sammyRank\">1</div>"
      ]
     },
     "execution_count": 139,
     "metadata": {},
     "output_type": "execute_result"
    }
   ],
   "source": [
    "tmp_one.find(class_='sammyRank')"
   ]
  },
  {
   "cell_type": "code",
   "execution_count": 140,
   "metadata": {},
   "outputs": [
    {
     "data": {
      "text/plain": [
       "'1'"
      ]
     },
     "execution_count": 140,
     "metadata": {},
     "output_type": "execute_result"
    }
   ],
   "source": [
    "tmp_one.find(class_='sammyRank').get_text()"
   ]
  },
  {
   "cell_type": "code",
   "execution_count": 141,
   "metadata": {},
   "outputs": [
    {
     "data": {
      "text/plain": [
       "'BLT\\r\\nOld Oak Tap\\nRead more '"
      ]
     },
     "execution_count": 141,
     "metadata": {},
     "output_type": "execute_result"
    }
   ],
   "source": [
    "tmp_one.find(class_='sammyListing').get_text()"
   ]
  },
  {
   "cell_type": "code",
   "execution_count": 142,
   "metadata": {},
   "outputs": [
    {
     "data": {
      "text/plain": [
       "'/Chicago-Magazine/November-2012/Best-Sandwiches-in-Chicago-Old-Oak-Tap-BLT/'"
      ]
     },
     "execution_count": 142,
     "metadata": {},
     "output_type": "execute_result"
    }
   ],
   "source": [
    "tmp_one.find('a')['href']"
   ]
  },
  {
   "cell_type": "code",
   "execution_count": 143,
   "metadata": {},
   "outputs": [
    {
     "data": {
      "text/plain": [
       "['BLT\\r\\nOld Oak Tap\\nRead more ']"
      ]
     },
     "execution_count": 143,
     "metadata": {},
     "output_type": "execute_result"
    }
   ],
   "source": [
    "tmp_str = tmp_one.find(class_='sammyListing').get_text()\n",
    "tmp_str.split('\\r\\n|\\n')"
   ]
  },
  {
   "cell_type": "code",
   "execution_count": 144,
   "metadata": {},
   "outputs": [
    {
     "data": {
      "text/plain": [
       "'BLT'"
      ]
     },
     "execution_count": 144,
     "metadata": {},
     "output_type": "execute_result"
    }
   ],
   "source": [
    "tmp_res = tmp_str.split('\\n')\n",
    "menu = tmp_res[0].replace('\\r', '')\n",
    "menu"
   ]
  },
  {
   "cell_type": "code",
   "execution_count": 145,
   "metadata": {},
   "outputs": [
    {
     "data": {
      "text/plain": [
       "'Old Oak Tap'"
      ]
     },
     "execution_count": 145,
     "metadata": {},
     "output_type": "execute_result"
    }
   ],
   "source": [
    "cafe = tmp_res[1]\n",
    "cafe"
   ]
  },
  {
   "cell_type": "code",
   "execution_count": 146,
   "metadata": {},
   "outputs": [],
   "source": [
    "import re"
   ]
  },
  {
   "cell_type": "code",
   "execution_count": 147,
   "metadata": {},
   "outputs": [
    {
     "data": {
      "text/plain": [
       "['BLT', 'Old Oak Tap', 'Read more ']"
      ]
     },
     "execution_count": 147,
     "metadata": {},
     "output_type": "execute_result"
    }
   ],
   "source": [
    "re.split(('\\n|\\r\\n'), tmp_str)"
   ]
  },
  {
   "cell_type": "code",
   "execution_count": 148,
   "metadata": {},
   "outputs": [
    {
     "name": "stdout",
     "output_type": "stream",
     "text": [
      "BLT Old Oak Tap\n"
     ]
    }
   ],
   "source": [
    "print(re.split(('\\n|\\r\\n'), tmp_str)[0], re.split(('\\n|\\r\\n'), tmp_str)[1])"
   ]
  },
  {
   "cell_type": "code",
   "execution_count": 149,
   "metadata": {},
   "outputs": [
    {
     "name": "stdout",
     "output_type": "stream",
     "text": [
      "BLT\n",
      "Old Oak Tap\n"
     ]
    }
   ],
   "source": [
    "print(re.split(('\\n|\\r\\n'), tmp_str)[0])\n",
    "print(re.split(('\\n|\\r\\n'), tmp_str)[1])"
   ]
  },
  {
   "cell_type": "markdown",
   "metadata": {},
   "source": [
    "## 데이터 프레임 만들기 전에 항목 데이터 구하기"
   ]
  },
  {
   "cell_type": "code",
   "execution_count": 150,
   "metadata": {},
   "outputs": [],
   "source": [
    "from urllib.parse import urljoin"
   ]
  },
  {
   "cell_type": "code",
   "execution_count": 151,
   "metadata": {},
   "outputs": [],
   "source": [
    "rank=[]\n",
    "main_menu=[]\n",
    "cafe_name=[]\n",
    "url_add=[]\n",
    "\n",
    "for rest in rest_list:\n",
    "    rank.append(int(rest.find(class_='sammyRank').get_text()))\n",
    "    tmp_str = rest.find(class_='sammyListing').get_text()\n",
    "    main_menu.append(re.split(('\\n|\\r\\n'), tmp_str)[0])\n",
    "    cafe_name.append(re.split(('\\n|\\r\\n'), tmp_str)[1])\n",
    "    url_add.append(urljoin(url_base, rest.find('a')['href']))"
   ]
  },
  {
   "cell_type": "code",
   "execution_count": 152,
   "metadata": {},
   "outputs": [
    {
     "data": {
      "text/plain": [
       "['BLT', 'Fried Bologna', 'Woodland Mushroom', 'Roast Beef', 'PB&L']"
      ]
     },
     "execution_count": 152,
     "metadata": {},
     "output_type": "execute_result"
    }
   ],
   "source": [
    "main_menu[:5]"
   ]
  },
  {
   "cell_type": "code",
   "execution_count": 153,
   "metadata": {},
   "outputs": [
    {
     "data": {
      "text/plain": [
       "['Old Oak Tap', 'Au Cheval', 'Xoco', 'Al’s Deli', 'Publican Quality Meats']"
      ]
     },
     "execution_count": 153,
     "metadata": {},
     "output_type": "execute_result"
    }
   ],
   "source": [
    "cafe_name[:5]"
   ]
  },
  {
   "cell_type": "code",
   "execution_count": 154,
   "metadata": {},
   "outputs": [
    {
     "data": {
      "text/plain": [
       "[1, 2, 3, 4, 5]"
      ]
     },
     "execution_count": 154,
     "metadata": {},
     "output_type": "execute_result"
    }
   ],
   "source": [
    "rank[:5]"
   ]
  },
  {
   "cell_type": "code",
   "execution_count": 155,
   "metadata": {},
   "outputs": [
    {
     "data": {
      "text/plain": [
       "['http://www.chicagomag.com/Chicago-Magazine/November-2012/Best-Sandwiches-in-Chicago-Chickpea-Kufta/',\n",
       " 'http://www.chicagomag.com/Chicago-Magazine/November-2012/Best-Sandwiches-in-Chicago-The-Goddess-and-Grocer-Debbies-Egg-Salad/',\n",
       " 'http://www.chicagomag.com/Chicago-Magazine/November-2012/Best-Sandwiches-in-Chicago-Zenwich-Beef-Curry/',\n",
       " 'http://www.chicagomag.com/Chicago-Magazine/November-2012/Best-Sandwiches-in-Chicago-Toni-Patisserie-Le-Vegetarien/',\n",
       " 'http://www.chicagomag.com/Chicago-Magazine/November-2012/Best-Sandwiches-in-Chicago-Phoebes-Bakery-The-Gatsby/']"
      ]
     },
     "execution_count": 155,
     "metadata": {},
     "output_type": "execute_result"
    }
   ],
   "source": [
    "url_add[-5:]"
   ]
  },
  {
   "cell_type": "markdown",
   "metadata": {},
   "source": [
    "# 데이터 프레임으로 만들기"
   ]
  },
  {
   "cell_type": "code",
   "execution_count": 156,
   "metadata": {},
   "outputs": [
    {
     "data": {
      "text/html": [
       "<div>\n",
       "<style scoped>\n",
       "    .dataframe tbody tr th:only-of-type {\n",
       "        vertical-align: middle;\n",
       "    }\n",
       "\n",
       "    .dataframe tbody tr th {\n",
       "        vertical-align: top;\n",
       "    }\n",
       "\n",
       "    .dataframe thead th {\n",
       "        text-align: right;\n",
       "    }\n",
       "</style>\n",
       "<table border=\"1\" class=\"dataframe\">\n",
       "  <thead>\n",
       "    <tr style=\"text-align: right;\">\n",
       "      <th></th>\n",
       "      <th>rank</th>\n",
       "      <th>cafe</th>\n",
       "      <th>menu</th>\n",
       "      <th>url</th>\n",
       "    </tr>\n",
       "  </thead>\n",
       "  <tbody>\n",
       "    <tr>\n",
       "      <th>0</th>\n",
       "      <td>1</td>\n",
       "      <td>BLT</td>\n",
       "      <td>Old Oak Tap</td>\n",
       "      <td>http://www.chicagomag.com/Chicago-Magazine/Nov...</td>\n",
       "    </tr>\n",
       "    <tr>\n",
       "      <th>1</th>\n",
       "      <td>2</td>\n",
       "      <td>Fried Bologna</td>\n",
       "      <td>Au Cheval</td>\n",
       "      <td>http://www.chicagomag.com/Chicago-Magazine/Nov...</td>\n",
       "    </tr>\n",
       "    <tr>\n",
       "      <th>2</th>\n",
       "      <td>3</td>\n",
       "      <td>Woodland Mushroom</td>\n",
       "      <td>Xoco</td>\n",
       "      <td>http://www.chicagomag.com/Chicago-Magazine/Nov...</td>\n",
       "    </tr>\n",
       "    <tr>\n",
       "      <th>3</th>\n",
       "      <td>4</td>\n",
       "      <td>Roast Beef</td>\n",
       "      <td>Al’s Deli</td>\n",
       "      <td>http://www.chicagomag.com/Chicago-Magazine/Nov...</td>\n",
       "    </tr>\n",
       "    <tr>\n",
       "      <th>4</th>\n",
       "      <td>5</td>\n",
       "      <td>PB&amp;L</td>\n",
       "      <td>Publican Quality Meats</td>\n",
       "      <td>http://www.chicagomag.com/Chicago-Magazine/Nov...</td>\n",
       "    </tr>\n",
       "  </tbody>\n",
       "</table>\n",
       "</div>"
      ],
      "text/plain": [
       "   rank               cafe                    menu  \\\n",
       "0     1                BLT             Old Oak Tap   \n",
       "1     2      Fried Bologna               Au Cheval   \n",
       "2     3  Woodland Mushroom                    Xoco   \n",
       "3     4         Roast Beef               Al’s Deli   \n",
       "4     5               PB&L  Publican Quality Meats   \n",
       "\n",
       "                                                 url  \n",
       "0  http://www.chicagomag.com/Chicago-Magazine/Nov...  \n",
       "1  http://www.chicagomag.com/Chicago-Magazine/Nov...  \n",
       "2  http://www.chicagomag.com/Chicago-Magazine/Nov...  \n",
       "3  http://www.chicagomag.com/Chicago-Magazine/Nov...  \n",
       "4  http://www.chicagomag.com/Chicago-Magazine/Nov...  "
      ]
     },
     "execution_count": 156,
     "metadata": {},
     "output_type": "execute_result"
    }
   ],
   "source": [
    "import pandas as pd\n",
    "df = pd.DataFrame({'rank' : rank, 'cafe' : main_menu, 'menu' : cafe_name, 'url' : url_add})\n",
    "df.head()"
   ]
  },
  {
   "cell_type": "code",
   "execution_count": 157,
   "metadata": {},
   "outputs": [
    {
     "data": {
      "text/plain": [
       "['http://www.chicagomag.com/Chicago-Magazine/November-2012/Best-Sandwiches-in-Chicago-Old-Oak-Tap-BLT/',\n",
       " 'http://www.chicagomag.com/Chicago-Magazine/November-2012/Best-Sandwiches-in-Chicago-Au-Cheval-Fried-Bologna/',\n",
       " 'http://www.chicagomag.com/Chicago-Magazine/November-2012/Best-Sandwiches-in-Chicago-Xoco-Woodland-Mushroom/',\n",
       " 'http://www.chicagomag.com/Chicago-Magazine/November-2012/Best-Sandwiches-in-Chicago-Als-Deli-Roast-Beef/',\n",
       " 'http://www.chicagomag.com/Chicago-Magazine/November-2012/Best-Sandwiches-in-Chicago-Publican-Quality-Meats-PB-L/',\n",
       " 'http://www.chicagomag.com/Chicago-Magazine/November-2012/Best-Sandwiches-in-Chicago-Hendrickx-Belgian-Bread-Crafter-Belgian-Chicken-Curry-Salad/',\n",
       " 'http://www.chicagomag.com/Chicago-Magazine/November-2012/Best-Sandwiches-in-Chicago-Acadia-Lobster-Roll/',\n",
       " 'http://www.chicagomag.com/Chicago-Magazine/November-2012/Best-Sandwiches-in-Chicago-Birchwood-Kitchen-Smoked-Salmon-Salad/',\n",
       " 'http://www.chicagomag.com/Chicago-Magazine/November-2012/Best-Sandwiches-in-Chicago-Cemitas-Puebla-Atomica-Cemitas/',\n",
       " 'http://www.chicagomag.com/Chicago-Magazine/November-2012/Best-Sandwiches-in-Chicago-Nana-Grilled-Laughing-Bird-Shrimp-and-Fried-Oyster-Po-Boy/',\n",
       " 'http://www.chicagomag.com/Chicago-Magazine/November-2012/Best-Sandwiches-in-Chicago-Lula-Cafe-Ham-and-Raclette-Panino/',\n",
       " 'http://www.chicagomag.com/Chicago-Magazine/November-2012/Best-Sandwiches-in-Chicago-Ricobenes-Breaded-Steak/',\n",
       " 'http://www.chicagomag.com/Chicago-Magazine/November-2012/Best-Sandwiches-in-Chicago-Frog-n-Snail-The-Hawkeye/',\n",
       " 'http://www.chicagomag.com/Chicago-Magazine/November-2012/Best-Sandwiches-in-Chicago-Crosbys-Kitchen-Chicken-Dip/',\n",
       " 'http://www.chicagomag.com/Chicago-Magazine/November-2012/Best-Sandwiches-in-Chicago-Longman-and-Eagle-Wild-Boar-Sloppy-Joe/',\n",
       " 'http://www.chicagomag.com/Chicago-Magazine/November-2012/Best-Sandwiches-in-Chicago-Bari-Meatball-Sub/',\n",
       " 'http://www.chicagomag.com/Chicago-Magazine/November-2012/Best-Sandwiches-in-Chicago-Mannys-Corned-Beef/',\n",
       " 'http://www.chicagomag.com/Chicago-Magazine/November-2012/Best-Sandwiches-in-Chicago-Eggys-Turkey-Club/',\n",
       " 'http://www.chicagomag.com/Chicago-Magazine/November-2012/Best-Sandwiches-in-Chicago-Old-Jerusalem-Falafel/',\n",
       " 'http://www.chicagomag.com/Chicago-Magazine/November-2012/Best-Sandwiches-in-Chicago-Mindys-HotChocolate-Crab-Cake/',\n",
       " 'http://www.chicagomag.com/Chicago-Magazine/November-2012/Best-Sandwiches-in-Chicago-Olgas-Delicatessen-Chicken-Schnitzel/',\n",
       " 'http://www.chicagomag.com/Chicago-Magazine/November-2012/Best-Sandwiches-in-Chicago-Dawali-Mediterranean-Kitchen-Shawarma/',\n",
       " 'http://www.chicagomag.com/Chicago-Magazine/November-2012/Best-Sandwiches-in-Chicago-Big-Jones-Toasted-Pimiento-Cheese/',\n",
       " 'http://www.chicagomag.com/Chicago-Magazine/November-2012/Best-Sandwiches-in-Chicago-La-Pane-Vegetarian-Panino/',\n",
       " 'http://www.chicagomag.com/Chicago-Magazine/November-2012/Best-Sandwiches-in-Chicago-Pastoral-Cali-Chevre/',\n",
       " 'http://www.chicagomag.com/Chicago-Magazine/November-2012/Best-Sandwiches-in-Chicago-Maxs-Deli-Pastrami/',\n",
       " 'http://www.chicagomag.com/Chicago-Magazine/November-2012/Best-Sandwiches-in-Chicago-Luckys-Sandwich-Co-The-Fredo/',\n",
       " 'http://www.chicagomag.com/Chicago-Magazine/November-2012/Best-Sandwiches-in-Chicago-City-Provisions-Smoked-Ham/',\n",
       " 'http://www.chicagomag.com/Chicago-Magazine/November-2012/Best-Sandwiches-in-Chicago-Papas-Cache-Sabroso-Jibarito/',\n",
       " 'http://www.chicagomag.com/Chicago-Magazine/November-2012/Best-Sandwiches-in-Chicago-Bavettes-Bar-and-Boeuf-Shaved-Prime-Rib/',\n",
       " 'http://www.chicagomag.com/Chicago-Magazine/November-2012/Best-Sandwiches-in-Chicago-Hannahs-Bretzel-Serrano-Ham-and-Manchego-Cheese/',\n",
       " 'http://www.chicagomag.com/Chicago-Magazine/November-2012/Best-Sandwiches-in-Chicago-La-Fournette-Tuna-Salad/',\n",
       " 'http://www.chicagomag.com/Chicago-Magazine/November-2012/Best-Sandwiches-in-Chicago-Paramount-Room-Paramount-Reuben/',\n",
       " 'http://www.chicagomag.com/Chicago-Magazine/November-2012/Best-Sandwiches-in-Chicago-Melt-Sandwich-Shoppe-The-Istanbul/',\n",
       " 'http://www.chicagomag.com/Chicago-Magazine/November-2012/Best-Sandwiches-in-Chicago-Floriole-Cafe-and-Bakery-BAD/',\n",
       " 'http://www.chicagomag.com/Chicago-Magazine/November-2012/Best-Sandwiches-in-Chicago-First-Slice-Pie-Cafe-Duck-Confit-and-Mozzarella/',\n",
       " 'http://www.chicagomag.com/Chicago-Magazine/November-2012/Best-Sandwiches-in-Chicago-Troquet-Croque-Monsieur/',\n",
       " 'http://www.chicagomag.com/Chicago-Magazine/November-2012/Best-Sandwiches-in-Chicago-Grahamwich-Green-Garbanzo/',\n",
       " 'http://www.chicagomag.com/Chicago-Magazine/November-2012/Best-Sandwiches-in-Chicago-Saigon-Sisters-The-Hen-House/',\n",
       " 'http://www.chicagomag.com/Chicago-Magazine/November-2012/Best-Sandwiches-in-Chicago-Rosalias-Deli-Tuscan-Chicken/',\n",
       " 'http://www.chicagomag.com/Chicago-Magazine/November-2012/Best-Sandwiches-in-Chicago-Z-and-H-MarketCafe-The-Marty/',\n",
       " 'http://www.chicagomag.com/Chicago-Magazine/November-2012/Best-Sandwiches-in-Chicago-Market-House-on-the-Square-Whitefish/',\n",
       " 'http://www.chicagomag.com/Chicago-Magazine/November-2012/Best-Sandwiches-in-Chicago-Elaines-Coffee-Call-Oat-Bread-Pecan-Butter-and-Fruit-Jam/',\n",
       " 'http://www.chicagomag.com/Chicago-Magazine/November-2012/Best-Sandwiches-in-Chicago-Marion-Street-Cheese-Market-Cauliflower-Melt/',\n",
       " 'http://www.chicagomag.com/Chicago-Magazine/November-2012/Best-Sandwiches-in-Chicago-Cafecito-Cubano/',\n",
       " 'http://www.chicagomag.com/Chicago-Magazine/November-2012/Best-Sandwiches-in-Chicago-Chickpea-Kufta/',\n",
       " 'http://www.chicagomag.com/Chicago-Magazine/November-2012/Best-Sandwiches-in-Chicago-The-Goddess-and-Grocer-Debbies-Egg-Salad/',\n",
       " 'http://www.chicagomag.com/Chicago-Magazine/November-2012/Best-Sandwiches-in-Chicago-Zenwich-Beef-Curry/',\n",
       " 'http://www.chicagomag.com/Chicago-Magazine/November-2012/Best-Sandwiches-in-Chicago-Toni-Patisserie-Le-Vegetarien/',\n",
       " 'http://www.chicagomag.com/Chicago-Magazine/November-2012/Best-Sandwiches-in-Chicago-Phoebes-Bakery-The-Gatsby/']"
      ]
     },
     "execution_count": 157,
     "metadata": {},
     "output_type": "execute_result"
    }
   ],
   "source": [
    "url_add"
   ]
  },
  {
   "cell_type": "code",
   "execution_count": 158,
   "metadata": {},
   "outputs": [],
   "source": [
    "from urllib.parse import urljoin"
   ]
  },
  {
   "cell_type": "code",
   "execution_count": 159,
   "metadata": {},
   "outputs": [],
   "source": [
    "df.to_csv('chicago1.csv', sep=',', encoding= 'utf-8')"
   ]
  },
  {
   "cell_type": "markdown",
   "metadata": {},
   "source": [
    "## 3.다수의 웹페이지에 자동으로 접근해서 원하는 정보 가져오기"
   ]
  },
  {
   "cell_type": "code",
   "execution_count": 160,
   "metadata": {},
   "outputs": [
    {
     "data": {
      "text/plain": [
       "0     http://www.chicagomag.com/Chicago-Magazine/Nov...\n",
       "1     http://www.chicagomag.com/Chicago-Magazine/Nov...\n",
       "2     http://www.chicagomag.com/Chicago-Magazine/Nov...\n",
       "3     http://www.chicagomag.com/Chicago-Magazine/Nov...\n",
       "4     http://www.chicagomag.com/Chicago-Magazine/Nov...\n",
       "5     http://www.chicagomag.com/Chicago-Magazine/Nov...\n",
       "6     http://www.chicagomag.com/Chicago-Magazine/Nov...\n",
       "7     http://www.chicagomag.com/Chicago-Magazine/Nov...\n",
       "8     http://www.chicagomag.com/Chicago-Magazine/Nov...\n",
       "9     http://www.chicagomag.com/Chicago-Magazine/Nov...\n",
       "10    http://www.chicagomag.com/Chicago-Magazine/Nov...\n",
       "11    http://www.chicagomag.com/Chicago-Magazine/Nov...\n",
       "12    http://www.chicagomag.com/Chicago-Magazine/Nov...\n",
       "13    http://www.chicagomag.com/Chicago-Magazine/Nov...\n",
       "14    http://www.chicagomag.com/Chicago-Magazine/Nov...\n",
       "15    http://www.chicagomag.com/Chicago-Magazine/Nov...\n",
       "16    http://www.chicagomag.com/Chicago-Magazine/Nov...\n",
       "17    http://www.chicagomag.com/Chicago-Magazine/Nov...\n",
       "18    http://www.chicagomag.com/Chicago-Magazine/Nov...\n",
       "19    http://www.chicagomag.com/Chicago-Magazine/Nov...\n",
       "20    http://www.chicagomag.com/Chicago-Magazine/Nov...\n",
       "21    http://www.chicagomag.com/Chicago-Magazine/Nov...\n",
       "22    http://www.chicagomag.com/Chicago-Magazine/Nov...\n",
       "23    http://www.chicagomag.com/Chicago-Magazine/Nov...\n",
       "24    http://www.chicagomag.com/Chicago-Magazine/Nov...\n",
       "25    http://www.chicagomag.com/Chicago-Magazine/Nov...\n",
       "26    http://www.chicagomag.com/Chicago-Magazine/Nov...\n",
       "27    http://www.chicagomag.com/Chicago-Magazine/Nov...\n",
       "28    http://www.chicagomag.com/Chicago-Magazine/Nov...\n",
       "29    http://www.chicagomag.com/Chicago-Magazine/Nov...\n",
       "30    http://www.chicagomag.com/Chicago-Magazine/Nov...\n",
       "31    http://www.chicagomag.com/Chicago-Magazine/Nov...\n",
       "32    http://www.chicagomag.com/Chicago-Magazine/Nov...\n",
       "33    http://www.chicagomag.com/Chicago-Magazine/Nov...\n",
       "34    http://www.chicagomag.com/Chicago-Magazine/Nov...\n",
       "35    http://www.chicagomag.com/Chicago-Magazine/Nov...\n",
       "36    http://www.chicagomag.com/Chicago-Magazine/Nov...\n",
       "37    http://www.chicagomag.com/Chicago-Magazine/Nov...\n",
       "38    http://www.chicagomag.com/Chicago-Magazine/Nov...\n",
       "39    http://www.chicagomag.com/Chicago-Magazine/Nov...\n",
       "40    http://www.chicagomag.com/Chicago-Magazine/Nov...\n",
       "41    http://www.chicagomag.com/Chicago-Magazine/Nov...\n",
       "42    http://www.chicagomag.com/Chicago-Magazine/Nov...\n",
       "43    http://www.chicagomag.com/Chicago-Magazine/Nov...\n",
       "44    http://www.chicagomag.com/Chicago-Magazine/Nov...\n",
       "45    http://www.chicagomag.com/Chicago-Magazine/Nov...\n",
       "46    http://www.chicagomag.com/Chicago-Magazine/Nov...\n",
       "47    http://www.chicagomag.com/Chicago-Magazine/Nov...\n",
       "48    http://www.chicagomag.com/Chicago-Magazine/Nov...\n",
       "49    http://www.chicagomag.com/Chicago-Magazine/Nov...\n",
       "Name: url, dtype: object"
      ]
     },
     "execution_count": 160,
     "metadata": {},
     "output_type": "execute_result"
    }
   ],
   "source": [
    "df['url']"
   ]
  },
  {
   "cell_type": "code",
   "execution_count": 161,
   "metadata": {},
   "outputs": [],
   "source": [
    "html = urlopen(df['url'][0])\n",
    "soup_tmp = BeautifulSoup(html, 'html.parser')"
   ]
  },
  {
   "cell_type": "code",
   "execution_count": 162,
   "metadata": {},
   "outputs": [
    {
     "data": {
      "text/plain": [
       "<p class=\"addy\">\n",
       "<em>$10. 2109 W. Chicago Ave., 773-772-0406, <a href=\"http://www.theoldoaktap.com/\">theoldoaktap.com</a></em></p>"
      ]
     },
     "execution_count": 162,
     "metadata": {},
     "output_type": "execute_result"
    }
   ],
   "source": [
    "soup_tmp.find(class_='addy')"
   ]
  },
  {
   "cell_type": "code",
   "execution_count": 163,
   "metadata": {},
   "outputs": [
    {
     "data": {
      "text/plain": [
       "'\\n$10. 2109 W. Chicago Ave., 773-772-0406, theoldoaktap.com'"
      ]
     },
     "execution_count": 163,
     "metadata": {},
     "output_type": "execute_result"
    }
   ],
   "source": [
    "tmp_str = soup_tmp.find(class_='addy').get_text()\n",
    "tmp_str"
   ]
  },
  {
   "cell_type": "code",
   "execution_count": 164,
   "metadata": {},
   "outputs": [
    {
     "data": {
      "text/plain": [
       "['$10.', '2109', 'W.', 'Chicago', 'Ave.,', '773-772-0406,', 'theoldoaktap.com']"
      ]
     },
     "execution_count": 164,
     "metadata": {},
     "output_type": "execute_result"
    }
   ],
   "source": [
    "tmp_str.split()"
   ]
  },
  {
   "cell_type": "code",
   "execution_count": 165,
   "metadata": {},
   "outputs": [
    {
     "data": {
      "text/plain": [
       "'$10'"
      ]
     },
     "execution_count": 165,
     "metadata": {},
     "output_type": "execute_result"
    }
   ],
   "source": [
    "tmp_price = tmp_str.split()[0][:-1]\n",
    "tmp_price"
   ]
  },
  {
   "cell_type": "code",
   "execution_count": 33,
   "metadata": {},
   "outputs": [
    {
     "data": {
      "text/plain": [
       "['2109', 'W.', 'Chicago', 'Ave.,']"
      ]
     },
     "execution_count": 33,
     "metadata": {},
     "output_type": "execute_result"
    }
   ],
   "source": [
    "tmp_str.split()[1:-2]"
   ]
  },
  {
   "cell_type": "code",
   "execution_count": 34,
   "metadata": {},
   "outputs": [
    {
     "data": {
      "text/plain": [
       "'2109 W. Chicago Ave.,'"
      ]
     },
     "execution_count": 34,
     "metadata": {},
     "output_type": "execute_result"
    }
   ],
   "source": [
    "' '.join(tmp_str.split()[1:-2])"
   ]
  },
  {
   "cell_type": "code",
   "execution_count": 35,
   "metadata": {},
   "outputs": [
    {
     "data": {
      "text/plain": [
       "'2109 W. Chicago Ave.'"
      ]
     },
     "execution_count": 35,
     "metadata": {},
     "output_type": "execute_result"
    }
   ],
   "source": [
    "tmp_addr = ' '.join(tmp_str.split()[1:-2])[:-1]\n",
    "tmp_addr "
   ]
  },
  {
   "cell_type": "markdown",
   "metadata": {},
   "source": [
    "### - 상태 진행바 적용"
   ]
  },
  {
   "cell_type": "code",
   "execution_count": 36,
   "metadata": {},
   "outputs": [],
   "source": [
    "from tqdm import tqdm_notebook\n",
    "import time"
   ]
  },
  {
   "cell_type": "code",
   "execution_count": 37,
   "metadata": {},
   "outputs": [
    {
     "name": "stderr",
     "output_type": "stream",
     "text": [
      "C:\\ProgramData\\Anaconda3\\lib\\site-packages\\ipykernel_launcher.py:4: TqdmDeprecationWarning: This function will be removed in tqdm==5.0.0\n",
      "Please use `tqdm.notebook.tqdm` instead of `tqdm.tqdm_notebook`\n",
      "  after removing the cwd from sys.path.\n"
     ]
    },
    {
     "data": {
      "application/vnd.jupyter.widget-view+json": {
       "model_id": "db0903b94b344918a91508241473b69d",
       "version_major": 2,
       "version_minor": 0
      },
      "text/plain": [
       "HBox(children=(FloatProgress(value=0.0, max=50.0), HTML(value='')))"
      ]
     },
     "metadata": {},
     "output_type": "display_data"
    },
    {
     "name": "stdout",
     "output_type": "stream",
     "text": [
      "\n"
     ]
    }
   ],
   "source": [
    "price=[]\n",
    "addr=[]\n",
    "\n",
    "for n in tqdm_notebook(df.index):\n",
    "    html = urlopen(df['url'][n])\n",
    "    soup_tmp = BeautifulSoup(html, 'html.parser')\n",
    "    tmp_str = soup_tmp.find(class_='addy').get_text()\n",
    "\n",
    "    price.append(tmp_str.split()[0][:-1])\n",
    "    addr.append(' '.join(tmp_str.split()[1:-2])[:-1])"
   ]
  },
  {
   "cell_type": "code",
   "execution_count": 38,
   "metadata": {},
   "outputs": [
    {
     "data": {
      "text/plain": [
       "['$10', '$9', '$9.50', '$9.40', '$10', '$7.25', '$16', '$10', '$9', '$17']"
      ]
     },
     "execution_count": 38,
     "metadata": {},
     "output_type": "execute_result"
    }
   ],
   "source": [
    "price[:10]"
   ]
  },
  {
   "cell_type": "code",
   "execution_count": 39,
   "metadata": {},
   "outputs": [
    {
     "data": {
      "text/plain": [
       "['2109 W. Chicago Ave.',\n",
       " '800 W. Randolph St.',\n",
       " '445 N. Clark St.',\n",
       " '914 Noyes St., Evanston',\n",
       " '825 W. Fulton Mkt.']"
      ]
     },
     "execution_count": 39,
     "metadata": {},
     "output_type": "execute_result"
    }
   ],
   "source": [
    "addr[:5]"
   ]
  },
  {
   "cell_type": "code",
   "execution_count": 40,
   "metadata": {},
   "outputs": [
    {
     "data": {
      "text/html": [
       "<div>\n",
       "<style scoped>\n",
       "    .dataframe tbody tr th:only-of-type {\n",
       "        vertical-align: middle;\n",
       "    }\n",
       "\n",
       "    .dataframe tbody tr th {\n",
       "        vertical-align: top;\n",
       "    }\n",
       "\n",
       "    .dataframe thead th {\n",
       "        text-align: right;\n",
       "    }\n",
       "</style>\n",
       "<table border=\"1\" class=\"dataframe\">\n",
       "  <thead>\n",
       "    <tr style=\"text-align: right;\">\n",
       "      <th></th>\n",
       "      <th>rank</th>\n",
       "      <th>cafe</th>\n",
       "      <th>menu</th>\n",
       "      <th>url</th>\n",
       "    </tr>\n",
       "  </thead>\n",
       "  <tbody>\n",
       "    <tr>\n",
       "      <th>0</th>\n",
       "      <td>1</td>\n",
       "      <td>BLT</td>\n",
       "      <td>Old Oak Tap</td>\n",
       "      <td>http://www.chicagomag.com/Chicago-Magazine/Nov...</td>\n",
       "    </tr>\n",
       "    <tr>\n",
       "      <th>1</th>\n",
       "      <td>2</td>\n",
       "      <td>Fried Bologna</td>\n",
       "      <td>Au Cheval</td>\n",
       "      <td>http://www.chicagomag.com/Chicago-Magazine/Nov...</td>\n",
       "    </tr>\n",
       "    <tr>\n",
       "      <th>2</th>\n",
       "      <td>3</td>\n",
       "      <td>Woodland Mushroom</td>\n",
       "      <td>Xoco</td>\n",
       "      <td>http://www.chicagomag.com/Chicago-Magazine/Nov...</td>\n",
       "    </tr>\n",
       "    <tr>\n",
       "      <th>3</th>\n",
       "      <td>4</td>\n",
       "      <td>Roast Beef</td>\n",
       "      <td>Al’s Deli</td>\n",
       "      <td>http://www.chicagomag.com/Chicago-Magazine/Nov...</td>\n",
       "    </tr>\n",
       "    <tr>\n",
       "      <th>4</th>\n",
       "      <td>5</td>\n",
       "      <td>PB&amp;L</td>\n",
       "      <td>Publican Quality Meats</td>\n",
       "      <td>http://www.chicagomag.com/Chicago-Magazine/Nov...</td>\n",
       "    </tr>\n",
       "  </tbody>\n",
       "</table>\n",
       "</div>"
      ],
      "text/plain": [
       "   rank               cafe                    menu  \\\n",
       "0     1                BLT             Old Oak Tap   \n",
       "1     2      Fried Bologna               Au Cheval   \n",
       "2     3  Woodland Mushroom                    Xoco   \n",
       "3     4         Roast Beef               Al’s Deli   \n",
       "4     5               PB&L  Publican Quality Meats   \n",
       "\n",
       "                                                 url  \n",
       "0  http://www.chicagomag.com/Chicago-Magazine/Nov...  \n",
       "1  http://www.chicagomag.com/Chicago-Magazine/Nov...  \n",
       "2  http://www.chicagomag.com/Chicago-Magazine/Nov...  \n",
       "3  http://www.chicagomag.com/Chicago-Magazine/Nov...  \n",
       "4  http://www.chicagomag.com/Chicago-Magazine/Nov...  "
      ]
     },
     "execution_count": 40,
     "metadata": {},
     "output_type": "execute_result"
    }
   ],
   "source": [
    "df.head()"
   ]
  },
  {
   "cell_type": "code",
   "execution_count": 41,
   "metadata": {
    "scrolled": true
   },
   "outputs": [
    {
     "data": {
      "text/html": [
       "<div>\n",
       "<style scoped>\n",
       "    .dataframe tbody tr th:only-of-type {\n",
       "        vertical-align: middle;\n",
       "    }\n",
       "\n",
       "    .dataframe tbody tr th {\n",
       "        vertical-align: top;\n",
       "    }\n",
       "\n",
       "    .dataframe thead th {\n",
       "        text-align: right;\n",
       "    }\n",
       "</style>\n",
       "<table border=\"1\" class=\"dataframe\">\n",
       "  <thead>\n",
       "    <tr style=\"text-align: right;\">\n",
       "      <th></th>\n",
       "      <th>rank</th>\n",
       "      <th>cafe</th>\n",
       "      <th>menu</th>\n",
       "    </tr>\n",
       "  </thead>\n",
       "  <tbody>\n",
       "    <tr>\n",
       "      <th>0</th>\n",
       "      <td>1</td>\n",
       "      <td>BLT</td>\n",
       "      <td>Old Oak Tap</td>\n",
       "    </tr>\n",
       "    <tr>\n",
       "      <th>1</th>\n",
       "      <td>2</td>\n",
       "      <td>Fried Bologna</td>\n",
       "      <td>Au Cheval</td>\n",
       "    </tr>\n",
       "    <tr>\n",
       "      <th>2</th>\n",
       "      <td>3</td>\n",
       "      <td>Woodland Mushroom</td>\n",
       "      <td>Xoco</td>\n",
       "    </tr>\n",
       "    <tr>\n",
       "      <th>3</th>\n",
       "      <td>4</td>\n",
       "      <td>Roast Beef</td>\n",
       "      <td>Al’s Deli</td>\n",
       "    </tr>\n",
       "    <tr>\n",
       "      <th>4</th>\n",
       "      <td>5</td>\n",
       "      <td>PB&amp;L</td>\n",
       "      <td>Publican Quality Meats</td>\n",
       "    </tr>\n",
       "    <tr>\n",
       "      <th>5</th>\n",
       "      <td>6</td>\n",
       "      <td>Belgian Chicken Curry Salad</td>\n",
       "      <td>Hendrickx Belgian Bread Crafter</td>\n",
       "    </tr>\n",
       "    <tr>\n",
       "      <th>6</th>\n",
       "      <td>7</td>\n",
       "      <td>Lobster Roll</td>\n",
       "      <td>Acadia</td>\n",
       "    </tr>\n",
       "    <tr>\n",
       "      <th>7</th>\n",
       "      <td>8</td>\n",
       "      <td>Smoked Salmon Salad</td>\n",
       "      <td>Birchwood Kitchen</td>\n",
       "    </tr>\n",
       "    <tr>\n",
       "      <th>8</th>\n",
       "      <td>9</td>\n",
       "      <td>Atomica Cemitas</td>\n",
       "      <td>Cemitas Puebla</td>\n",
       "    </tr>\n",
       "    <tr>\n",
       "      <th>9</th>\n",
       "      <td>10</td>\n",
       "      <td>Grilled Laughing Bird Shrimp and Fried Po’ Boy</td>\n",
       "      <td>Nana</td>\n",
       "    </tr>\n",
       "    <tr>\n",
       "      <th>10</th>\n",
       "      <td>11</td>\n",
       "      <td>Ham and Raclette Panino</td>\n",
       "      <td>Lula Cafe</td>\n",
       "    </tr>\n",
       "    <tr>\n",
       "      <th>11</th>\n",
       "      <td>12</td>\n",
       "      <td>Breaded Steak</td>\n",
       "      <td>Ricobene’s</td>\n",
       "    </tr>\n",
       "    <tr>\n",
       "      <th>12</th>\n",
       "      <td>13</td>\n",
       "      <td>The Hawkeye</td>\n",
       "      <td>Frog n Snail</td>\n",
       "    </tr>\n",
       "    <tr>\n",
       "      <th>13</th>\n",
       "      <td>14</td>\n",
       "      <td>Chicken Dip</td>\n",
       "      <td>Crosby’s Kitchen</td>\n",
       "    </tr>\n",
       "    <tr>\n",
       "      <th>14</th>\n",
       "      <td>15</td>\n",
       "      <td>Wild Boar Sloppy Joe</td>\n",
       "      <td>Longman &amp; Eagle</td>\n",
       "    </tr>\n",
       "    <tr>\n",
       "      <th>15</th>\n",
       "      <td>16</td>\n",
       "      <td>Meatball Sub</td>\n",
       "      <td>Bari</td>\n",
       "    </tr>\n",
       "    <tr>\n",
       "      <th>16</th>\n",
       "      <td>17</td>\n",
       "      <td>Corned Beef</td>\n",
       "      <td>Manny’s</td>\n",
       "    </tr>\n",
       "    <tr>\n",
       "      <th>17</th>\n",
       "      <td>18</td>\n",
       "      <td>Turkey Club</td>\n",
       "      <td>Eggy’s</td>\n",
       "    </tr>\n",
       "    <tr>\n",
       "      <th>18</th>\n",
       "      <td>19</td>\n",
       "      <td>Falafel</td>\n",
       "      <td>Old Jerusalem</td>\n",
       "    </tr>\n",
       "    <tr>\n",
       "      <th>19</th>\n",
       "      <td>20</td>\n",
       "      <td>Crab Cake</td>\n",
       "      <td>Mindy’s HotChocolate</td>\n",
       "    </tr>\n",
       "    <tr>\n",
       "      <th>20</th>\n",
       "      <td>21</td>\n",
       "      <td>Chicken Schnitzel</td>\n",
       "      <td>Olga’s Delicatessen</td>\n",
       "    </tr>\n",
       "    <tr>\n",
       "      <th>21</th>\n",
       "      <td>22</td>\n",
       "      <td>Shawarma</td>\n",
       "      <td>Dawali Mediterranean Kitchen</td>\n",
       "    </tr>\n",
       "    <tr>\n",
       "      <th>22</th>\n",
       "      <td>23</td>\n",
       "      <td>Toasted Pimiento Cheese</td>\n",
       "      <td>Big Jones</td>\n",
       "    </tr>\n",
       "    <tr>\n",
       "      <th>23</th>\n",
       "      <td>24</td>\n",
       "      <td>Vegetarian Panino</td>\n",
       "      <td>La Pane</td>\n",
       "    </tr>\n",
       "    <tr>\n",
       "      <th>24</th>\n",
       "      <td>25</td>\n",
       "      <td>Cali Chèvre</td>\n",
       "      <td>Pastoral</td>\n",
       "    </tr>\n",
       "    <tr>\n",
       "      <th>25</th>\n",
       "      <td>26</td>\n",
       "      <td>Pastrami</td>\n",
       "      <td>Max’s Deli</td>\n",
       "    </tr>\n",
       "    <tr>\n",
       "      <th>26</th>\n",
       "      <td>27</td>\n",
       "      <td>The Fredo</td>\n",
       "      <td>Lucky’s Sandwich Co.</td>\n",
       "    </tr>\n",
       "    <tr>\n",
       "      <th>27</th>\n",
       "      <td>28</td>\n",
       "      <td>Smoked Ham</td>\n",
       "      <td>City Provisions</td>\n",
       "    </tr>\n",
       "    <tr>\n",
       "      <th>28</th>\n",
       "      <td>29</td>\n",
       "      <td>Jibarito</td>\n",
       "      <td>Papa’s Cache Sabroso</td>\n",
       "    </tr>\n",
       "    <tr>\n",
       "      <th>29</th>\n",
       "      <td>30</td>\n",
       "      <td>Shaved Prime Rib</td>\n",
       "      <td>Bavette’s Bar &amp; Boeuf</td>\n",
       "    </tr>\n",
       "    <tr>\n",
       "      <th>30</th>\n",
       "      <td>31</td>\n",
       "      <td>Serrano Ham and Manchego Cheese</td>\n",
       "      <td>Hannah’s Bretzel</td>\n",
       "    </tr>\n",
       "    <tr>\n",
       "      <th>31</th>\n",
       "      <td>32</td>\n",
       "      <td>Tuna Salad</td>\n",
       "      <td>La Fournette</td>\n",
       "    </tr>\n",
       "    <tr>\n",
       "      <th>32</th>\n",
       "      <td>33</td>\n",
       "      <td>Paramount Reuben</td>\n",
       "      <td>Paramount Room</td>\n",
       "    </tr>\n",
       "    <tr>\n",
       "      <th>33</th>\n",
       "      <td>34</td>\n",
       "      <td>The Istanbul</td>\n",
       "      <td>Melt Sandwich Shoppe</td>\n",
       "    </tr>\n",
       "    <tr>\n",
       "      <th>34</th>\n",
       "      <td>35</td>\n",
       "      <td>B.A.D.</td>\n",
       "      <td>Floriole Cafe &amp; Bakery</td>\n",
       "    </tr>\n",
       "    <tr>\n",
       "      <th>35</th>\n",
       "      <td>36</td>\n",
       "      <td>Duck Confit and Mozzarella</td>\n",
       "      <td>First Slice Pie Café</td>\n",
       "    </tr>\n",
       "    <tr>\n",
       "      <th>36</th>\n",
       "      <td>37</td>\n",
       "      <td>Croque Monsieur</td>\n",
       "      <td>Troquet</td>\n",
       "    </tr>\n",
       "    <tr>\n",
       "      <th>37</th>\n",
       "      <td>38</td>\n",
       "      <td>Green Garbanzo</td>\n",
       "      <td>Grahamwich</td>\n",
       "    </tr>\n",
       "    <tr>\n",
       "      <th>38</th>\n",
       "      <td>39</td>\n",
       "      <td>The Hen House</td>\n",
       "      <td>Saigon Sisters</td>\n",
       "    </tr>\n",
       "    <tr>\n",
       "      <th>39</th>\n",
       "      <td>40</td>\n",
       "      <td>Tuscan Chicken</td>\n",
       "      <td>Rosalia’s Deli</td>\n",
       "    </tr>\n",
       "    <tr>\n",
       "      <th>40</th>\n",
       "      <td>41</td>\n",
       "      <td>The Marty</td>\n",
       "      <td>Z&amp;H MarketCafe</td>\n",
       "    </tr>\n",
       "    <tr>\n",
       "      <th>41</th>\n",
       "      <td>42</td>\n",
       "      <td>Whitefish</td>\n",
       "      <td>Market House on the Square</td>\n",
       "    </tr>\n",
       "    <tr>\n",
       "      <th>42</th>\n",
       "      <td>43</td>\n",
       "      <td>Oat Bread, Pecan Butter, and Fruit Jam</td>\n",
       "      <td>Elaine’s Coffee Call</td>\n",
       "    </tr>\n",
       "    <tr>\n",
       "      <th>43</th>\n",
       "      <td>44</td>\n",
       "      <td>Cauliflower Melt</td>\n",
       "      <td>Marion Street Cheese Market</td>\n",
       "    </tr>\n",
       "    <tr>\n",
       "      <th>44</th>\n",
       "      <td>45</td>\n",
       "      <td>Cubana</td>\n",
       "      <td>Cafecito</td>\n",
       "    </tr>\n",
       "    <tr>\n",
       "      <th>45</th>\n",
       "      <td>46</td>\n",
       "      <td>Kufta</td>\n",
       "      <td>Chickpea</td>\n",
       "    </tr>\n",
       "    <tr>\n",
       "      <th>46</th>\n",
       "      <td>47</td>\n",
       "      <td>Debbie’s Egg Salad</td>\n",
       "      <td>The Goddess and Grocer</td>\n",
       "    </tr>\n",
       "    <tr>\n",
       "      <th>47</th>\n",
       "      <td>48</td>\n",
       "      <td>Beef Curry</td>\n",
       "      <td>Zenwich</td>\n",
       "    </tr>\n",
       "    <tr>\n",
       "      <th>48</th>\n",
       "      <td>49</td>\n",
       "      <td>Le Végétarien</td>\n",
       "      <td>Toni Patisserie</td>\n",
       "    </tr>\n",
       "    <tr>\n",
       "      <th>49</th>\n",
       "      <td>50</td>\n",
       "      <td>The Gatsby</td>\n",
       "      <td>Phoebe’s Bakery</td>\n",
       "    </tr>\n",
       "  </tbody>\n",
       "</table>\n",
       "</div>"
      ],
      "text/plain": [
       "    rank                                            cafe  \\\n",
       "0      1                                             BLT   \n",
       "1      2                                   Fried Bologna   \n",
       "2      3                               Woodland Mushroom   \n",
       "3      4                                      Roast Beef   \n",
       "4      5                                            PB&L   \n",
       "5      6                     Belgian Chicken Curry Salad   \n",
       "6      7                                    Lobster Roll   \n",
       "7      8                             Smoked Salmon Salad   \n",
       "8      9                                 Atomica Cemitas   \n",
       "9     10  Grilled Laughing Bird Shrimp and Fried Po’ Boy   \n",
       "10    11                         Ham and Raclette Panino   \n",
       "11    12                                   Breaded Steak   \n",
       "12    13                                     The Hawkeye   \n",
       "13    14                                     Chicken Dip   \n",
       "14    15                            Wild Boar Sloppy Joe   \n",
       "15    16                                    Meatball Sub   \n",
       "16    17                                     Corned Beef   \n",
       "17    18                                     Turkey Club   \n",
       "18    19                                         Falafel   \n",
       "19    20                                       Crab Cake   \n",
       "20    21                               Chicken Schnitzel   \n",
       "21    22                                        Shawarma   \n",
       "22    23                         Toasted Pimiento Cheese   \n",
       "23    24                               Vegetarian Panino   \n",
       "24    25                                     Cali Chèvre   \n",
       "25    26                                        Pastrami   \n",
       "26    27                                       The Fredo   \n",
       "27    28                                      Smoked Ham   \n",
       "28    29                                        Jibarito   \n",
       "29    30                                Shaved Prime Rib   \n",
       "30    31                 Serrano Ham and Manchego Cheese   \n",
       "31    32                                      Tuna Salad   \n",
       "32    33                                Paramount Reuben   \n",
       "33    34                                    The Istanbul   \n",
       "34    35                                          B.A.D.   \n",
       "35    36                      Duck Confit and Mozzarella   \n",
       "36    37                                 Croque Monsieur   \n",
       "37    38                                  Green Garbanzo   \n",
       "38    39                                   The Hen House   \n",
       "39    40                                  Tuscan Chicken   \n",
       "40    41                                      The Marty    \n",
       "41    42                                       Whitefish   \n",
       "42    43          Oat Bread, Pecan Butter, and Fruit Jam   \n",
       "43    44                                Cauliflower Melt   \n",
       "44    45                                          Cubana   \n",
       "45    46                                           Kufta   \n",
       "46    47                              Debbie’s Egg Salad   \n",
       "47    48                                      Beef Curry   \n",
       "48    49                                   Le Végétarien   \n",
       "49    50                                      The Gatsby   \n",
       "\n",
       "                               menu  \n",
       "0                       Old Oak Tap  \n",
       "1                         Au Cheval  \n",
       "2                              Xoco  \n",
       "3                         Al’s Deli  \n",
       "4            Publican Quality Meats  \n",
       "5   Hendrickx Belgian Bread Crafter  \n",
       "6                            Acadia  \n",
       "7                 Birchwood Kitchen  \n",
       "8                    Cemitas Puebla  \n",
       "9                              Nana  \n",
       "10                        Lula Cafe  \n",
       "11                       Ricobene’s  \n",
       "12                     Frog n Snail  \n",
       "13                 Crosby’s Kitchen  \n",
       "14                  Longman & Eagle  \n",
       "15                             Bari  \n",
       "16                          Manny’s  \n",
       "17                           Eggy’s  \n",
       "18                    Old Jerusalem  \n",
       "19             Mindy’s HotChocolate  \n",
       "20              Olga’s Delicatessen  \n",
       "21     Dawali Mediterranean Kitchen  \n",
       "22                        Big Jones  \n",
       "23                          La Pane  \n",
       "24                         Pastoral  \n",
       "25                       Max’s Deli  \n",
       "26             Lucky’s Sandwich Co.  \n",
       "27                  City Provisions  \n",
       "28             Papa’s Cache Sabroso  \n",
       "29            Bavette’s Bar & Boeuf  \n",
       "30                 Hannah’s Bretzel  \n",
       "31                     La Fournette  \n",
       "32                   Paramount Room  \n",
       "33             Melt Sandwich Shoppe  \n",
       "34           Floriole Cafe & Bakery  \n",
       "35             First Slice Pie Café  \n",
       "36                          Troquet  \n",
       "37                       Grahamwich  \n",
       "38                   Saigon Sisters  \n",
       "39                   Rosalia’s Deli  \n",
       "40                   Z&H MarketCafe  \n",
       "41       Market House on the Square  \n",
       "42             Elaine’s Coffee Call  \n",
       "43      Marion Street Cheese Market  \n",
       "44                         Cafecito  \n",
       "45                         Chickpea  \n",
       "46           The Goddess and Grocer  \n",
       "47                          Zenwich  \n",
       "48                  Toni Patisserie  \n",
       "49                  Phoebe’s Bakery  "
      ]
     },
     "execution_count": 41,
     "metadata": {},
     "output_type": "execute_result"
    }
   ],
   "source": [
    "del df['url']\n",
    "df\n"
   ]
  },
  {
   "cell_type": "code",
   "execution_count": 42,
   "metadata": {
    "scrolled": true
   },
   "outputs": [
    {
     "data": {
      "text/html": [
       "<div>\n",
       "<style scoped>\n",
       "    .dataframe tbody tr th:only-of-type {\n",
       "        vertical-align: middle;\n",
       "    }\n",
       "\n",
       "    .dataframe tbody tr th {\n",
       "        vertical-align: top;\n",
       "    }\n",
       "\n",
       "    .dataframe thead th {\n",
       "        text-align: right;\n",
       "    }\n",
       "</style>\n",
       "<table border=\"1\" class=\"dataframe\">\n",
       "  <thead>\n",
       "    <tr style=\"text-align: right;\">\n",
       "      <th></th>\n",
       "      <th>rank</th>\n",
       "      <th>cafe</th>\n",
       "      <th>menu</th>\n",
       "      <th>price</th>\n",
       "      <th>addr</th>\n",
       "    </tr>\n",
       "  </thead>\n",
       "  <tbody>\n",
       "    <tr>\n",
       "      <th>0</th>\n",
       "      <td>1</td>\n",
       "      <td>BLT</td>\n",
       "      <td>Old Oak Tap</td>\n",
       "      <td>$10</td>\n",
       "      <td>2109 W. Chicago Ave.</td>\n",
       "    </tr>\n",
       "    <tr>\n",
       "      <th>1</th>\n",
       "      <td>2</td>\n",
       "      <td>Fried Bologna</td>\n",
       "      <td>Au Cheval</td>\n",
       "      <td>$9</td>\n",
       "      <td>800 W. Randolph St.</td>\n",
       "    </tr>\n",
       "    <tr>\n",
       "      <th>2</th>\n",
       "      <td>3</td>\n",
       "      <td>Woodland Mushroom</td>\n",
       "      <td>Xoco</td>\n",
       "      <td>$9.50</td>\n",
       "      <td>445 N. Clark St.</td>\n",
       "    </tr>\n",
       "    <tr>\n",
       "      <th>3</th>\n",
       "      <td>4</td>\n",
       "      <td>Roast Beef</td>\n",
       "      <td>Al’s Deli</td>\n",
       "      <td>$9.40</td>\n",
       "      <td>914 Noyes St., Evanston</td>\n",
       "    </tr>\n",
       "    <tr>\n",
       "      <th>4</th>\n",
       "      <td>5</td>\n",
       "      <td>PB&amp;L</td>\n",
       "      <td>Publican Quality Meats</td>\n",
       "      <td>$10</td>\n",
       "      <td>825 W. Fulton Mkt.</td>\n",
       "    </tr>\n",
       "    <tr>\n",
       "      <th>5</th>\n",
       "      <td>6</td>\n",
       "      <td>Belgian Chicken Curry Salad</td>\n",
       "      <td>Hendrickx Belgian Bread Crafter</td>\n",
       "      <td>$7.25</td>\n",
       "      <td>100 E. Walto</td>\n",
       "    </tr>\n",
       "    <tr>\n",
       "      <th>6</th>\n",
       "      <td>7</td>\n",
       "      <td>Lobster Roll</td>\n",
       "      <td>Acadia</td>\n",
       "      <td>$16</td>\n",
       "      <td>1639 S. Wabash Ave.</td>\n",
       "    </tr>\n",
       "    <tr>\n",
       "      <th>7</th>\n",
       "      <td>8</td>\n",
       "      <td>Smoked Salmon Salad</td>\n",
       "      <td>Birchwood Kitchen</td>\n",
       "      <td>$10</td>\n",
       "      <td>2211 W. North Ave.</td>\n",
       "    </tr>\n",
       "    <tr>\n",
       "      <th>8</th>\n",
       "      <td>9</td>\n",
       "      <td>Atomica Cemitas</td>\n",
       "      <td>Cemitas Puebla</td>\n",
       "      <td>$9</td>\n",
       "      <td>3619 W. North Ave.</td>\n",
       "    </tr>\n",
       "    <tr>\n",
       "      <th>9</th>\n",
       "      <td>10</td>\n",
       "      <td>Grilled Laughing Bird Shrimp and Fried Po’ Boy</td>\n",
       "      <td>Nana</td>\n",
       "      <td>$17</td>\n",
       "      <td>3267 S. Halsted St.</td>\n",
       "    </tr>\n",
       "    <tr>\n",
       "      <th>10</th>\n",
       "      <td>11</td>\n",
       "      <td>Ham and Raclette Panino</td>\n",
       "      <td>Lula Cafe</td>\n",
       "      <td>$11</td>\n",
       "      <td>2537 N. Kedzie Blvd.</td>\n",
       "    </tr>\n",
       "    <tr>\n",
       "      <th>11</th>\n",
       "      <td>12</td>\n",
       "      <td>Breaded Steak</td>\n",
       "      <td>Ricobene’s</td>\n",
       "      <td>$5.49</td>\n",
       "      <td>Multipl</td>\n",
       "    </tr>\n",
       "    <tr>\n",
       "      <th>12</th>\n",
       "      <td>13</td>\n",
       "      <td>The Hawkeye</td>\n",
       "      <td>Frog n Snail</td>\n",
       "      <td>$14</td>\n",
       "      <td>3124 N. Broadway</td>\n",
       "    </tr>\n",
       "    <tr>\n",
       "      <th>13</th>\n",
       "      <td>14</td>\n",
       "      <td>Chicken Dip</td>\n",
       "      <td>Crosby’s Kitchen</td>\n",
       "      <td>$10</td>\n",
       "      <td>3455 N. Southport Ave.</td>\n",
       "    </tr>\n",
       "    <tr>\n",
       "      <th>14</th>\n",
       "      <td>15</td>\n",
       "      <td>Wild Boar Sloppy Joe</td>\n",
       "      <td>Longman &amp; Eagle</td>\n",
       "      <td>$13</td>\n",
       "      <td>2657 N. Kedzie Ave.</td>\n",
       "    </tr>\n",
       "    <tr>\n",
       "      <th>15</th>\n",
       "      <td>16</td>\n",
       "      <td>Meatball Sub</td>\n",
       "      <td>Bari</td>\n",
       "      <td>$4.50</td>\n",
       "      <td>1120 W. Grand Ave.</td>\n",
       "    </tr>\n",
       "    <tr>\n",
       "      <th>16</th>\n",
       "      <td>17</td>\n",
       "      <td>Corned Beef</td>\n",
       "      <td>Manny’s</td>\n",
       "      <td>$11.95</td>\n",
       "      <td>1141 S. Jefferson St.</td>\n",
       "    </tr>\n",
       "    <tr>\n",
       "      <th>17</th>\n",
       "      <td>18</td>\n",
       "      <td>Turkey Club</td>\n",
       "      <td>Eggy’s</td>\n",
       "      <td>$11.50</td>\n",
       "      <td>333 E. Benton Pl.</td>\n",
       "    </tr>\n",
       "    <tr>\n",
       "      <th>18</th>\n",
       "      <td>19</td>\n",
       "      <td>Falafel</td>\n",
       "      <td>Old Jerusalem</td>\n",
       "      <td>$6.25</td>\n",
       "      <td>1411 N. Wells St.</td>\n",
       "    </tr>\n",
       "    <tr>\n",
       "      <th>19</th>\n",
       "      <td>20</td>\n",
       "      <td>Crab Cake</td>\n",
       "      <td>Mindy’s HotChocolate</td>\n",
       "      <td>$15</td>\n",
       "      <td>1747 N. Damen Ave.</td>\n",
       "    </tr>\n",
       "    <tr>\n",
       "      <th>20</th>\n",
       "      <td>21</td>\n",
       "      <td>Chicken Schnitzel</td>\n",
       "      <td>Olga’s Delicatessen</td>\n",
       "      <td>$5</td>\n",
       "      <td>3209 W. Irving Par</td>\n",
       "    </tr>\n",
       "    <tr>\n",
       "      <th>21</th>\n",
       "      <td>22</td>\n",
       "      <td>Shawarma</td>\n",
       "      <td>Dawali Mediterranean Kitchen</td>\n",
       "      <td>$6</td>\n",
       "      <td>Multipl</td>\n",
       "    </tr>\n",
       "    <tr>\n",
       "      <th>22</th>\n",
       "      <td>23</td>\n",
       "      <td>Toasted Pimiento Cheese</td>\n",
       "      <td>Big Jones</td>\n",
       "      <td>$8</td>\n",
       "      <td>5347 N. Clark St.</td>\n",
       "    </tr>\n",
       "    <tr>\n",
       "      <th>23</th>\n",
       "      <td>24</td>\n",
       "      <td>Vegetarian Panino</td>\n",
       "      <td>La Pane</td>\n",
       "      <td>$5.99</td>\n",
       "      <td>2954 W. Irving Park Rd.</td>\n",
       "    </tr>\n",
       "    <tr>\n",
       "      <th>24</th>\n",
       "      <td>25</td>\n",
       "      <td>Cali Chèvre</td>\n",
       "      <td>Pastoral</td>\n",
       "      <td>$7.52</td>\n",
       "      <td>Multipl</td>\n",
       "    </tr>\n",
       "    <tr>\n",
       "      <th>25</th>\n",
       "      <td>26</td>\n",
       "      <td>Pastrami</td>\n",
       "      <td>Max’s Deli</td>\n",
       "      <td>$11.95</td>\n",
       "      <td>191 Skokie Valley Rd., Highland Park</td>\n",
       "    </tr>\n",
       "    <tr>\n",
       "      <th>26</th>\n",
       "      <td>27</td>\n",
       "      <td>The Fredo</td>\n",
       "      <td>Lucky’s Sandwich Co.</td>\n",
       "      <td>$7.50</td>\n",
       "      <td>Multipl</td>\n",
       "    </tr>\n",
       "    <tr>\n",
       "      <th>27</th>\n",
       "      <td>28</td>\n",
       "      <td>Smoked Ham</td>\n",
       "      <td>City Provisions</td>\n",
       "      <td>$12.95</td>\n",
       "      <td>1818 W. Wilson Ave.</td>\n",
       "    </tr>\n",
       "    <tr>\n",
       "      <th>28</th>\n",
       "      <td>29</td>\n",
       "      <td>Jibarito</td>\n",
       "      <td>Papa’s Cache Sabroso</td>\n",
       "      <td>$7</td>\n",
       "      <td>2517 W. Division St.</td>\n",
       "    </tr>\n",
       "    <tr>\n",
       "      <th>29</th>\n",
       "      <td>30</td>\n",
       "      <td>Shaved Prime Rib</td>\n",
       "      <td>Bavette’s Bar &amp; Boeuf</td>\n",
       "      <td>$21</td>\n",
       "      <td>218 W. Kinzi</td>\n",
       "    </tr>\n",
       "    <tr>\n",
       "      <th>30</th>\n",
       "      <td>31</td>\n",
       "      <td>Serrano Ham and Manchego Cheese</td>\n",
       "      <td>Hannah’s Bretzel</td>\n",
       "      <td>$9.79</td>\n",
       "      <td>Multipl</td>\n",
       "    </tr>\n",
       "    <tr>\n",
       "      <th>31</th>\n",
       "      <td>32</td>\n",
       "      <td>Tuna Salad</td>\n",
       "      <td>La Fournette</td>\n",
       "      <td>$9.75</td>\n",
       "      <td>1547 N. Wells St.</td>\n",
       "    </tr>\n",
       "    <tr>\n",
       "      <th>32</th>\n",
       "      <td>33</td>\n",
       "      <td>Paramount Reuben</td>\n",
       "      <td>Paramount Room</td>\n",
       "      <td>$13</td>\n",
       "      <td>415 N. Milwaukee Ave.</td>\n",
       "    </tr>\n",
       "    <tr>\n",
       "      <th>33</th>\n",
       "      <td>34</td>\n",
       "      <td>The Istanbul</td>\n",
       "      <td>Melt Sandwich Shoppe</td>\n",
       "      <td>$7.95</td>\n",
       "      <td>1840 N. Damen Ave.</td>\n",
       "    </tr>\n",
       "    <tr>\n",
       "      <th>34</th>\n",
       "      <td>35</td>\n",
       "      <td>B.A.D.</td>\n",
       "      <td>Floriole Cafe &amp; Bakery</td>\n",
       "      <td>$9</td>\n",
       "      <td>1220 W. Webster Ave.</td>\n",
       "    </tr>\n",
       "    <tr>\n",
       "      <th>35</th>\n",
       "      <td>36</td>\n",
       "      <td>Duck Confit and Mozzarella</td>\n",
       "      <td>First Slice Pie Café</td>\n",
       "      <td>$9</td>\n",
       "      <td>5357 N. Ashland Ave.</td>\n",
       "    </tr>\n",
       "    <tr>\n",
       "      <th>36</th>\n",
       "      <td>37</td>\n",
       "      <td>Croque Monsieur</td>\n",
       "      <td>Troquet</td>\n",
       "      <td>$8</td>\n",
       "      <td>1834 W. Montrose Ave.</td>\n",
       "    </tr>\n",
       "    <tr>\n",
       "      <th>37</th>\n",
       "      <td>38</td>\n",
       "      <td>Green Garbanzo</td>\n",
       "      <td>Grahamwich</td>\n",
       "      <td>$8</td>\n",
       "      <td>615 N. State St.</td>\n",
       "    </tr>\n",
       "    <tr>\n",
       "      <th>38</th>\n",
       "      <td>39</td>\n",
       "      <td>The Hen House</td>\n",
       "      <td>Saigon Sisters</td>\n",
       "      <td>$7</td>\n",
       "      <td>Multipl</td>\n",
       "    </tr>\n",
       "    <tr>\n",
       "      <th>39</th>\n",
       "      <td>40</td>\n",
       "      <td>Tuscan Chicken</td>\n",
       "      <td>Rosalia’s Deli</td>\n",
       "      <td>$6</td>\n",
       "      <td>241 N. York Rd., Elmhurst</td>\n",
       "    </tr>\n",
       "    <tr>\n",
       "      <th>40</th>\n",
       "      <td>41</td>\n",
       "      <td>The Marty</td>\n",
       "      <td>Z&amp;H MarketCafe</td>\n",
       "      <td>$7.25</td>\n",
       "      <td>1323 E. 57th St.</td>\n",
       "    </tr>\n",
       "    <tr>\n",
       "      <th>41</th>\n",
       "      <td>42</td>\n",
       "      <td>Whitefish</td>\n",
       "      <td>Market House on the Square</td>\n",
       "      <td>$11</td>\n",
       "      <td>655 Forest Ave., Lake Forest</td>\n",
       "    </tr>\n",
       "    <tr>\n",
       "      <th>42</th>\n",
       "      <td>43</td>\n",
       "      <td>Oat Bread, Pecan Butter, and Fruit Jam</td>\n",
       "      <td>Elaine’s Coffee Call</td>\n",
       "      <td>$6</td>\n",
       "      <td>Hotel Lincoln, 1816 N. Clark St.</td>\n",
       "    </tr>\n",
       "    <tr>\n",
       "      <th>43</th>\n",
       "      <td>44</td>\n",
       "      <td>Cauliflower Melt</td>\n",
       "      <td>Marion Street Cheese Market</td>\n",
       "      <td>$9</td>\n",
       "      <td>100 S. Marion St., Oak Park</td>\n",
       "    </tr>\n",
       "    <tr>\n",
       "      <th>44</th>\n",
       "      <td>45</td>\n",
       "      <td>Cubana</td>\n",
       "      <td>Cafecito</td>\n",
       "      <td>$5.49</td>\n",
       "      <td>26 E. Congress Pkwy.</td>\n",
       "    </tr>\n",
       "    <tr>\n",
       "      <th>45</th>\n",
       "      <td>46</td>\n",
       "      <td>Kufta</td>\n",
       "      <td>Chickpea</td>\n",
       "      <td>$8</td>\n",
       "      <td>2018 W. Chicago Ave.</td>\n",
       "    </tr>\n",
       "    <tr>\n",
       "      <th>46</th>\n",
       "      <td>47</td>\n",
       "      <td>Debbie’s Egg Salad</td>\n",
       "      <td>The Goddess and Grocer</td>\n",
       "      <td>$6.50</td>\n",
       "      <td>25 E. Delaware Pl.</td>\n",
       "    </tr>\n",
       "    <tr>\n",
       "      <th>47</th>\n",
       "      <td>48</td>\n",
       "      <td>Beef Curry</td>\n",
       "      <td>Zenwich</td>\n",
       "      <td>$7.50</td>\n",
       "      <td>416 N. York St., Elmhurst</td>\n",
       "    </tr>\n",
       "    <tr>\n",
       "      <th>48</th>\n",
       "      <td>49</td>\n",
       "      <td>Le Végétarien</td>\n",
       "      <td>Toni Patisserie</td>\n",
       "      <td>$8.75</td>\n",
       "      <td>65 E. Washington St.</td>\n",
       "    </tr>\n",
       "    <tr>\n",
       "      <th>49</th>\n",
       "      <td>50</td>\n",
       "      <td>The Gatsby</td>\n",
       "      <td>Phoebe’s Bakery</td>\n",
       "      <td>$6.85</td>\n",
       "      <td>3351 N. Broadway</td>\n",
       "    </tr>\n",
       "  </tbody>\n",
       "</table>\n",
       "</div>"
      ],
      "text/plain": [
       "    rank                                            cafe  \\\n",
       "0      1                                             BLT   \n",
       "1      2                                   Fried Bologna   \n",
       "2      3                               Woodland Mushroom   \n",
       "3      4                                      Roast Beef   \n",
       "4      5                                            PB&L   \n",
       "5      6                     Belgian Chicken Curry Salad   \n",
       "6      7                                    Lobster Roll   \n",
       "7      8                             Smoked Salmon Salad   \n",
       "8      9                                 Atomica Cemitas   \n",
       "9     10  Grilled Laughing Bird Shrimp and Fried Po’ Boy   \n",
       "10    11                         Ham and Raclette Panino   \n",
       "11    12                                   Breaded Steak   \n",
       "12    13                                     The Hawkeye   \n",
       "13    14                                     Chicken Dip   \n",
       "14    15                            Wild Boar Sloppy Joe   \n",
       "15    16                                    Meatball Sub   \n",
       "16    17                                     Corned Beef   \n",
       "17    18                                     Turkey Club   \n",
       "18    19                                         Falafel   \n",
       "19    20                                       Crab Cake   \n",
       "20    21                               Chicken Schnitzel   \n",
       "21    22                                        Shawarma   \n",
       "22    23                         Toasted Pimiento Cheese   \n",
       "23    24                               Vegetarian Panino   \n",
       "24    25                                     Cali Chèvre   \n",
       "25    26                                        Pastrami   \n",
       "26    27                                       The Fredo   \n",
       "27    28                                      Smoked Ham   \n",
       "28    29                                        Jibarito   \n",
       "29    30                                Shaved Prime Rib   \n",
       "30    31                 Serrano Ham and Manchego Cheese   \n",
       "31    32                                      Tuna Salad   \n",
       "32    33                                Paramount Reuben   \n",
       "33    34                                    The Istanbul   \n",
       "34    35                                          B.A.D.   \n",
       "35    36                      Duck Confit and Mozzarella   \n",
       "36    37                                 Croque Monsieur   \n",
       "37    38                                  Green Garbanzo   \n",
       "38    39                                   The Hen House   \n",
       "39    40                                  Tuscan Chicken   \n",
       "40    41                                      The Marty    \n",
       "41    42                                       Whitefish   \n",
       "42    43          Oat Bread, Pecan Butter, and Fruit Jam   \n",
       "43    44                                Cauliflower Melt   \n",
       "44    45                                          Cubana   \n",
       "45    46                                           Kufta   \n",
       "46    47                              Debbie’s Egg Salad   \n",
       "47    48                                      Beef Curry   \n",
       "48    49                                   Le Végétarien   \n",
       "49    50                                      The Gatsby   \n",
       "\n",
       "                               menu   price  \\\n",
       "0                       Old Oak Tap     $10   \n",
       "1                         Au Cheval      $9   \n",
       "2                              Xoco   $9.50   \n",
       "3                         Al’s Deli   $9.40   \n",
       "4            Publican Quality Meats     $10   \n",
       "5   Hendrickx Belgian Bread Crafter   $7.25   \n",
       "6                            Acadia     $16   \n",
       "7                 Birchwood Kitchen     $10   \n",
       "8                    Cemitas Puebla      $9   \n",
       "9                              Nana     $17   \n",
       "10                        Lula Cafe     $11   \n",
       "11                       Ricobene’s   $5.49   \n",
       "12                     Frog n Snail     $14   \n",
       "13                 Crosby’s Kitchen     $10   \n",
       "14                  Longman & Eagle     $13   \n",
       "15                             Bari   $4.50   \n",
       "16                          Manny’s  $11.95   \n",
       "17                           Eggy’s  $11.50   \n",
       "18                    Old Jerusalem   $6.25   \n",
       "19             Mindy’s HotChocolate     $15   \n",
       "20              Olga’s Delicatessen      $5   \n",
       "21     Dawali Mediterranean Kitchen      $6   \n",
       "22                        Big Jones      $8   \n",
       "23                          La Pane   $5.99   \n",
       "24                         Pastoral   $7.52   \n",
       "25                       Max’s Deli  $11.95   \n",
       "26             Lucky’s Sandwich Co.   $7.50   \n",
       "27                  City Provisions  $12.95   \n",
       "28             Papa’s Cache Sabroso      $7   \n",
       "29            Bavette’s Bar & Boeuf     $21   \n",
       "30                 Hannah’s Bretzel   $9.79   \n",
       "31                     La Fournette   $9.75   \n",
       "32                   Paramount Room     $13   \n",
       "33             Melt Sandwich Shoppe   $7.95   \n",
       "34           Floriole Cafe & Bakery      $9   \n",
       "35             First Slice Pie Café      $9   \n",
       "36                          Troquet      $8   \n",
       "37                       Grahamwich      $8   \n",
       "38                   Saigon Sisters      $7   \n",
       "39                   Rosalia’s Deli      $6   \n",
       "40                   Z&H MarketCafe   $7.25   \n",
       "41       Market House on the Square     $11   \n",
       "42             Elaine’s Coffee Call      $6   \n",
       "43      Marion Street Cheese Market      $9   \n",
       "44                         Cafecito   $5.49   \n",
       "45                         Chickpea      $8   \n",
       "46           The Goddess and Grocer   $6.50   \n",
       "47                          Zenwich   $7.50   \n",
       "48                  Toni Patisserie   $8.75   \n",
       "49                  Phoebe’s Bakery   $6.85   \n",
       "\n",
       "                                    addr  \n",
       "0                   2109 W. Chicago Ave.  \n",
       "1                    800 W. Randolph St.  \n",
       "2                       445 N. Clark St.  \n",
       "3                914 Noyes St., Evanston  \n",
       "4                     825 W. Fulton Mkt.  \n",
       "5                           100 E. Walto  \n",
       "6                    1639 S. Wabash Ave.  \n",
       "7                     2211 W. North Ave.  \n",
       "8                     3619 W. North Ave.  \n",
       "9                    3267 S. Halsted St.  \n",
       "10                  2537 N. Kedzie Blvd.  \n",
       "11                               Multipl  \n",
       "12                      3124 N. Broadway  \n",
       "13                3455 N. Southport Ave.  \n",
       "14                   2657 N. Kedzie Ave.  \n",
       "15                    1120 W. Grand Ave.  \n",
       "16                 1141 S. Jefferson St.  \n",
       "17                     333 E. Benton Pl.  \n",
       "18                     1411 N. Wells St.  \n",
       "19                    1747 N. Damen Ave.  \n",
       "20                    3209 W. Irving Par  \n",
       "21                               Multipl  \n",
       "22                     5347 N. Clark St.  \n",
       "23               2954 W. Irving Park Rd.  \n",
       "24                               Multipl  \n",
       "25  191 Skokie Valley Rd., Highland Park  \n",
       "26                               Multipl  \n",
       "27                   1818 W. Wilson Ave.  \n",
       "28                  2517 W. Division St.  \n",
       "29                          218 W. Kinzi  \n",
       "30                               Multipl  \n",
       "31                     1547 N. Wells St.  \n",
       "32                 415 N. Milwaukee Ave.  \n",
       "33                    1840 N. Damen Ave.  \n",
       "34                  1220 W. Webster Ave.  \n",
       "35                  5357 N. Ashland Ave.  \n",
       "36                 1834 W. Montrose Ave.  \n",
       "37                      615 N. State St.  \n",
       "38                               Multipl  \n",
       "39             241 N. York Rd., Elmhurst  \n",
       "40                      1323 E. 57th St.  \n",
       "41          655 Forest Ave., Lake Forest  \n",
       "42      Hotel Lincoln, 1816 N. Clark St.  \n",
       "43           100 S. Marion St., Oak Park  \n",
       "44                  26 E. Congress Pkwy.  \n",
       "45                  2018 W. Chicago Ave.  \n",
       "46                    25 E. Delaware Pl.  \n",
       "47             416 N. York St., Elmhurst  \n",
       "48                  65 E. Washington St.  \n",
       "49                      3351 N. Broadway  "
      ]
     },
     "execution_count": 42,
     "metadata": {},
     "output_type": "execute_result"
    }
   ],
   "source": [
    "df['price'] = price\n",
    "df['addr'] = addr\n",
    "df\n",
    "\n"
   ]
  },
  {
   "cell_type": "code",
   "execution_count": 43,
   "metadata": {},
   "outputs": [],
   "source": [
    "df.to_csv('chicago2.csv', sep=',', encoding= 'utf-8')"
   ]
  },
  {
   "cell_type": "code",
   "execution_count": 44,
   "metadata": {},
   "outputs": [
    {
     "data": {
      "text/html": [
       "<div>\n",
       "<style scoped>\n",
       "    .dataframe tbody tr th:only-of-type {\n",
       "        vertical-align: middle;\n",
       "    }\n",
       "\n",
       "    .dataframe tbody tr th {\n",
       "        vertical-align: top;\n",
       "    }\n",
       "\n",
       "    .dataframe thead th {\n",
       "        text-align: right;\n",
       "    }\n",
       "</style>\n",
       "<table border=\"1\" class=\"dataframe\">\n",
       "  <thead>\n",
       "    <tr style=\"text-align: right;\">\n",
       "      <th></th>\n",
       "      <th>cafe</th>\n",
       "      <th>menu</th>\n",
       "      <th>price</th>\n",
       "      <th>addr</th>\n",
       "    </tr>\n",
       "    <tr>\n",
       "      <th>rank</th>\n",
       "      <th></th>\n",
       "      <th></th>\n",
       "      <th></th>\n",
       "      <th></th>\n",
       "    </tr>\n",
       "  </thead>\n",
       "  <tbody>\n",
       "    <tr>\n",
       "      <th>1</th>\n",
       "      <td>BLT</td>\n",
       "      <td>Old Oak Tap</td>\n",
       "      <td>$10</td>\n",
       "      <td>2109 W. Chicago Ave.</td>\n",
       "    </tr>\n",
       "    <tr>\n",
       "      <th>2</th>\n",
       "      <td>Fried Bologna</td>\n",
       "      <td>Au Cheval</td>\n",
       "      <td>$9</td>\n",
       "      <td>800 W. Randolph St.</td>\n",
       "    </tr>\n",
       "    <tr>\n",
       "      <th>3</th>\n",
       "      <td>Woodland Mushroom</td>\n",
       "      <td>Xoco</td>\n",
       "      <td>$9.50</td>\n",
       "      <td>445 N. Clark St.</td>\n",
       "    </tr>\n",
       "    <tr>\n",
       "      <th>4</th>\n",
       "      <td>Roast Beef</td>\n",
       "      <td>Al’s Deli</td>\n",
       "      <td>$9.40</td>\n",
       "      <td>914 Noyes St., Evanston</td>\n",
       "    </tr>\n",
       "    <tr>\n",
       "      <th>5</th>\n",
       "      <td>PB&amp;L</td>\n",
       "      <td>Publican Quality Meats</td>\n",
       "      <td>$10</td>\n",
       "      <td>825 W. Fulton Mkt.</td>\n",
       "    </tr>\n",
       "  </tbody>\n",
       "</table>\n",
       "</div>"
      ],
      "text/plain": [
       "                   cafe                    menu  price  \\\n",
       "rank                                                     \n",
       "1                   BLT             Old Oak Tap    $10   \n",
       "2         Fried Bologna               Au Cheval     $9   \n",
       "3     Woodland Mushroom                    Xoco  $9.50   \n",
       "4            Roast Beef               Al’s Deli  $9.40   \n",
       "5                  PB&L  Publican Quality Meats    $10   \n",
       "\n",
       "                         addr  \n",
       "rank                           \n",
       "1        2109 W. Chicago Ave.  \n",
       "2         800 W. Randolph St.  \n",
       "3            445 N. Clark St.  \n",
       "4     914 Noyes St., Evanston  \n",
       "5          825 W. Fulton Mkt.  "
      ]
     },
     "execution_count": 44,
     "metadata": {},
     "output_type": "execute_result"
    }
   ],
   "source": [
    "df.set_index('rank', inplace=True)\n",
    "df.head()"
   ]
  },
  {
   "cell_type": "code",
   "execution_count": 45,
   "metadata": {},
   "outputs": [],
   "source": [
    "df.to_csv('chicago2.csv', sep=',', encoding= 'utf-8')"
   ]
  },
  {
   "cell_type": "markdown",
   "metadata": {},
   "source": [
    "## 3. 맛집 위치를 지도에 표기하기"
   ]
  },
  {
   "cell_type": "code",
   "execution_count": 111,
   "metadata": {},
   "outputs": [],
   "source": [
    "import numpy as np\n",
    "import folium\n",
    "import googlemaps"
   ]
  },
  {
   "cell_type": "code",
   "execution_count": 112,
   "metadata": {},
   "outputs": [],
   "source": [
    "key_fd = open('dkdld.txt', mode ='r')\n",
    "gmaps_key = key_fd.read(100)\n",
    "key_fd.close()"
   ]
  },
  {
   "cell_type": "code",
   "execution_count": 113,
   "metadata": {},
   "outputs": [],
   "source": [
    "gmaps = googlemaps.Client(key=gmaps_key)"
   ]
  },
  {
   "cell_type": "code",
   "execution_count": 114,
   "metadata": {},
   "outputs": [
    {
     "name": "stdout",
     "output_type": "stream",
     "text": [
      "\n"
     ]
    },
    {
     "name": "stderr",
     "output_type": "stream",
     "text": [
      "C:\\ProgramData\\Anaconda3\\lib\\site-packages\\ipykernel_launcher.py:4: TqdmDeprecationWarning: This function will be removed in tqdm==5.0.0\n",
      "Please use `tqdm.notebook.tqdm` instead of `tqdm.tqdm_notebook`\n",
      "  after removing the cwd from sys.path.\n"
     ]
    },
    {
     "data": {
      "application/vnd.jupyter.widget-view+json": {
       "model_id": "a11291fd59c44ed8b756ab4d8cd4867e",
       "version_major": 2,
       "version_minor": 0
      },
      "text/plain": [
       "HBox(children=(FloatProgress(value=0.0, max=50.0), HTML(value='')))"
      ]
     },
     "metadata": {},
     "output_type": "display_data"
    },
    {
     "name": "stdout",
     "output_type": "stream",
     "text": [
      "\n"
     ]
    }
   ],
   "source": [
    "lat =[]\n",
    "lng=[]\n",
    "\n",
    "for n in tqdm_notebook(df.index):\n",
    "    if df['addr'][n] != 'Multiple':\n",
    "        target_name = df['addr'][n]+', '+'chicago'\n",
    "        gmaps_output = gmaps.geocode(target_name)\n",
    "        location_output = gmaps_output[0].get('geometry')\n",
    "        lat.append(location_output['location']['lat'])\n",
    "        lng.append(location_output['location']['lng'])\n",
    "    else:\n",
    "        lat.append(np.nan)\n",
    "        lng.append(np.nan)"
   ]
  },
  {
   "cell_type": "code",
   "execution_count": 115,
   "metadata": {},
   "outputs": [
    {
     "data": {
      "text/html": [
       "<div>\n",
       "<style scoped>\n",
       "    .dataframe tbody tr th:only-of-type {\n",
       "        vertical-align: middle;\n",
       "    }\n",
       "\n",
       "    .dataframe tbody tr th {\n",
       "        vertical-align: top;\n",
       "    }\n",
       "\n",
       "    .dataframe thead th {\n",
       "        text-align: right;\n",
       "    }\n",
       "</style>\n",
       "<table border=\"1\" class=\"dataframe\">\n",
       "  <thead>\n",
       "    <tr style=\"text-align: right;\">\n",
       "      <th></th>\n",
       "      <th>cafe</th>\n",
       "      <th>menu</th>\n",
       "      <th>price</th>\n",
       "      <th>addr</th>\n",
       "      <th>lat</th>\n",
       "      <th>lng</th>\n",
       "    </tr>\n",
       "    <tr>\n",
       "      <th>rank</th>\n",
       "      <th></th>\n",
       "      <th></th>\n",
       "      <th></th>\n",
       "      <th></th>\n",
       "      <th></th>\n",
       "      <th></th>\n",
       "    </tr>\n",
       "  </thead>\n",
       "  <tbody>\n",
       "    <tr>\n",
       "      <th>1</th>\n",
       "      <td>BLT</td>\n",
       "      <td>Old Oak Tap</td>\n",
       "      <td>$10</td>\n",
       "      <td>2109 W. Chicago Ave.</td>\n",
       "      <td>41.895605</td>\n",
       "      <td>-87.679961</td>\n",
       "    </tr>\n",
       "    <tr>\n",
       "      <th>2</th>\n",
       "      <td>Fried Bologna</td>\n",
       "      <td>Au Cheval</td>\n",
       "      <td>$9</td>\n",
       "      <td>800 W. Randolph St.</td>\n",
       "      <td>41.884658</td>\n",
       "      <td>-87.647667</td>\n",
       "    </tr>\n",
       "    <tr>\n",
       "      <th>3</th>\n",
       "      <td>Woodland Mushroom</td>\n",
       "      <td>Xoco</td>\n",
       "      <td>$9.50</td>\n",
       "      <td>445 N. Clark St.</td>\n",
       "      <td>41.890523</td>\n",
       "      <td>-87.630783</td>\n",
       "    </tr>\n",
       "    <tr>\n",
       "      <th>4</th>\n",
       "      <td>Roast Beef</td>\n",
       "      <td>Al’s Deli</td>\n",
       "      <td>$9.40</td>\n",
       "      <td>914 Noyes St., Evanston</td>\n",
       "      <td>42.058322</td>\n",
       "      <td>-87.683748</td>\n",
       "    </tr>\n",
       "    <tr>\n",
       "      <th>5</th>\n",
       "      <td>PB&amp;L</td>\n",
       "      <td>Publican Quality Meats</td>\n",
       "      <td>$10</td>\n",
       "      <td>825 W. Fulton Mkt.</td>\n",
       "      <td>41.886600</td>\n",
       "      <td>-87.648451</td>\n",
       "    </tr>\n",
       "  </tbody>\n",
       "</table>\n",
       "</div>"
      ],
      "text/plain": [
       "                   cafe                    menu  price  \\\n",
       "rank                                                     \n",
       "1                   BLT             Old Oak Tap    $10   \n",
       "2         Fried Bologna               Au Cheval     $9   \n",
       "3     Woodland Mushroom                    Xoco  $9.50   \n",
       "4            Roast Beef               Al’s Deli  $9.40   \n",
       "5                  PB&L  Publican Quality Meats    $10   \n",
       "\n",
       "                         addr        lat        lng  \n",
       "rank                                                 \n",
       "1        2109 W. Chicago Ave.  41.895605 -87.679961  \n",
       "2         800 W. Randolph St.  41.884658 -87.647667  \n",
       "3            445 N. Clark St.  41.890523 -87.630783  \n",
       "4     914 Noyes St., Evanston  42.058322 -87.683748  \n",
       "5          825 W. Fulton Mkt.  41.886600 -87.648451  "
      ]
     },
     "execution_count": 115,
     "metadata": {},
     "output_type": "execute_result"
    }
   ],
   "source": [
    "df['lat'] = lat\n",
    "df['lng'] = lng\n",
    "df.head()"
   ]
  },
  {
   "cell_type": "code",
   "execution_count": 121,
   "metadata": {},
   "outputs": [
    {
     "data": {
      "text/html": [
       "<div style=\"width:100%;\"><div style=\"position:relative;width:100%;height:0;padding-bottom:60%;\"><span style=\"color:#565656\">Make this Notebook Trusted to load map: File -> Trust Notebook</span><iframe src=\"about:blank\" style=\"position:absolute;width:100%;height:100%;left:0;top:0;border:none !important;\" data-html=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 onload=\"this.contentDocument.open();this.contentDocument.write(atob(this.getAttribute('data-html')));this.contentDocument.close();\" allowfullscreen webkitallowfullscreen mozallowfullscreen></iframe></div></div>"
      ],
      "text/plain": [
       "<folium.folium.Map at 0x1c43cfd1308>"
      ]
     },
     "execution_count": 121,
     "metadata": {},
     "output_type": "execute_result"
    }
   ],
   "source": [
    "mapping = folium.Map(location=[df['lat'].mean(), df['lng'].mean()],\n",
    "                    zoom_start = 11)\n",
    "folium.Marker([df['lat'].mean(), df['lng'].mean()],\n",
    "             popup='center').add_to(mapping)\n",
    "mapping"
   ]
  },
  {
   "cell_type": "code",
   "execution_count": 125,
   "metadata": {},
   "outputs": [
    {
     "data": {
      "text/html": [
       "<div style=\"width:100%;\"><div style=\"position:relative;width:100%;height:0;padding-bottom:60%;\"><span style=\"color:#565656\">Make this Notebook Trusted to load map: File -> Trust Notebook</span><iframe src=\"about:blank\" style=\"position:absolute;width:100%;height:100%;left:0;top:0;border:none !important;\" data-html=PCFET0NUWVBFIGh0bWw+CjxoZWFkPiAgICAKICAgIDxtZXRhIGh0dHAtZXF1aXY9ImNvbnRlbnQtdHlwZSIgY29udGVudD0idGV4dC9odG1sOyBjaGFyc2V0PVVURi04IiAvPgogICAgCiAgICAgICAgPHNjcmlwdD4KICAgICAgICAgICAgTF9OT19UT1VDSCA9IGZhbHNlOwogICAgICAgICAgICBMX0RJU0FCTEVfM0QgPSBmYWxzZTsKICAgICAgICA8L3NjcmlwdD4KICAgIAogICAgPHNjcmlwdCBzcmM9Imh0dHBzOi8vY2RuLmpzZGVsaXZyLm5ldC9ucG0vbGVhZmxldEAxLjYuMC9kaXN0L2xlYWZsZXQuanMiPjwvc2NyaXB0PgogICAgPHNjcmlwdCBzcmM9Imh0dHBzOi8vY29kZS5qcXVlcnkuY29tL2pxdWVyeS0xLjEyLjQubWluLmpzIj48L3NjcmlwdD4KICAgIDxzY3JpcHQgc3JjPSJodHRwczovL21heGNkbi5ib290c3RyYXBjZG4uY29tL2Jvb3RzdHJhcC8zLjIuMC9qcy9ib290c3RyYXAubWluLmpzIj48L3NjcmlwdD4KICAgIDxzY3JpcHQgc3JjPSJodHRwczovL2NkbmpzLmNsb3VkZmxhcmUuY29tL2FqYXgvbGlicy9MZWFmbGV0LmF3ZXNvbWUtbWFya2Vycy8yLjAuMi9sZWFmbGV0LmF3ZXNvbWUtbWFya2Vycy5qcyI+PC9zY3JpcHQ+CiAgICA8bGluayByZWw9InN0eWxlc2hlZXQiIGhyZWY9Imh0dHBzOi8vY2RuLmpzZGVsaXZyLm5ldC9ucG0vbGVhZmxldEAxLjYuMC9kaXN0L2xlYWZsZXQuY3NzIi8+CiAgICA8bGluayByZWw9InN0eWxlc2hlZXQiIGhyZWY9Imh0dHBzOi8vbWF4Y2RuLmJvb3RzdHJhcGNkbi5jb20vYm9vdHN0cmFwLzMuMi4wL2Nzcy9ib290c3RyYXAubWluLmNzcyIvPgogICAgPGxpbmsgcmVsPSJzdHlsZXNoZWV0IiBocmVmPSJodHRwczovL21heGNkbi5ib290c3RyYXBjZG4uY29tL2Jvb3RzdHJhcC8zLjIuMC9jc3MvYm9vdHN0cmFwLXRoZW1lLm1pbi5jc3MiLz4KICAgIDxsaW5rIHJlbD0ic3R5bGVzaGVldCIgaHJlZj0iaHR0cHM6Ly9tYXhjZG4uYm9vdHN0cmFwY2RuLmNvbS9mb250LWF3ZXNvbWUvNC42LjMvY3NzL2ZvbnQtYXdlc29tZS5taW4uY3NzIi8+CiAgICA8bGluayByZWw9InN0eWxlc2hlZXQiIGhyZWY9Imh0dHBzOi8vY2RuanMuY2xvdWRmbGFyZS5jb20vYWpheC9saWJzL0xlYWZsZXQuYXdlc29tZS1tYXJrZXJzLzIuMC4yL2xlYWZsZXQuYXdlc29tZS1tYXJrZXJzLmNzcyIvPgogICAgPGxpbmsgcmVsPSJzdHlsZXNoZWV0IiBocmVmPSJodHRwczovL3Jhd2Nkbi5naXRoYWNrLmNvbS9weXRob24tdmlzdWFsaXphdGlvbi9mb2xpdW0vbWFzdGVyL2ZvbGl1bS90ZW1wbGF0ZXMvbGVhZmxldC5hd2Vzb21lLnJvdGF0ZS5jc3MiLz4KICAgIDxzdHlsZT5odG1sLCBib2R5IHt3aWR0aDogMTAwJTtoZWlnaHQ6IDEwMCU7bWFyZ2luOiAwO3BhZGRpbmc6IDA7fTwvc3R5bGU+CiAgICA8c3R5bGU+I21hcCB7cG9zaXRpb246YWJzb2x1dGU7dG9wOjA7Ym90dG9tOjA7cmlnaHQ6MDtsZWZ0OjA7fTwvc3R5bGU+CiAgICAKICAgICAgICAgICAgPG1ldGEgbmFtZT0idmlld3BvcnQiIGNvbnRlbnQ9IndpZHRoPWRldmljZS13aWR0aCwKICAgICAgICAgICAgICAgIGluaXRpYWwtc2NhbGU9MS4wLCBtYXhpbXVtLXNjYWxlPTEuMCwgdXNlci1zY2FsYWJsZT1ubyIgLz4KICAgICAgICAgICAgPHN0eWxlPgogICAgICAgICAgICAgICAgI21hcF81MmYyZWQ2YmRiZjM0MjQwYWYyMzI1MmYwZDgyNTFiYyB7CiAgICAgICAgICAgICAgICAgICAgcG9zaXRpb246IHJlbGF0aXZlOwogICAgICAgICAgICAgICAgICAgIHdpZHRoOiAxMDAuMCU7CiAgICAgICAgICAgICAgICAgICAgaGVpZ2h0OiAxMDAuMCU7CiAgICAgICAgICAgICAgICAgICAgbGVmdDogMC4wJTsKICAgICAgICAgICAgICAgICAgICB0b3A6IDAuMCU7CiAgICAgICAgICAgICAgICB9CiAgICAgICAgICAgIDwvc3R5bGU+CiAgICAgICAgCjwvaGVhZD4KPGJvZHk+ICAgIAogICAgCiAgICAgICAgICAgIDxkaXYgY2xhc3M9ImZvbGl1bS1tYXAiIGlkPSJtYXBfNTJmMmVkNmJkYmYzNDI0MGFmMjMyNTJmMGQ4MjUxYmMiID48L2Rpdj4KICAgICAgICAKPC9ib2R5Pgo8c2NyaXB0PiAgICAKICAgIAogICAgICAgICAgICB2YXIgbWFwXzUyZjJlZDZiZGJmMzQyNDBhZjIzMjUyZjBkODI1MWJjID0gTC5tYXAoCiAgICAgICAgICAgICAgICAibWFwXzUyZjJlZDZiZGJmMzQyNDBhZjIzMjUyZjBkODI1MWJjIiwKICAgICAgICAgICAgICAgIHsKICAgICAgICAgICAgICAgICAgICBjZW50ZXI6IFs0MS45MjAzNzk2NzM5OTk5OTYsIC04Ny42ODYxNzk5MDE5OTk5OV0sCiAgICAgICAgICAgICAgICAgICAgY3JzOiBMLkNSUy5FUFNHMzg1NywKICAgICAgICAgICAgICAgICAgICB6b29tOiAxMSwKICAgICAgICAgICAgICAgICAgICB6b29tQ29udHJvbDogdHJ1ZSwKICAgICAgICAgICAgICAgICAgICBwcmVmZXJDYW52YXM6IGZhbHNlLAogICAgICAgICAgICAgICAgfQogICAgICAgICAgICApOwoKICAgICAgICAgICAgCgogICAgICAgIAogICAgCiAgICAgICAgICAgIHZhciB0aWxlX2xheWVyX2RmNTlhM2VmZjdmNzQzYmZhODljZDM5ZTY2OTE0NDUyID0gTC50aWxlTGF5ZXIoCiAgICAgICAgICAgICAgICAiaHR0cHM6Ly97c30udGlsZS5vcGVuc3RyZWV0bWFwLm9yZy97en0ve3h9L3t5fS5wbmciLAogICAgICAgICAgICAgICAgeyJhdHRyaWJ1dGlvbiI6ICJEYXRhIGJ5IFx1MDAyNmNvcHk7IFx1MDAzY2EgaHJlZj1cImh0dHA6Ly9vcGVuc3RyZWV0bWFwLm9yZ1wiXHUwMDNlT3BlblN0cmVldE1hcFx1MDAzYy9hXHUwMDNlLCB1bmRlciBcdTAwM2NhIGhyZWY9XCJodHRwOi8vd3d3Lm9wZW5zdHJlZXRtYXAub3JnL2NvcHlyaWdodFwiXHUwMDNlT0RiTFx1MDAzYy9hXHUwMDNlLiIsICJkZXRlY3RSZXRpbmEiOiBmYWxzZSwgIm1heE5hdGl2ZVpvb20iOiAxOCwgIm1heFpvb20iOiAxOCwgIm1pblpvb20iOiAwLCAibm9XcmFwIjogZmFsc2UsICJvcGFjaXR5IjogMSwgInN1YmRvbWFpbnMiOiAiYWJjIiwgInRtcyI6IGZhbHNlfQogICAgICAgICAgICApLmFkZFRvKG1hcF81MmYyZWQ2YmRiZjM0MjQwYWYyMzI1MmYwZDgyNTFiYyk7CiAgICAgICAgCiAgICAKICAgICAgICAgICAgdmFyIG1hcmtlcl8wNzM3MWZkNDNiNmQ0NzRlOTc1ZGE5MmUzNDdkYjYwYSA9IEwubWFya2VyKAogICAgICAgICAgICAgICAgWzQxLjg5NTYwNDksIC04Ny42Nzk5NjE0OTk5OTk5OV0sCiAgICAgICAgICAgICAgICB7fQogICAgICAgICAgICApLmFkZFRvKG1hcF81MmYyZWQ2YmRiZjM0MjQwYWYyMzI1MmYwZDgyNTFiYyk7CiAgICAgICAgCiAgICAKICAgICAgICB2YXIgcG9wdXBfZTU1MTUxYTdlMjQ3NDg3NWI1NzE3ZWViNTI0YzAwYzggPSBMLnBvcHVwKHsibWF4V2lkdGgiOiAiMTAwJSJ9KTsKCiAgICAgICAgCiAgICAgICAgICAgIHZhciBodG1sXzlkYTdjY2M0Yzg0NzRlMTBiYjVmYTZlMGQ2NWI5NGU1ID0gJChgPGRpdiBpZD0iaHRtbF85ZGE3Y2NjNGM4NDc0ZTEwYmI1ZmE2ZTBkNjViOTRlNSIgc3R5bGU9IndpZHRoOiAxMDAuMCU7IGhlaWdodDogMTAwLjAlOyI+QkxUPC9kaXY+YClbMF07CiAgICAgICAgICAgIHBvcHVwX2U1NTE1MWE3ZTI0NzQ4NzViNTcxN2VlYjUyNGMwMGM4LnNldENvbnRlbnQoaHRtbF85ZGE3Y2NjNGM4NDc0ZTEwYmI1ZmE2ZTBkNjViOTRlNSk7CiAgICAgICAgCgogICAgICAgIG1hcmtlcl8wNzM3MWZkNDNiNmQ0NzRlOTc1ZGE5MmUzNDdkYjYwYS5iaW5kUG9wdXAocG9wdXBfZTU1MTUxYTdlMjQ3NDg3NWI1NzE3ZWViNTI0YzAwYzgpCiAgICAgICAgOwoKICAgICAgICAKICAgIAogICAgCiAgICAgICAgICAgIHZhciBtYXJrZXJfZWNhOGFmYWUyNDRiNGQxZTliZWY3Y2UyYmNiMGViOTIgPSBMLm1hcmtlcigKICAgICAgICAgICAgICAgIFs0MS44ODQ2NTgyLCAtODcuNjQ3NjY2OF0sCiAgICAgICAgICAgICAgICB7fQogICAgICAgICAgICApLmFkZFRvKG1hcF81MmYyZWQ2YmRiZjM0MjQwYWYyMzI1MmYwZDgyNTFiYyk7CiAgICAgICAgCiAgICAKICAgICAgICB2YXIgcG9wdXBfM2YzMDRkZmZmZmEyNDlmYjk2OTk1OGJjY2U2MmUwNmUgPSBMLnBvcHVwKHsibWF4V2lkdGgiOiAiMTAwJSJ9KTsKCiAgICAgICAgCiAgICAgICAgICAgIHZhciBodG1sX2FhZDI5MWQxY2E4YzRiNjA4ZGZmODdiYjAyMzQzODcxID0gJChgPGRpdiBpZD0iaHRtbF9hYWQyOTFkMWNhOGM0YjYwOGRmZjg3YmIwMjM0Mzg3MSIgc3R5bGU9IndpZHRoOiAxMDAuMCU7IGhlaWdodDogMTAwLjAlOyI+RnJpZWQgQm9sb2duYTwvZGl2PmApWzBdOwogICAgICAgICAgICBwb3B1cF8zZjMwNGRmZmZmYTI0OWZiOTY5OTU4YmNjZTYyZTA2ZS5zZXRDb250ZW50KGh0bWxfYWFkMjkxZDFjYThjNGI2MDhkZmY4N2JiMDIzNDM4NzEpOwogICAgICAgIAoKICAgICAgICBtYXJrZXJfZWNhOGFmYWUyNDRiNGQxZTliZWY3Y2UyYmNiMGViOTIuYmluZFBvcHVwKHBvcHVwXzNmMzA0ZGZmZmZhMjQ5ZmI5Njk5NThiY2NlNjJlMDZlKQogICAgICAgIDsKCiAgICAgICAgCiAgICAKICAgIAogICAgICAgICAgICB2YXIgbWFya2VyXzNkYWY0NDExYjNkZjQ3ZDVhYzE4MWIyNzU3Y2YzZmIxID0gTC5tYXJrZXIoCiAgICAgICAgICAgICAgICBbNDEuODkwNTIyNiwgLTg3LjYzMDc4MzRdLAogICAgICAgICAgICAgICAge30KICAgICAgICAgICAgKS5hZGRUbyhtYXBfNTJmMmVkNmJkYmYzNDI0MGFmMjMyNTJmMGQ4MjUxYmMpOwogICAgICAgIAogICAgCiAgICAgICAgdmFyIHBvcHVwX2JjNzQ0OTRhNTU0MTRlZTdiNzU4ZGIyNDM0ZDBiNjYwID0gTC5wb3B1cCh7Im1heFdpZHRoIjogIjEwMCUifSk7CgogICAgICAgIAogICAgICAgICAgICB2YXIgaHRtbF83MGQxNDZlMGM0OTY0NzhjYjczZDhjMzJhNTNiNWI2OSA9ICQoYDxkaXYgaWQ9Imh0bWxfNzBkMTQ2ZTBjNDk2NDc4Y2I3M2Q4YzMyYTUzYjViNjkiIHN0eWxlPSJ3aWR0aDogMTAwLjAlOyBoZWlnaHQ6IDEwMC4wJTsiPldvb2RsYW5kIE11c2hyb29tPC9kaXY+YClbMF07CiAgICAgICAgICAgIHBvcHVwX2JjNzQ0OTRhNTU0MTRlZTdiNzU4ZGIyNDM0ZDBiNjYwLnNldENvbnRlbnQoaHRtbF83MGQxNDZlMGM0OTY0NzhjYjczZDhjMzJhNTNiNWI2OSk7CiAgICAgICAgCgogICAgICAgIG1hcmtlcl8zZGFmNDQxMWIzZGY0N2Q1YWMxODFiMjc1N2NmM2ZiMS5iaW5kUG9wdXAocG9wdXBfYmM3NDQ5NGE1NTQxNGVlN2I3NThkYjI0MzRkMGI2NjApCiAgICAgICAgOwoKICAgICAgICAKICAgIAogICAgCiAgICAgICAgICAgIHZhciBtYXJrZXJfYTJkYWViZWQ0OWU4NGZiNjk2NGQ0OTc0ODc5OGI2ZTcgPSBMLm1hcmtlcigKICAgICAgICAgICAgICAgIFs0Mi4wNTgzMjE3LCAtODcuNjgzNzQ3OV0sCiAgICAgICAgICAgICAgICB7fQogICAgICAgICAgICApLmFkZFRvKG1hcF81MmYyZWQ2YmRiZjM0MjQwYWYyMzI1MmYwZDgyNTFiYyk7CiAgICAgICAgCiAgICAKICAgICAgICB2YXIgcG9wdXBfMWUxNzgwY2ZkNTAzNGE5YzgwYWZhZWMyMGI2Y2YwMGUgPSBMLnBvcHVwKHsibWF4V2lkdGgiOiAiMTAwJSJ9KTsKCiAgICAgICAgCiAgICAgICAgICAgIHZhciBodG1sXzc3NGNiNDYxYTc3YTQ0MjFhN2UzZTYyMTM4MTBjM2QwID0gJChgPGRpdiBpZD0iaHRtbF83NzRjYjQ2MWE3N2E0NDIxYTdlM2U2MjEzODEwYzNkMCIgc3R5bGU9IndpZHRoOiAxMDAuMCU7IGhlaWdodDogMTAwLjAlOyI+Um9hc3QgQmVlZjwvZGl2PmApWzBdOwogICAgICAgICAgICBwb3B1cF8xZTE3ODBjZmQ1MDM0YTljODBhZmFlYzIwYjZjZjAwZS5zZXRDb250ZW50KGh0bWxfNzc0Y2I0NjFhNzdhNDQyMWE3ZTNlNjIxMzgxMGMzZDApOwogICAgICAgIAoKICAgICAgICBtYXJrZXJfYTJkYWViZWQ0OWU4NGZiNjk2NGQ0OTc0ODc5OGI2ZTcuYmluZFBvcHVwKHBvcHVwXzFlMTc4MGNmZDUwMzRhOWM4MGFmYWVjMjBiNmNmMDBlKQogICAgICAgIDsKCiAgICAgICAgCiAgICAKICAgIAogICAgICAgICAgICB2YXIgbWFya2VyX2JhYzFkNDc2YTY1MjQ3N2M5YzhlYjAxZjliMDdmZThjID0gTC5tYXJrZXIoCiAgICAgICAgICAgICAgICBbNDEuODg2NTk5OCwgLTg3LjY0ODQ1MTRdLAogICAgICAgICAgICAgICAge30KICAgICAgICAgICAgKS5hZGRUbyhtYXBfNTJmMmVkNmJkYmYzNDI0MGFmMjMyNTJmMGQ4MjUxYmMpOwogICAgICAgIAogICAgCiAgICAgICAgdmFyIHBvcHVwXzYwMjQxMGFlZDBkMjQ2ZDZhNzFmODY3YWUxYzgzMjE1ID0gTC5wb3B1cCh7Im1heFdpZHRoIjogIjEwMCUifSk7CgogICAgICAgIAogICAgICAgICAgICB2YXIgaHRtbF80ZGExYTZlMzM5ZTM0ZjFiYjRlOGFmMDVhM2RhNTE3OCA9ICQoYDxkaXYgaWQ9Imh0bWxfNGRhMWE2ZTMzOWUzNGYxYmI0ZThhZjA1YTNkYTUxNzgiIHN0eWxlPSJ3aWR0aDogMTAwLjAlOyBoZWlnaHQ6IDEwMC4wJTsiPlBCJkw8L2Rpdj5gKVswXTsKICAgICAgICAgICAgcG9wdXBfNjAyNDEwYWVkMGQyNDZkNmE3MWY4NjdhZTFjODMyMTUuc2V0Q29udGVudChodG1sXzRkYTFhNmUzMzllMzRmMWJiNGU4YWYwNWEzZGE1MTc4KTsKICAgICAgICAKCiAgICAgICAgbWFya2VyX2JhYzFkNDc2YTY1MjQ3N2M5YzhlYjAxZjliMDdmZThjLmJpbmRQb3B1cChwb3B1cF82MDI0MTBhZWQwZDI0NmQ2YTcxZjg2N2FlMWM4MzIxNSkKICAgICAgICA7CgogICAgICAgIAogICAgCiAgICAKICAgICAgICAgICAgdmFyIG1hcmtlcl82NmJhYzBiYWQ0NTY0MjlkYWM4M2EwZGQ3OGU1NTRjOCA9IEwubWFya2VyKAogICAgICAgICAgICAgICAgWzQxLjkwMDA4NjksIC04Ny42MjUzMzY2XSwKICAgICAgICAgICAgICAgIHt9CiAgICAgICAgICAgICkuYWRkVG8obWFwXzUyZjJlZDZiZGJmMzQyNDBhZjIzMjUyZjBkODI1MWJjKTsKICAgICAgICAKICAgIAogICAgICAgIHZhciBwb3B1cF83MmNiMzRiNTcxZTA0OTdiOTRlNmQ1YmMxYTE2ZWQ4ZiA9IEwucG9wdXAoeyJtYXhXaWR0aCI6ICIxMDAlIn0pOwoKICAgICAgICAKICAgICAgICAgICAgdmFyIGh0bWxfNTk1YjVlZTIxYjc2NDY2YzhhMzY5YTgyNzM2NWM2MGUgPSAkKGA8ZGl2IGlkPSJodG1sXzU5NWI1ZWUyMWI3NjQ2NmM4YTM2OWE4MjczNjVjNjBlIiBzdHlsZT0id2lkdGg6IDEwMC4wJTsgaGVpZ2h0OiAxMDAuMCU7Ij5CZWxnaWFuIENoaWNrZW4gQ3VycnkgU2FsYWQ8L2Rpdj5gKVswXTsKICAgICAgICAgICAgcG9wdXBfNzJjYjM0YjU3MWUwNDk3Yjk0ZTZkNWJjMWExNmVkOGYuc2V0Q29udGVudChodG1sXzU5NWI1ZWUyMWI3NjQ2NmM4YTM2OWE4MjczNjVjNjBlKTsKICAgICAgICAKCiAgICAgICAgbWFya2VyXzY2YmFjMGJhZDQ1NjQyOWRhYzgzYTBkZDc4ZTU1NGM4LmJpbmRQb3B1cChwb3B1cF83MmNiMzRiNTcxZTA0OTdiOTRlNmQ1YmMxYTE2ZWQ4ZikKICAgICAgICA7CgogICAgICAgIAogICAgCiAgICAKICAgICAgICAgICAgdmFyIG1hcmtlcl83ODE3OTM1MzE2ZmE0YWI4OWI3YTZjYWYxN2Q5MTRkYSA9IEwubWFya2VyKAogICAgICAgICAgICAgICAgWzQxLjg1OTA1NDEsIC04Ny42MjUyMDA3XSwKICAgICAgICAgICAgICAgIHt9CiAgICAgICAgICAgICkuYWRkVG8obWFwXzUyZjJlZDZiZGJmMzQyNDBhZjIzMjUyZjBkODI1MWJjKTsKICAgICAgICAKICAgIAogICAgICAgIHZhciBwb3B1cF8zMDZmMmIyYWM5OGE0YjVkYjRiNDljOGQxYTVlZGUxYiA9IEwucG9wdXAoeyJtYXhXaWR0aCI6ICIxMDAlIn0pOwoKICAgICAgICAKICAgICAgICAgICAgdmFyIGh0bWxfOTMwZDgzZWY2YjNmNDhkNDk4M2U4YjY5Njg4MWQ5MDIgPSAkKGA8ZGl2IGlkPSJodG1sXzkzMGQ4M2VmNmIzZjQ4ZDQ5ODNlOGI2OTY4ODFkOTAyIiBzdHlsZT0id2lkdGg6IDEwMC4wJTsgaGVpZ2h0OiAxMDAuMCU7Ij5Mb2JzdGVyIFJvbGw8L2Rpdj5gKVswXTsKICAgICAgICAgICAgcG9wdXBfMzA2ZjJiMmFjOThhNGI1ZGI0YjQ5YzhkMWE1ZWRlMWIuc2V0Q29udGVudChodG1sXzkzMGQ4M2VmNmIzZjQ4ZDQ5ODNlOGI2OTY4ODFkOTAyKTsKICAgICAgICAKCiAgICAgICAgbWFya2VyXzc4MTc5MzUzMTZmYTRhYjg5YjdhNmNhZjE3ZDkxNGRhLmJpbmRQb3B1cChwb3B1cF8zMDZmMmIyYWM5OGE0YjVkYjRiNDljOGQxYTVlZGUxYikKICAgICAgICA7CgogICAgICAgIAogICAgCiAgICAKICAgICAgICAgICAgdmFyIG1hcmtlcl9hZTkxZWJmYWY4ZGQ0NzNlOTczM2I0MzcwNDgxMTdjNyA9IEwubWFya2VyKAogICAgICAgICAgICAgICAgWzQxLjkxMDIwMzEsIC04Ny42ODI4NzUyOTk5OTk5OV0sCiAgICAgICAgICAgICAgICB7fQogICAgICAgICAgICApLmFkZFRvKG1hcF81MmYyZWQ2YmRiZjM0MjQwYWYyMzI1MmYwZDgyNTFiYyk7CiAgICAgICAgCiAgICAKICAgICAgICB2YXIgcG9wdXBfYTQyNTY1MzVjZDc2NDBlODg1ZmZkNDUwYjRiNGExNzggPSBMLnBvcHVwKHsibWF4V2lkdGgiOiAiMTAwJSJ9KTsKCiAgICAgICAgCiAgICAgICAgICAgIHZhciBodG1sXzgzYWQxNzkzYzAwODRlMzRhNDNhZDcxOGE4MDJkYzkxID0gJChgPGRpdiBpZD0iaHRtbF84M2FkMTc5M2MwMDg0ZTM0YTQzYWQ3MThhODAyZGM5MSIgc3R5bGU9IndpZHRoOiAxMDAuMCU7IGhlaWdodDogMTAwLjAlOyI+U21va2VkIFNhbG1vbiBTYWxhZDwvZGl2PmApWzBdOwogICAgICAgICAgICBwb3B1cF9hNDI1NjUzNWNkNzY0MGU4ODVmZmQ0NTBiNGI0YTE3OC5zZXRDb250ZW50KGh0bWxfODNhZDE3OTNjMDA4NGUzNGE0M2FkNzE4YTgwMmRjOTEpOwogICAgICAgIAoKICAgICAgICBtYXJrZXJfYWU5MWViZmFmOGRkNDczZTk3MzNiNDM3MDQ4MTE3YzcuYmluZFBvcHVwKHBvcHVwX2E0MjU2NTM1Y2Q3NjQwZTg4NWZmZDQ1MGI0YjRhMTc4KQogICAgICAgIDsKCiAgICAgICAgCiAgICAKICAgIAogICAgICAgICAgICB2YXIgbWFya2VyX2FmYWRkMDVhM2U2MTQ5ZDRhMGRjMWQ5NDIzYTEyZjg3ID0gTC5tYXJrZXIoCiAgICAgICAgICAgICAgICBbNDEuOTA5NzU1OCwgLTg3LjcxNzY3MjddLAogICAgICAgICAgICAgICAge30KICAgICAgICAgICAgKS5hZGRUbyhtYXBfNTJmMmVkNmJkYmYzNDI0MGFmMjMyNTJmMGQ4MjUxYmMpOwogICAgICAgIAogICAgCiAgICAgICAgdmFyIHBvcHVwXzExOTRiYmU0ZWFhYTQ4ZGNiYTlhYTI2ZmJiNjg2YjdhID0gTC5wb3B1cCh7Im1heFdpZHRoIjogIjEwMCUifSk7CgogICAgICAgIAogICAgICAgICAgICB2YXIgaHRtbF9lMWI2ZmE3YzQyNjY0MjczYjhmYTc4OGI2N2VkZGJhMiA9ICQoYDxkaXYgaWQ9Imh0bWxfZTFiNmZhN2M0MjY2NDI3M2I4ZmE3ODhiNjdlZGRiYTIiIHN0eWxlPSJ3aWR0aDogMTAwLjAlOyBoZWlnaHQ6IDEwMC4wJTsiPkF0b21pY2EgQ2VtaXRhczwvZGl2PmApWzBdOwogICAgICAgICAgICBwb3B1cF8xMTk0YmJlNGVhYWE0OGRjYmE5YWEyNmZiYjY4NmI3YS5zZXRDb250ZW50KGh0bWxfZTFiNmZhN2M0MjY2NDI3M2I4ZmE3ODhiNjdlZGRiYTIpOwogICAgICAgIAoKICAgICAgICBtYXJrZXJfYWZhZGQwNWEzZTYxNDlkNGEwZGMxZDk0MjNhMTJmODcuYmluZFBvcHVwKHBvcHVwXzExOTRiYmU0ZWFhYTQ4ZGNiYTlhYTI2ZmJiNjg2YjdhKQogICAgICAgIDsKCiAgICAgICAgCiAgICAKICAgIAogICAgICAgICAgICB2YXIgbWFya2VyX2JkZGE2MDM1NjNiMjQzZDY4Mzg4OGI0NzQ3OTM1NDcxID0gTC5tYXJrZXIoCiAgICAgICAgICAgICAgICBbNDEuODM0NTMwMiwgLTg3LjY0NTY0OTJdLAogICAgICAgICAgICAgICAge30KICAgICAgICAgICAgKS5hZGRUbyhtYXBfNTJmMmVkNmJkYmYzNDI0MGFmMjMyNTJmMGQ4MjUxYmMpOwogICAgICAgIAogICAgCiAgICAgICAgdmFyIHBvcHVwX2ExOGZhZWE0ODQ5YzQ5MjZhY2FhNzUzYmM5OWViNjA2ID0gTC5wb3B1cCh7Im1heFdpZHRoIjogIjEwMCUifSk7CgogICAgICAgIAogICAgICAgICAgICB2YXIgaHRtbF8xYTI3NGQwMTM2NDY0MWVkOTM2NDQwZjQ4OTdkNzBlZiA9ICQoYDxkaXYgaWQ9Imh0bWxfMWEyNzRkMDEzNjQ2NDFlZDkzNjQ0MGY0ODk3ZDcwZWYiIHN0eWxlPSJ3aWR0aDogMTAwLjAlOyBoZWlnaHQ6IDEwMC4wJTsiPkdyaWxsZWQgTGF1Z2hpbmcgQmlyZCBTaHJpbXAgYW5kIEZyaWVkIFBv4oCZIEJveTwvZGl2PmApWzBdOwogICAgICAgICAgICBwb3B1cF9hMThmYWVhNDg0OWM0OTI2YWNhYTc1M2JjOTllYjYwNi5zZXRDb250ZW50KGh0bWxfMWEyNzRkMDEzNjQ2NDFlZDkzNjQ0MGY0ODk3ZDcwZWYpOwogICAgICAgIAoKICAgICAgICBtYXJrZXJfYmRkYTYwMzU2M2IyNDNkNjgzODg4YjQ3NDc5MzU0NzEuYmluZFBvcHVwKHBvcHVwX2ExOGZhZWE0ODQ5YzQ5MjZhY2FhNzUzYmM5OWViNjA2KQogICAgICAgIDsKCiAgICAgICAgCiAgICAKICAgIAogICAgICAgICAgICB2YXIgbWFya2VyX2E0ZjRkZjJmYzhkMTRjODhhMTU2NDU1M2M4NTcyODJmID0gTC5tYXJrZXIoCiAgICAgICAgICAgICAgICBbNDEuOTI3NjIwNywgLTg3LjcwNjc5Ml0sCiAgICAgICAgICAgICAgICB7fQogICAgICAgICAgICApLmFkZFRvKG1hcF81MmYyZWQ2YmRiZjM0MjQwYWYyMzI1MmYwZDgyNTFiYyk7CiAgICAgICAgCiAgICAKICAgICAgICB2YXIgcG9wdXBfZWM1M2VhMzZhZTU1NDBiNzhmMjdkNGJiMGQ0YTMwZTIgPSBMLnBvcHVwKHsibWF4V2lkdGgiOiAiMTAwJSJ9KTsKCiAgICAgICAgCiAgICAgICAgICAgIHZhciBodG1sX2EyYjgyZjM2OWRkYzQ5ZTY5YWNjZWZlOTgwNjYwNGI3ID0gJChgPGRpdiBpZD0iaHRtbF9hMmI4MmYzNjlkZGM0OWU2OWFjY2VmZTk4MDY2MDRiNyIgc3R5bGU9IndpZHRoOiAxMDAuMCU7IGhlaWdodDogMTAwLjAlOyI+SGFtIGFuZCBSYWNsZXR0ZSBQYW5pbm88L2Rpdj5gKVswXTsKICAgICAgICAgICAgcG9wdXBfZWM1M2VhMzZhZTU1NDBiNzhmMjdkNGJiMGQ0YTMwZTIuc2V0Q29udGVudChodG1sX2EyYjgyZjM2OWRkYzQ5ZTY5YWNjZWZlOTgwNjYwNGI3KTsKICAgICAgICAKCiAgICAgICAgbWFya2VyX2E0ZjRkZjJmYzhkMTRjODhhMTU2NDU1M2M4NTcyODJmLmJpbmRQb3B1cChwb3B1cF9lYzUzZWEzNmFlNTU0MGI3OGYyN2Q0YmIwZDRhMzBlMikKICAgICAgICA7CgogICAgICAgIAogICAgCiAgICAKICAgICAgICAgICAgdmFyIG1hcmtlcl85NTljNDc0NGIxNjg0YzI3YWE0NWY0ZDE2MTUzYjJiZSA9IEwubWFya2VyKAogICAgICAgICAgICAgICAgWzQxLjg4Mjg2NTgsIC04Ny42NDkyODM3OTk5OTk5OV0sCiAgICAgICAgICAgICAgICB7fQogICAgICAgICAgICApLmFkZFRvKG1hcF81MmYyZWQ2YmRiZjM0MjQwYWYyMzI1MmYwZDgyNTFiYyk7CiAgICAgICAgCiAgICAKICAgICAgICB2YXIgcG9wdXBfNjlkODJlMTVlMGU2NGZiMWE3MTAwM2Y1NmQwYzAxNTcgPSBMLnBvcHVwKHsibWF4V2lkdGgiOiAiMTAwJSJ9KTsKCiAgICAgICAgCiAgICAgICAgICAgIHZhciBodG1sXzM1MmQyOTFiNGViMTQxOTZiZmE1ZmU3ODI4OGVlOGEyID0gJChgPGRpdiBpZD0iaHRtbF8zNTJkMjkxYjRlYjE0MTk2YmZhNWZlNzgyODhlZThhMiIgc3R5bGU9IndpZHRoOiAxMDAuMCU7IGhlaWdodDogMTAwLjAlOyI+QnJlYWRlZCBTdGVhazwvZGl2PmApWzBdOwogICAgICAgICAgICBwb3B1cF82OWQ4MmUxNWUwZTY0ZmIxYTcxMDAzZjU2ZDBjMDE1Ny5zZXRDb250ZW50KGh0bWxfMzUyZDI5MWI0ZWIxNDE5NmJmYTVmZTc4Mjg4ZWU4YTIpOwogICAgICAgIAoKICAgICAgICBtYXJrZXJfOTU5YzQ3NDRiMTY4NGMyN2FhNDVmNGQxNjE1M2IyYmUuYmluZFBvcHVwKHBvcHVwXzY5ZDgyZTE1ZTBlNjRmYjFhNzEwMDNmNTZkMGMwMTU3KQogICAgICAgIDsKCiAgICAgICAgCiAgICAKICAgIAogICAgICAgICAgICB2YXIgbWFya2VyX2NkZjdhN2VlZjMzNzQzMWM4NGI0ZmMxODhhNjk4NDIxID0gTC5tYXJrZXIoCiAgICAgICAgICAgICAgICBbNDEuOTM4NDQxOSwgLTg3LjY0NDY0MzY5OTk5OTk5XSwKICAgICAgICAgICAgICAgIHt9CiAgICAgICAgICAgICkuYWRkVG8obWFwXzUyZjJlZDZiZGJmMzQyNDBhZjIzMjUyZjBkODI1MWJjKTsKICAgICAgICAKICAgIAogICAgICAgIHZhciBwb3B1cF9kYTBhMTA5ZjliMGQ0OGQxOThiNzFiZDhhNTdhMGMxNiA9IEwucG9wdXAoeyJtYXhXaWR0aCI6ICIxMDAlIn0pOwoKICAgICAgICAKICAgICAgICAgICAgdmFyIGh0bWxfMzA0ODFmYWYwN2VlNGQ2OGIyZjVmZjQ5ZTY1MjUyZTEgPSAkKGA8ZGl2IGlkPSJodG1sXzMwNDgxZmFmMDdlZTRkNjhiMmY1ZmY0OWU2NTI1MmUxIiBzdHlsZT0id2lkdGg6IDEwMC4wJTsgaGVpZ2h0OiAxMDAuMCU7Ij5UaGUgSGF3a2V5ZTwvZGl2PmApWzBdOwogICAgICAgICAgICBwb3B1cF9kYTBhMTA5ZjliMGQ0OGQxOThiNzFiZDhhNTdhMGMxNi5zZXRDb250ZW50KGh0bWxfMzA0ODFmYWYwN2VlNGQ2OGIyZjVmZjQ5ZTY1MjUyZTEpOwogICAgICAgIAoKICAgICAgICBtYXJrZXJfY2RmN2E3ZWVmMzM3NDMxYzg0YjRmYzE4OGE2OTg0MjEuYmluZFBvcHVwKHBvcHVwX2RhMGExMDlmOWIwZDQ4ZDE5OGI3MWJkOGE1N2EwYzE2KQogICAgICAgIDsKCiAgICAgICAgCiAgICAKICAgIAogICAgICAgICAgICB2YXIgbWFya2VyXzQ0N2QwZTk0NWU2YTRlMmFiMzFkMjUzMDFlN2JhNmE0ID0gTC5tYXJrZXIoCiAgICAgICAgICAgICAgICBbNDEuOTQ1MTA0NCwgLTg3LjY2MzY4MTJdLAogICAgICAgICAgICAgICAge30KICAgICAgICAgICAgKS5hZGRUbyhtYXBfNTJmMmVkNmJkYmYzNDI0MGFmMjMyNTJmMGQ4MjUxYmMpOwogICAgICAgIAogICAgCiAgICAgICAgdmFyIHBvcHVwX2UyMDQ5NTA4YTIyYzQyZThhMmMzMzMyY2Y3N2M1ODMxID0gTC5wb3B1cCh7Im1heFdpZHRoIjogIjEwMCUifSk7CgogICAgICAgIAogICAgICAgICAgICB2YXIgaHRtbF84NjgxMmE1NWU0Njc0MDA1ODljYjE3MzZjNjZlOWYwNiA9ICQoYDxkaXYgaWQ9Imh0bWxfODY4MTJhNTVlNDY3NDAwNTg5Y2IxNzM2YzY2ZTlmMDYiIHN0eWxlPSJ3aWR0aDogMTAwLjAlOyBoZWlnaHQ6IDEwMC4wJTsiPkNoaWNrZW4gRGlwPC9kaXY+YClbMF07CiAgICAgICAgICAgIHBvcHVwX2UyMDQ5NTA4YTIyYzQyZThhMmMzMzMyY2Y3N2M1ODMxLnNldENvbnRlbnQoaHRtbF84NjgxMmE1NWU0Njc0MDA1ODljYjE3MzZjNjZlOWYwNik7CiAgICAgICAgCgogICAgICAgIG1hcmtlcl80NDdkMGU5NDVlNmE0ZTJhYjMxZDI1MzAxZTdiYTZhNC5iaW5kUG9wdXAocG9wdXBfZTIwNDk1MDhhMjJjNDJlOGEyYzMzMzJjZjc3YzU4MzEpCiAgICAgICAgOwoKICAgICAgICAKICAgIAogICAgCiAgICAgICAgICAgIHZhciBtYXJrZXJfMTgxYTU0OWQ2ZGNiNDFlNWE2Y2Y1NWExNTRiNjYxZjkgPSBMLm1hcmtlcigKICAgICAgICAgICAgICAgIFs0MS45MzAxMTA3LCAtODcuNzA3MjQwOF0sCiAgICAgICAgICAgICAgICB7fQogICAgICAgICAgICApLmFkZFRvKG1hcF81MmYyZWQ2YmRiZjM0MjQwYWYyMzI1MmYwZDgyNTFiYyk7CiAgICAgICAgCiAgICAKICAgICAgICB2YXIgcG9wdXBfYzU1MWJkNWM4MmJkNGNjY2E4ZDNkMDI5NDM4ZmE1OWIgPSBMLnBvcHVwKHsibWF4V2lkdGgiOiAiMTAwJSJ9KTsKCiAgICAgICAgCiAgICAgICAgICAgIHZhciBodG1sX2U4YmQ2MGJiYzUzNzRkODZhZGI4YmMyMDBiZDU4NDM2ID0gJChgPGRpdiBpZD0iaHRtbF9lOGJkNjBiYmM1Mzc0ZDg2YWRiOGJjMjAwYmQ1ODQzNiIgc3R5bGU9IndpZHRoOiAxMDAuMCU7IGhlaWdodDogMTAwLjAlOyI+V2lsZCBCb2FyIFNsb3BweSBKb2U8L2Rpdj5gKVswXTsKICAgICAgICAgICAgcG9wdXBfYzU1MWJkNWM4MmJkNGNjY2E4ZDNkMDI5NDM4ZmE1OWIuc2V0Q29udGVudChodG1sX2U4YmQ2MGJiYzUzNzRkODZhZGI4YmMyMDBiZDU4NDM2KTsKICAgICAgICAKCiAgICAgICAgbWFya2VyXzE4MWE1NDlkNmRjYjQxZTVhNmNmNTVhMTU0YjY2MWY5LmJpbmRQb3B1cChwb3B1cF9jNTUxYmQ1YzgyYmQ0Y2NjYThkM2QwMjk0MzhmYTU5YikKICAgICAgICA7CgogICAgICAgIAogICAgCiAgICAKICAgICAgICAgICAgdmFyIG1hcmtlcl9kMWJjNGE5ZGEyM2Q0MGQ0ODc1OTVmM2Q4MDM3MjYwMCA9IEwubWFya2VyKAogICAgICAgICAgICAgICAgWzQxLjg5MTI5MDAwMDAwMDAxLCAtODcuNjU1NTU3XSwKICAgICAgICAgICAgICAgIHt9CiAgICAgICAgICAgICkuYWRkVG8obWFwXzUyZjJlZDZiZGJmMzQyNDBhZjIzMjUyZjBkODI1MWJjKTsKICAgICAgICAKICAgIAogICAgICAgIHZhciBwb3B1cF8wNTBkNWFkYjhlNjY0YzYzODAzNDY4ZGVlMWMyNTdjYiA9IEwucG9wdXAoeyJtYXhXaWR0aCI6ICIxMDAlIn0pOwoKICAgICAgICAKICAgICAgICAgICAgdmFyIGh0bWxfZWVlYjJlOWU0MzljNDVkYjhjMGM1YzgwMzkyOGRjMTEgPSAkKGA8ZGl2IGlkPSJodG1sX2VlZWIyZTllNDM5YzQ1ZGI4YzBjNWM4MDM5MjhkYzExIiBzdHlsZT0id2lkdGg6IDEwMC4wJTsgaGVpZ2h0OiAxMDAuMCU7Ij5NZWF0YmFsbCBTdWI8L2Rpdj5gKVswXTsKICAgICAgICAgICAgcG9wdXBfMDUwZDVhZGI4ZTY2NGM2MzgwMzQ2OGRlZTFjMjU3Y2Iuc2V0Q29udGVudChodG1sX2VlZWIyZTllNDM5YzQ1ZGI4YzBjNWM4MDM5MjhkYzExKTsKICAgICAgICAKCiAgICAgICAgbWFya2VyX2QxYmM0YTlkYTIzZDQwZDQ4NzU5NWYzZDgwMzcyNjAwLmJpbmRQb3B1cChwb3B1cF8wNTBkNWFkYjhlNjY0YzYzODAzNDY4ZGVlMWMyNTdjYikKICAgICAgICA7CgogICAgICAgIAogICAgCiAgICAKICAgICAgICAgICAgdmFyIG1hcmtlcl9mZjQ3ZTdhNjNkMDY0NjU5ODJiNzE3Y2U0OTIyMmM2NyA9IEwubWFya2VyKAogICAgICAgICAgICAgICAgWzQxLjg2Nzg1MjksIC04Ny42NDE5Mjg5XSwKICAgICAgICAgICAgICAgIHt9CiAgICAgICAgICAgICkuYWRkVG8obWFwXzUyZjJlZDZiZGJmMzQyNDBhZjIzMjUyZjBkODI1MWJjKTsKICAgICAgICAKICAgIAogICAgICAgIHZhciBwb3B1cF9kYjMyYTQ5NGI4NGQ0OWIyOWI5YjliOGM3ZTE5NWI2MyA9IEwucG9wdXAoeyJtYXhXaWR0aCI6ICIxMDAlIn0pOwoKICAgICAgICAKICAgICAgICAgICAgdmFyIGh0bWxfYzUxY2I4MmZhZTZhNGFkZGJkYTc1YjQyYWE0NTBkNjMgPSAkKGA8ZGl2IGlkPSJodG1sX2M1MWNiODJmYWU2YTRhZGRiZGE3NWI0MmFhNDUwZDYzIiBzdHlsZT0id2lkdGg6IDEwMC4wJTsgaGVpZ2h0OiAxMDAuMCU7Ij5Db3JuZWQgQmVlZjwvZGl2PmApWzBdOwogICAgICAgICAgICBwb3B1cF9kYjMyYTQ5NGI4NGQ0OWIyOWI5YjliOGM3ZTE5NWI2My5zZXRDb250ZW50KGh0bWxfYzUxY2I4MmZhZTZhNGFkZGJkYTc1YjQyYWE0NTBkNjMpOwogICAgICAgIAoKICAgICAgICBtYXJrZXJfZmY0N2U3YTYzZDA2NDY1OTgyYjcxN2NlNDkyMjJjNjcuYmluZFBvcHVwKHBvcHVwX2RiMzJhNDk0Yjg0ZDQ5YjI5YjliOWI4YzdlMTk1YjYzKQogICAgICAgIDsKCiAgICAgICAgCiAgICAKICAgIAogICAgICAgICAgICB2YXIgbWFya2VyXzM3MGNkZWRkNmI4NDQ3OGRhMjFlMWU1ZjAwZWIxZDA0ID0gTC5tYXJrZXIoCiAgICAgICAgICAgICAgICBbNDEuODg1MjY5MSwgLTg3LjYxODQ4MzddLAogICAgICAgICAgICAgICAge30KICAgICAgICAgICAgKS5hZGRUbyhtYXBfNTJmMmVkNmJkYmYzNDI0MGFmMjMyNTJmMGQ4MjUxYmMpOwogICAgICAgIAogICAgCiAgICAgICAgdmFyIHBvcHVwXzhlNGMzODZjZDk5ZjQxZWZhMDIzZjQzZDAzNmExMmIwID0gTC5wb3B1cCh7Im1heFdpZHRoIjogIjEwMCUifSk7CgogICAgICAgIAogICAgICAgICAgICB2YXIgaHRtbF85NjY3YWRmM2QxMTc0MmNjOTUwYmMwYTk3N2I4ODg3MiA9ICQoYDxkaXYgaWQ9Imh0bWxfOTY2N2FkZjNkMTE3NDJjYzk1MGJjMGE5NzdiODg4NzIiIHN0eWxlPSJ3aWR0aDogMTAwLjAlOyBoZWlnaHQ6IDEwMC4wJTsiPlR1cmtleSBDbHViPC9kaXY+YClbMF07CiAgICAgICAgICAgIHBvcHVwXzhlNGMzODZjZDk5ZjQxZWZhMDIzZjQzZDAzNmExMmIwLnNldENvbnRlbnQoaHRtbF85NjY3YWRmM2QxMTc0MmNjOTUwYmMwYTk3N2I4ODg3Mik7CiAgICAgICAgCgogICAgICAgIG1hcmtlcl8zNzBjZGVkZDZiODQ0NzhkYTIxZTFlNWYwMGViMWQwNC5iaW5kUG9wdXAocG9wdXBfOGU0YzM4NmNkOTlmNDFlZmEwMjNmNDNkMDM2YTEyYjApCiAgICAgICAgOwoKICAgICAgICAKICAgIAogICAgCiAgICAgICAgICAgIHZhciBtYXJrZXJfZmZlZGQ5N2Y4NDFmNDA1YjgwMWVlNzdmZDc3MDlhYTIgPSBMLm1hcmtlcigKICAgICAgICAgICAgICAgIFs0MS45MDgwNTM5LCAtODcuNjM0MzExM10sCiAgICAgICAgICAgICAgICB7fQogICAgICAgICAgICApLmFkZFRvKG1hcF81MmYyZWQ2YmRiZjM0MjQwYWYyMzI1MmYwZDgyNTFiYyk7CiAgICAgICAgCiAgICAKICAgICAgICB2YXIgcG9wdXBfZjYxYTY4OTg3MjExNDM4ODgyMTA1OGU5ZTg4NDIwMmEgPSBMLnBvcHVwKHsibWF4V2lkdGgiOiAiMTAwJSJ9KTsKCiAgICAgICAgCiAgICAgICAgICAgIHZhciBodG1sXzBjMTdlNTU1NGQ0NDQzMWZhNjY5M2RjYzEwNzM3OTkzID0gJChgPGRpdiBpZD0iaHRtbF8wYzE3ZTU1NTRkNDQ0MzFmYTY2OTNkY2MxMDczNzk5MyIgc3R5bGU9IndpZHRoOiAxMDAuMCU7IGhlaWdodDogMTAwLjAlOyI+RmFsYWZlbDwvZGl2PmApWzBdOwogICAgICAgICAgICBwb3B1cF9mNjFhNjg5ODcyMTE0Mzg4ODIxMDU4ZTllODg0MjAyYS5zZXRDb250ZW50KGh0bWxfMGMxN2U1NTU0ZDQ0NDMxZmE2NjkzZGNjMTA3Mzc5OTMpOwogICAgICAgIAoKICAgICAgICBtYXJrZXJfZmZlZGQ5N2Y4NDFmNDA1YjgwMWVlNzdmZDc3MDlhYTIuYmluZFBvcHVwKHBvcHVwX2Y2MWE2ODk4NzIxMTQzODg4MjEwNThlOWU4ODQyMDJhKQogICAgICAgIDsKCiAgICAgICAgCiAgICAKICAgIAogICAgICAgICAgICB2YXIgbWFya2VyXzY1OTNjMzFlZmY3NTRmMzQ4ZGQ0ZDYzOTU2Y2YyZWU2ID0gTC5tYXJrZXIoCiAgICAgICAgICAgICAgICBbNDEuOTEzNjk1Mzk5OTk5OTksIC04Ny42NzcxMjczXSwKICAgICAgICAgICAgICAgIHt9CiAgICAgICAgICAgICkuYWRkVG8obWFwXzUyZjJlZDZiZGJmMzQyNDBhZjIzMjUyZjBkODI1MWJjKTsKICAgICAgICAKICAgIAogICAgICAgIHZhciBwb3B1cF8wYzUxOTE5MWMwOTI0ZDc0OTJmMWNjMGI0MTc0ZWNmOCA9IEwucG9wdXAoeyJtYXhXaWR0aCI6ICIxMDAlIn0pOwoKICAgICAgICAKICAgICAgICAgICAgdmFyIGh0bWxfODU0ZjJkNmExMWUwNGE2NWIyMmYzNjY1MjRlZTA5MWYgPSAkKGA8ZGl2IGlkPSJodG1sXzg1NGYyZDZhMTFlMDRhNjViMjJmMzY2NTI0ZWUwOTFmIiBzdHlsZT0id2lkdGg6IDEwMC4wJTsgaGVpZ2h0OiAxMDAuMCU7Ij5DcmFiIENha2U8L2Rpdj5gKVswXTsKICAgICAgICAgICAgcG9wdXBfMGM1MTkxOTFjMDkyNGQ3NDkyZjFjYzBiNDE3NGVjZjguc2V0Q29udGVudChodG1sXzg1NGYyZDZhMTFlMDRhNjViMjJmMzY2NTI0ZWUwOTFmKTsKICAgICAgICAKCiAgICAgICAgbWFya2VyXzY1OTNjMzFlZmY3NTRmMzQ4ZGQ0ZDYzOTU2Y2YyZWU2LmJpbmRQb3B1cChwb3B1cF8wYzUxOTE5MWMwOTI0ZDc0OTJmMWNjMGI0MTc0ZWNmOCkKICAgICAgICA7CgogICAgICAgIAogICAgCiAgICAKICAgICAgICAgICAgdmFyIG1hcmtlcl82YWFiMjViOGE4ZTY0YTU4Yjk4ZDVmZTM1OTAwMTIxMiA9IEwubWFya2VyKAogICAgICAgICAgICAgICAgWzQyLjAwODY1OSwgLTg4LjE1ODQxMDZdLAogICAgICAgICAgICAgICAge30KICAgICAgICAgICAgKS5hZGRUbyhtYXBfNTJmMmVkNmJkYmYzNDI0MGFmMjMyNTJmMGQ4MjUxYmMpOwogICAgICAgIAogICAgCiAgICAgICAgdmFyIHBvcHVwXzljZTEyY2E1ODRiMjRhNjI5NDk1YjVjMWJiNjA0OTZiID0gTC5wb3B1cCh7Im1heFdpZHRoIjogIjEwMCUifSk7CgogICAgICAgIAogICAgICAgICAgICB2YXIgaHRtbF9iODc4NzU3ODBiMTc0YWVlODZiMzkyZTIxNTBiZmUyMCA9ICQoYDxkaXYgaWQ9Imh0bWxfYjg3ODc1NzgwYjE3NGFlZTg2YjM5MmUyMTUwYmZlMjAiIHN0eWxlPSJ3aWR0aDogMTAwLjAlOyBoZWlnaHQ6IDEwMC4wJTsiPkNoaWNrZW4gU2Nobml0emVsPC9kaXY+YClbMF07CiAgICAgICAgICAgIHBvcHVwXzljZTEyY2E1ODRiMjRhNjI5NDk1YjVjMWJiNjA0OTZiLnNldENvbnRlbnQoaHRtbF9iODc4NzU3ODBiMTc0YWVlODZiMzkyZTIxNTBiZmUyMCk7CiAgICAgICAgCgogICAgICAgIG1hcmtlcl82YWFiMjViOGE4ZTY0YTU4Yjk4ZDVmZTM1OTAwMTIxMi5iaW5kUG9wdXAocG9wdXBfOWNlMTJjYTU4NGIyNGE2Mjk0OTViNWMxYmI2MDQ5NmIpCiAgICAgICAgOwoKICAgICAgICAKICAgIAogICAgCiAgICAgICAgICAgIHZhciBtYXJrZXJfNzgwMjM2M2Q5MGE0NDgwZDhkN2VjMDM0YWEwNGJiNDkgPSBMLm1hcmtlcigKICAgICAgICAgICAgICAgIFs0MS44ODI4NjU4LCAtODcuNjQ5MjgzNzk5OTk5OTldLAogICAgICAgICAgICAgICAge30KICAgICAgICAgICAgKS5hZGRUbyhtYXBfNTJmMmVkNmJkYmYzNDI0MGFmMjMyNTJmMGQ4MjUxYmMpOwogICAgICAgIAogICAgCiAgICAgICAgdmFyIHBvcHVwXzdlNDFjZDYwMGUzNjRlOGRhN2ZhNzkyNWU5NTQyMTNkID0gTC5wb3B1cCh7Im1heFdpZHRoIjogIjEwMCUifSk7CgogICAgICAgIAogICAgICAgICAgICB2YXIgaHRtbF81MGUyNWNmZjg4OTU0M2JjYjkxODZlMDhlNzY2Yzk1OCA9ICQoYDxkaXYgaWQ9Imh0bWxfNTBlMjVjZmY4ODk1NDNiY2I5MTg2ZTA4ZTc2NmM5NTgiIHN0eWxlPSJ3aWR0aDogMTAwLjAlOyBoZWlnaHQ6IDEwMC4wJTsiPlNoYXdhcm1hPC9kaXY+YClbMF07CiAgICAgICAgICAgIHBvcHVwXzdlNDFjZDYwMGUzNjRlOGRhN2ZhNzkyNWU5NTQyMTNkLnNldENvbnRlbnQoaHRtbF81MGUyNWNmZjg4OTU0M2JjYjkxODZlMDhlNzY2Yzk1OCk7CiAgICAgICAgCgogICAgICAgIG1hcmtlcl83ODAyMzYzZDkwYTQ0ODBkOGQ3ZWMwMzRhYTA0YmI0OS5iaW5kUG9wdXAocG9wdXBfN2U0MWNkNjAwZTM2NGU4ZGE3ZmE3OTI1ZTk1NDIxM2QpCiAgICAgICAgOwoKICAgICAgICAKICAgIAogICAgCiAgICAgICAgICAgIHZhciBtYXJrZXJfMDA0Mzk5MDQzMzMyNDJmZGIxOTY0NGJiZmQwNjEzYWMgPSBMLm1hcmtlcigKICAgICAgICAgICAgICAgIFs0MS45Nzk0NDk2LCAtODcuNjY3OTU3MTk5OTk5OTldLAogICAgICAgICAgICAgICAge30KICAgICAgICAgICAgKS5hZGRUbyhtYXBfNTJmMmVkNmJkYmYzNDI0MGFmMjMyNTJmMGQ4MjUxYmMpOwogICAgICAgIAogICAgCiAgICAgICAgdmFyIHBvcHVwXzE2NDdlZDg0OGIzYzQ2YzY4MzBhMzI3NDdlYTRlMmY3ID0gTC5wb3B1cCh7Im1heFdpZHRoIjogIjEwMCUifSk7CgogICAgICAgIAogICAgICAgICAgICB2YXIgaHRtbF9jMzRjNDgzNTM1MDc0YmE4OWIwY2NlMTI5NDVkZGI5OCA9ICQoYDxkaXYgaWQ9Imh0bWxfYzM0YzQ4MzUzNTA3NGJhODliMGNjZTEyOTQ1ZGRiOTgiIHN0eWxlPSJ3aWR0aDogMTAwLjAlOyBoZWlnaHQ6IDEwMC4wJTsiPlRvYXN0ZWQgUGltaWVudG8gQ2hlZXNlPC9kaXY+YClbMF07CiAgICAgICAgICAgIHBvcHVwXzE2NDdlZDg0OGIzYzQ2YzY4MzBhMzI3NDdlYTRlMmY3LnNldENvbnRlbnQoaHRtbF9jMzRjNDgzNTM1MDc0YmE4OWIwY2NlMTI5NDVkZGI5OCk7CiAgICAgICAgCgogICAgICAgIG1hcmtlcl8wMDQzOTkwNDMzMzI0MmZkYjE5NjQ0YmJmZDA2MTNhYy5iaW5kUG9wdXAocG9wdXBfMTY0N2VkODQ4YjNjNDZjNjgzMGEzMjc0N2VhNGUyZjcpCiAgICAgICAgOwoKICAgICAgICAKICAgIAogICAgCiAgICAgICAgICAgIHZhciBtYXJrZXJfNjA5OGE2YWViZmYzNDdiZGJjN2Q2ZjYyYTkwMTMyMzcgPSBMLm1hcmtlcigKICAgICAgICAgICAgICAgIFs0MS45NTQxNjIsIC04Ny43MDI3MTA3OTk5OTk5OV0sCiAgICAgICAgICAgICAgICB7fQogICAgICAgICAgICApLmFkZFRvKG1hcF81MmYyZWQ2YmRiZjM0MjQwYWYyMzI1MmYwZDgyNTFiYyk7CiAgICAgICAgCiAgICAKICAgICAgICB2YXIgcG9wdXBfMjNmYzI2ZTQ2NGM5NGRlMDlkYjU0NmRhMjU0YzFmNjAgPSBMLnBvcHVwKHsibWF4V2lkdGgiOiAiMTAwJSJ9KTsKCiAgICAgICAgCiAgICAgICAgICAgIHZhciBodG1sX2E5ZTU2MDFmMDg0ZjRiODc5ZjQ0YzZlYTQyN2MzOWE1ID0gJChgPGRpdiBpZD0iaHRtbF9hOWU1NjAxZjA4NGY0Yjg3OWY0NGM2ZWE0MjdjMzlhNSIgc3R5bGU9IndpZHRoOiAxMDAuMCU7IGhlaWdodDogMTAwLjAlOyI+VmVnZXRhcmlhbiBQYW5pbm88L2Rpdj5gKVswXTsKICAgICAgICAgICAgcG9wdXBfMjNmYzI2ZTQ2NGM5NGRlMDlkYjU0NmRhMjU0YzFmNjAuc2V0Q29udGVudChodG1sX2E5ZTU2MDFmMDg0ZjRiODc5ZjQ0YzZlYTQyN2MzOWE1KTsKICAgICAgICAKCiAgICAgICAgbWFya2VyXzYwOThhNmFlYmZmMzQ3YmRiYzdkNmY2MmE5MDEzMjM3LmJpbmRQb3B1cChwb3B1cF8yM2ZjMjZlNDY0Yzk0ZGUwOWRiNTQ2ZGEyNTRjMWY2MCkKICAgICAgICA7CgogICAgICAgIAogICAgCiAgICAKICAgICAgICAgICAgdmFyIG1hcmtlcl83NTdlMThhY2RlYWE0OTBmOGIwZDUyNGUwNzM4ZGVhYSA9IEwubWFya2VyKAogICAgICAgICAgICAgICAgWzQxLjg4Mjg2NTgsIC04Ny42NDkyODM3OTk5OTk5OV0sCiAgICAgICAgICAgICAgICB7fQogICAgICAgICAgICApLmFkZFRvKG1hcF81MmYyZWQ2YmRiZjM0MjQwYWYyMzI1MmYwZDgyNTFiYyk7CiAgICAgICAgCiAgICAKICAgICAgICB2YXIgcG9wdXBfNWYyNGIxZTBhNmEyNDBlMjg0N2Y0NjgyNmI1Mzg1MTYgPSBMLnBvcHVwKHsibWF4V2lkdGgiOiAiMTAwJSJ9KTsKCiAgICAgICAgCiAgICAgICAgICAgIHZhciBodG1sXzRmNWRmMDc0MmQwNzQxMjhhYzkwMGVjMjdkYjQ4YTA4ID0gJChgPGRpdiBpZD0iaHRtbF80ZjVkZjA3NDJkMDc0MTI4YWM5MDBlYzI3ZGI0OGEwOCIgc3R5bGU9IndpZHRoOiAxMDAuMCU7IGhlaWdodDogMTAwLjAlOyI+Q2FsaSBDaMOodnJlPC9kaXY+YClbMF07CiAgICAgICAgICAgIHBvcHVwXzVmMjRiMWUwYTZhMjQwZTI4NDdmNDY4MjZiNTM4NTE2LnNldENvbnRlbnQoaHRtbF80ZjVkZjA3NDJkMDc0MTI4YWM5MDBlYzI3ZGI0OGEwOCk7CiAgICAgICAgCgogICAgICAgIG1hcmtlcl83NTdlMThhY2RlYWE0OTBmOGIwZDUyNGUwNzM4ZGVhYS5iaW5kUG9wdXAocG9wdXBfNWYyNGIxZTBhNmEyNDBlMjg0N2Y0NjgyNmI1Mzg1MTYpCiAgICAgICAgOwoKICAgICAgICAKICAgIAogICAgCiAgICAgICAgICAgIHZhciBtYXJrZXJfNGE2MzYxZDIzNTVlNDhkZTgzZjRlZWEyZGViMzI1OWQgPSBMLm1hcmtlcigKICAgICAgICAgICAgICAgIFs0Mi4xNTY2OTEsIC04Ny44MDM2MThdLAogICAgICAgICAgICAgICAge30KICAgICAgICAgICAgKS5hZGRUbyhtYXBfNTJmMmVkNmJkYmYzNDI0MGFmMjMyNTJmMGQ4MjUxYmMpOwogICAgICAgIAogICAgCiAgICAgICAgdmFyIHBvcHVwX2FhOWY4MmM3MDBkMjQzNzY4ZGMxZGU4ZWYyN2JiMjJlID0gTC5wb3B1cCh7Im1heFdpZHRoIjogIjEwMCUifSk7CgogICAgICAgIAogICAgICAgICAgICB2YXIgaHRtbF84YjE5ZGQzMDVkOTk0OGE5ODVkZDFjYjcyYWExZTQ0ZCA9ICQoYDxkaXYgaWQ9Imh0bWxfOGIxOWRkMzA1ZDk5NDhhOTg1ZGQxY2I3MmFhMWU0NGQiIHN0eWxlPSJ3aWR0aDogMTAwLjAlOyBoZWlnaHQ6IDEwMC4wJTsiPlBhc3RyYW1pPC9kaXY+YClbMF07CiAgICAgICAgICAgIHBvcHVwX2FhOWY4MmM3MDBkMjQzNzY4ZGMxZGU4ZWYyN2JiMjJlLnNldENvbnRlbnQoaHRtbF84YjE5ZGQzMDVkOTk0OGE5ODVkZDFjYjcyYWExZTQ0ZCk7CiAgICAgICAgCgogICAgICAgIG1hcmtlcl80YTYzNjFkMjM1NWU0OGRlODNmNGVlYTJkZWIzMjU5ZC5iaW5kUG9wdXAocG9wdXBfYWE5ZjgyYzcwMGQyNDM3NjhkYzFkZThlZjI3YmIyMmUpCiAgICAgICAgOwoKICAgICAgICAKICAgIAogICAgCiAgICAgICAgICAgIHZhciBtYXJrZXJfNjYxOTI1Zjc0OGQxNDc5ZmE5N2Q1ZDAzNmY0OTBiZmQgPSBMLm1hcmtlcigKICAgICAgICAgICAgICAgIFs0MS44ODI4NjU4LCAtODcuNjQ5MjgzNzk5OTk5OTldLAogICAgICAgICAgICAgICAge30KICAgICAgICAgICAgKS5hZGRUbyhtYXBfNTJmMmVkNmJkYmYzNDI0MGFmMjMyNTJmMGQ4MjUxYmMpOwogICAgICAgIAogICAgCiAgICAgICAgdmFyIHBvcHVwXzI5NDlmMmI3OTNlMDRlNDhhY2E3NTA5N2E1ZGZiNDIwID0gTC5wb3B1cCh7Im1heFdpZHRoIjogIjEwMCUifSk7CgogICAgICAgIAogICAgICAgICAgICB2YXIgaHRtbF8zYjMxYThjYWQ5OTg0OTY2ODFhMTgwYWIyZDNhOGM1MCA9ICQoYDxkaXYgaWQ9Imh0bWxfM2IzMWE4Y2FkOTk4NDk2NjgxYTE4MGFiMmQzYThjNTAiIHN0eWxlPSJ3aWR0aDogMTAwLjAlOyBoZWlnaHQ6IDEwMC4wJTsiPlRoZSBGcmVkbzwvZGl2PmApWzBdOwogICAgICAgICAgICBwb3B1cF8yOTQ5ZjJiNzkzZTA0ZTQ4YWNhNzUwOTdhNWRmYjQyMC5zZXRDb250ZW50KGh0bWxfM2IzMWE4Y2FkOTk4NDk2NjgxYTE4MGFiMmQzYThjNTApOwogICAgICAgIAoKICAgICAgICBtYXJrZXJfNjYxOTI1Zjc0OGQxNDc5ZmE5N2Q1ZDAzNmY0OTBiZmQuYmluZFBvcHVwKHBvcHVwXzI5NDlmMmI3OTNlMDRlNDhhY2E3NTA5N2E1ZGZiNDIwKQogICAgICAgIDsKCiAgICAgICAgCiAgICAKICAgIAogICAgICAgICAgICB2YXIgbWFya2VyXzcyZDNlODM4MDdlYjRmNTZiMDNmNGUzZjdiNzlkMjA4ID0gTC5tYXJrZXIoCiAgICAgICAgICAgICAgICBbNDEuOTY1Mjk4NywgLTg3LjY3NTU3OTU5OTk5OTk5XSwKICAgICAgICAgICAgICAgIHt9CiAgICAgICAgICAgICkuYWRkVG8obWFwXzUyZjJlZDZiZGJmMzQyNDBhZjIzMjUyZjBkODI1MWJjKTsKICAgICAgICAKICAgIAogICAgICAgIHZhciBwb3B1cF84ZGYwOGQ2MTQ1NDM0ODQ2OTQyMDYxYjJiNjA4OGY4OCA9IEwucG9wdXAoeyJtYXhXaWR0aCI6ICIxMDAlIn0pOwoKICAgICAgICAKICAgICAgICAgICAgdmFyIGh0bWxfNjU0ODcxNTNmYWNiNGQ1NzhkODQ0Y2JiZGRlM2QzNTggPSAkKGA8ZGl2IGlkPSJodG1sXzY1NDg3MTUzZmFjYjRkNTc4ZDg0NGNiYmRkZTNkMzU4IiBzdHlsZT0id2lkdGg6IDEwMC4wJTsgaGVpZ2h0OiAxMDAuMCU7Ij5TbW9rZWQgSGFtPC9kaXY+YClbMF07CiAgICAgICAgICAgIHBvcHVwXzhkZjA4ZDYxNDU0MzQ4NDY5NDIwNjFiMmI2MDg4Zjg4LnNldENvbnRlbnQoaHRtbF82NTQ4NzE1M2ZhY2I0ZDU3OGQ4NDRjYmJkZGUzZDM1OCk7CiAgICAgICAgCgogICAgICAgIG1hcmtlcl83MmQzZTgzODA3ZWI0ZjU2YjAzZjRlM2Y3Yjc5ZDIwOC5iaW5kUG9wdXAocG9wdXBfOGRmMDhkNjE0NTQzNDg0Njk0MjA2MWIyYjYwODhmODgpCiAgICAgICAgOwoKICAgICAgICAKICAgIAogICAgCiAgICAgICAgICAgIHZhciBtYXJrZXJfZTAxMjllMmJjOGZhNDQwMGE2NDc3ZTg0OGM3OWE4MWIgPSBMLm1hcmtlcigKICAgICAgICAgICAgICAgIFs0MS45MDI3MjE3OTk5OTk5OSwgLTg3LjY5MDIxMzVdLAogICAgICAgICAgICAgICAge30KICAgICAgICAgICAgKS5hZGRUbyhtYXBfNTJmMmVkNmJkYmYzNDI0MGFmMjMyNTJmMGQ4MjUxYmMpOwogICAgICAgIAogICAgCiAgICAgICAgdmFyIHBvcHVwXzM5YmM0MmQ3NmRkMDQzMGI5N2Y5ZmEzMjgzNGFlN2M2ID0gTC5wb3B1cCh7Im1heFdpZHRoIjogIjEwMCUifSk7CgogICAgICAgIAogICAgICAgICAgICB2YXIgaHRtbF85OTBiY2E4MzM3OGY0NTBkYWI4MmFjOGYyNDQxMTA0YiA9ICQoYDxkaXYgaWQ9Imh0bWxfOTkwYmNhODMzNzhmNDUwZGFiODJhYzhmMjQ0MTEwNGIiIHN0eWxlPSJ3aWR0aDogMTAwLjAlOyBoZWlnaHQ6IDEwMC4wJTsiPkppYmFyaXRvPC9kaXY+YClbMF07CiAgICAgICAgICAgIHBvcHVwXzM5YmM0MmQ3NmRkMDQzMGI5N2Y5ZmEzMjgzNGFlN2M2LnNldENvbnRlbnQoaHRtbF85OTBiY2E4MzM3OGY0NTBkYWI4MmFjOGYyNDQxMTA0Yik7CiAgICAgICAgCgogICAgICAgIG1hcmtlcl9lMDEyOWUyYmM4ZmE0NDAwYTY0NzdlODQ4Yzc5YTgxYi5iaW5kUG9wdXAocG9wdXBfMzliYzQyZDc2ZGQwNDMwYjk3ZjlmYTMyODM0YWU3YzYpCiAgICAgICAgOwoKICAgICAgICAKICAgIAogICAgCiAgICAgICAgICAgIHZhciBtYXJrZXJfOTg1MTA1OGExMWI5NDczZDlmNTY3NTYwMzFmMjkwZmEgPSBMLm1hcmtlcigKICAgICAgICAgICAgICAgIFs0MS44ODkzNjgzLCAtODcuNjM0OTQ4N10sCiAgICAgICAgICAgICAgICB7fQogICAgICAgICAgICApLmFkZFRvKG1hcF81MmYyZWQ2YmRiZjM0MjQwYWYyMzI1MmYwZDgyNTFiYyk7CiAgICAgICAgCiAgICAKICAgICAgICB2YXIgcG9wdXBfYmIwNjJiZWQxOTYxNGRlMTgzOWM1NTY4NjMyNmU5NzkgPSBMLnBvcHVwKHsibWF4V2lkdGgiOiAiMTAwJSJ9KTsKCiAgICAgICAgCiAgICAgICAgICAgIHZhciBodG1sXzYzNGI1ZGU2OGNkNjQ4NmQ5ZWNkZjVhMmViNDBiNTRmID0gJChgPGRpdiBpZD0iaHRtbF82MzRiNWRlNjhjZDY0ODZkOWVjZGY1YTJlYjQwYjU0ZiIgc3R5bGU9IndpZHRoOiAxMDAuMCU7IGhlaWdodDogMTAwLjAlOyI+U2hhdmVkIFByaW1lIFJpYjwvZGl2PmApWzBdOwogICAgICAgICAgICBwb3B1cF9iYjA2MmJlZDE5NjE0ZGUxODM5YzU1Njg2MzI2ZTk3OS5zZXRDb250ZW50KGh0bWxfNjM0YjVkZTY4Y2Q2NDg2ZDllY2RmNWEyZWI0MGI1NGYpOwogICAgICAgIAoKICAgICAgICBtYXJrZXJfOTg1MTA1OGExMWI5NDczZDlmNTY3NTYwMzFmMjkwZmEuYmluZFBvcHVwKHBvcHVwX2JiMDYyYmVkMTk2MTRkZTE4MzljNTU2ODYzMjZlOTc5KQogICAgICAgIDsKCiAgICAgICAgCiAgICAKICAgIAogICAgICAgICAgICB2YXIgbWFya2VyX2FhNDliOGE4NTNlNTRiM2ZhMTA2MWZhOThkODk0NzExID0gTC5tYXJrZXIoCiAgICAgICAgICAgICAgICBbNDEuODgyODY1OCwgLTg3LjY0OTI4Mzc5OTk5OTk5XSwKICAgICAgICAgICAgICAgIHt9CiAgICAgICAgICAgICkuYWRkVG8obWFwXzUyZjJlZDZiZGJmMzQyNDBhZjIzMjUyZjBkODI1MWJjKTsKICAgICAgICAKICAgIAogICAgICAgIHZhciBwb3B1cF85ZGY3MjdjMWMwNzU0MTVkOGU4NTAxN2VhZjQxZGI2ZCA9IEwucG9wdXAoeyJtYXhXaWR0aCI6ICIxMDAlIn0pOwoKICAgICAgICAKICAgICAgICAgICAgdmFyIGh0bWxfOWExNTI2YTc1ZjIxNDViNGE5ODY2MTBjZGU3NDcwMWQgPSAkKGA8ZGl2IGlkPSJodG1sXzlhMTUyNmE3NWYyMTQ1YjRhOTg2NjEwY2RlNzQ3MDFkIiBzdHlsZT0id2lkdGg6IDEwMC4wJTsgaGVpZ2h0OiAxMDAuMCU7Ij5TZXJyYW5vIEhhbSBhbmQgTWFuY2hlZ28gQ2hlZXNlPC9kaXY+YClbMF07CiAgICAgICAgICAgIHBvcHVwXzlkZjcyN2MxYzA3NTQxNWQ4ZTg1MDE3ZWFmNDFkYjZkLnNldENvbnRlbnQoaHRtbF85YTE1MjZhNzVmMjE0NWI0YTk4NjYxMGNkZTc0NzAxZCk7CiAgICAgICAgCgogICAgICAgIG1hcmtlcl9hYTQ5YjhhODUzZTU0YjNmYTEwNjFmYTk4ZDg5NDcxMS5iaW5kUG9wdXAocG9wdXBfOWRmNzI3YzFjMDc1NDE1ZDhlODUwMTdlYWY0MWRiNmQpCiAgICAgICAgOwoKICAgICAgICAKICAgIAogICAgCiAgICAgICAgICAgIHZhciBtYXJrZXJfOTg5MDlkMDI0NjI2NGQyM2EwMTI5Y2EwOTc0YjMyMmQgPSBMLm1hcmtlcigKICAgICAgICAgICAgICAgIFs0MS45MTA1MjU4LCAtODcuNjM0Mzc3NV0sCiAgICAgICAgICAgICAgICB7fQogICAgICAgICAgICApLmFkZFRvKG1hcF81MmYyZWQ2YmRiZjM0MjQwYWYyMzI1MmYwZDgyNTFiYyk7CiAgICAgICAgCiAgICAKICAgICAgICB2YXIgcG9wdXBfZTUyNDE5ZjQ0NzIxNGU1ZTkzY2JiYjNiOGRmNzczNjQgPSBMLnBvcHVwKHsibWF4V2lkdGgiOiAiMTAwJSJ9KTsKCiAgICAgICAgCiAgICAgICAgICAgIHZhciBodG1sX2YxOWUxY2YxM2U3YjRmNDE5Nzg2ZjZhNzU3YjQ0MTlhID0gJChgPGRpdiBpZD0iaHRtbF9mMTllMWNmMTNlN2I0ZjQxOTc4NmY2YTc1N2I0NDE5YSIgc3R5bGU9IndpZHRoOiAxMDAuMCU7IGhlaWdodDogMTAwLjAlOyI+VHVuYSBTYWxhZDwvZGl2PmApWzBdOwogICAgICAgICAgICBwb3B1cF9lNTI0MTlmNDQ3MjE0ZTVlOTNjYmJiM2I4ZGY3NzM2NC5zZXRDb250ZW50KGh0bWxfZjE5ZTFjZjEzZTdiNGY0MTk3ODZmNmE3NTdiNDQxOWEpOwogICAgICAgIAoKICAgICAgICBtYXJrZXJfOTg5MDlkMDI0NjI2NGQyM2EwMTI5Y2EwOTc0YjMyMmQuYmluZFBvcHVwKHBvcHVwX2U1MjQxOWY0NDcyMTRlNWU5M2NiYmIzYjhkZjc3MzY0KQogICAgICAgIDsKCiAgICAgICAgCiAgICAKICAgIAogICAgICAgICAgICB2YXIgbWFya2VyX2ZkMDA0NmNjZjY2NjQ3MDhiZDQ4NGU2MDIwYTNmMzBmID0gTC5tYXJrZXIoCiAgICAgICAgICAgICAgICBbNDEuODg5NjE4OCwgLTg3LjY0NDg0MjU5OTk5OTk5XSwKICAgICAgICAgICAgICAgIHt9CiAgICAgICAgICAgICkuYWRkVG8obWFwXzUyZjJlZDZiZGJmMzQyNDBhZjIzMjUyZjBkODI1MWJjKTsKICAgICAgICAKICAgIAogICAgICAgIHZhciBwb3B1cF9mNTVlZWFhYzFlYWI0NTY1OTRlYzcyZTVjNzYzZjQwYyA9IEwucG9wdXAoeyJtYXhXaWR0aCI6ICIxMDAlIn0pOwoKICAgICAgICAKICAgICAgICAgICAgdmFyIGh0bWxfYzI0ZTJlMjhlMzBjNDY2YTkyYWQwMTQ3NDNkZmI5ZTMgPSAkKGA8ZGl2IGlkPSJodG1sX2MyNGUyZTI4ZTMwYzQ2NmE5MmFkMDE0NzQzZGZiOWUzIiBzdHlsZT0id2lkdGg6IDEwMC4wJTsgaGVpZ2h0OiAxMDAuMCU7Ij5QYXJhbW91bnQgUmV1YmVuPC9kaXY+YClbMF07CiAgICAgICAgICAgIHBvcHVwX2Y1NWVlYWFjMWVhYjQ1NjU5NGVjNzJlNWM3NjNmNDBjLnNldENvbnRlbnQoaHRtbF9jMjRlMmUyOGUzMGM0NjZhOTJhZDAxNDc0M2RmYjllMyk7CiAgICAgICAgCgogICAgICAgIG1hcmtlcl9mZDAwNDZjY2Y2NjY0NzA4YmQ0ODRlNjAyMGEzZjMwZi5iaW5kUG9wdXAocG9wdXBfZjU1ZWVhYWMxZWFiNDU2NTk0ZWM3MmU1Yzc2M2Y0MGMpCiAgICAgICAgOwoKICAgICAgICAKICAgIAogICAgCiAgICAgICAgICAgIHZhciBtYXJrZXJfMDM2ZTIzZTE2YTBlNDBjNTg1MGFhMTgxMTEyNjI4NTUgPSBMLm1hcmtlcigKICAgICAgICAgICAgICAgIFs0MS45MTUwNDk5MDAwMDAwMSwgLTg3LjY3NzgwNDddLAogICAgICAgICAgICAgICAge30KICAgICAgICAgICAgKS5hZGRUbyhtYXBfNTJmMmVkNmJkYmYzNDI0MGFmMjMyNTJmMGQ4MjUxYmMpOwogICAgICAgIAogICAgCiAgICAgICAgdmFyIHBvcHVwX2E1N2UxZjRjYWJiNjRjMzJiOTcxOWEwMTM4NWI1ZWNiID0gTC5wb3B1cCh7Im1heFdpZHRoIjogIjEwMCUifSk7CgogICAgICAgIAogICAgICAgICAgICB2YXIgaHRtbF83ZWE1ZGRiYzMxYTQ0M2U3OTcwZDQ5ZWI5ZmYxMjQ0MiA9ICQoYDxkaXYgaWQ9Imh0bWxfN2VhNWRkYmMzMWE0NDNlNzk3MGQ0OWViOWZmMTI0NDIiIHN0eWxlPSJ3aWR0aDogMTAwLjAlOyBoZWlnaHQ6IDEwMC4wJTsiPlRoZSBJc3RhbmJ1bDwvZGl2PmApWzBdOwogICAgICAgICAgICBwb3B1cF9hNTdlMWY0Y2FiYjY0YzMyYjk3MTlhMDEzODViNWVjYi5zZXRDb250ZW50KGh0bWxfN2VhNWRkYmMzMWE0NDNlNzk3MGQ0OWViOWZmMTI0NDIpOwogICAgICAgIAoKICAgICAgICBtYXJrZXJfMDM2ZTIzZTE2YTBlNDBjNTg1MGFhMTgxMTEyNjI4NTUuYmluZFBvcHVwKHBvcHVwX2E1N2UxZjRjYWJiNjRjMzJiOTcxOWEwMTM4NWI1ZWNiKQogICAgICAgIDsKCiAgICAgICAgCiAgICAKICAgIAogICAgICAgICAgICB2YXIgbWFya2VyX2NhOWZlMjNhNDhhMjRiMjhiMzVjZGNiNDQyNGFlNjNlID0gTC5tYXJrZXIoCiAgICAgICAgICAgICAgICBbNDEuOTIxODUyMSwgLTg3LjY1OTIxMjRdLAogICAgICAgICAgICAgICAge30KICAgICAgICAgICAgKS5hZGRUbyhtYXBfNTJmMmVkNmJkYmYzNDI0MGFmMjMyNTJmMGQ4MjUxYmMpOwogICAgICAgIAogICAgCiAgICAgICAgdmFyIHBvcHVwXzQxZDA2MTk3NzRmZjQzN2M5ZTUxZDYxMjA3NzNiMDkyID0gTC5wb3B1cCh7Im1heFdpZHRoIjogIjEwMCUifSk7CgogICAgICAgIAogICAgICAgICAgICB2YXIgaHRtbF9hNTZhMWE3ZmM0Yjc0YmRhYjY0ZWRiMzQyMGEzZDIyNyA9ICQoYDxkaXYgaWQ9Imh0bWxfYTU2YTFhN2ZjNGI3NGJkYWI2NGVkYjM0MjBhM2QyMjciIHN0eWxlPSJ3aWR0aDogMTAwLjAlOyBoZWlnaHQ6IDEwMC4wJTsiPkIuQS5ELjwvZGl2PmApWzBdOwogICAgICAgICAgICBwb3B1cF80MWQwNjE5Nzc0ZmY0MzdjOWU1MWQ2MTIwNzczYjA5Mi5zZXRDb250ZW50KGh0bWxfYTU2YTFhN2ZjNGI3NGJkYWI2NGVkYjM0MjBhM2QyMjcpOwogICAgICAgIAoKICAgICAgICBtYXJrZXJfY2E5ZmUyM2E0OGEyNGIyOGIzNWNkY2I0NDI0YWU2M2UuYmluZFBvcHVwKHBvcHVwXzQxZDA2MTk3NzRmZjQzN2M5ZTUxZDYxMjA3NzNiMDkyKQogICAgICAgIDsKCiAgICAgICAgCiAgICAKICAgIAogICAgICAgICAgICB2YXIgbWFya2VyXzJjNzIwNmIzN2UwZDQ2YWU5ODEzMzEwNmE0NzgyNGVkID0gTC5tYXJrZXIoCiAgICAgICAgICAgICAgICBbNDEuOTc5NzA5OSwgLTg3LjY2OTM0NDA5OTk5OTk5XSwKICAgICAgICAgICAgICAgIHt9CiAgICAgICAgICAgICkuYWRkVG8obWFwXzUyZjJlZDZiZGJmMzQyNDBhZjIzMjUyZjBkODI1MWJjKTsKICAgICAgICAKICAgIAogICAgICAgIHZhciBwb3B1cF8yZjNlZmRhZGRiODE0YTUwYTYyNjQ0ZTU2NzYyOThmMyA9IEwucG9wdXAoeyJtYXhXaWR0aCI6ICIxMDAlIn0pOwoKICAgICAgICAKICAgICAgICAgICAgdmFyIGh0bWxfNjI0NzcxYWM0ZWEyNDU3ZWIyYjQxNzU4NTIyOGRkNzcgPSAkKGA8ZGl2IGlkPSJodG1sXzYyNDc3MWFjNGVhMjQ1N2ViMmI0MTc1ODUyMjhkZDc3IiBzdHlsZT0id2lkdGg6IDEwMC4wJTsgaGVpZ2h0OiAxMDAuMCU7Ij5EdWNrIENvbmZpdCBhbmQgTW96emFyZWxsYTwvZGl2PmApWzBdOwogICAgICAgICAgICBwb3B1cF8yZjNlZmRhZGRiODE0YTUwYTYyNjQ0ZTU2NzYyOThmMy5zZXRDb250ZW50KGh0bWxfNjI0NzcxYWM0ZWEyNDU3ZWIyYjQxNzU4NTIyOGRkNzcpOwogICAgICAgIAoKICAgICAgICBtYXJrZXJfMmM3MjA2YjM3ZTBkNDZhZTk4MTMzMTA2YTQ3ODI0ZWQuYmluZFBvcHVwKHBvcHVwXzJmM2VmZGFkZGI4MTRhNTBhNjI2NDRlNTY3NjI5OGYzKQogICAgICAgIDsKCiAgICAgICAgCiAgICAKICAgIAogICAgICAgICAgICB2YXIgbWFya2VyXzBjMjVhNzA1YmUxMDRiZDZiODI3NTdiN2ViNjU1ZDZhID0gTC5tYXJrZXIoCiAgICAgICAgICAgICAgICBbNDEuOTYxNzEyMiwgLTg3LjY3NTgxNjIwMDAwMDAxXSwKICAgICAgICAgICAgICAgIHt9CiAgICAgICAgICAgICkuYWRkVG8obWFwXzUyZjJlZDZiZGJmMzQyNDBhZjIzMjUyZjBkODI1MWJjKTsKICAgICAgICAKICAgIAogICAgICAgIHZhciBwb3B1cF80OWU4MWM0YmZlMWY0YWFhYmVmZjlkYjQ3MTJiNzI3NyA9IEwucG9wdXAoeyJtYXhXaWR0aCI6ICIxMDAlIn0pOwoKICAgICAgICAKICAgICAgICAgICAgdmFyIGh0bWxfMDAzYzIzM2E1YWQ3NDNkY2JiNDBlYmNlYWZlNGI2OWEgPSAkKGA8ZGl2IGlkPSJodG1sXzAwM2MyMzNhNWFkNzQzZGNiYjQwZWJjZWFmZTRiNjlhIiBzdHlsZT0id2lkdGg6IDEwMC4wJTsgaGVpZ2h0OiAxMDAuMCU7Ij5Dcm9xdWUgTW9uc2lldXI8L2Rpdj5gKVswXTsKICAgICAgICAgICAgcG9wdXBfNDllODFjNGJmZTFmNGFhYWJlZmY5ZGI0NzEyYjcyNzcuc2V0Q29udGVudChodG1sXzAwM2MyMzNhNWFkNzQzZGNiYjQwZWJjZWFmZTRiNjlhKTsKICAgICAgICAKCiAgICAgICAgbWFya2VyXzBjMjVhNzA1YmUxMDRiZDZiODI3NTdiN2ViNjU1ZDZhLmJpbmRQb3B1cChwb3B1cF80OWU4MWM0YmZlMWY0YWFhYmVmZjlkYjQ3MTJiNzI3NykKICAgICAgICA7CgogICAgICAgIAogICAgCiAgICAKICAgICAgICAgICAgdmFyIG1hcmtlcl82NTE1YjcwYzkzOWQ0ZTc5YTRiZjRlMDRjMzMzZjNjMCA9IEwubWFya2VyKAogICAgICAgICAgICAgICAgWzQxLjg5Mjk2MTE5OTk5OTk5LCAtODcuNjI3ODIxNF0sCiAgICAgICAgICAgICAgICB7fQogICAgICAgICAgICApLmFkZFRvKG1hcF81MmYyZWQ2YmRiZjM0MjQwYWYyMzI1MmYwZDgyNTFiYyk7CiAgICAgICAgCiAgICAKICAgICAgICB2YXIgcG9wdXBfOTQ2YTM0YzJlNzE4NDY4NWFhYWVlMzRhOWM0NDI0ZWIgPSBMLnBvcHVwKHsibWF4V2lkdGgiOiAiMTAwJSJ9KTsKCiAgICAgICAgCiAgICAgICAgICAgIHZhciBodG1sX2MyMGNlZDk3Zjc5NTRjN2E4Zjg3ZjE3NDViNDk3ZWQzID0gJChgPGRpdiBpZD0iaHRtbF9jMjBjZWQ5N2Y3OTU0YzdhOGY4N2YxNzQ1YjQ5N2VkMyIgc3R5bGU9IndpZHRoOiAxMDAuMCU7IGhlaWdodDogMTAwLjAlOyI+R3JlZW4gR2FyYmFuem88L2Rpdj5gKVswXTsKICAgICAgICAgICAgcG9wdXBfOTQ2YTM0YzJlNzE4NDY4NWFhYWVlMzRhOWM0NDI0ZWIuc2V0Q29udGVudChodG1sX2MyMGNlZDk3Zjc5NTRjN2E4Zjg3ZjE3NDViNDk3ZWQzKTsKICAgICAgICAKCiAgICAgICAgbWFya2VyXzY1MTViNzBjOTM5ZDRlNzlhNGJmNGUwNGMzMzNmM2MwLmJpbmRQb3B1cChwb3B1cF85NDZhMzRjMmU3MTg0Njg1YWFhZWUzNGE5YzQ0MjRlYikKICAgICAgICA7CgogICAgICAgIAogICAgCiAgICAKICAgICAgICAgICAgdmFyIG1hcmtlcl9iMTQxNTM5MjhlZDg0ZThkODdlYzg5ZTZlNjMwNzllYyA9IEwubWFya2VyKAogICAgICAgICAgICAgICAgWzQxLjg4Mjg2NTgsIC04Ny42NDkyODM3OTk5OTk5OV0sCiAgICAgICAgICAgICAgICB7fQogICAgICAgICAgICApLmFkZFRvKG1hcF81MmYyZWQ2YmRiZjM0MjQwYWYyMzI1MmYwZDgyNTFiYyk7CiAgICAgICAgCiAgICAKICAgICAgICB2YXIgcG9wdXBfMDQwOWQ2Y2M0MzNhNDE5ZmFlZDlkODFhMzVhYWMzZDkgPSBMLnBvcHVwKHsibWF4V2lkdGgiOiAiMTAwJSJ9KTsKCiAgICAgICAgCiAgICAgICAgICAgIHZhciBodG1sX2ViYmI4OGQzNTk5NDRlYzhiYmIzZGIyZjc5MTI4MjhjID0gJChgPGRpdiBpZD0iaHRtbF9lYmJiODhkMzU5OTQ0ZWM4YmJiM2RiMmY3OTEyODI4YyIgc3R5bGU9IndpZHRoOiAxMDAuMCU7IGhlaWdodDogMTAwLjAlOyI+VGhlIEhlbiBIb3VzZTwvZGl2PmApWzBdOwogICAgICAgICAgICBwb3B1cF8wNDA5ZDZjYzQzM2E0MTlmYWVkOWQ4MWEzNWFhYzNkOS5zZXRDb250ZW50KGh0bWxfZWJiYjg4ZDM1OTk0NGVjOGJiYjNkYjJmNzkxMjgyOGMpOwogICAgICAgIAoKICAgICAgICBtYXJrZXJfYjE0MTUzOTI4ZWQ4NGU4ZDg3ZWM4OWU2ZTYzMDc5ZWMuYmluZFBvcHVwKHBvcHVwXzA0MDlkNmNjNDMzYTQxOWZhZWQ5ZDgxYTM1YWFjM2Q5KQogICAgICAgIDsKCiAgICAgICAgCiAgICAKICAgIAogICAgICAgICAgICB2YXIgbWFya2VyXzZhMWEzNTJjYzVkOTRjYjZhYWM0ZjFlYTUzYzE1Nzc0ID0gTC5tYXJrZXIoCiAgICAgICAgICAgICAgICBbNDEuOTA0NzU1MSwgLTg3LjkzOTY0NTldLAogICAgICAgICAgICAgICAge30KICAgICAgICAgICAgKS5hZGRUbyhtYXBfNTJmMmVkNmJkYmYzNDI0MGFmMjMyNTJmMGQ4MjUxYmMpOwogICAgICAgIAogICAgCiAgICAgICAgdmFyIHBvcHVwXzA0OTlmODBmMDJhNjRmNDM4OTk2ZGM1ODljNzE2YTc0ID0gTC5wb3B1cCh7Im1heFdpZHRoIjogIjEwMCUifSk7CgogICAgICAgIAogICAgICAgICAgICB2YXIgaHRtbF9lYTZhN2ZhZTYzY2Q0NjA5OWI4NmM2ZjgxOTQ2ZTQ4NSA9ICQoYDxkaXYgaWQ9Imh0bWxfZWE2YTdmYWU2M2NkNDYwOTliODZjNmY4MTk0NmU0ODUiIHN0eWxlPSJ3aWR0aDogMTAwLjAlOyBoZWlnaHQ6IDEwMC4wJTsiPlR1c2NhbiBDaGlja2VuPC9kaXY+YClbMF07CiAgICAgICAgICAgIHBvcHVwXzA0OTlmODBmMDJhNjRmNDM4OTk2ZGM1ODljNzE2YTc0LnNldENvbnRlbnQoaHRtbF9lYTZhN2ZhZTYzY2Q0NjA5OWI4NmM2ZjgxOTQ2ZTQ4NSk7CiAgICAgICAgCgogICAgICAgIG1hcmtlcl82YTFhMzUyY2M1ZDk0Y2I2YWFjNGYxZWE1M2MxNTc3NC5iaW5kUG9wdXAocG9wdXBfMDQ5OWY4MGYwMmE2NGY0Mzg5OTZkYzU4OWM3MTZhNzQpCiAgICAgICAgOwoKICAgICAgICAKICAgIAogICAgCiAgICAgICAgICAgIHZhciBtYXJrZXJfYTE2MzQzYjZlMmU1NDcwM2EyNGQ4ZDcwN2M3MjkwZjkgPSBMLm1hcmtlcigKICAgICAgICAgICAgICAgIFs0MS43OTEzMTg1LCAtODcuNTkzODQ1Nl0sCiAgICAgICAgICAgICAgICB7fQogICAgICAgICAgICApLmFkZFRvKG1hcF81MmYyZWQ2YmRiZjM0MjQwYWYyMzI1MmYwZDgyNTFiYyk7CiAgICAgICAgCiAgICAKICAgICAgICB2YXIgcG9wdXBfOThlZDRjOTZmNTEzNGZjYWFmNmJkNmJmZWZmMmQ1YzUgPSBMLnBvcHVwKHsibWF4V2lkdGgiOiAiMTAwJSJ9KTsKCiAgICAgICAgCiAgICAgICAgICAgIHZhciBodG1sXzE5YTg1OGRjNDdkNDQ5ZGY5NTZjYmYzNTgzNDc5YzFhID0gJChgPGRpdiBpZD0iaHRtbF8xOWE4NThkYzQ3ZDQ0OWRmOTU2Y2JmMzU4MzQ3OWMxYSIgc3R5bGU9IndpZHRoOiAxMDAuMCU7IGhlaWdodDogMTAwLjAlOyI+VGhlIE1hcnR5IDwvZGl2PmApWzBdOwogICAgICAgICAgICBwb3B1cF85OGVkNGM5NmY1MTM0ZmNhYWY2YmQ2YmZlZmYyZDVjNS5zZXRDb250ZW50KGh0bWxfMTlhODU4ZGM0N2Q0NDlkZjk1NmNiZjM1ODM0NzljMWEpOwogICAgICAgIAoKICAgICAgICBtYXJrZXJfYTE2MzQzYjZlMmU1NDcwM2EyNGQ4ZDcwN2M3MjkwZjkuYmluZFBvcHVwKHBvcHVwXzk4ZWQ0Yzk2ZjUxMzRmY2FhZjZiZDZiZmVmZjJkNWM1KQogICAgICAgIDsKCiAgICAgICAgCiAgICAKICAgIAogICAgICAgICAgICB2YXIgbWFya2VyXzIzYTIxODJjOGRiODQyOTZhNWMxNmExMWIyY2NiZWFkID0gTC5tYXJrZXIoCiAgICAgICAgICAgICAgICBbNDIuMjUxNzk0LCAtODcuODQxMzJdLAogICAgICAgICAgICAgICAge30KICAgICAgICAgICAgKS5hZGRUbyhtYXBfNTJmMmVkNmJkYmYzNDI0MGFmMjMyNTJmMGQ4MjUxYmMpOwogICAgICAgIAogICAgCiAgICAgICAgdmFyIHBvcHVwX2NhNzBhY2EzYzExZjQ3NjhiZWM3NGExMDZmZThmYmU1ID0gTC5wb3B1cCh7Im1heFdpZHRoIjogIjEwMCUifSk7CgogICAgICAgIAogICAgICAgICAgICB2YXIgaHRtbF84MmVlZTYxNjE4YjE0NTI3YWRjMGU2YjFhNjQ0M2FmMSA9ICQoYDxkaXYgaWQ9Imh0bWxfODJlZWU2MTYxOGIxNDUyN2FkYzBlNmIxYTY0NDNhZjEiIHN0eWxlPSJ3aWR0aDogMTAwLjAlOyBoZWlnaHQ6IDEwMC4wJTsiPldoaXRlZmlzaDwvZGl2PmApWzBdOwogICAgICAgICAgICBwb3B1cF9jYTcwYWNhM2MxMWY0NzY4YmVjNzRhMTA2ZmU4ZmJlNS5zZXRDb250ZW50KGh0bWxfODJlZWU2MTYxOGIxNDUyN2FkYzBlNmIxYTY0NDNhZjEpOwogICAgICAgIAoKICAgICAgICBtYXJrZXJfMjNhMjE4MmM4ZGI4NDI5NmE1YzE2YTExYjJjY2JlYWQuYmluZFBvcHVwKHBvcHVwX2NhNzBhY2EzYzExZjQ3NjhiZWM3NGExMDZmZThmYmU1KQogICAgICAgIDsKCiAgICAgICAgCiAgICAKICAgIAogICAgICAgICAgICB2YXIgbWFya2VyXzAxMTg1MTRkOTgxYjQwNjA4NjUyNjg0NjJiMzkxZGI4ID0gTC5tYXJrZXIoCiAgICAgICAgICAgICAgICBbNDEuOTE1Mjg3NSwgLTg3LjYzNDM4ODhdLAogICAgICAgICAgICAgICAge30KICAgICAgICAgICAgKS5hZGRUbyhtYXBfNTJmMmVkNmJkYmYzNDI0MGFmMjMyNTJmMGQ4MjUxYmMpOwogICAgICAgIAogICAgCiAgICAgICAgdmFyIHBvcHVwXzlkMTAzN2JmOTdhZjQ5MWI5NWU1MzI5YTdjMGQ0YTQyID0gTC5wb3B1cCh7Im1heFdpZHRoIjogIjEwMCUifSk7CgogICAgICAgIAogICAgICAgICAgICB2YXIgaHRtbF9iYmY0MzAzNDkxZWI0YTU1ODU0YmJlYTY2ODYzYzBkYSA9ICQoYDxkaXYgaWQ9Imh0bWxfYmJmNDMwMzQ5MWViNGE1NTg1NGJiZWE2Njg2M2MwZGEiIHN0eWxlPSJ3aWR0aDogMTAwLjAlOyBoZWlnaHQ6IDEwMC4wJTsiPk9hdCBCcmVhZCwgUGVjYW4gQnV0dGVyLCBhbmQgRnJ1aXQgSmFtPC9kaXY+YClbMF07CiAgICAgICAgICAgIHBvcHVwXzlkMTAzN2JmOTdhZjQ5MWI5NWU1MzI5YTdjMGQ0YTQyLnNldENvbnRlbnQoaHRtbF9iYmY0MzAzNDkxZWI0YTU1ODU0YmJlYTY2ODYzYzBkYSk7CiAgICAgICAgCgogICAgICAgIG1hcmtlcl8wMTE4NTE0ZDk4MWI0MDYwODY1MjY4NDYyYjM5MWRiOC5iaW5kUG9wdXAocG9wdXBfOWQxMDM3YmY5N2FmNDkxYjk1ZTUzMjlhN2MwZDRhNDIpCiAgICAgICAgOwoKICAgICAgICAKICAgIAogICAgCiAgICAgICAgICAgIHZhciBtYXJrZXJfMmEzMjhjZWE1OGQ5NGI0NmE1NTEzNDhiMjlkYTFiZDQgPSBMLm1hcmtlcigKICAgICAgICAgICAgICAgIFs0MS44ODYzNjIyLCAtODcuODAyMjI5N10sCiAgICAgICAgICAgICAgICB7fQogICAgICAgICAgICApLmFkZFRvKG1hcF81MmYyZWQ2YmRiZjM0MjQwYWYyMzI1MmYwZDgyNTFiYyk7CiAgICAgICAgCiAgICAKICAgICAgICB2YXIgcG9wdXBfYjc2NTY4MDQ0Zjk2NGUyOWJhYzNlMGYxN2NkNjBkNmUgPSBMLnBvcHVwKHsibWF4V2lkdGgiOiAiMTAwJSJ9KTsKCiAgICAgICAgCiAgICAgICAgICAgIHZhciBodG1sX2M4ODdjOTRjZDE0ZTRiZTc5MzM5M2Y4ZDU0N2UwZjM5ID0gJChgPGRpdiBpZD0iaHRtbF9jODg3Yzk0Y2QxNGU0YmU3OTMzOTNmOGQ1NDdlMGYzOSIgc3R5bGU9IndpZHRoOiAxMDAuMCU7IGhlaWdodDogMTAwLjAlOyI+Q2F1bGlmbG93ZXIgTWVsdDwvZGl2PmApWzBdOwogICAgICAgICAgICBwb3B1cF9iNzY1NjgwNDRmOTY0ZTI5YmFjM2UwZjE3Y2Q2MGQ2ZS5zZXRDb250ZW50KGh0bWxfYzg4N2M5NGNkMTRlNGJlNzkzMzkzZjhkNTQ3ZTBmMzkpOwogICAgICAgIAoKICAgICAgICBtYXJrZXJfMmEzMjhjZWE1OGQ5NGI0NmE1NTEzNDhiMjlkYTFiZDQuYmluZFBvcHVwKHBvcHVwX2I3NjU2ODA0NGY5NjRlMjliYWMzZTBmMTdjZDYwZDZlKQogICAgICAgIDsKCiAgICAgICAgCiAgICAKICAgIAogICAgICAgICAgICB2YXIgbWFya2VyX2NkMWY4OGRkMTY5MDQ2OWNhODJhODFiNDkxZjljYTM5ID0gTC5tYXJrZXIoCiAgICAgICAgICAgICAgICBbNDEuODc1ODEwMiwgLTg3LjYyNjQ0ODldLAogICAgICAgICAgICAgICAge30KICAgICAgICAgICAgKS5hZGRUbyhtYXBfNTJmMmVkNmJkYmYzNDI0MGFmMjMyNTJmMGQ4MjUxYmMpOwogICAgICAgIAogICAgCiAgICAgICAgdmFyIHBvcHVwXzc1ZGFmN2E2ZTEzNzQ4MDhhZGUyYjI0ZDEwMThhZTQ2ID0gTC5wb3B1cCh7Im1heFdpZHRoIjogIjEwMCUifSk7CgogICAgICAgIAogICAgICAgICAgICB2YXIgaHRtbF85ZmIzMGZiYWEyZGU0NjRkOGFmZWNkMWU0ZjRhMTI3MSA9ICQoYDxkaXYgaWQ9Imh0bWxfOWZiMzBmYmFhMmRlNDY0ZDhhZmVjZDFlNGY0YTEyNzEiIHN0eWxlPSJ3aWR0aDogMTAwLjAlOyBoZWlnaHQ6IDEwMC4wJTsiPkN1YmFuYTwvZGl2PmApWzBdOwogICAgICAgICAgICBwb3B1cF83NWRhZjdhNmUxMzc0ODA4YWRlMmIyNGQxMDE4YWU0Ni5zZXRDb250ZW50KGh0bWxfOWZiMzBmYmFhMmRlNDY0ZDhhZmVjZDFlNGY0YTEyNzEpOwogICAgICAgIAoKICAgICAgICBtYXJrZXJfY2QxZjg4ZGQxNjkwNDY5Y2E4MmE4MWI0OTFmOWNhMzkuYmluZFBvcHVwKHBvcHVwXzc1ZGFmN2E2ZTEzNzQ4MDhhZGUyYjI0ZDEwMThhZTQ2KQogICAgICAgIDsKCiAgICAgICAgCiAgICAKICAgIAogICAgICAgICAgICB2YXIgbWFya2VyX2M3NThjODYyMWYzZDQwNmNhYTJkZjk1MzBlNDg5MGQ5ID0gTC5tYXJrZXIoCiAgICAgICAgICAgICAgICBbNDEuODk2MDczOCwgLTg3LjY3NzgxODVdLAogICAgICAgICAgICAgICAge30KICAgICAgICAgICAgKS5hZGRUbyhtYXBfNTJmMmVkNmJkYmYzNDI0MGFmMjMyNTJmMGQ4MjUxYmMpOwogICAgICAgIAogICAgCiAgICAgICAgdmFyIHBvcHVwX2I1ZGZiOGUzMTUxZTRjOGFiNzExZGQ3ZTBmMmRiYzM4ID0gTC5wb3B1cCh7Im1heFdpZHRoIjogIjEwMCUifSk7CgogICAgICAgIAogICAgICAgICAgICB2YXIgaHRtbF9hODZiY2IwMWFiYzM0ZDRmOWQxMDdkYTUzNTE3ODIzNyA9ICQoYDxkaXYgaWQ9Imh0bWxfYTg2YmNiMDFhYmMzNGQ0ZjlkMTA3ZGE1MzUxNzgyMzciIHN0eWxlPSJ3aWR0aDogMTAwLjAlOyBoZWlnaHQ6IDEwMC4wJTsiPkt1ZnRhPC9kaXY+YClbMF07CiAgICAgICAgICAgIHBvcHVwX2I1ZGZiOGUzMTUxZTRjOGFiNzExZGQ3ZTBmMmRiYzM4LnNldENvbnRlbnQoaHRtbF9hODZiY2IwMWFiYzM0ZDRmOWQxMDdkYTUzNTE3ODIzNyk7CiAgICAgICAgCgogICAgICAgIG1hcmtlcl9jNzU4Yzg2MjFmM2Q0MDZjYWEyZGY5NTMwZTQ4OTBkOS5iaW5kUG9wdXAocG9wdXBfYjVkZmI4ZTMxNTFlNGM4YWI3MTFkZDdlMGYyZGJjMzgpCiAgICAgICAgOwoKICAgICAgICAKICAgIAogICAgCiAgICAgICAgICAgIHZhciBtYXJrZXJfMDRmMjNhZmEyYjZiNDZlNTliOTdjOGRkODAwZDdlMWYgPSBMLm1hcmtlcigKICAgICAgICAgICAgICAgIFs0MS44OTg5Nzg1MDAwMDAwMSwgLTg3LjYyNzM5MjZdLAogICAgICAgICAgICAgICAge30KICAgICAgICAgICAgKS5hZGRUbyhtYXBfNTJmMmVkNmJkYmYzNDI0MGFmMjMyNTJmMGQ4MjUxYmMpOwogICAgICAgIAogICAgCiAgICAgICAgdmFyIHBvcHVwXzM4MDM3YmJmODY4ZTQyNzRiMmY5ODZkYjRlMzNiYjFjID0gTC5wb3B1cCh7Im1heFdpZHRoIjogIjEwMCUifSk7CgogICAgICAgIAogICAgICAgICAgICB2YXIgaHRtbF82Zjg3YjQ2OGQ5Zjc0MmJlYmUyMDE5ZTA2NWEzNDc3OCA9ICQoYDxkaXYgaWQ9Imh0bWxfNmY4N2I0NjhkOWY3NDJiZWJlMjAxOWUwNjVhMzQ3NzgiIHN0eWxlPSJ3aWR0aDogMTAwLjAlOyBoZWlnaHQ6IDEwMC4wJTsiPkRlYmJpZeKAmXMgRWdnIFNhbGFkPC9kaXY+YClbMF07CiAgICAgICAgICAgIHBvcHVwXzM4MDM3YmJmODY4ZTQyNzRiMmY5ODZkYjRlMzNiYjFjLnNldENvbnRlbnQoaHRtbF82Zjg3YjQ2OGQ5Zjc0MmJlYmUyMDE5ZTA2NWEzNDc3OCk7CiAgICAgICAgCgogICAgICAgIG1hcmtlcl8wNGYyM2FmYTJiNmI0NmU1OWI5N2M4ZGQ4MDBkN2UxZi5iaW5kUG9wdXAocG9wdXBfMzgwMzdiYmY4NjhlNDI3NGIyZjk4NmRiNGUzM2JiMWMpCiAgICAgICAgOwoKICAgICAgICAKICAgIAogICAgCiAgICAgICAgICAgIHZhciBtYXJrZXJfMTdhZjc5YmVkM2NhNGYwODgxZWZlOTkxNjI4MjAzYmQgPSBMLm1hcmtlcigKICAgICAgICAgICAgICAgIFs0MS45MTA1ODMyLCAtODcuOTQwNDg4Mzk5OTk5OTldLAogICAgICAgICAgICAgICAge30KICAgICAgICAgICAgKS5hZGRUbyhtYXBfNTJmMmVkNmJkYmYzNDI0MGFmMjMyNTJmMGQ4MjUxYmMpOwogICAgICAgIAogICAgCiAgICAgICAgdmFyIHBvcHVwX2VmMWEyMzc4MTVjYTQyZTViMzM3OGM2OTBlY2ZmNjc2ID0gTC5wb3B1cCh7Im1heFdpZHRoIjogIjEwMCUifSk7CgogICAgICAgIAogICAgICAgICAgICB2YXIgaHRtbF83YjlmYzRhZWVlZGM0OTBkYWYwN2U4MjliM2NhMDIzNCA9ICQoYDxkaXYgaWQ9Imh0bWxfN2I5ZmM0YWVlZWRjNDkwZGFmMDdlODI5YjNjYTAyMzQiIHN0eWxlPSJ3aWR0aDogMTAwLjAlOyBoZWlnaHQ6IDEwMC4wJTsiPkJlZWYgQ3Vycnk8L2Rpdj5gKVswXTsKICAgICAgICAgICAgcG9wdXBfZWYxYTIzNzgxNWNhNDJlNWIzMzc4YzY5MGVjZmY2NzYuc2V0Q29udGVudChodG1sXzdiOWZjNGFlZWVkYzQ5MGRhZjA3ZTgyOWIzY2EwMjM0KTsKICAgICAgICAKCiAgICAgICAgbWFya2VyXzE3YWY3OWJlZDNjYTRmMDg4MWVmZTk5MTYyODIwM2JkLmJpbmRQb3B1cChwb3B1cF9lZjFhMjM3ODE1Y2E0MmU1YjMzNzhjNjkwZWNmZjY3NikKICAgICAgICA7CgogICAgICAgIAogICAgCiAgICAKICAgICAgICAgICAgdmFyIG1hcmtlcl8xMjhjYWNhNmFiOWE0MzJlYmFkMjY0MTg2Y2U2MDkzZSA9IEwubWFya2VyKAogICAgICAgICAgICAgICAgWzQxLjg4MzEwNjEsIC04Ny42MjU0MzgxXSwKICAgICAgICAgICAgICAgIHt9CiAgICAgICAgICAgICkuYWRkVG8obWFwXzUyZjJlZDZiZGJmMzQyNDBhZjIzMjUyZjBkODI1MWJjKTsKICAgICAgICAKICAgIAogICAgICAgIHZhciBwb3B1cF9kOTEwOTkzYTc3YTg0MzkzOWE2NmM2MWQzOTNhN2M5NSA9IEwucG9wdXAoeyJtYXhXaWR0aCI6ICIxMDAlIn0pOwoKICAgICAgICAKICAgICAgICAgICAgdmFyIGh0bWxfOTNkM2E2MzliZTNmNDBjMjhhNzYyYzQzYzY0OTgyZTMgPSAkKGA8ZGl2IGlkPSJodG1sXzkzZDNhNjM5YmUzZjQwYzI4YTc2MmM0M2M2NDk4MmUzIiBzdHlsZT0id2lkdGg6IDEwMC4wJTsgaGVpZ2h0OiAxMDAuMCU7Ij5MZSBWw6lnw6l0YXJpZW48L2Rpdj5gKVswXTsKICAgICAgICAgICAgcG9wdXBfZDkxMDk5M2E3N2E4NDM5MzlhNjZjNjFkMzkzYTdjOTUuc2V0Q29udGVudChodG1sXzkzZDNhNjM5YmUzZjQwYzI4YTc2MmM0M2M2NDk4MmUzKTsKICAgICAgICAKCiAgICAgICAgbWFya2VyXzEyOGNhY2E2YWI5YTQzMmViYWQyNjQxODZjZTYwOTNlLmJpbmRQb3B1cChwb3B1cF9kOTEwOTkzYTc3YTg0MzkzOWE2NmM2MWQzOTNhN2M5NSkKICAgICAgICA7CgogICAgICAgIAogICAgCiAgICAKICAgICAgICAgICAgdmFyIG1hcmtlcl84NDdhODRmMjI5MTU0Y2VlODE3MGZhMmE3ZmIwNjExNCA9IEwubWFya2VyKAogICAgICAgICAgICAgICAgWzQxLjk0MzE2MzIsIC04Ny42NDQ1MDcxXSwKICAgICAgICAgICAgICAgIHt9CiAgICAgICAgICAgICkuYWRkVG8obWFwXzUyZjJlZDZiZGJmMzQyNDBhZjIzMjUyZjBkODI1MWJjKTsKICAgICAgICAKICAgIAogICAgICAgIHZhciBwb3B1cF82N2JhNWIxODE0Yjg0NzVmYTYwZjJlZWExODBmYzE3YSA9IEwucG9wdXAoeyJtYXhXaWR0aCI6ICIxMDAlIn0pOwoKICAgICAgICAKICAgICAgICAgICAgdmFyIGh0bWxfNDg4ODMyZGY3NjhjNDI3MThmYWM4NzdkZjg2NjZmZDYgPSAkKGA8ZGl2IGlkPSJodG1sXzQ4ODgzMmRmNzY4YzQyNzE4ZmFjODc3ZGY4NjY2ZmQ2IiBzdHlsZT0id2lkdGg6IDEwMC4wJTsgaGVpZ2h0OiAxMDAuMCU7Ij5UaGUgR2F0c2J5PC9kaXY+YClbMF07CiAgICAgICAgICAgIHBvcHVwXzY3YmE1YjE4MTRiODQ3NWZhNjBmMmVlYTE4MGZjMTdhLnNldENvbnRlbnQoaHRtbF80ODg4MzJkZjc2OGM0MjcxOGZhYzg3N2RmODY2NmZkNik7CiAgICAgICAgCgogICAgICAgIG1hcmtlcl84NDdhODRmMjI5MTU0Y2VlODE3MGZhMmE3ZmIwNjExNC5iaW5kUG9wdXAocG9wdXBfNjdiYTViMTgxNGI4NDc1ZmE2MGYyZWVhMTgwZmMxN2EpCiAgICAgICAgOwoKICAgICAgICAKICAgIAo8L3NjcmlwdD4= onload=\"this.contentDocument.open();this.contentDocument.write(atob(this.getAttribute('data-html')));this.contentDocument.close();\" allowfullscreen webkitallowfullscreen mozallowfullscreen></iframe></div></div>"
      ],
      "text/plain": [
       "<folium.folium.Map at 0x1c43ca71ec8>"
      ]
     },
     "execution_count": 125,
     "metadata": {},
     "output_type": "execute_result"
    }
   ],
   "source": [
    "mapping = folium.Map(location=[df['lat'].mean(), df['lng'].mean()],\n",
    "                    zoom_start = 11)\n",
    "for n in df.index:\n",
    "    if df['addr'][n] != 'Multiple':\n",
    "        folium.Marker([df['lat'][n], df['lng'][n]],\n",
    "                      popup=df['cafe'][n]).add_to(mapping)\n",
    "mapping"
   ]
  },
  {
   "cell_type": "code",
   "execution_count": 126,
   "metadata": {},
   "outputs": [
    {
     "data": {
      "text/plain": [
       "['2109 W. Chicago Ave.',\n",
       " '800 W. Randolph St.',\n",
       " '445 N. Clark St.',\n",
       " '914 Noyes St., Evanston',\n",
       " '825 W. Fulton Mkt.',\n",
       " '100 E. Walto',\n",
       " '1639 S. Wabash Ave.',\n",
       " '2211 W. North Ave.',\n",
       " '3619 W. North Ave.',\n",
       " '3267 S. Halsted St.',\n",
       " '2537 N. Kedzie Blvd.',\n",
       " 'Multipl',\n",
       " '3124 N. Broadway',\n",
       " '3455 N. Southport Ave.',\n",
       " '2657 N. Kedzie Ave.',\n",
       " '1120 W. Grand Ave.',\n",
       " '1141 S. Jefferson St.',\n",
       " '333 E. Benton Pl.',\n",
       " '1411 N. Wells St.',\n",
       " '1747 N. Damen Ave.',\n",
       " '3209 W. Irving Par',\n",
       " 'Multipl',\n",
       " '5347 N. Clark St.',\n",
       " '2954 W. Irving Park Rd.',\n",
       " 'Multipl',\n",
       " '191 Skokie Valley Rd., Highland Park',\n",
       " 'Multipl',\n",
       " '1818 W. Wilson Ave.',\n",
       " '2517 W. Division St.',\n",
       " '218 W. Kinzi',\n",
       " 'Multipl',\n",
       " '1547 N. Wells St.',\n",
       " '415 N. Milwaukee Ave.',\n",
       " '1840 N. Damen Ave.',\n",
       " '1220 W. Webster Ave.',\n",
       " '5357 N. Ashland Ave.',\n",
       " '1834 W. Montrose Ave.',\n",
       " '615 N. State St.',\n",
       " 'Multipl',\n",
       " '241 N. York Rd., Elmhurst',\n",
       " '1323 E. 57th St.',\n",
       " '655 Forest Ave., Lake Forest',\n",
       " 'Hotel Lincoln, 1816 N. Clark St.',\n",
       " '100 S. Marion St., Oak Park',\n",
       " '26 E. Congress Pkwy.',\n",
       " '2018 W. Chicago Ave.',\n",
       " '25 E. Delaware Pl.',\n",
       " '416 N. York St., Elmhurst',\n",
       " '65 E. Washington St.',\n",
       " '3351 N. Broadway']"
      ]
     },
     "execution_count": 126,
     "metadata": {},
     "output_type": "execute_result"
    }
   ],
   "source": [
    "addr"
   ]
  },
  {
   "cell_type": "code",
   "execution_count": 127,
   "metadata": {},
   "outputs": [
    {
     "data": {
      "text/plain": [
       "['대전 대덕구 한밭대로 1153']"
      ]
     },
     "execution_count": 127,
     "metadata": {},
     "output_type": "execute_result"
    }
   ],
   "source": [
    "asd = ['대전 대덕구 한밭대로 1153']\n",
    "asd"
   ]
  },
  {
   "cell_type": "code",
   "execution_count": null,
   "metadata": {},
   "outputs": [],
   "source": []
  },
  {
   "cell_type": "code",
   "execution_count": null,
   "metadata": {},
   "outputs": [],
   "source": []
  },
  {
   "cell_type": "code",
   "execution_count": null,
   "metadata": {},
   "outputs": [],
   "source": []
  }
 ],
 "metadata": {
  "kernelspec": {
   "display_name": "Python 3",
   "language": "python",
   "name": "python3"
  },
  "language_info": {
   "codemirror_mode": {
    "name": "ipython",
    "version": 3
   },
   "file_extension": ".py",
   "mimetype": "text/x-python",
   "name": "python",
   "nbconvert_exporter": "python",
   "pygments_lexer": "ipython3",
   "version": "3.7.6"
  }
 },
 "nbformat": 4,
 "nbformat_minor": 4
}
