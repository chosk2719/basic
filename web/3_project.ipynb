{
 "cells": [
  {
   "cell_type": "markdown",
   "metadata": {},
   "source": [
    "# 시카고 샌드위치 맛집 소개"
   ]
  },
  {
   "cell_type": "markdown",
   "metadata": {},
   "source": [
    "## 1. 시카고 샌드위치 맛집 사이트에 접근하지"
   ]
  },
  {
   "cell_type": "code",
   "execution_count": 1,
   "metadata": {},
   "outputs": [],
   "source": [
    "from bs4 import BeautifulSoup\n",
    "from urllib.request import urlopen"
   ]
  },
  {
   "cell_type": "code",
   "execution_count": 2,
   "metadata": {},
   "outputs": [],
   "source": [
    "url_base = 'http://www.chicagomag.com'\n",
    "url_sub = '/Chicago-Magazine/November-2012/Best-Sandwiches-Chicago/'\n",
    "url = url_base + url_sub\n",
    "\n",
    "html = urlopen(url)\n",
    "soup = BeautifulSoup(html, 'html.parser')"
   ]
  },
  {
   "cell_type": "code",
   "execution_count": 3,
   "metadata": {},
   "outputs": [
    {
     "data": {
      "text/plain": [
       "<div class=\"sammy\" style=\"position: relative;\">\n",
       "<div class=\"sammyRank\">1</div>\n",
       "<div class=\"sammyListing\"><a href=\"/Chicago-Magazine/November-2012/Best-Sandwiches-in-Chicago-Old-Oak-Tap-BLT/\"><b>BLT</b><br>\n",
       "Old Oak Tap<br>\n",
       "<em>Read more</em> </br></br></a></div>\n",
       "</div>"
      ]
     },
     "execution_count": 3,
     "metadata": {},
     "output_type": "execute_result"
    }
   ],
   "source": [
    "rest_list = soup.find_all(class_='sammy')\n",
    "rest_list[0]"
   ]
  },
  {
   "cell_type": "code",
   "execution_count": 4,
   "metadata": {},
   "outputs": [
    {
     "data": {
      "text/plain": [
       "50"
      ]
     },
     "execution_count": 4,
     "metadata": {},
     "output_type": "execute_result"
    }
   ],
   "source": [
    "len(rest_list)"
   ]
  },
  {
   "cell_type": "markdown",
   "metadata": {},
   "source": [
    "## 2. 접근한 웹 페이지에서 원하는 데이터 추출하고 정리하기"
   ]
  },
  {
   "cell_type": "code",
   "execution_count": 5,
   "metadata": {},
   "outputs": [],
   "source": [
    "tmp_one = rest_list[0]"
   ]
  },
  {
   "cell_type": "code",
   "execution_count": 6,
   "metadata": {},
   "outputs": [
    {
     "data": {
      "text/plain": [
       "<div class=\"sammyRank\">1</div>"
      ]
     },
     "execution_count": 6,
     "metadata": {},
     "output_type": "execute_result"
    }
   ],
   "source": [
    "tmp_one.find(class_='sammyRank')"
   ]
  },
  {
   "cell_type": "code",
   "execution_count": 7,
   "metadata": {},
   "outputs": [
    {
     "data": {
      "text/plain": [
       "'1'"
      ]
     },
     "execution_count": 7,
     "metadata": {},
     "output_type": "execute_result"
    }
   ],
   "source": [
    "tmp_one.find(class_='sammyRank').get_text()"
   ]
  },
  {
   "cell_type": "code",
   "execution_count": 8,
   "metadata": {},
   "outputs": [
    {
     "data": {
      "text/plain": [
       "'BLT\\r\\nOld Oak Tap\\nRead more '"
      ]
     },
     "execution_count": 8,
     "metadata": {},
     "output_type": "execute_result"
    }
   ],
   "source": [
    "tmp_one.find(class_='sammyListing').get_text()"
   ]
  },
  {
   "cell_type": "code",
   "execution_count": 9,
   "metadata": {},
   "outputs": [
    {
     "data": {
      "text/plain": [
       "'/Chicago-Magazine/November-2012/Best-Sandwiches-in-Chicago-Old-Oak-Tap-BLT/'"
      ]
     },
     "execution_count": 9,
     "metadata": {},
     "output_type": "execute_result"
    }
   ],
   "source": [
    "tmp_one.find('a')['href']"
   ]
  },
  {
   "cell_type": "code",
   "execution_count": 10,
   "metadata": {},
   "outputs": [
    {
     "data": {
      "text/plain": [
       "['BLT\\r\\nOld Oak Tap\\nRead more ']"
      ]
     },
     "execution_count": 10,
     "metadata": {},
     "output_type": "execute_result"
    }
   ],
   "source": [
    "tmp_str = tmp_one.find(class_='sammyListing').get_text()\n",
    "tmp_str.split('\\r\\n|\\n')"
   ]
  },
  {
   "cell_type": "code",
   "execution_count": 11,
   "metadata": {},
   "outputs": [
    {
     "data": {
      "text/plain": [
       "'BLT'"
      ]
     },
     "execution_count": 11,
     "metadata": {},
     "output_type": "execute_result"
    }
   ],
   "source": [
    "tmp_res = tmp_str.split('\\n')\n",
    "menu = tmp_res[0].replace('\\r', '')\n",
    "menu"
   ]
  },
  {
   "cell_type": "code",
   "execution_count": 12,
   "metadata": {},
   "outputs": [
    {
     "data": {
      "text/plain": [
       "'Old Oak Tap'"
      ]
     },
     "execution_count": 12,
     "metadata": {},
     "output_type": "execute_result"
    }
   ],
   "source": [
    "cafe = tmp_res[1]\n",
    "cafe"
   ]
  },
  {
   "cell_type": "code",
   "execution_count": 13,
   "metadata": {},
   "outputs": [],
   "source": [
    "import re"
   ]
  },
  {
   "cell_type": "code",
   "execution_count": 14,
   "metadata": {},
   "outputs": [
    {
     "data": {
      "text/plain": [
       "['BLT', 'Old Oak Tap', 'Read more ']"
      ]
     },
     "execution_count": 14,
     "metadata": {},
     "output_type": "execute_result"
    }
   ],
   "source": [
    "re.split(('\\n|\\r\\n'), tmp_str)"
   ]
  },
  {
   "cell_type": "code",
   "execution_count": 15,
   "metadata": {},
   "outputs": [
    {
     "name": "stdout",
     "output_type": "stream",
     "text": [
      "BLT Old Oak Tap\n"
     ]
    }
   ],
   "source": [
    "print(re.split(('\\n|\\r\\n'), tmp_str)[0], re.split(('\\n|\\r\\n'), tmp_str)[1])"
   ]
  },
  {
   "cell_type": "code",
   "execution_count": 16,
   "metadata": {},
   "outputs": [
    {
     "name": "stdout",
     "output_type": "stream",
     "text": [
      "BLT\n",
      "Old Oak Tap\n"
     ]
    }
   ],
   "source": [
    "print(re.split(('\\n|\\r\\n'), tmp_str)[0])\n",
    "print(re.split(('\\n|\\r\\n'), tmp_str)[1])"
   ]
  },
  {
   "cell_type": "markdown",
   "metadata": {},
   "source": [
    "## 데이터 프레임 만들기 전에 항목 데이터 구하기"
   ]
  },
  {
   "cell_type": "code",
   "execution_count": 17,
   "metadata": {},
   "outputs": [],
   "source": [
    "from urllib.parse import urljoin"
   ]
  },
  {
   "cell_type": "code",
   "execution_count": 18,
   "metadata": {},
   "outputs": [],
   "source": [
    "rank=[]\n",
    "main_menu=[]\n",
    "cafe_name=[]\n",
    "url_add=[]\n",
    "\n",
    "for rest in rest_list:\n",
    "    rank.append(int(rest.find(class_='sammyRank').get_text()))\n",
    "    tmp_str = rest.find(class_='sammyListing').get_text()\n",
    "    main_menu.append(re.split(('\\n|\\r\\n'), tmp_str)[0])\n",
    "    cafe_name.append(re.split(('\\n|\\r\\n'), tmp_str)[1])\n",
    "    url_add.append(urljoin(url_base, rest.find('a')['href']))"
   ]
  },
  {
   "cell_type": "code",
   "execution_count": 19,
   "metadata": {},
   "outputs": [
    {
     "data": {
      "text/plain": [
       "['BLT', 'Fried Bologna', 'Woodland Mushroom', 'Roast Beef', 'PB&L']"
      ]
     },
     "execution_count": 19,
     "metadata": {},
     "output_type": "execute_result"
    }
   ],
   "source": [
    "main_menu[:5]"
   ]
  },
  {
   "cell_type": "code",
   "execution_count": 20,
   "metadata": {},
   "outputs": [
    {
     "data": {
      "text/plain": [
       "['Old Oak Tap', 'Au Cheval', 'Xoco', 'Al’s Deli', 'Publican Quality Meats']"
      ]
     },
     "execution_count": 20,
     "metadata": {},
     "output_type": "execute_result"
    }
   ],
   "source": [
    "cafe_name[:5]"
   ]
  },
  {
   "cell_type": "code",
   "execution_count": 21,
   "metadata": {},
   "outputs": [
    {
     "data": {
      "text/plain": [
       "[1, 2, 3, 4, 5]"
      ]
     },
     "execution_count": 21,
     "metadata": {},
     "output_type": "execute_result"
    }
   ],
   "source": [
    "rank[:5]"
   ]
  },
  {
   "cell_type": "code",
   "execution_count": 22,
   "metadata": {},
   "outputs": [
    {
     "data": {
      "text/plain": [
       "['http://www.chicagomag.com/Chicago-Magazine/November-2012/Best-Sandwiches-in-Chicago-Chickpea-Kufta/',\n",
       " 'http://www.chicagomag.com/Chicago-Magazine/November-2012/Best-Sandwiches-in-Chicago-The-Goddess-and-Grocer-Debbies-Egg-Salad/',\n",
       " 'http://www.chicagomag.com/Chicago-Magazine/November-2012/Best-Sandwiches-in-Chicago-Zenwich-Beef-Curry/',\n",
       " 'http://www.chicagomag.com/Chicago-Magazine/November-2012/Best-Sandwiches-in-Chicago-Toni-Patisserie-Le-Vegetarien/',\n",
       " 'http://www.chicagomag.com/Chicago-Magazine/November-2012/Best-Sandwiches-in-Chicago-Phoebes-Bakery-The-Gatsby/']"
      ]
     },
     "execution_count": 22,
     "metadata": {},
     "output_type": "execute_result"
    }
   ],
   "source": [
    "url_add[-5:]"
   ]
  },
  {
   "cell_type": "markdown",
   "metadata": {},
   "source": [
    "# 데이터 프레임으로 만들기"
   ]
  },
  {
   "cell_type": "code",
   "execution_count": 23,
   "metadata": {},
   "outputs": [
    {
     "data": {
      "text/html": [
       "<div>\n",
       "<style scoped>\n",
       "    .dataframe tbody tr th:only-of-type {\n",
       "        vertical-align: middle;\n",
       "    }\n",
       "\n",
       "    .dataframe tbody tr th {\n",
       "        vertical-align: top;\n",
       "    }\n",
       "\n",
       "    .dataframe thead th {\n",
       "        text-align: right;\n",
       "    }\n",
       "</style>\n",
       "<table border=\"1\" class=\"dataframe\">\n",
       "  <thead>\n",
       "    <tr style=\"text-align: right;\">\n",
       "      <th></th>\n",
       "      <th>rank</th>\n",
       "      <th>cafe</th>\n",
       "      <th>menu</th>\n",
       "      <th>url</th>\n",
       "    </tr>\n",
       "  </thead>\n",
       "  <tbody>\n",
       "    <tr>\n",
       "      <th>0</th>\n",
       "      <td>1</td>\n",
       "      <td>BLT</td>\n",
       "      <td>Old Oak Tap</td>\n",
       "      <td>http://www.chicagomag.com/Chicago-Magazine/Nov...</td>\n",
       "    </tr>\n",
       "    <tr>\n",
       "      <th>1</th>\n",
       "      <td>2</td>\n",
       "      <td>Fried Bologna</td>\n",
       "      <td>Au Cheval</td>\n",
       "      <td>http://www.chicagomag.com/Chicago-Magazine/Nov...</td>\n",
       "    </tr>\n",
       "    <tr>\n",
       "      <th>2</th>\n",
       "      <td>3</td>\n",
       "      <td>Woodland Mushroom</td>\n",
       "      <td>Xoco</td>\n",
       "      <td>http://www.chicagomag.com/Chicago-Magazine/Nov...</td>\n",
       "    </tr>\n",
       "    <tr>\n",
       "      <th>3</th>\n",
       "      <td>4</td>\n",
       "      <td>Roast Beef</td>\n",
       "      <td>Al’s Deli</td>\n",
       "      <td>http://www.chicagomag.com/Chicago-Magazine/Nov...</td>\n",
       "    </tr>\n",
       "    <tr>\n",
       "      <th>4</th>\n",
       "      <td>5</td>\n",
       "      <td>PB&amp;L</td>\n",
       "      <td>Publican Quality Meats</td>\n",
       "      <td>http://www.chicagomag.com/Chicago-Magazine/Nov...</td>\n",
       "    </tr>\n",
       "  </tbody>\n",
       "</table>\n",
       "</div>"
      ],
      "text/plain": [
       "   rank               cafe                    menu  \\\n",
       "0     1                BLT             Old Oak Tap   \n",
       "1     2      Fried Bologna               Au Cheval   \n",
       "2     3  Woodland Mushroom                    Xoco   \n",
       "3     4         Roast Beef               Al’s Deli   \n",
       "4     5               PB&L  Publican Quality Meats   \n",
       "\n",
       "                                                 url  \n",
       "0  http://www.chicagomag.com/Chicago-Magazine/Nov...  \n",
       "1  http://www.chicagomag.com/Chicago-Magazine/Nov...  \n",
       "2  http://www.chicagomag.com/Chicago-Magazine/Nov...  \n",
       "3  http://www.chicagomag.com/Chicago-Magazine/Nov...  \n",
       "4  http://www.chicagomag.com/Chicago-Magazine/Nov...  "
      ]
     },
     "execution_count": 23,
     "metadata": {},
     "output_type": "execute_result"
    }
   ],
   "source": [
    "import pandas as pd\n",
    "df = pd.DataFrame({'rank' : rank, 'cafe' : main_menu, 'menu' : cafe_name, 'url' : url_add})\n",
    "df.head()"
   ]
  },
  {
   "cell_type": "code",
   "execution_count": 24,
   "metadata": {},
   "outputs": [
    {
     "data": {
      "text/plain": [
       "['http://www.chicagomag.com/Chicago-Magazine/November-2012/Best-Sandwiches-in-Chicago-Old-Oak-Tap-BLT/',\n",
       " 'http://www.chicagomag.com/Chicago-Magazine/November-2012/Best-Sandwiches-in-Chicago-Au-Cheval-Fried-Bologna/',\n",
       " 'http://www.chicagomag.com/Chicago-Magazine/November-2012/Best-Sandwiches-in-Chicago-Xoco-Woodland-Mushroom/',\n",
       " 'http://www.chicagomag.com/Chicago-Magazine/November-2012/Best-Sandwiches-in-Chicago-Als-Deli-Roast-Beef/',\n",
       " 'http://www.chicagomag.com/Chicago-Magazine/November-2012/Best-Sandwiches-in-Chicago-Publican-Quality-Meats-PB-L/',\n",
       " 'http://www.chicagomag.com/Chicago-Magazine/November-2012/Best-Sandwiches-in-Chicago-Hendrickx-Belgian-Bread-Crafter-Belgian-Chicken-Curry-Salad/',\n",
       " 'http://www.chicagomag.com/Chicago-Magazine/November-2012/Best-Sandwiches-in-Chicago-Acadia-Lobster-Roll/',\n",
       " 'http://www.chicagomag.com/Chicago-Magazine/November-2012/Best-Sandwiches-in-Chicago-Birchwood-Kitchen-Smoked-Salmon-Salad/',\n",
       " 'http://www.chicagomag.com/Chicago-Magazine/November-2012/Best-Sandwiches-in-Chicago-Cemitas-Puebla-Atomica-Cemitas/',\n",
       " 'http://www.chicagomag.com/Chicago-Magazine/November-2012/Best-Sandwiches-in-Chicago-Nana-Grilled-Laughing-Bird-Shrimp-and-Fried-Oyster-Po-Boy/',\n",
       " 'http://www.chicagomag.com/Chicago-Magazine/November-2012/Best-Sandwiches-in-Chicago-Lula-Cafe-Ham-and-Raclette-Panino/',\n",
       " 'http://www.chicagomag.com/Chicago-Magazine/November-2012/Best-Sandwiches-in-Chicago-Ricobenes-Breaded-Steak/',\n",
       " 'http://www.chicagomag.com/Chicago-Magazine/November-2012/Best-Sandwiches-in-Chicago-Frog-n-Snail-The-Hawkeye/',\n",
       " 'http://www.chicagomag.com/Chicago-Magazine/November-2012/Best-Sandwiches-in-Chicago-Crosbys-Kitchen-Chicken-Dip/',\n",
       " 'http://www.chicagomag.com/Chicago-Magazine/November-2012/Best-Sandwiches-in-Chicago-Longman-and-Eagle-Wild-Boar-Sloppy-Joe/',\n",
       " 'http://www.chicagomag.com/Chicago-Magazine/November-2012/Best-Sandwiches-in-Chicago-Bari-Meatball-Sub/',\n",
       " 'http://www.chicagomag.com/Chicago-Magazine/November-2012/Best-Sandwiches-in-Chicago-Mannys-Corned-Beef/',\n",
       " 'http://www.chicagomag.com/Chicago-Magazine/November-2012/Best-Sandwiches-in-Chicago-Eggys-Turkey-Club/',\n",
       " 'http://www.chicagomag.com/Chicago-Magazine/November-2012/Best-Sandwiches-in-Chicago-Old-Jerusalem-Falafel/',\n",
       " 'http://www.chicagomag.com/Chicago-Magazine/November-2012/Best-Sandwiches-in-Chicago-Mindys-HotChocolate-Crab-Cake/',\n",
       " 'http://www.chicagomag.com/Chicago-Magazine/November-2012/Best-Sandwiches-in-Chicago-Olgas-Delicatessen-Chicken-Schnitzel/',\n",
       " 'http://www.chicagomag.com/Chicago-Magazine/November-2012/Best-Sandwiches-in-Chicago-Dawali-Mediterranean-Kitchen-Shawarma/',\n",
       " 'http://www.chicagomag.com/Chicago-Magazine/November-2012/Best-Sandwiches-in-Chicago-Big-Jones-Toasted-Pimiento-Cheese/',\n",
       " 'http://www.chicagomag.com/Chicago-Magazine/November-2012/Best-Sandwiches-in-Chicago-La-Pane-Vegetarian-Panino/',\n",
       " 'http://www.chicagomag.com/Chicago-Magazine/November-2012/Best-Sandwiches-in-Chicago-Pastoral-Cali-Chevre/',\n",
       " 'http://www.chicagomag.com/Chicago-Magazine/November-2012/Best-Sandwiches-in-Chicago-Maxs-Deli-Pastrami/',\n",
       " 'http://www.chicagomag.com/Chicago-Magazine/November-2012/Best-Sandwiches-in-Chicago-Luckys-Sandwich-Co-The-Fredo/',\n",
       " 'http://www.chicagomag.com/Chicago-Magazine/November-2012/Best-Sandwiches-in-Chicago-City-Provisions-Smoked-Ham/',\n",
       " 'http://www.chicagomag.com/Chicago-Magazine/November-2012/Best-Sandwiches-in-Chicago-Papas-Cache-Sabroso-Jibarito/',\n",
       " 'http://www.chicagomag.com/Chicago-Magazine/November-2012/Best-Sandwiches-in-Chicago-Bavettes-Bar-and-Boeuf-Shaved-Prime-Rib/',\n",
       " 'http://www.chicagomag.com/Chicago-Magazine/November-2012/Best-Sandwiches-in-Chicago-Hannahs-Bretzel-Serrano-Ham-and-Manchego-Cheese/',\n",
       " 'http://www.chicagomag.com/Chicago-Magazine/November-2012/Best-Sandwiches-in-Chicago-La-Fournette-Tuna-Salad/',\n",
       " 'http://www.chicagomag.com/Chicago-Magazine/November-2012/Best-Sandwiches-in-Chicago-Paramount-Room-Paramount-Reuben/',\n",
       " 'http://www.chicagomag.com/Chicago-Magazine/November-2012/Best-Sandwiches-in-Chicago-Melt-Sandwich-Shoppe-The-Istanbul/',\n",
       " 'http://www.chicagomag.com/Chicago-Magazine/November-2012/Best-Sandwiches-in-Chicago-Floriole-Cafe-and-Bakery-BAD/',\n",
       " 'http://www.chicagomag.com/Chicago-Magazine/November-2012/Best-Sandwiches-in-Chicago-First-Slice-Pie-Cafe-Duck-Confit-and-Mozzarella/',\n",
       " 'http://www.chicagomag.com/Chicago-Magazine/November-2012/Best-Sandwiches-in-Chicago-Troquet-Croque-Monsieur/',\n",
       " 'http://www.chicagomag.com/Chicago-Magazine/November-2012/Best-Sandwiches-in-Chicago-Grahamwich-Green-Garbanzo/',\n",
       " 'http://www.chicagomag.com/Chicago-Magazine/November-2012/Best-Sandwiches-in-Chicago-Saigon-Sisters-The-Hen-House/',\n",
       " 'http://www.chicagomag.com/Chicago-Magazine/November-2012/Best-Sandwiches-in-Chicago-Rosalias-Deli-Tuscan-Chicken/',\n",
       " 'http://www.chicagomag.com/Chicago-Magazine/November-2012/Best-Sandwiches-in-Chicago-Z-and-H-MarketCafe-The-Marty/',\n",
       " 'http://www.chicagomag.com/Chicago-Magazine/November-2012/Best-Sandwiches-in-Chicago-Market-House-on-the-Square-Whitefish/',\n",
       " 'http://www.chicagomag.com/Chicago-Magazine/November-2012/Best-Sandwiches-in-Chicago-Elaines-Coffee-Call-Oat-Bread-Pecan-Butter-and-Fruit-Jam/',\n",
       " 'http://www.chicagomag.com/Chicago-Magazine/November-2012/Best-Sandwiches-in-Chicago-Marion-Street-Cheese-Market-Cauliflower-Melt/',\n",
       " 'http://www.chicagomag.com/Chicago-Magazine/November-2012/Best-Sandwiches-in-Chicago-Cafecito-Cubano/',\n",
       " 'http://www.chicagomag.com/Chicago-Magazine/November-2012/Best-Sandwiches-in-Chicago-Chickpea-Kufta/',\n",
       " 'http://www.chicagomag.com/Chicago-Magazine/November-2012/Best-Sandwiches-in-Chicago-The-Goddess-and-Grocer-Debbies-Egg-Salad/',\n",
       " 'http://www.chicagomag.com/Chicago-Magazine/November-2012/Best-Sandwiches-in-Chicago-Zenwich-Beef-Curry/',\n",
       " 'http://www.chicagomag.com/Chicago-Magazine/November-2012/Best-Sandwiches-in-Chicago-Toni-Patisserie-Le-Vegetarien/',\n",
       " 'http://www.chicagomag.com/Chicago-Magazine/November-2012/Best-Sandwiches-in-Chicago-Phoebes-Bakery-The-Gatsby/']"
      ]
     },
     "execution_count": 24,
     "metadata": {},
     "output_type": "execute_result"
    }
   ],
   "source": [
    "url_add"
   ]
  },
  {
   "cell_type": "code",
   "execution_count": 25,
   "metadata": {},
   "outputs": [],
   "source": [
    "from urllib.parse import urljoin"
   ]
  },
  {
   "cell_type": "code",
   "execution_count": 26,
   "metadata": {},
   "outputs": [],
   "source": [
    "df.to_csv('chicago1.csv', sep=',', encoding= 'utf-8')"
   ]
  },
  {
   "cell_type": "markdown",
   "metadata": {},
   "source": [
    "## 3.다수의 웹페이지에 자동으로 접근해서 원하는 정보 가져오기"
   ]
  },
  {
   "cell_type": "code",
   "execution_count": 27,
   "metadata": {},
   "outputs": [
    {
     "data": {
      "text/plain": [
       "0     http://www.chicagomag.com/Chicago-Magazine/Nov...\n",
       "1     http://www.chicagomag.com/Chicago-Magazine/Nov...\n",
       "2     http://www.chicagomag.com/Chicago-Magazine/Nov...\n",
       "3     http://www.chicagomag.com/Chicago-Magazine/Nov...\n",
       "4     http://www.chicagomag.com/Chicago-Magazine/Nov...\n",
       "5     http://www.chicagomag.com/Chicago-Magazine/Nov...\n",
       "6     http://www.chicagomag.com/Chicago-Magazine/Nov...\n",
       "7     http://www.chicagomag.com/Chicago-Magazine/Nov...\n",
       "8     http://www.chicagomag.com/Chicago-Magazine/Nov...\n",
       "9     http://www.chicagomag.com/Chicago-Magazine/Nov...\n",
       "10    http://www.chicagomag.com/Chicago-Magazine/Nov...\n",
       "11    http://www.chicagomag.com/Chicago-Magazine/Nov...\n",
       "12    http://www.chicagomag.com/Chicago-Magazine/Nov...\n",
       "13    http://www.chicagomag.com/Chicago-Magazine/Nov...\n",
       "14    http://www.chicagomag.com/Chicago-Magazine/Nov...\n",
       "15    http://www.chicagomag.com/Chicago-Magazine/Nov...\n",
       "16    http://www.chicagomag.com/Chicago-Magazine/Nov...\n",
       "17    http://www.chicagomag.com/Chicago-Magazine/Nov...\n",
       "18    http://www.chicagomag.com/Chicago-Magazine/Nov...\n",
       "19    http://www.chicagomag.com/Chicago-Magazine/Nov...\n",
       "20    http://www.chicagomag.com/Chicago-Magazine/Nov...\n",
       "21    http://www.chicagomag.com/Chicago-Magazine/Nov...\n",
       "22    http://www.chicagomag.com/Chicago-Magazine/Nov...\n",
       "23    http://www.chicagomag.com/Chicago-Magazine/Nov...\n",
       "24    http://www.chicagomag.com/Chicago-Magazine/Nov...\n",
       "25    http://www.chicagomag.com/Chicago-Magazine/Nov...\n",
       "26    http://www.chicagomag.com/Chicago-Magazine/Nov...\n",
       "27    http://www.chicagomag.com/Chicago-Magazine/Nov...\n",
       "28    http://www.chicagomag.com/Chicago-Magazine/Nov...\n",
       "29    http://www.chicagomag.com/Chicago-Magazine/Nov...\n",
       "30    http://www.chicagomag.com/Chicago-Magazine/Nov...\n",
       "31    http://www.chicagomag.com/Chicago-Magazine/Nov...\n",
       "32    http://www.chicagomag.com/Chicago-Magazine/Nov...\n",
       "33    http://www.chicagomag.com/Chicago-Magazine/Nov...\n",
       "34    http://www.chicagomag.com/Chicago-Magazine/Nov...\n",
       "35    http://www.chicagomag.com/Chicago-Magazine/Nov...\n",
       "36    http://www.chicagomag.com/Chicago-Magazine/Nov...\n",
       "37    http://www.chicagomag.com/Chicago-Magazine/Nov...\n",
       "38    http://www.chicagomag.com/Chicago-Magazine/Nov...\n",
       "39    http://www.chicagomag.com/Chicago-Magazine/Nov...\n",
       "40    http://www.chicagomag.com/Chicago-Magazine/Nov...\n",
       "41    http://www.chicagomag.com/Chicago-Magazine/Nov...\n",
       "42    http://www.chicagomag.com/Chicago-Magazine/Nov...\n",
       "43    http://www.chicagomag.com/Chicago-Magazine/Nov...\n",
       "44    http://www.chicagomag.com/Chicago-Magazine/Nov...\n",
       "45    http://www.chicagomag.com/Chicago-Magazine/Nov...\n",
       "46    http://www.chicagomag.com/Chicago-Magazine/Nov...\n",
       "47    http://www.chicagomag.com/Chicago-Magazine/Nov...\n",
       "48    http://www.chicagomag.com/Chicago-Magazine/Nov...\n",
       "49    http://www.chicagomag.com/Chicago-Magazine/Nov...\n",
       "Name: url, dtype: object"
      ]
     },
     "execution_count": 27,
     "metadata": {},
     "output_type": "execute_result"
    }
   ],
   "source": [
    "df['url']"
   ]
  },
  {
   "cell_type": "code",
   "execution_count": 28,
   "metadata": {},
   "outputs": [],
   "source": [
    "html = urlopen(df['url'][0])\n",
    "soup_tmp = BeautifulSoup(html, 'html.parser')"
   ]
  },
  {
   "cell_type": "code",
   "execution_count": 29,
   "metadata": {},
   "outputs": [
    {
     "data": {
      "text/plain": [
       "<p class=\"addy\">\n",
       "<em>$10. 2109 W. Chicago Ave., 773-772-0406, <a href=\"http://www.theoldoaktap.com/\">theoldoaktap.com</a></em></p>"
      ]
     },
     "execution_count": 29,
     "metadata": {},
     "output_type": "execute_result"
    }
   ],
   "source": [
    "soup_tmp.find(class_='addy')"
   ]
  },
  {
   "cell_type": "code",
   "execution_count": 30,
   "metadata": {},
   "outputs": [
    {
     "data": {
      "text/plain": [
       "'\\n$10. 2109 W. Chicago Ave., 773-772-0406, theoldoaktap.com'"
      ]
     },
     "execution_count": 30,
     "metadata": {},
     "output_type": "execute_result"
    }
   ],
   "source": [
    "tmp_str = soup_tmp.find(class_='addy').get_text()\n",
    "tmp_str"
   ]
  },
  {
   "cell_type": "code",
   "execution_count": 31,
   "metadata": {},
   "outputs": [
    {
     "data": {
      "text/plain": [
       "['$10.', '2109', 'W.', 'Chicago', 'Ave.,', '773-772-0406,', 'theoldoaktap.com']"
      ]
     },
     "execution_count": 31,
     "metadata": {},
     "output_type": "execute_result"
    }
   ],
   "source": [
    "tmp_str.split()"
   ]
  },
  {
   "cell_type": "code",
   "execution_count": 32,
   "metadata": {},
   "outputs": [
    {
     "data": {
      "text/plain": [
       "'$10'"
      ]
     },
     "execution_count": 32,
     "metadata": {},
     "output_type": "execute_result"
    }
   ],
   "source": [
    "tmp_price = tmp_str.split()[0][:-1]\n",
    "tmp_price"
   ]
  },
  {
   "cell_type": "code",
   "execution_count": 33,
   "metadata": {},
   "outputs": [
    {
     "data": {
      "text/plain": [
       "['2109', 'W.', 'Chicago', 'Ave.,']"
      ]
     },
     "execution_count": 33,
     "metadata": {},
     "output_type": "execute_result"
    }
   ],
   "source": [
    "tmp_str.split()[1:-2]"
   ]
  },
  {
   "cell_type": "code",
   "execution_count": 34,
   "metadata": {},
   "outputs": [
    {
     "data": {
      "text/plain": [
       "'2109 W. Chicago Ave.,'"
      ]
     },
     "execution_count": 34,
     "metadata": {},
     "output_type": "execute_result"
    }
   ],
   "source": [
    "' '.join(tmp_str.split()[1:-2])"
   ]
  },
  {
   "cell_type": "code",
   "execution_count": 35,
   "metadata": {},
   "outputs": [
    {
     "data": {
      "text/plain": [
       "'2109 W. Chicago Ave.'"
      ]
     },
     "execution_count": 35,
     "metadata": {},
     "output_type": "execute_result"
    }
   ],
   "source": [
    "tmp_addr = ' '.join(tmp_str.split()[1:-2])[:-1]\n",
    "tmp_addr "
   ]
  },
  {
   "cell_type": "markdown",
   "metadata": {},
   "source": [
    "### - 상태 진행바 적용"
   ]
  },
  {
   "cell_type": "code",
   "execution_count": 36,
   "metadata": {},
   "outputs": [],
   "source": [
    "from tqdm import tqdm_notebook\n",
    "import time"
   ]
  },
  {
   "cell_type": "code",
   "execution_count": 37,
   "metadata": {},
   "outputs": [
    {
     "name": "stderr",
     "output_type": "stream",
     "text": [
      "C:\\ProgramData\\Anaconda3\\lib\\site-packages\\ipykernel_launcher.py:4: TqdmDeprecationWarning: This function will be removed in tqdm==5.0.0\n",
      "Please use `tqdm.notebook.tqdm` instead of `tqdm.tqdm_notebook`\n",
      "  after removing the cwd from sys.path.\n"
     ]
    },
    {
     "data": {
      "application/vnd.jupyter.widget-view+json": {
       "model_id": "f355126ecb3c46e69826e35d7745b577",
       "version_major": 2,
       "version_minor": 0
      },
      "text/plain": [
       "HBox(children=(FloatProgress(value=0.0, max=50.0), HTML(value='')))"
      ]
     },
     "metadata": {},
     "output_type": "display_data"
    },
    {
     "name": "stdout",
     "output_type": "stream",
     "text": [
      "\n"
     ]
    }
   ],
   "source": [
    "price=[]\n",
    "addr=[]\n",
    "\n",
    "for n in tqdm_notebook(df.index):\n",
    "    html = urlopen(df['url'][n])\n",
    "    soup_tmp = BeautifulSoup(html, 'html.parser')\n",
    "    tmp_str = soup_tmp.find(class_='addy').get_text()\n",
    "\n",
    "    price.append(tmp_str.split()[0][:-1])\n",
    "    addr.append(' '.join(tmp_str.split()[1:-2])[:-1])"
   ]
  },
  {
   "cell_type": "code",
   "execution_count": 38,
   "metadata": {},
   "outputs": [
    {
     "data": {
      "text/plain": [
       "['$10', '$9', '$9.50', '$9.40', '$10', '$7.25', '$16', '$10', '$9', '$17']"
      ]
     },
     "execution_count": 38,
     "metadata": {},
     "output_type": "execute_result"
    }
   ],
   "source": [
    "price[:10]"
   ]
  },
  {
   "cell_type": "code",
   "execution_count": 39,
   "metadata": {},
   "outputs": [
    {
     "data": {
      "text/plain": [
       "['2109 W. Chicago Ave.',\n",
       " '800 W. Randolph St.',\n",
       " '445 N. Clark St.',\n",
       " '914 Noyes St., Evanston',\n",
       " '825 W. Fulton Mkt.']"
      ]
     },
     "execution_count": 39,
     "metadata": {},
     "output_type": "execute_result"
    }
   ],
   "source": [
    "addr[:5]"
   ]
  },
  {
   "cell_type": "code",
   "execution_count": 40,
   "metadata": {},
   "outputs": [
    {
     "data": {
      "text/html": [
       "<div>\n",
       "<style scoped>\n",
       "    .dataframe tbody tr th:only-of-type {\n",
       "        vertical-align: middle;\n",
       "    }\n",
       "\n",
       "    .dataframe tbody tr th {\n",
       "        vertical-align: top;\n",
       "    }\n",
       "\n",
       "    .dataframe thead th {\n",
       "        text-align: right;\n",
       "    }\n",
       "</style>\n",
       "<table border=\"1\" class=\"dataframe\">\n",
       "  <thead>\n",
       "    <tr style=\"text-align: right;\">\n",
       "      <th></th>\n",
       "      <th>rank</th>\n",
       "      <th>cafe</th>\n",
       "      <th>menu</th>\n",
       "      <th>url</th>\n",
       "    </tr>\n",
       "  </thead>\n",
       "  <tbody>\n",
       "    <tr>\n",
       "      <th>0</th>\n",
       "      <td>1</td>\n",
       "      <td>BLT</td>\n",
       "      <td>Old Oak Tap</td>\n",
       "      <td>http://www.chicagomag.com/Chicago-Magazine/Nov...</td>\n",
       "    </tr>\n",
       "    <tr>\n",
       "      <th>1</th>\n",
       "      <td>2</td>\n",
       "      <td>Fried Bologna</td>\n",
       "      <td>Au Cheval</td>\n",
       "      <td>http://www.chicagomag.com/Chicago-Magazine/Nov...</td>\n",
       "    </tr>\n",
       "    <tr>\n",
       "      <th>2</th>\n",
       "      <td>3</td>\n",
       "      <td>Woodland Mushroom</td>\n",
       "      <td>Xoco</td>\n",
       "      <td>http://www.chicagomag.com/Chicago-Magazine/Nov...</td>\n",
       "    </tr>\n",
       "    <tr>\n",
       "      <th>3</th>\n",
       "      <td>4</td>\n",
       "      <td>Roast Beef</td>\n",
       "      <td>Al’s Deli</td>\n",
       "      <td>http://www.chicagomag.com/Chicago-Magazine/Nov...</td>\n",
       "    </tr>\n",
       "    <tr>\n",
       "      <th>4</th>\n",
       "      <td>5</td>\n",
       "      <td>PB&amp;L</td>\n",
       "      <td>Publican Quality Meats</td>\n",
       "      <td>http://www.chicagomag.com/Chicago-Magazine/Nov...</td>\n",
       "    </tr>\n",
       "  </tbody>\n",
       "</table>\n",
       "</div>"
      ],
      "text/plain": [
       "   rank               cafe                    menu  \\\n",
       "0     1                BLT             Old Oak Tap   \n",
       "1     2      Fried Bologna               Au Cheval   \n",
       "2     3  Woodland Mushroom                    Xoco   \n",
       "3     4         Roast Beef               Al’s Deli   \n",
       "4     5               PB&L  Publican Quality Meats   \n",
       "\n",
       "                                                 url  \n",
       "0  http://www.chicagomag.com/Chicago-Magazine/Nov...  \n",
       "1  http://www.chicagomag.com/Chicago-Magazine/Nov...  \n",
       "2  http://www.chicagomag.com/Chicago-Magazine/Nov...  \n",
       "3  http://www.chicagomag.com/Chicago-Magazine/Nov...  \n",
       "4  http://www.chicagomag.com/Chicago-Magazine/Nov...  "
      ]
     },
     "execution_count": 40,
     "metadata": {},
     "output_type": "execute_result"
    }
   ],
   "source": [
    "df.head()"
   ]
  },
  {
   "cell_type": "code",
   "execution_count": 41,
   "metadata": {
    "scrolled": true
   },
   "outputs": [
    {
     "data": {
      "text/html": [
       "<div>\n",
       "<style scoped>\n",
       "    .dataframe tbody tr th:only-of-type {\n",
       "        vertical-align: middle;\n",
       "    }\n",
       "\n",
       "    .dataframe tbody tr th {\n",
       "        vertical-align: top;\n",
       "    }\n",
       "\n",
       "    .dataframe thead th {\n",
       "        text-align: right;\n",
       "    }\n",
       "</style>\n",
       "<table border=\"1\" class=\"dataframe\">\n",
       "  <thead>\n",
       "    <tr style=\"text-align: right;\">\n",
       "      <th></th>\n",
       "      <th>rank</th>\n",
       "      <th>cafe</th>\n",
       "      <th>menu</th>\n",
       "    </tr>\n",
       "  </thead>\n",
       "  <tbody>\n",
       "    <tr>\n",
       "      <th>0</th>\n",
       "      <td>1</td>\n",
       "      <td>BLT</td>\n",
       "      <td>Old Oak Tap</td>\n",
       "    </tr>\n",
       "    <tr>\n",
       "      <th>1</th>\n",
       "      <td>2</td>\n",
       "      <td>Fried Bologna</td>\n",
       "      <td>Au Cheval</td>\n",
       "    </tr>\n",
       "    <tr>\n",
       "      <th>2</th>\n",
       "      <td>3</td>\n",
       "      <td>Woodland Mushroom</td>\n",
       "      <td>Xoco</td>\n",
       "    </tr>\n",
       "    <tr>\n",
       "      <th>3</th>\n",
       "      <td>4</td>\n",
       "      <td>Roast Beef</td>\n",
       "      <td>Al’s Deli</td>\n",
       "    </tr>\n",
       "    <tr>\n",
       "      <th>4</th>\n",
       "      <td>5</td>\n",
       "      <td>PB&amp;L</td>\n",
       "      <td>Publican Quality Meats</td>\n",
       "    </tr>\n",
       "    <tr>\n",
       "      <th>5</th>\n",
       "      <td>6</td>\n",
       "      <td>Belgian Chicken Curry Salad</td>\n",
       "      <td>Hendrickx Belgian Bread Crafter</td>\n",
       "    </tr>\n",
       "    <tr>\n",
       "      <th>6</th>\n",
       "      <td>7</td>\n",
       "      <td>Lobster Roll</td>\n",
       "      <td>Acadia</td>\n",
       "    </tr>\n",
       "    <tr>\n",
       "      <th>7</th>\n",
       "      <td>8</td>\n",
       "      <td>Smoked Salmon Salad</td>\n",
       "      <td>Birchwood Kitchen</td>\n",
       "    </tr>\n",
       "    <tr>\n",
       "      <th>8</th>\n",
       "      <td>9</td>\n",
       "      <td>Atomica Cemitas</td>\n",
       "      <td>Cemitas Puebla</td>\n",
       "    </tr>\n",
       "    <tr>\n",
       "      <th>9</th>\n",
       "      <td>10</td>\n",
       "      <td>Grilled Laughing Bird Shrimp and Fried Po’ Boy</td>\n",
       "      <td>Nana</td>\n",
       "    </tr>\n",
       "    <tr>\n",
       "      <th>10</th>\n",
       "      <td>11</td>\n",
       "      <td>Ham and Raclette Panino</td>\n",
       "      <td>Lula Cafe</td>\n",
       "    </tr>\n",
       "    <tr>\n",
       "      <th>11</th>\n",
       "      <td>12</td>\n",
       "      <td>Breaded Steak</td>\n",
       "      <td>Ricobene’s</td>\n",
       "    </tr>\n",
       "    <tr>\n",
       "      <th>12</th>\n",
       "      <td>13</td>\n",
       "      <td>The Hawkeye</td>\n",
       "      <td>Frog n Snail</td>\n",
       "    </tr>\n",
       "    <tr>\n",
       "      <th>13</th>\n",
       "      <td>14</td>\n",
       "      <td>Chicken Dip</td>\n",
       "      <td>Crosby’s Kitchen</td>\n",
       "    </tr>\n",
       "    <tr>\n",
       "      <th>14</th>\n",
       "      <td>15</td>\n",
       "      <td>Wild Boar Sloppy Joe</td>\n",
       "      <td>Longman &amp; Eagle</td>\n",
       "    </tr>\n",
       "    <tr>\n",
       "      <th>15</th>\n",
       "      <td>16</td>\n",
       "      <td>Meatball Sub</td>\n",
       "      <td>Bari</td>\n",
       "    </tr>\n",
       "    <tr>\n",
       "      <th>16</th>\n",
       "      <td>17</td>\n",
       "      <td>Corned Beef</td>\n",
       "      <td>Manny’s</td>\n",
       "    </tr>\n",
       "    <tr>\n",
       "      <th>17</th>\n",
       "      <td>18</td>\n",
       "      <td>Turkey Club</td>\n",
       "      <td>Eggy’s</td>\n",
       "    </tr>\n",
       "    <tr>\n",
       "      <th>18</th>\n",
       "      <td>19</td>\n",
       "      <td>Falafel</td>\n",
       "      <td>Old Jerusalem</td>\n",
       "    </tr>\n",
       "    <tr>\n",
       "      <th>19</th>\n",
       "      <td>20</td>\n",
       "      <td>Crab Cake</td>\n",
       "      <td>Mindy’s HotChocolate</td>\n",
       "    </tr>\n",
       "    <tr>\n",
       "      <th>20</th>\n",
       "      <td>21</td>\n",
       "      <td>Chicken Schnitzel</td>\n",
       "      <td>Olga’s Delicatessen</td>\n",
       "    </tr>\n",
       "    <tr>\n",
       "      <th>21</th>\n",
       "      <td>22</td>\n",
       "      <td>Shawarma</td>\n",
       "      <td>Dawali Mediterranean Kitchen</td>\n",
       "    </tr>\n",
       "    <tr>\n",
       "      <th>22</th>\n",
       "      <td>23</td>\n",
       "      <td>Toasted Pimiento Cheese</td>\n",
       "      <td>Big Jones</td>\n",
       "    </tr>\n",
       "    <tr>\n",
       "      <th>23</th>\n",
       "      <td>24</td>\n",
       "      <td>Vegetarian Panino</td>\n",
       "      <td>La Pane</td>\n",
       "    </tr>\n",
       "    <tr>\n",
       "      <th>24</th>\n",
       "      <td>25</td>\n",
       "      <td>Cali Chèvre</td>\n",
       "      <td>Pastoral</td>\n",
       "    </tr>\n",
       "    <tr>\n",
       "      <th>25</th>\n",
       "      <td>26</td>\n",
       "      <td>Pastrami</td>\n",
       "      <td>Max’s Deli</td>\n",
       "    </tr>\n",
       "    <tr>\n",
       "      <th>26</th>\n",
       "      <td>27</td>\n",
       "      <td>The Fredo</td>\n",
       "      <td>Lucky’s Sandwich Co.</td>\n",
       "    </tr>\n",
       "    <tr>\n",
       "      <th>27</th>\n",
       "      <td>28</td>\n",
       "      <td>Smoked Ham</td>\n",
       "      <td>City Provisions</td>\n",
       "    </tr>\n",
       "    <tr>\n",
       "      <th>28</th>\n",
       "      <td>29</td>\n",
       "      <td>Jibarito</td>\n",
       "      <td>Papa’s Cache Sabroso</td>\n",
       "    </tr>\n",
       "    <tr>\n",
       "      <th>29</th>\n",
       "      <td>30</td>\n",
       "      <td>Shaved Prime Rib</td>\n",
       "      <td>Bavette’s Bar &amp; Boeuf</td>\n",
       "    </tr>\n",
       "    <tr>\n",
       "      <th>30</th>\n",
       "      <td>31</td>\n",
       "      <td>Serrano Ham and Manchego Cheese</td>\n",
       "      <td>Hannah’s Bretzel</td>\n",
       "    </tr>\n",
       "    <tr>\n",
       "      <th>31</th>\n",
       "      <td>32</td>\n",
       "      <td>Tuna Salad</td>\n",
       "      <td>La Fournette</td>\n",
       "    </tr>\n",
       "    <tr>\n",
       "      <th>32</th>\n",
       "      <td>33</td>\n",
       "      <td>Paramount Reuben</td>\n",
       "      <td>Paramount Room</td>\n",
       "    </tr>\n",
       "    <tr>\n",
       "      <th>33</th>\n",
       "      <td>34</td>\n",
       "      <td>The Istanbul</td>\n",
       "      <td>Melt Sandwich Shoppe</td>\n",
       "    </tr>\n",
       "    <tr>\n",
       "      <th>34</th>\n",
       "      <td>35</td>\n",
       "      <td>B.A.D.</td>\n",
       "      <td>Floriole Cafe &amp; Bakery</td>\n",
       "    </tr>\n",
       "    <tr>\n",
       "      <th>35</th>\n",
       "      <td>36</td>\n",
       "      <td>Duck Confit and Mozzarella</td>\n",
       "      <td>First Slice Pie Café</td>\n",
       "    </tr>\n",
       "    <tr>\n",
       "      <th>36</th>\n",
       "      <td>37</td>\n",
       "      <td>Croque Monsieur</td>\n",
       "      <td>Troquet</td>\n",
       "    </tr>\n",
       "    <tr>\n",
       "      <th>37</th>\n",
       "      <td>38</td>\n",
       "      <td>Green Garbanzo</td>\n",
       "      <td>Grahamwich</td>\n",
       "    </tr>\n",
       "    <tr>\n",
       "      <th>38</th>\n",
       "      <td>39</td>\n",
       "      <td>The Hen House</td>\n",
       "      <td>Saigon Sisters</td>\n",
       "    </tr>\n",
       "    <tr>\n",
       "      <th>39</th>\n",
       "      <td>40</td>\n",
       "      <td>Tuscan Chicken</td>\n",
       "      <td>Rosalia’s Deli</td>\n",
       "    </tr>\n",
       "    <tr>\n",
       "      <th>40</th>\n",
       "      <td>41</td>\n",
       "      <td>The Marty</td>\n",
       "      <td>Z&amp;H MarketCafe</td>\n",
       "    </tr>\n",
       "    <tr>\n",
       "      <th>41</th>\n",
       "      <td>42</td>\n",
       "      <td>Whitefish</td>\n",
       "      <td>Market House on the Square</td>\n",
       "    </tr>\n",
       "    <tr>\n",
       "      <th>42</th>\n",
       "      <td>43</td>\n",
       "      <td>Oat Bread, Pecan Butter, and Fruit Jam</td>\n",
       "      <td>Elaine’s Coffee Call</td>\n",
       "    </tr>\n",
       "    <tr>\n",
       "      <th>43</th>\n",
       "      <td>44</td>\n",
       "      <td>Cauliflower Melt</td>\n",
       "      <td>Marion Street Cheese Market</td>\n",
       "    </tr>\n",
       "    <tr>\n",
       "      <th>44</th>\n",
       "      <td>45</td>\n",
       "      <td>Cubana</td>\n",
       "      <td>Cafecito</td>\n",
       "    </tr>\n",
       "    <tr>\n",
       "      <th>45</th>\n",
       "      <td>46</td>\n",
       "      <td>Kufta</td>\n",
       "      <td>Chickpea</td>\n",
       "    </tr>\n",
       "    <tr>\n",
       "      <th>46</th>\n",
       "      <td>47</td>\n",
       "      <td>Debbie’s Egg Salad</td>\n",
       "      <td>The Goddess and Grocer</td>\n",
       "    </tr>\n",
       "    <tr>\n",
       "      <th>47</th>\n",
       "      <td>48</td>\n",
       "      <td>Beef Curry</td>\n",
       "      <td>Zenwich</td>\n",
       "    </tr>\n",
       "    <tr>\n",
       "      <th>48</th>\n",
       "      <td>49</td>\n",
       "      <td>Le Végétarien</td>\n",
       "      <td>Toni Patisserie</td>\n",
       "    </tr>\n",
       "    <tr>\n",
       "      <th>49</th>\n",
       "      <td>50</td>\n",
       "      <td>The Gatsby</td>\n",
       "      <td>Phoebe’s Bakery</td>\n",
       "    </tr>\n",
       "  </tbody>\n",
       "</table>\n",
       "</div>"
      ],
      "text/plain": [
       "    rank                                            cafe  \\\n",
       "0      1                                             BLT   \n",
       "1      2                                   Fried Bologna   \n",
       "2      3                               Woodland Mushroom   \n",
       "3      4                                      Roast Beef   \n",
       "4      5                                            PB&L   \n",
       "5      6                     Belgian Chicken Curry Salad   \n",
       "6      7                                    Lobster Roll   \n",
       "7      8                             Smoked Salmon Salad   \n",
       "8      9                                 Atomica Cemitas   \n",
       "9     10  Grilled Laughing Bird Shrimp and Fried Po’ Boy   \n",
       "10    11                         Ham and Raclette Panino   \n",
       "11    12                                   Breaded Steak   \n",
       "12    13                                     The Hawkeye   \n",
       "13    14                                     Chicken Dip   \n",
       "14    15                            Wild Boar Sloppy Joe   \n",
       "15    16                                    Meatball Sub   \n",
       "16    17                                     Corned Beef   \n",
       "17    18                                     Turkey Club   \n",
       "18    19                                         Falafel   \n",
       "19    20                                       Crab Cake   \n",
       "20    21                               Chicken Schnitzel   \n",
       "21    22                                        Shawarma   \n",
       "22    23                         Toasted Pimiento Cheese   \n",
       "23    24                               Vegetarian Panino   \n",
       "24    25                                     Cali Chèvre   \n",
       "25    26                                        Pastrami   \n",
       "26    27                                       The Fredo   \n",
       "27    28                                      Smoked Ham   \n",
       "28    29                                        Jibarito   \n",
       "29    30                                Shaved Prime Rib   \n",
       "30    31                 Serrano Ham and Manchego Cheese   \n",
       "31    32                                      Tuna Salad   \n",
       "32    33                                Paramount Reuben   \n",
       "33    34                                    The Istanbul   \n",
       "34    35                                          B.A.D.   \n",
       "35    36                      Duck Confit and Mozzarella   \n",
       "36    37                                 Croque Monsieur   \n",
       "37    38                                  Green Garbanzo   \n",
       "38    39                                   The Hen House   \n",
       "39    40                                  Tuscan Chicken   \n",
       "40    41                                      The Marty    \n",
       "41    42                                       Whitefish   \n",
       "42    43          Oat Bread, Pecan Butter, and Fruit Jam   \n",
       "43    44                                Cauliflower Melt   \n",
       "44    45                                          Cubana   \n",
       "45    46                                           Kufta   \n",
       "46    47                              Debbie’s Egg Salad   \n",
       "47    48                                      Beef Curry   \n",
       "48    49                                   Le Végétarien   \n",
       "49    50                                      The Gatsby   \n",
       "\n",
       "                               menu  \n",
       "0                       Old Oak Tap  \n",
       "1                         Au Cheval  \n",
       "2                              Xoco  \n",
       "3                         Al’s Deli  \n",
       "4            Publican Quality Meats  \n",
       "5   Hendrickx Belgian Bread Crafter  \n",
       "6                            Acadia  \n",
       "7                 Birchwood Kitchen  \n",
       "8                    Cemitas Puebla  \n",
       "9                              Nana  \n",
       "10                        Lula Cafe  \n",
       "11                       Ricobene’s  \n",
       "12                     Frog n Snail  \n",
       "13                 Crosby’s Kitchen  \n",
       "14                  Longman & Eagle  \n",
       "15                             Bari  \n",
       "16                          Manny’s  \n",
       "17                           Eggy’s  \n",
       "18                    Old Jerusalem  \n",
       "19             Mindy’s HotChocolate  \n",
       "20              Olga’s Delicatessen  \n",
       "21     Dawali Mediterranean Kitchen  \n",
       "22                        Big Jones  \n",
       "23                          La Pane  \n",
       "24                         Pastoral  \n",
       "25                       Max’s Deli  \n",
       "26             Lucky’s Sandwich Co.  \n",
       "27                  City Provisions  \n",
       "28             Papa’s Cache Sabroso  \n",
       "29            Bavette’s Bar & Boeuf  \n",
       "30                 Hannah’s Bretzel  \n",
       "31                     La Fournette  \n",
       "32                   Paramount Room  \n",
       "33             Melt Sandwich Shoppe  \n",
       "34           Floriole Cafe & Bakery  \n",
       "35             First Slice Pie Café  \n",
       "36                          Troquet  \n",
       "37                       Grahamwich  \n",
       "38                   Saigon Sisters  \n",
       "39                   Rosalia’s Deli  \n",
       "40                   Z&H MarketCafe  \n",
       "41       Market House on the Square  \n",
       "42             Elaine’s Coffee Call  \n",
       "43      Marion Street Cheese Market  \n",
       "44                         Cafecito  \n",
       "45                         Chickpea  \n",
       "46           The Goddess and Grocer  \n",
       "47                          Zenwich  \n",
       "48                  Toni Patisserie  \n",
       "49                  Phoebe’s Bakery  "
      ]
     },
     "execution_count": 41,
     "metadata": {},
     "output_type": "execute_result"
    }
   ],
   "source": [
    "del df['url']\n",
    "df\n"
   ]
  },
  {
   "cell_type": "code",
   "execution_count": 42,
   "metadata": {
    "scrolled": true
   },
   "outputs": [
    {
     "data": {
      "text/html": [
       "<div>\n",
       "<style scoped>\n",
       "    .dataframe tbody tr th:only-of-type {\n",
       "        vertical-align: middle;\n",
       "    }\n",
       "\n",
       "    .dataframe tbody tr th {\n",
       "        vertical-align: top;\n",
       "    }\n",
       "\n",
       "    .dataframe thead th {\n",
       "        text-align: right;\n",
       "    }\n",
       "</style>\n",
       "<table border=\"1\" class=\"dataframe\">\n",
       "  <thead>\n",
       "    <tr style=\"text-align: right;\">\n",
       "      <th></th>\n",
       "      <th>rank</th>\n",
       "      <th>cafe</th>\n",
       "      <th>menu</th>\n",
       "      <th>price</th>\n",
       "      <th>addr</th>\n",
       "    </tr>\n",
       "  </thead>\n",
       "  <tbody>\n",
       "    <tr>\n",
       "      <th>0</th>\n",
       "      <td>1</td>\n",
       "      <td>BLT</td>\n",
       "      <td>Old Oak Tap</td>\n",
       "      <td>$10</td>\n",
       "      <td>2109 W. Chicago Ave.</td>\n",
       "    </tr>\n",
       "    <tr>\n",
       "      <th>1</th>\n",
       "      <td>2</td>\n",
       "      <td>Fried Bologna</td>\n",
       "      <td>Au Cheval</td>\n",
       "      <td>$9</td>\n",
       "      <td>800 W. Randolph St.</td>\n",
       "    </tr>\n",
       "    <tr>\n",
       "      <th>2</th>\n",
       "      <td>3</td>\n",
       "      <td>Woodland Mushroom</td>\n",
       "      <td>Xoco</td>\n",
       "      <td>$9.50</td>\n",
       "      <td>445 N. Clark St.</td>\n",
       "    </tr>\n",
       "    <tr>\n",
       "      <th>3</th>\n",
       "      <td>4</td>\n",
       "      <td>Roast Beef</td>\n",
       "      <td>Al’s Deli</td>\n",
       "      <td>$9.40</td>\n",
       "      <td>914 Noyes St., Evanston</td>\n",
       "    </tr>\n",
       "    <tr>\n",
       "      <th>4</th>\n",
       "      <td>5</td>\n",
       "      <td>PB&amp;L</td>\n",
       "      <td>Publican Quality Meats</td>\n",
       "      <td>$10</td>\n",
       "      <td>825 W. Fulton Mkt.</td>\n",
       "    </tr>\n",
       "    <tr>\n",
       "      <th>5</th>\n",
       "      <td>6</td>\n",
       "      <td>Belgian Chicken Curry Salad</td>\n",
       "      <td>Hendrickx Belgian Bread Crafter</td>\n",
       "      <td>$7.25</td>\n",
       "      <td>100 E. Walto</td>\n",
       "    </tr>\n",
       "    <tr>\n",
       "      <th>6</th>\n",
       "      <td>7</td>\n",
       "      <td>Lobster Roll</td>\n",
       "      <td>Acadia</td>\n",
       "      <td>$16</td>\n",
       "      <td>1639 S. Wabash Ave.</td>\n",
       "    </tr>\n",
       "    <tr>\n",
       "      <th>7</th>\n",
       "      <td>8</td>\n",
       "      <td>Smoked Salmon Salad</td>\n",
       "      <td>Birchwood Kitchen</td>\n",
       "      <td>$10</td>\n",
       "      <td>2211 W. North Ave.</td>\n",
       "    </tr>\n",
       "    <tr>\n",
       "      <th>8</th>\n",
       "      <td>9</td>\n",
       "      <td>Atomica Cemitas</td>\n",
       "      <td>Cemitas Puebla</td>\n",
       "      <td>$9</td>\n",
       "      <td>3619 W. North Ave.</td>\n",
       "    </tr>\n",
       "    <tr>\n",
       "      <th>9</th>\n",
       "      <td>10</td>\n",
       "      <td>Grilled Laughing Bird Shrimp and Fried Po’ Boy</td>\n",
       "      <td>Nana</td>\n",
       "      <td>$17</td>\n",
       "      <td>3267 S. Halsted St.</td>\n",
       "    </tr>\n",
       "    <tr>\n",
       "      <th>10</th>\n",
       "      <td>11</td>\n",
       "      <td>Ham and Raclette Panino</td>\n",
       "      <td>Lula Cafe</td>\n",
       "      <td>$11</td>\n",
       "      <td>2537 N. Kedzie Blvd.</td>\n",
       "    </tr>\n",
       "    <tr>\n",
       "      <th>11</th>\n",
       "      <td>12</td>\n",
       "      <td>Breaded Steak</td>\n",
       "      <td>Ricobene’s</td>\n",
       "      <td>$5.49</td>\n",
       "      <td>Multipl</td>\n",
       "    </tr>\n",
       "    <tr>\n",
       "      <th>12</th>\n",
       "      <td>13</td>\n",
       "      <td>The Hawkeye</td>\n",
       "      <td>Frog n Snail</td>\n",
       "      <td>$14</td>\n",
       "      <td>3124 N. Broadway</td>\n",
       "    </tr>\n",
       "    <tr>\n",
       "      <th>13</th>\n",
       "      <td>14</td>\n",
       "      <td>Chicken Dip</td>\n",
       "      <td>Crosby’s Kitchen</td>\n",
       "      <td>$10</td>\n",
       "      <td>3455 N. Southport Ave.</td>\n",
       "    </tr>\n",
       "    <tr>\n",
       "      <th>14</th>\n",
       "      <td>15</td>\n",
       "      <td>Wild Boar Sloppy Joe</td>\n",
       "      <td>Longman &amp; Eagle</td>\n",
       "      <td>$13</td>\n",
       "      <td>2657 N. Kedzie Ave.</td>\n",
       "    </tr>\n",
       "    <tr>\n",
       "      <th>15</th>\n",
       "      <td>16</td>\n",
       "      <td>Meatball Sub</td>\n",
       "      <td>Bari</td>\n",
       "      <td>$4.50</td>\n",
       "      <td>1120 W. Grand Ave.</td>\n",
       "    </tr>\n",
       "    <tr>\n",
       "      <th>16</th>\n",
       "      <td>17</td>\n",
       "      <td>Corned Beef</td>\n",
       "      <td>Manny’s</td>\n",
       "      <td>$11.95</td>\n",
       "      <td>1141 S. Jefferson St.</td>\n",
       "    </tr>\n",
       "    <tr>\n",
       "      <th>17</th>\n",
       "      <td>18</td>\n",
       "      <td>Turkey Club</td>\n",
       "      <td>Eggy’s</td>\n",
       "      <td>$11.50</td>\n",
       "      <td>333 E. Benton Pl.</td>\n",
       "    </tr>\n",
       "    <tr>\n",
       "      <th>18</th>\n",
       "      <td>19</td>\n",
       "      <td>Falafel</td>\n",
       "      <td>Old Jerusalem</td>\n",
       "      <td>$6.25</td>\n",
       "      <td>1411 N. Wells St.</td>\n",
       "    </tr>\n",
       "    <tr>\n",
       "      <th>19</th>\n",
       "      <td>20</td>\n",
       "      <td>Crab Cake</td>\n",
       "      <td>Mindy’s HotChocolate</td>\n",
       "      <td>$15</td>\n",
       "      <td>1747 N. Damen Ave.</td>\n",
       "    </tr>\n",
       "    <tr>\n",
       "      <th>20</th>\n",
       "      <td>21</td>\n",
       "      <td>Chicken Schnitzel</td>\n",
       "      <td>Olga’s Delicatessen</td>\n",
       "      <td>$5</td>\n",
       "      <td>3209 W. Irving Par</td>\n",
       "    </tr>\n",
       "    <tr>\n",
       "      <th>21</th>\n",
       "      <td>22</td>\n",
       "      <td>Shawarma</td>\n",
       "      <td>Dawali Mediterranean Kitchen</td>\n",
       "      <td>$6</td>\n",
       "      <td>Multipl</td>\n",
       "    </tr>\n",
       "    <tr>\n",
       "      <th>22</th>\n",
       "      <td>23</td>\n",
       "      <td>Toasted Pimiento Cheese</td>\n",
       "      <td>Big Jones</td>\n",
       "      <td>$8</td>\n",
       "      <td>5347 N. Clark St.</td>\n",
       "    </tr>\n",
       "    <tr>\n",
       "      <th>23</th>\n",
       "      <td>24</td>\n",
       "      <td>Vegetarian Panino</td>\n",
       "      <td>La Pane</td>\n",
       "      <td>$5.99</td>\n",
       "      <td>2954 W. Irving Park Rd.</td>\n",
       "    </tr>\n",
       "    <tr>\n",
       "      <th>24</th>\n",
       "      <td>25</td>\n",
       "      <td>Cali Chèvre</td>\n",
       "      <td>Pastoral</td>\n",
       "      <td>$7.52</td>\n",
       "      <td>Multipl</td>\n",
       "    </tr>\n",
       "    <tr>\n",
       "      <th>25</th>\n",
       "      <td>26</td>\n",
       "      <td>Pastrami</td>\n",
       "      <td>Max’s Deli</td>\n",
       "      <td>$11.95</td>\n",
       "      <td>191 Skokie Valley Rd., Highland Park</td>\n",
       "    </tr>\n",
       "    <tr>\n",
       "      <th>26</th>\n",
       "      <td>27</td>\n",
       "      <td>The Fredo</td>\n",
       "      <td>Lucky’s Sandwich Co.</td>\n",
       "      <td>$7.50</td>\n",
       "      <td>Multipl</td>\n",
       "    </tr>\n",
       "    <tr>\n",
       "      <th>27</th>\n",
       "      <td>28</td>\n",
       "      <td>Smoked Ham</td>\n",
       "      <td>City Provisions</td>\n",
       "      <td>$12.95</td>\n",
       "      <td>1818 W. Wilson Ave.</td>\n",
       "    </tr>\n",
       "    <tr>\n",
       "      <th>28</th>\n",
       "      <td>29</td>\n",
       "      <td>Jibarito</td>\n",
       "      <td>Papa’s Cache Sabroso</td>\n",
       "      <td>$7</td>\n",
       "      <td>2517 W. Division St.</td>\n",
       "    </tr>\n",
       "    <tr>\n",
       "      <th>29</th>\n",
       "      <td>30</td>\n",
       "      <td>Shaved Prime Rib</td>\n",
       "      <td>Bavette’s Bar &amp; Boeuf</td>\n",
       "      <td>$21</td>\n",
       "      <td>218 W. Kinzi</td>\n",
       "    </tr>\n",
       "    <tr>\n",
       "      <th>30</th>\n",
       "      <td>31</td>\n",
       "      <td>Serrano Ham and Manchego Cheese</td>\n",
       "      <td>Hannah’s Bretzel</td>\n",
       "      <td>$9.79</td>\n",
       "      <td>Multipl</td>\n",
       "    </tr>\n",
       "    <tr>\n",
       "      <th>31</th>\n",
       "      <td>32</td>\n",
       "      <td>Tuna Salad</td>\n",
       "      <td>La Fournette</td>\n",
       "      <td>$9.75</td>\n",
       "      <td>1547 N. Wells St.</td>\n",
       "    </tr>\n",
       "    <tr>\n",
       "      <th>32</th>\n",
       "      <td>33</td>\n",
       "      <td>Paramount Reuben</td>\n",
       "      <td>Paramount Room</td>\n",
       "      <td>$13</td>\n",
       "      <td>415 N. Milwaukee Ave.</td>\n",
       "    </tr>\n",
       "    <tr>\n",
       "      <th>33</th>\n",
       "      <td>34</td>\n",
       "      <td>The Istanbul</td>\n",
       "      <td>Melt Sandwich Shoppe</td>\n",
       "      <td>$7.95</td>\n",
       "      <td>1840 N. Damen Ave.</td>\n",
       "    </tr>\n",
       "    <tr>\n",
       "      <th>34</th>\n",
       "      <td>35</td>\n",
       "      <td>B.A.D.</td>\n",
       "      <td>Floriole Cafe &amp; Bakery</td>\n",
       "      <td>$9</td>\n",
       "      <td>1220 W. Webster Ave.</td>\n",
       "    </tr>\n",
       "    <tr>\n",
       "      <th>35</th>\n",
       "      <td>36</td>\n",
       "      <td>Duck Confit and Mozzarella</td>\n",
       "      <td>First Slice Pie Café</td>\n",
       "      <td>$9</td>\n",
       "      <td>5357 N. Ashland Ave.</td>\n",
       "    </tr>\n",
       "    <tr>\n",
       "      <th>36</th>\n",
       "      <td>37</td>\n",
       "      <td>Croque Monsieur</td>\n",
       "      <td>Troquet</td>\n",
       "      <td>$8</td>\n",
       "      <td>1834 W. Montrose Ave.</td>\n",
       "    </tr>\n",
       "    <tr>\n",
       "      <th>37</th>\n",
       "      <td>38</td>\n",
       "      <td>Green Garbanzo</td>\n",
       "      <td>Grahamwich</td>\n",
       "      <td>$8</td>\n",
       "      <td>615 N. State St.</td>\n",
       "    </tr>\n",
       "    <tr>\n",
       "      <th>38</th>\n",
       "      <td>39</td>\n",
       "      <td>The Hen House</td>\n",
       "      <td>Saigon Sisters</td>\n",
       "      <td>$7</td>\n",
       "      <td>Multipl</td>\n",
       "    </tr>\n",
       "    <tr>\n",
       "      <th>39</th>\n",
       "      <td>40</td>\n",
       "      <td>Tuscan Chicken</td>\n",
       "      <td>Rosalia’s Deli</td>\n",
       "      <td>$6</td>\n",
       "      <td>241 N. York Rd., Elmhurst</td>\n",
       "    </tr>\n",
       "    <tr>\n",
       "      <th>40</th>\n",
       "      <td>41</td>\n",
       "      <td>The Marty</td>\n",
       "      <td>Z&amp;H MarketCafe</td>\n",
       "      <td>$7.25</td>\n",
       "      <td>1323 E. 57th St.</td>\n",
       "    </tr>\n",
       "    <tr>\n",
       "      <th>41</th>\n",
       "      <td>42</td>\n",
       "      <td>Whitefish</td>\n",
       "      <td>Market House on the Square</td>\n",
       "      <td>$11</td>\n",
       "      <td>655 Forest Ave., Lake Forest</td>\n",
       "    </tr>\n",
       "    <tr>\n",
       "      <th>42</th>\n",
       "      <td>43</td>\n",
       "      <td>Oat Bread, Pecan Butter, and Fruit Jam</td>\n",
       "      <td>Elaine’s Coffee Call</td>\n",
       "      <td>$6</td>\n",
       "      <td>Hotel Lincoln, 1816 N. Clark St.</td>\n",
       "    </tr>\n",
       "    <tr>\n",
       "      <th>43</th>\n",
       "      <td>44</td>\n",
       "      <td>Cauliflower Melt</td>\n",
       "      <td>Marion Street Cheese Market</td>\n",
       "      <td>$9</td>\n",
       "      <td>100 S. Marion St., Oak Park</td>\n",
       "    </tr>\n",
       "    <tr>\n",
       "      <th>44</th>\n",
       "      <td>45</td>\n",
       "      <td>Cubana</td>\n",
       "      <td>Cafecito</td>\n",
       "      <td>$5.49</td>\n",
       "      <td>26 E. Congress Pkwy.</td>\n",
       "    </tr>\n",
       "    <tr>\n",
       "      <th>45</th>\n",
       "      <td>46</td>\n",
       "      <td>Kufta</td>\n",
       "      <td>Chickpea</td>\n",
       "      <td>$8</td>\n",
       "      <td>2018 W. Chicago Ave.</td>\n",
       "    </tr>\n",
       "    <tr>\n",
       "      <th>46</th>\n",
       "      <td>47</td>\n",
       "      <td>Debbie’s Egg Salad</td>\n",
       "      <td>The Goddess and Grocer</td>\n",
       "      <td>$6.50</td>\n",
       "      <td>25 E. Delaware Pl.</td>\n",
       "    </tr>\n",
       "    <tr>\n",
       "      <th>47</th>\n",
       "      <td>48</td>\n",
       "      <td>Beef Curry</td>\n",
       "      <td>Zenwich</td>\n",
       "      <td>$7.50</td>\n",
       "      <td>416 N. York St., Elmhurst</td>\n",
       "    </tr>\n",
       "    <tr>\n",
       "      <th>48</th>\n",
       "      <td>49</td>\n",
       "      <td>Le Végétarien</td>\n",
       "      <td>Toni Patisserie</td>\n",
       "      <td>$8.75</td>\n",
       "      <td>65 E. Washington St.</td>\n",
       "    </tr>\n",
       "    <tr>\n",
       "      <th>49</th>\n",
       "      <td>50</td>\n",
       "      <td>The Gatsby</td>\n",
       "      <td>Phoebe’s Bakery</td>\n",
       "      <td>$6.85</td>\n",
       "      <td>3351 N. Broadway</td>\n",
       "    </tr>\n",
       "  </tbody>\n",
       "</table>\n",
       "</div>"
      ],
      "text/plain": [
       "    rank                                            cafe  \\\n",
       "0      1                                             BLT   \n",
       "1      2                                   Fried Bologna   \n",
       "2      3                               Woodland Mushroom   \n",
       "3      4                                      Roast Beef   \n",
       "4      5                                            PB&L   \n",
       "5      6                     Belgian Chicken Curry Salad   \n",
       "6      7                                    Lobster Roll   \n",
       "7      8                             Smoked Salmon Salad   \n",
       "8      9                                 Atomica Cemitas   \n",
       "9     10  Grilled Laughing Bird Shrimp and Fried Po’ Boy   \n",
       "10    11                         Ham and Raclette Panino   \n",
       "11    12                                   Breaded Steak   \n",
       "12    13                                     The Hawkeye   \n",
       "13    14                                     Chicken Dip   \n",
       "14    15                            Wild Boar Sloppy Joe   \n",
       "15    16                                    Meatball Sub   \n",
       "16    17                                     Corned Beef   \n",
       "17    18                                     Turkey Club   \n",
       "18    19                                         Falafel   \n",
       "19    20                                       Crab Cake   \n",
       "20    21                               Chicken Schnitzel   \n",
       "21    22                                        Shawarma   \n",
       "22    23                         Toasted Pimiento Cheese   \n",
       "23    24                               Vegetarian Panino   \n",
       "24    25                                     Cali Chèvre   \n",
       "25    26                                        Pastrami   \n",
       "26    27                                       The Fredo   \n",
       "27    28                                      Smoked Ham   \n",
       "28    29                                        Jibarito   \n",
       "29    30                                Shaved Prime Rib   \n",
       "30    31                 Serrano Ham and Manchego Cheese   \n",
       "31    32                                      Tuna Salad   \n",
       "32    33                                Paramount Reuben   \n",
       "33    34                                    The Istanbul   \n",
       "34    35                                          B.A.D.   \n",
       "35    36                      Duck Confit and Mozzarella   \n",
       "36    37                                 Croque Monsieur   \n",
       "37    38                                  Green Garbanzo   \n",
       "38    39                                   The Hen House   \n",
       "39    40                                  Tuscan Chicken   \n",
       "40    41                                      The Marty    \n",
       "41    42                                       Whitefish   \n",
       "42    43          Oat Bread, Pecan Butter, and Fruit Jam   \n",
       "43    44                                Cauliflower Melt   \n",
       "44    45                                          Cubana   \n",
       "45    46                                           Kufta   \n",
       "46    47                              Debbie’s Egg Salad   \n",
       "47    48                                      Beef Curry   \n",
       "48    49                                   Le Végétarien   \n",
       "49    50                                      The Gatsby   \n",
       "\n",
       "                               menu   price  \\\n",
       "0                       Old Oak Tap     $10   \n",
       "1                         Au Cheval      $9   \n",
       "2                              Xoco   $9.50   \n",
       "3                         Al’s Deli   $9.40   \n",
       "4            Publican Quality Meats     $10   \n",
       "5   Hendrickx Belgian Bread Crafter   $7.25   \n",
       "6                            Acadia     $16   \n",
       "7                 Birchwood Kitchen     $10   \n",
       "8                    Cemitas Puebla      $9   \n",
       "9                              Nana     $17   \n",
       "10                        Lula Cafe     $11   \n",
       "11                       Ricobene’s   $5.49   \n",
       "12                     Frog n Snail     $14   \n",
       "13                 Crosby’s Kitchen     $10   \n",
       "14                  Longman & Eagle     $13   \n",
       "15                             Bari   $4.50   \n",
       "16                          Manny’s  $11.95   \n",
       "17                           Eggy’s  $11.50   \n",
       "18                    Old Jerusalem   $6.25   \n",
       "19             Mindy’s HotChocolate     $15   \n",
       "20              Olga’s Delicatessen      $5   \n",
       "21     Dawali Mediterranean Kitchen      $6   \n",
       "22                        Big Jones      $8   \n",
       "23                          La Pane   $5.99   \n",
       "24                         Pastoral   $7.52   \n",
       "25                       Max’s Deli  $11.95   \n",
       "26             Lucky’s Sandwich Co.   $7.50   \n",
       "27                  City Provisions  $12.95   \n",
       "28             Papa’s Cache Sabroso      $7   \n",
       "29            Bavette’s Bar & Boeuf     $21   \n",
       "30                 Hannah’s Bretzel   $9.79   \n",
       "31                     La Fournette   $9.75   \n",
       "32                   Paramount Room     $13   \n",
       "33             Melt Sandwich Shoppe   $7.95   \n",
       "34           Floriole Cafe & Bakery      $9   \n",
       "35             First Slice Pie Café      $9   \n",
       "36                          Troquet      $8   \n",
       "37                       Grahamwich      $8   \n",
       "38                   Saigon Sisters      $7   \n",
       "39                   Rosalia’s Deli      $6   \n",
       "40                   Z&H MarketCafe   $7.25   \n",
       "41       Market House on the Square     $11   \n",
       "42             Elaine’s Coffee Call      $6   \n",
       "43      Marion Street Cheese Market      $9   \n",
       "44                         Cafecito   $5.49   \n",
       "45                         Chickpea      $8   \n",
       "46           The Goddess and Grocer   $6.50   \n",
       "47                          Zenwich   $7.50   \n",
       "48                  Toni Patisserie   $8.75   \n",
       "49                  Phoebe’s Bakery   $6.85   \n",
       "\n",
       "                                    addr  \n",
       "0                   2109 W. Chicago Ave.  \n",
       "1                    800 W. Randolph St.  \n",
       "2                       445 N. Clark St.  \n",
       "3                914 Noyes St., Evanston  \n",
       "4                     825 W. Fulton Mkt.  \n",
       "5                           100 E. Walto  \n",
       "6                    1639 S. Wabash Ave.  \n",
       "7                     2211 W. North Ave.  \n",
       "8                     3619 W. North Ave.  \n",
       "9                    3267 S. Halsted St.  \n",
       "10                  2537 N. Kedzie Blvd.  \n",
       "11                               Multipl  \n",
       "12                      3124 N. Broadway  \n",
       "13                3455 N. Southport Ave.  \n",
       "14                   2657 N. Kedzie Ave.  \n",
       "15                    1120 W. Grand Ave.  \n",
       "16                 1141 S. Jefferson St.  \n",
       "17                     333 E. Benton Pl.  \n",
       "18                     1411 N. Wells St.  \n",
       "19                    1747 N. Damen Ave.  \n",
       "20                    3209 W. Irving Par  \n",
       "21                               Multipl  \n",
       "22                     5347 N. Clark St.  \n",
       "23               2954 W. Irving Park Rd.  \n",
       "24                               Multipl  \n",
       "25  191 Skokie Valley Rd., Highland Park  \n",
       "26                               Multipl  \n",
       "27                   1818 W. Wilson Ave.  \n",
       "28                  2517 W. Division St.  \n",
       "29                          218 W. Kinzi  \n",
       "30                               Multipl  \n",
       "31                     1547 N. Wells St.  \n",
       "32                 415 N. Milwaukee Ave.  \n",
       "33                    1840 N. Damen Ave.  \n",
       "34                  1220 W. Webster Ave.  \n",
       "35                  5357 N. Ashland Ave.  \n",
       "36                 1834 W. Montrose Ave.  \n",
       "37                      615 N. State St.  \n",
       "38                               Multipl  \n",
       "39             241 N. York Rd., Elmhurst  \n",
       "40                      1323 E. 57th St.  \n",
       "41          655 Forest Ave., Lake Forest  \n",
       "42      Hotel Lincoln, 1816 N. Clark St.  \n",
       "43           100 S. Marion St., Oak Park  \n",
       "44                  26 E. Congress Pkwy.  \n",
       "45                  2018 W. Chicago Ave.  \n",
       "46                    25 E. Delaware Pl.  \n",
       "47             416 N. York St., Elmhurst  \n",
       "48                  65 E. Washington St.  \n",
       "49                      3351 N. Broadway  "
      ]
     },
     "execution_count": 42,
     "metadata": {},
     "output_type": "execute_result"
    }
   ],
   "source": [
    "df['price'] = price\n",
    "df['addr'] = addr\n",
    "df\n",
    "\n"
   ]
  },
  {
   "cell_type": "code",
   "execution_count": 43,
   "metadata": {},
   "outputs": [],
   "source": [
    "df.to_csv('chicago2.csv', sep=',', encoding= 'utf-8')"
   ]
  },
  {
   "cell_type": "code",
   "execution_count": 44,
   "metadata": {},
   "outputs": [
    {
     "data": {
      "text/html": [
       "<div>\n",
       "<style scoped>\n",
       "    .dataframe tbody tr th:only-of-type {\n",
       "        vertical-align: middle;\n",
       "    }\n",
       "\n",
       "    .dataframe tbody tr th {\n",
       "        vertical-align: top;\n",
       "    }\n",
       "\n",
       "    .dataframe thead th {\n",
       "        text-align: right;\n",
       "    }\n",
       "</style>\n",
       "<table border=\"1\" class=\"dataframe\">\n",
       "  <thead>\n",
       "    <tr style=\"text-align: right;\">\n",
       "      <th></th>\n",
       "      <th>cafe</th>\n",
       "      <th>menu</th>\n",
       "      <th>price</th>\n",
       "      <th>addr</th>\n",
       "    </tr>\n",
       "    <tr>\n",
       "      <th>rank</th>\n",
       "      <th></th>\n",
       "      <th></th>\n",
       "      <th></th>\n",
       "      <th></th>\n",
       "    </tr>\n",
       "  </thead>\n",
       "  <tbody>\n",
       "    <tr>\n",
       "      <th>1</th>\n",
       "      <td>BLT</td>\n",
       "      <td>Old Oak Tap</td>\n",
       "      <td>$10</td>\n",
       "      <td>2109 W. Chicago Ave.</td>\n",
       "    </tr>\n",
       "    <tr>\n",
       "      <th>2</th>\n",
       "      <td>Fried Bologna</td>\n",
       "      <td>Au Cheval</td>\n",
       "      <td>$9</td>\n",
       "      <td>800 W. Randolph St.</td>\n",
       "    </tr>\n",
       "    <tr>\n",
       "      <th>3</th>\n",
       "      <td>Woodland Mushroom</td>\n",
       "      <td>Xoco</td>\n",
       "      <td>$9.50</td>\n",
       "      <td>445 N. Clark St.</td>\n",
       "    </tr>\n",
       "    <tr>\n",
       "      <th>4</th>\n",
       "      <td>Roast Beef</td>\n",
       "      <td>Al’s Deli</td>\n",
       "      <td>$9.40</td>\n",
       "      <td>914 Noyes St., Evanston</td>\n",
       "    </tr>\n",
       "    <tr>\n",
       "      <th>5</th>\n",
       "      <td>PB&amp;L</td>\n",
       "      <td>Publican Quality Meats</td>\n",
       "      <td>$10</td>\n",
       "      <td>825 W. Fulton Mkt.</td>\n",
       "    </tr>\n",
       "  </tbody>\n",
       "</table>\n",
       "</div>"
      ],
      "text/plain": [
       "                   cafe                    menu  price  \\\n",
       "rank                                                     \n",
       "1                   BLT             Old Oak Tap    $10   \n",
       "2         Fried Bologna               Au Cheval     $9   \n",
       "3     Woodland Mushroom                    Xoco  $9.50   \n",
       "4            Roast Beef               Al’s Deli  $9.40   \n",
       "5                  PB&L  Publican Quality Meats    $10   \n",
       "\n",
       "                         addr  \n",
       "rank                           \n",
       "1        2109 W. Chicago Ave.  \n",
       "2         800 W. Randolph St.  \n",
       "3            445 N. Clark St.  \n",
       "4     914 Noyes St., Evanston  \n",
       "5          825 W. Fulton Mkt.  "
      ]
     },
     "execution_count": 44,
     "metadata": {},
     "output_type": "execute_result"
    }
   ],
   "source": [
    "df.set_index('rank', inplace=True)\n",
    "df.head()"
   ]
  },
  {
   "cell_type": "code",
   "execution_count": 45,
   "metadata": {},
   "outputs": [],
   "source": [
    "df.to_csv('chicago2.csv', sep=',', encoding= 'utf-8')"
   ]
  },
  {
   "cell_type": "markdown",
   "metadata": {},
   "source": [
    "## 3. 맛집 위치를 지도에 표기하기"
   ]
  },
  {
   "cell_type": "code",
   "execution_count": 46,
   "metadata": {},
   "outputs": [],
   "source": [
    "import numpy as np\n",
    "import folium\n",
    "import googlemaps"
   ]
  },
  {
   "cell_type": "code",
   "execution_count": 47,
   "metadata": {},
   "outputs": [],
   "source": [
    "key_fd = open('dkdld.txt', mode ='r')\n",
    "gmaps_key = key_fd.read(100)\n",
    "key_fd.close()"
   ]
  },
  {
   "cell_type": "code",
   "execution_count": 48,
   "metadata": {},
   "outputs": [],
   "source": [
    "gmaps = googlemaps.Client(key=gmaps_key)"
   ]
  },
  {
   "cell_type": "code",
   "execution_count": 49,
   "metadata": {},
   "outputs": [
    {
     "name": "stderr",
     "output_type": "stream",
     "text": [
      "C:\\ProgramData\\Anaconda3\\lib\\site-packages\\ipykernel_launcher.py:4: TqdmDeprecationWarning: This function will be removed in tqdm==5.0.0\n",
      "Please use `tqdm.notebook.tqdm` instead of `tqdm.tqdm_notebook`\n",
      "  after removing the cwd from sys.path.\n"
     ]
    },
    {
     "data": {
      "application/vnd.jupyter.widget-view+json": {
       "model_id": "f7ee0234d26449b7a83d8c3f591d89cb",
       "version_major": 2,
       "version_minor": 0
      },
      "text/plain": [
       "HBox(children=(FloatProgress(value=0.0, max=50.0), HTML(value='')))"
      ]
     },
     "metadata": {},
     "output_type": "display_data"
    },
    {
     "name": "stdout",
     "output_type": "stream",
     "text": [
      "\n"
     ]
    }
   ],
   "source": [
    "lat =[]\n",
    "lng=[]\n",
    "\n",
    "for n in tqdm_notebook(df.index):\n",
    "    if df['addr'][n] != 'Multiple':\n",
    "        target_name = df['addr'][n]+', '+'chicago'\n",
    "        gmaps_output = gmaps.geocode(target_name)\n",
    "        location_output = gmaps_output[0].get('geometry')\n",
    "        lat.append(location_output['location']['lat'])\n",
    "        lng.append(location_output['location']['lng'])\n",
    "    else:\n",
    "        lat.append(np.nan)\n",
    "        lng.append(np.nan)"
   ]
  },
  {
   "cell_type": "code",
   "execution_count": 50,
   "metadata": {},
   "outputs": [
    {
     "data": {
      "text/html": [
       "<div>\n",
       "<style scoped>\n",
       "    .dataframe tbody tr th:only-of-type {\n",
       "        vertical-align: middle;\n",
       "    }\n",
       "\n",
       "    .dataframe tbody tr th {\n",
       "        vertical-align: top;\n",
       "    }\n",
       "\n",
       "    .dataframe thead th {\n",
       "        text-align: right;\n",
       "    }\n",
       "</style>\n",
       "<table border=\"1\" class=\"dataframe\">\n",
       "  <thead>\n",
       "    <tr style=\"text-align: right;\">\n",
       "      <th></th>\n",
       "      <th>cafe</th>\n",
       "      <th>menu</th>\n",
       "      <th>price</th>\n",
       "      <th>addr</th>\n",
       "      <th>lat</th>\n",
       "      <th>lng</th>\n",
       "    </tr>\n",
       "    <tr>\n",
       "      <th>rank</th>\n",
       "      <th></th>\n",
       "      <th></th>\n",
       "      <th></th>\n",
       "      <th></th>\n",
       "      <th></th>\n",
       "      <th></th>\n",
       "    </tr>\n",
       "  </thead>\n",
       "  <tbody>\n",
       "    <tr>\n",
       "      <th>1</th>\n",
       "      <td>BLT</td>\n",
       "      <td>Old Oak Tap</td>\n",
       "      <td>$10</td>\n",
       "      <td>2109 W. Chicago Ave.</td>\n",
       "      <td>41.895605</td>\n",
       "      <td>-87.679961</td>\n",
       "    </tr>\n",
       "    <tr>\n",
       "      <th>2</th>\n",
       "      <td>Fried Bologna</td>\n",
       "      <td>Au Cheval</td>\n",
       "      <td>$9</td>\n",
       "      <td>800 W. Randolph St.</td>\n",
       "      <td>41.884658</td>\n",
       "      <td>-87.647667</td>\n",
       "    </tr>\n",
       "    <tr>\n",
       "      <th>3</th>\n",
       "      <td>Woodland Mushroom</td>\n",
       "      <td>Xoco</td>\n",
       "      <td>$9.50</td>\n",
       "      <td>445 N. Clark St.</td>\n",
       "      <td>41.890523</td>\n",
       "      <td>-87.630783</td>\n",
       "    </tr>\n",
       "    <tr>\n",
       "      <th>4</th>\n",
       "      <td>Roast Beef</td>\n",
       "      <td>Al’s Deli</td>\n",
       "      <td>$9.40</td>\n",
       "      <td>914 Noyes St., Evanston</td>\n",
       "      <td>42.058322</td>\n",
       "      <td>-87.683748</td>\n",
       "    </tr>\n",
       "    <tr>\n",
       "      <th>5</th>\n",
       "      <td>PB&amp;L</td>\n",
       "      <td>Publican Quality Meats</td>\n",
       "      <td>$10</td>\n",
       "      <td>825 W. Fulton Mkt.</td>\n",
       "      <td>41.886600</td>\n",
       "      <td>-87.648451</td>\n",
       "    </tr>\n",
       "  </tbody>\n",
       "</table>\n",
       "</div>"
      ],
      "text/plain": [
       "                   cafe                    menu  price  \\\n",
       "rank                                                     \n",
       "1                   BLT             Old Oak Tap    $10   \n",
       "2         Fried Bologna               Au Cheval     $9   \n",
       "3     Woodland Mushroom                    Xoco  $9.50   \n",
       "4            Roast Beef               Al’s Deli  $9.40   \n",
       "5                  PB&L  Publican Quality Meats    $10   \n",
       "\n",
       "                         addr        lat        lng  \n",
       "rank                                                 \n",
       "1        2109 W. Chicago Ave.  41.895605 -87.679961  \n",
       "2         800 W. Randolph St.  41.884658 -87.647667  \n",
       "3            445 N. Clark St.  41.890523 -87.630783  \n",
       "4     914 Noyes St., Evanston  42.058322 -87.683748  \n",
       "5          825 W. Fulton Mkt.  41.886600 -87.648451  "
      ]
     },
     "execution_count": 50,
     "metadata": {},
     "output_type": "execute_result"
    }
   ],
   "source": [
    "df['lat'] = lat\n",
    "df['lng'] = lng\n",
    "df.head()"
   ]
  },
  {
   "cell_type": "code",
   "execution_count": 51,
   "metadata": {},
   "outputs": [
    {
     "data": {
      "text/html": [
       "<div style=\"width:100%;\"><div style=\"position:relative;width:100%;height:0;padding-bottom:60%;\"><span style=\"color:#565656\">Make this Notebook Trusted to load map: File -> Trust Notebook</span><iframe src=\"about:blank\" style=\"position:absolute;width:100%;height:100%;left:0;top:0;border:none !important;\" data-html=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 onload=\"this.contentDocument.open();this.contentDocument.write(atob(this.getAttribute('data-html')));this.contentDocument.close();\" allowfullscreen webkitallowfullscreen mozallowfullscreen></iframe></div></div>"
      ],
      "text/plain": [
       "<folium.folium.Map at 0x23f5d70bec8>"
      ]
     },
     "execution_count": 51,
     "metadata": {},
     "output_type": "execute_result"
    }
   ],
   "source": [
    "mapping = folium.Map(location=[df['lat'].mean(), df['lng'].mean()],\n",
    "                    zoom_start = 11)\n",
    "folium.Marker([df['lat'].mean(), df['lng'].mean()],\n",
    "             popup='center').add_to(mapping)\n",
    "mapping"
   ]
  },
  {
   "cell_type": "code",
   "execution_count": 52,
   "metadata": {},
   "outputs": [
    {
     "data": {
      "text/html": [
       "<div style=\"width:100%;\"><div style=\"position:relative;width:100%;height:0;padding-bottom:60%;\"><span style=\"color:#565656\">Make this Notebook Trusted to load map: File -> Trust Notebook</span><iframe src=\"about:blank\" style=\"position:absolute;width:100%;height:100%;left:0;top:0;border:none !important;\" data-html=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 onload=\"this.contentDocument.open();this.contentDocument.write(atob(this.getAttribute('data-html')));this.contentDocument.close();\" allowfullscreen webkitallowfullscreen mozallowfullscreen></iframe></div></div>"
      ],
      "text/plain": [
       "<folium.folium.Map at 0x23f5d706688>"
      ]
     },
     "execution_count": 52,
     "metadata": {},
     "output_type": "execute_result"
    }
   ],
   "source": [
    "mapping = folium.Map(location=[df['lat'].mean(), df['lng'].mean()],\n",
    "                    zoom_start = 11)\n",
    "for n in df.index:\n",
    "    if df['addr'][n] != 'Multiple':\n",
    "        folium.Marker([df['lat'][n], df['lng'][n]],\n",
    "                      popup=df['cafe'][n]).add_to(mapping)\n",
    "mapping"
   ]
  },
  {
   "cell_type": "code",
   "execution_count": 53,
   "metadata": {},
   "outputs": [
    {
     "data": {
      "text/plain": [
       "['2109 W. Chicago Ave.',\n",
       " '800 W. Randolph St.',\n",
       " '445 N. Clark St.',\n",
       " '914 Noyes St., Evanston',\n",
       " '825 W. Fulton Mkt.',\n",
       " '100 E. Walto',\n",
       " '1639 S. Wabash Ave.',\n",
       " '2211 W. North Ave.',\n",
       " '3619 W. North Ave.',\n",
       " '3267 S. Halsted St.',\n",
       " '2537 N. Kedzie Blvd.',\n",
       " 'Multipl',\n",
       " '3124 N. Broadway',\n",
       " '3455 N. Southport Ave.',\n",
       " '2657 N. Kedzie Ave.',\n",
       " '1120 W. Grand Ave.',\n",
       " '1141 S. Jefferson St.',\n",
       " '333 E. Benton Pl.',\n",
       " '1411 N. Wells St.',\n",
       " '1747 N. Damen Ave.',\n",
       " '3209 W. Irving Par',\n",
       " 'Multipl',\n",
       " '5347 N. Clark St.',\n",
       " '2954 W. Irving Park Rd.',\n",
       " 'Multipl',\n",
       " '191 Skokie Valley Rd., Highland Park',\n",
       " 'Multipl',\n",
       " '1818 W. Wilson Ave.',\n",
       " '2517 W. Division St.',\n",
       " '218 W. Kinzi',\n",
       " 'Multipl',\n",
       " '1547 N. Wells St.',\n",
       " '415 N. Milwaukee Ave.',\n",
       " '1840 N. Damen Ave.',\n",
       " '1220 W. Webster Ave.',\n",
       " '5357 N. Ashland Ave.',\n",
       " '1834 W. Montrose Ave.',\n",
       " '615 N. State St.',\n",
       " 'Multipl',\n",
       " '241 N. York Rd., Elmhurst',\n",
       " '1323 E. 57th St.',\n",
       " '655 Forest Ave., Lake Forest',\n",
       " 'Hotel Lincoln, 1816 N. Clark St.',\n",
       " '100 S. Marion St., Oak Park',\n",
       " '26 E. Congress Pkwy.',\n",
       " '2018 W. Chicago Ave.',\n",
       " '25 E. Delaware Pl.',\n",
       " '416 N. York St., Elmhurst',\n",
       " '65 E. Washington St.',\n",
       " '3351 N. Broadway']"
      ]
     },
     "execution_count": 53,
     "metadata": {},
     "output_type": "execute_result"
    }
   ],
   "source": [
    "addr"
   ]
  },
  {
   "cell_type": "code",
   "execution_count": 54,
   "metadata": {},
   "outputs": [
    {
     "data": {
      "text/plain": [
       "['대전 대덕구 한밭대로 1153']"
      ]
     },
     "execution_count": 54,
     "metadata": {},
     "output_type": "execute_result"
    }
   ],
   "source": [
    "asd = ['대전 대덕구 한밭대로 1153']\n",
    "asd"
   ]
  }
 ],
 "metadata": {
  "kernelspec": {
   "display_name": "Python 3",
   "language": "python",
   "name": "python3"
  },
  "language_info": {
   "codemirror_mode": {
    "name": "ipython",
    "version": 3
   },
   "file_extension": ".py",
   "mimetype": "text/x-python",
   "name": "python",
   "nbconvert_exporter": "python",
   "pygments_lexer": "ipython3",
   "version": "3.7.6"
  }
 },
 "nbformat": 4,
 "nbformat_minor": 4
}
