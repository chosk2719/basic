{
 "cells": [
  {
   "cell_type": "code",
   "execution_count": null,
   "metadata": {},
   "outputs": [],
   "source": [
    "# 1번\n",
    "from lib import inc_10, mul_20\n",
    "print(inc_10(5))"
   ]
  },
  {
   "cell_type": "code",
   "execution_count": null,
   "metadata": {},
   "outputs": [],
   "source": [
    "# 2번\n",
    "import lib\n",
    "\n",
    "a = lib.mul_20(3)\n",
    "b = a + lib.fact(1, 3)            #fact :  ex) 3 = 3*2*1 = 6, 5 = 5*4*3*2*1 = 120\n",
    "c =a + b + lib.inc_10(2)\n",
    "print(c)"
   ]
  },
  {
   "cell_type": "code",
   "execution_count": null,
   "metadata": {},
   "outputs": [],
   "source": [
    "# 3번\n",
    "import lib as lb\n",
    "\n",
    "a = 1\n",
    "b = 2\n",
    "c = 3\n",
    "\n",
    "d = lb.fact(a, b)\n",
    "d += lb.inc_10(c)\n",
    "e = d + lb.mul_20(a)\n",
    "print(d)"
   ]
  },
  {
   "cell_type": "code",
   "execution_count": null,
   "metadata": {},
   "outputs": [],
   "source": [
    "# 4번\n",
    "randint()"
   ]
  },
  {
   "cell_type": "code",
   "execution_count": null,
   "metadata": {},
   "outputs": [],
   "source": [
    "import random\n",
    "\n",
    "for i in range(5):\n",
    "    print(random.randint(1, 6))\n",
    "    "
   ]
  },
  {
   "cell_type": "code",
   "execution_count": null,
   "metadata": {},
   "outputs": [],
   "source": [
    "# 5번\n",
    "%p"
   ]
  },
  {
   "cell_type": "code",
   "execution_count": null,
   "metadata": {},
   "outputs": [],
   "source": [
    "import random\n",
    "\n",
    "again = 'y'\n",
    "count = 0\n",
    "\n",
    "while again =='y':\n",
    "    print('-' * 30)\n",
    "    print('주사위 던지기 : %d번째' % count)\n",
    "    me = random.randint(1, 6)\n",
    "    computer = random.randint(1, 6)\n",
    "    print('불꽃남자 : %d' % me )\n",
    "    print('강부자 : %d' % computer)\n",
    "    if me > computer :\n",
    "        print('불꽃남자의 승리!')\n",
    "    elif me == computer :\n",
    "        print('무승부!')\n",
    "    else :\n",
    "        print('강부자의 승리!')\n",
    "    count = count + 1\n",
    "    again = input('계속하려면 y를 입력하세요!')"
   ]
  },
  {
   "cell_type": "code",
   "execution_count": 4,
   "metadata": {},
   "outputs": [
    {
     "name": "stdout",
     "output_type": "stream",
     "text": [
      "숫자를 입력하시오 : 50000\n",
      "[6, 28, 496, 8128]\n"
     ]
    }
   ],
   "source": [
    "num= int(input(\"숫자를 입력하시오 : \"))\n",
    "print([x for x in range(1, num+1) if x==sum(y for y in range(1, x) if x%y==0)])"
   ]
  },
  {
   "cell_type": "code",
   "execution_count": 16,
   "metadata": {},
   "outputs": [
    {
     "name": "stdout",
     "output_type": "stream",
     "text": [
      "100\n",
      "338350 25502500\n",
      "-25164150\n"
     ]
    }
   ],
   "source": [
    "n = int(input())\n",
    "\n",
    "def sum_n2(n):\n",
    "    a = 0\n",
    "    for i in range(1, n+1):\n",
    "        a += (i ** 2)\n",
    "    return a\n",
    "\n",
    "def sum_n3(n):\n",
    "    b = 0\n",
    "    for i in range(1, n+1):\n",
    "        b += i\n",
    "    return b**2\n",
    "\n",
    "        \n",
    "        \n",
    "        \n",
    "print(sum_n2(n), sum_n3(n))\n",
    "print(sum_n2(n) - sum_n3(n))\n"
   ]
  },
  {
   "cell_type": "code",
   "execution_count": 24,
   "metadata": {},
   "outputs": [
    {
     "name": "stdout",
     "output_type": "stream",
     "text": [
      "9\n",
      "*\n",
      "***\n",
      "*****\n",
      "*******\n",
      "*********\n",
      "*******\n",
      "*****\n",
      "***\n",
      "*\n"
     ]
    }
   ],
   "source": [
    "y = int(input())\n",
    "x = int(y/2) + 1\n",
    "for  i in range(1,2 * x) :\n",
    "    if(i <= x):\n",
    "        for j in range(x - i) :\n",
    "            print(\"\", end = \"\")\n",
    "        for j in range(2 * i - 1) :\n",
    "            print('*', end = \"\")\n",
    "        print()\n",
    "    else:\n",
    "        for j in range(i - x) :\n",
    "            print(\"\", end = \"\")\n",
    "        for j in range((2 * x - i)* 2 - 1) :\n",
    "            print(\"*\", end = \"\")\n",
    "        print()"
   ]
  },
  {
   "cell_type": "code",
   "execution_count": 27,
   "metadata": {},
   "outputs": [
    {
     "name": "stdout",
     "output_type": "stream",
     "text": [
      "9\n",
      "        **\n",
      "       *  *\n",
      "      *    *\n",
      "     *      *\n",
      "    *        *\n",
      "   *          *\n",
      "  *            *\n",
      " *              *\n",
      "*                *\n",
      "*                *\n",
      " *              *\n",
      "  *            *\n",
      "   *          *\n",
      "    *        *\n",
      "     *      *\n",
      "      *    *\n",
      "       *  *\n",
      "        **\n"
     ]
    }
   ],
   "source": [
    "n = int(input())\n",
    "\n",
    "for i in range(0, n):\n",
    "    for j in range(n-i-1, 0, -1):\n",
    "        print(' ', end='')\n",
    "    print('*', end='')\n",
    "    for j in range(0, i*2):\n",
    "        print(' ', end='')\n",
    "    print('*')\n",
    "\n",
    "for i in range(0, n):\n",
    "    for j in range(0, i):\n",
    "        print(' ', end='')\n",
    "    print('*', end='')\n",
    "    for j in range((n-i-1)*2, 0, -1):\n",
    "        print(' ', end='')\n",
    "    print('*')"
   ]
  },
  {
   "cell_type": "code",
   "execution_count": 32,
   "metadata": {},
   "outputs": [
    {
     "name": "stdout",
     "output_type": "stream",
     "text": [
      "마름모의 크기(숫자)를 입력하세요 : 3\n",
      "   *\n",
      "  ***\n",
      " *****\n",
      "  ***\n",
      "   *\n"
     ]
    }
   ],
   "source": [
    "n = int(input(\"마름모의 크기(숫자)를 입력하세요 : \"))\n",
    "\n",
    "for i in range(1, n+1):\n",
    "    print(\" \"* (n-i), \"*\" * (2*i-1))\n",
    "for j in range(n-1, 0, -1) :\n",
    "    print(\" \"* (n-j), \"*\" * (2*j-1))"
   ]
  },
  {
   "cell_type": "code",
   "execution_count": null,
   "metadata": {},
   "outputs": [],
   "source": []
  },
  {
   "cell_type": "code",
   "execution_count": null,
   "metadata": {},
   "outputs": [],
   "source": []
  }
 ],
 "metadata": {
  "kernelspec": {
   "display_name": "Python 3",
   "language": "python",
   "name": "python3"
  },
  "language_info": {
   "codemirror_mode": {
    "name": "ipython",
    "version": 3
   },
   "file_extension": ".py",
   "mimetype": "text/x-python",
   "name": "python",
   "nbconvert_exporter": "python",
   "pygments_lexer": "ipython3",
   "version": "3.7.6"
  }
 },
 "nbformat": 4,
 "nbformat_minor": 4
}
